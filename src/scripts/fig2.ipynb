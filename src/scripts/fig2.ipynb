{
 "cells": [
  {
   "cell_type": "code",
   "execution_count": 1,
   "metadata": {},
   "outputs": [],
   "source": [
    "import numpy as np\n",
    "import matplotlib.pyplot as plt\n",
    "import legwork as lw\n",
    "import astropy.units as u\n",
    "from scipy.interpolate import interp1d\n",
    "from scipy.integrate import trapezoid, cumulative_trapezoid\n",
    "from astropy.cosmology import Planck18, z_at_value\n",
    "from scipy.integrate import trapezoid\n",
    "import paths\n",
    "import deepdish as dd\n",
    "from matplotlib import colors\n",
    "from schwimmbad import MultiPool\n",
    "import tqdm\n",
    "import utils\n",
    "import paths"
   ]
  },
  {
   "cell_type": "code",
   "execution_count": 2,
   "metadata": {},
   "outputs": [],
   "source": [
    "plt.rc('font', family='serif')\n",
    "plt.rcParams['text.usetex'] = False\n",
    "fs = 12\n",
    "\n",
    "# update various fontsizes to match\n",
    "params = {'figure.figsize': (6,4),\n",
    "          'legend.fontsize': fs,\n",
    "          'axes.labelsize': fs,\n",
    "          'xtick.labelsize': 0.7 * fs,\n",
    "          'ytick.labelsize': 0.7 * fs}\n",
    "plt.rcParams.update(params)\n",
    "\n",
    "\n",
    "# set up the LISA frequency grid\n",
    "f_LISA = np.logspace(-1, -5, 150) * u.Hz\n",
    "\n",
    "# set up the LIGO eccentricity range\n",
    "e_LIGO = np.logspace(-6, np.log10(0.0005), 10)\n",
    "e_LIGO = np.append(0, e_LIGO)\n",
    "e_LIGO_round = np.array([f\"{e:.2e}\" for e in e_LIGO])\n",
    "\n",
    "\n",
    "# get the mass, mass ratio, and rate grids\n",
    "down_samp_fac=20\n",
    "mass_1, mass_ratio, M1, Q, dN_dm1dqdVcdt = utils.get_LIGO_rate(down_samp_fac=down_samp_fac)\n",
    "\n",
    "mass_1 = mass_1\n",
    "mass_ratio = mass_ratio\n",
    "MM, QQ, EE_LIGO, FF = np.meshgrid(mass_1, mass_ratio, e_LIGO, f_LISA, indexing='ij')"
   ]
  },
  {
   "cell_type": "code",
   "execution_count": null,
   "metadata": {},
   "outputs": [
    {
     "name": "stderr",
     "output_type": "stream",
     "text": [
      " 41%|████      | 835685/2062500 [22:46<30:31, 669.83it/s]IOStream.flush timed out\n",
      " 75%|███████▌  | 1548319/2062500 [42:24<15:16, 561.11it/s]  "
     ]
    }
   ],
   "source": [
    "dat_in = list(zip(EE_LIGO.flatten(), FF.flatten(), MM.flatten(), QQ.flatten()*MM.flatten()))\n",
    "\n",
    "with MultiPool(processes=128) as pool:\n",
    "    dat_out = list(tqdm.tqdm(pool.imap(utils.get_e_LISA_t_LIGO, dat_in), total=len(dat_in)))\n",
    "    \n",
    "EE_LISA, TT_LIGO = zip(*dat_out)\n",
    "\n",
    "EE_LISA = np.array(EE_LISA).reshape(FF.shape)\n",
    "TT_LIGO = np.array(TT_LIGO).reshape(FF.shape) * u.yr\n",
    "\n",
    "np.save(paths.data / 't_merge', TT_LIGO.value)\n",
    "np.save(paths.data / 'e_LISA', EE_LISA)"
   ]
  },
  {
   "cell_type": "code",
   "execution_count": null,
   "metadata": {},
   "outputs": [],
   "source": [
    "EE_LISA = np.load(paths.data / 'e_LISA.npy')\n",
    "\n",
    "def chunk_list(long_list, num_chunks):\n",
    "    avg = len(long_list) / float(num_chunks)\n",
    "    chunks = []\n",
    "    last = 0.0\n",
    "\n",
    "    while last < len(long_list):\n",
    "        chunks.append(long_list[int(last):int(last + avg)])\n",
    "        last += avg\n",
    "\n",
    "    return chunks\n",
    "\n",
    "\n",
    "num_chunks = 10\n",
    "\n",
    "snr_thresh = 12\n",
    "dat_in = list(zip(MM.flatten(), QQ.flatten(), EE_LISA.flatten(), FF.flatten(), snr_thresh * np.ones(len(MM.flatten()))))\n",
    "\n",
    "chunked_list = chunk_list(dat_in, num_chunks)\n",
    "for ii, chunk in enumerate(chunked_list[3:]):\n",
    "    print('running chunk: ' + str(ii+3))\n",
    "    with MultiPool(processes=128) as pool:\n",
    "        dat_out = list(tqdm.tqdm(pool.imap(utils.get_Vc_Dh, chunk), total=len(chunk)))\n",
    "        DH, VC = zip(*dat_out)\n",
    "        DH = np.array(DH)\n",
    "        VC = np.array(VC)\n",
    "        \n",
    "        np.save(paths.data / f'comoving_volume_{ii+3}', VC)\n",
    "        np.save(paths.data / f'horizon_distance_{ii+3}', DH)"
   ]
  },
  {
   "cell_type": "code",
   "execution_count": null,
   "metadata": {},
   "outputs": [],
   "source": []
  },
  {
   "cell_type": "code",
   "execution_count": null,
   "metadata": {},
   "outputs": [],
   "source": []
  },
  {
   "cell_type": "code",
   "execution_count": null,
   "metadata": {},
   "outputs": [],
   "source": [
    "\n",
    "\n",
    "plt.rc('font', family='serif')\n",
    "plt.rcParams['text.usetex'] = False\n",
    "plt.rcParams['mathtext.fontset'] = 'cm'\n",
    "plt.rcParams['mathtext.rm'] = 'serif'\n",
    "plt.rcParams['mathtext.it'] = 'serif:italic'\n",
    "plt.rcParams['mathtext.bf'] = 'serif:bold'\n",
    "fs = 12\n",
    "\n",
    "# update various fontsizes to match\n",
    "\n",
    "params = {'figure.figsize': (6,4),\n",
    "          'legend.fontsize': fs,\n",
    "          'axes.labelsize': fs,\n",
    "          'xtick.labelsize': 0.7 * fs,\n",
    "          'ytick.labelsize': 0.7 * fs}\n",
    "plt.rcParams.update(params)\n",
    "\n",
    "\n",
    "# set up the LISA frequency grid\n",
    "f_LISA = np.logspace(-1, -5, 150) * u.Hz\n",
    "\n",
    "# set up the LIGO eccentricity range\n",
    "e_LIGO = np.logspace(-6, -3, 10)\n",
    "e_LIGO = np.append(0, e_LIGO)\n",
    "e_LIGO_round = np.array([f\"{e:.2e}\" for e in e_LIGO])\n",
    "\n",
    "\n",
    "# get the mass, mass ratio, and rate grids\n",
    "down_samp_fac=10\n",
    "mass_1, mass_ratio, M1, Q, dN_dm1dqdVcdt = utils.get_LIGO_rate(down_samp_fac=down_samp_fac)\n",
    "\n",
    "mass_1 = mass_1\n",
    "mass_ratio = mass_ratio\n",
    "MM, QQ, EE_LIGO, FF = np.meshgrid(mass_1, mass_ratio, e_LIGO, f_LISA, indexing='ij')"
   ]
  },
  {
   "cell_type": "code",
   "execution_count": null,
   "metadata": {},
   "outputs": [],
   "source": [
    "MM.flatten().shape"
   ]
  },
  {
   "cell_type": "code",
   "execution_count": null,
   "metadata": {},
   "outputs": [],
   "source": [
    "plt.plot(mass_1, dN_dm1dqdVcdt[-1,:])\n",
    "plt.yscale('log')"
   ]
  },
  {
   "cell_type": "code",
   "execution_count": null,
   "metadata": {},
   "outputs": [],
   "source": [
    "#\n",
    "#\n",
    "#dat_in = list(zip(EE_LIGO.flatten(), FF.flatten(), MM.flatten(), QQ.flatten()*MM.flatten()))\n",
    "#\n",
    "#with MultiPool(processes=96) as pool:\n",
    "#    dat_out = list(tqdm.tqdm(pool.imap(utils.get_e_LISA_t_LIGO, dat_in), total=len(dat_in)))\n",
    "#    \n",
    "#EE_LISA, TT_LIGO = zip(*dat_out)\n",
    "#\n",
    "#EE_LISA = np.array(EE_LISA).reshape(FF.shape)\n",
    "#TT_LIGO = np.array(TT_LIGO).reshape(FF.shape) * u.yr\n",
    "#\n",
    "#np.save(paths.data / 't_merge', TT_LIGO.value)\n",
    "#np.save(paths.data / 'e_LISA', EE_LISA)\n",
    "#"
   ]
  },
  {
   "cell_type": "code",
   "execution_count": null,
   "metadata": {},
   "outputs": [],
   "source": [
    "TT_LIGO = np.load(paths.data / 't_merge.npy')*u.Gpc\n",
    "EE_LISA = np.load(paths.data / 'e_LISA.npy')"
   ]
  },
  {
   "cell_type": "code",
   "execution_count": null,
   "metadata": {},
   "outputs": [],
   "source": [
    "#snr_thresh = 12\n",
    "#dat_in = list(zip(MM.flatten(), QQ.flatten(), EE_LISA.flatten(), FF.flatten(), snr_thresh * np.ones(len(MM.flatten()))))\n",
    "#with MultiPool(processes=92) as pool:\n",
    "#    dat_out = list(tqdm.tqdm(pool.imap(utils.get_Vc_Dh, dat_in), total=len(dat_in)))\n",
    "#    \n",
    "#DH, VC = zip(*dat_out)\n",
    "#DH = np.array(DH).reshape(QQ.shape) * u.Gpc\n",
    "#VC = np.array(VC).reshape(QQ.shape) * u.Gpc**3\n",
    "#\n",
    "#np.save(paths.data / 'comoving_volume', VC.value)\n",
    "#np.save(paths.data / 'horizon_distance', DH.value)\n",
    "#\n",
    "#"
   ]
  },
  {
   "cell_type": "code",
   "execution_count": null,
   "metadata": {},
   "outputs": [],
   "source": [
    "VC = np.load(paths.data / 'comoving_volume.npy')*u.Gpc**3\n",
    "DH = np.load(paths.data / 'horizon_distance.npy')*u.Gpc"
   ]
  },
  {
   "cell_type": "code",
   "execution_count": null,
   "metadata": {},
   "outputs": [],
   "source": [
    "dT_LIGO_df_LISA = utils.dTmerger_df(MM, QQ*MM, FF, EE_LISA).to(u.yr / u.Hz)\n"
   ]
  },
  {
   "cell_type": "code",
   "execution_count": null,
   "metadata": {},
   "outputs": [],
   "source": [
    "import cmasher as cmr"
   ]
  },
  {
   "cell_type": "code",
   "execution_count": null,
   "metadata": {},
   "outputs": [],
   "source": [
    "cs = cmr.take_cmap_colors('cmr.dusk', len(mass_1), cmap_range=(0.15, 0.9), return_fmt='hex')"
   ]
  },
  {
   "cell_type": "code",
   "execution_count": null,
   "metadata": {},
   "outputs": [],
   "source": [
    "mass_1"
   ]
  },
  {
   "cell_type": "code",
   "execution_count": null,
   "metadata": {},
   "outputs": [],
   "source": [
    "mass_ratio, e_LIGO[15]"
   ]
  },
  {
   "cell_type": "code",
   "execution_count": null,
   "metadata": {},
   "outputs": [],
   "source": [
    "np.shape(DH)"
   ]
  },
  {
   "cell_type": "code",
   "execution_count": null,
   "metadata": {},
   "outputs": [],
   "source": [
    "ind_m_10 = 2\n",
    "ind_m_35 = 7\n",
    "ind_m_80 = 16\n",
    "ind_q05 = 4\n",
    "ind_q09 = 9\n",
    "ind_circ = 0\n",
    "ind_ecc_mid = 7\n",
    "ind_ecc_high = 15\n",
    "\n",
    "fig, (ax1, ax2, ax3) = plt.subplots(1, 3, figsize=(14,3))\n",
    "ax1.plot(f_LISA.value, DH[ind_m_10,ind_q09,ind_circ,:].value, ls='-', color=cs[ind_m_10], zorder=10, label=r'$M_1=10\\,M_{\\odot}$')\n",
    "ax2.plot(f_LISA.value, DH[ind_m_10,ind_q09,ind_ecc_mid,:].value, ls='--', color=cs[ind_m_10], zorder=10, label=r'$e_{\\rm{LIGO}}=10^{-5}$')\n",
    "ax3.plot(f_LISA.value, DH[ind_m_10,ind_q09,ind_ecc_high,:].value, ls=':', color=cs[ind_m_10], zorder=10, label=r'$e_{\\rm{LIGO}}=10^{-3}$')\n",
    "#plt.fill_between(f_LISA.value, DH[ind_m_10,ind_q09,ind_circ,:].value, DH[ind_m_10,ind_q09,ind_ecc_high,:].value, color=cs[ind_m_10], alpha=0.5, zorder=10)\n",
    "\n",
    "ax1.plot(f_LISA.value, DH[ind_m_35,ind_q09,ind_circ,:].value, ls='-', color=cs[ind_m_35], zorder=5, label=r'$M_1=35\\,M_{\\odot}$')\n",
    "ax2.plot(f_LISA.value, DH[ind_m_35,ind_q09,ind_ecc_mid,:].value, ls='--', color=cs[ind_m_35], zorder=5)\n",
    "ax3.plot(f_LISA.value, DH[ind_m_35,ind_q09,ind_ecc_high,:].value, ls=':', color=cs[ind_m_35], zorder=5)\n",
    "#plt.fill_between(f_LISA.value, DH[ind_m_35,ind_q09,ind_circ,:].value, DH[ind_m_35,ind_q09,ind_ecc_high,:].value, color=cs[ind_m_35], alpha=0.5, zorder=5)\n",
    "\n",
    "\n",
    "ax1.plot(f_LISA.value, DH[ind_m_80,ind_q09,ind_circ,:].value, ls='-', color=cs[ind_m_80], label=r'$M_1=80\\,M_{\\odot}$')\n",
    "ax2.plot(f_LISA.value, DH[ind_m_80,ind_q09,ind_ecc_mid,:].value, ls='--', color=cs[ind_m_80])\n",
    "ax3.plot(f_LISA.value, DH[ind_m_80,ind_q09,ind_ecc_high,:].value, ls=':', color=cs[ind_m_80])\n",
    "#plt.fill_between(f_LISA.value, DH[ind_m_80,ind_q09,ind_circ,:].value, DH[ind_m_80,ind_q09,ind_ecc_high,:].value, color=cs[ind_m_80], alpha=0.5)\n",
    "\n",
    "ax1.set_xscale('log')\n",
    "ax1.set_yscale('log')\n",
    "ax1.set_ylim(1e-5, 3)\n",
    "ax1.set_xlim(1e-5, 1e-1)\n",
    "ax1.set_xlabel(r'$f_{\\rm{LISA}}$ [Hz]')\n",
    "\n",
    "ax2.set_xscale('log')\n",
    "ax2.set_yscale('log')\n",
    "ax2.set_ylim(1e-5, 3)\n",
    "ax2.set_xlim(1e-5, 1e-1)\n",
    "ax2.set_xlabel(r'$f_{\\rm{LISA}}$ [Hz]')\n",
    "\n",
    "ax3.set_xscale('log')\n",
    "ax3.set_yscale('log')\n",
    "ax3.set_ylim(1e-5, 3)\n",
    "ax3.set_xlim(1e-5, 1e-1)\n",
    "ax3.set_xlabel(r'$f_{\\rm{LISA}}$ [Hz]')\n",
    "\n",
    "ax1.legend(loc='upper left', frameon=False, prop={'size':11})\n",
    "ax2.legend(loc='upper left', frameon=False, prop={'size':11})\n",
    "ax3.legend(loc='upper left', frameon=False, prop={'size':11})\n",
    "\n",
    "ax1.set_ylabel('horizon distance [Gpc]')"
   ]
  },
  {
   "cell_type": "code",
   "execution_count": null,
   "metadata": {},
   "outputs": [],
   "source": [
    "ind_m_10 = 2\n",
    "ind_m_35 = 7\n",
    "ind_m_80 = 16\n",
    "ind_q05 = 4\n",
    "ind_q09 = 9\n",
    "ind_circ = 0\n",
    "ind_ecc_mid = 7\n",
    "ind_ecc_high = 15\n",
    "\n",
    "fig, (ax1) = plt.subplots(1, 1, figsize=(4,3))\n",
    "ax1.plot(f_LISA.value, dT_LIGO_df_LISA[ind_m_10,ind_q09,ind_circ,:].to(u.yr/u.Hz).value, ls='-', color=cs[ind_m_10], zorder=10, label=r'$e_{\\rm{LIGO}}=0$')\n",
    "ax1.plot(f_LISA.value, dT_LIGO_df_LISA[ind_m_10,ind_q09,ind_ecc_mid,:].to(u.yr/u.Hz).value, ls='--', color=cs[ind_m_10], zorder=10, label=r'$e_{\\rm{LIGO}}=10^{-5}$')\n",
    "ax1.plot(f_LISA.value, dT_LIGO_df_LISA[ind_m_10,ind_q09,ind_ecc_high,:].to(u.yr/u.Hz).value, ls=':', color=cs[ind_m_10], zorder=10, label=r'$e_{\\rm{LIGO}}=10^{-3}$')\n",
    "#plt.fill_between(f_LISA.value, DH[ind_m_10,ind_q09,ind_circ,:].value, DH[ind_m_10,ind_q09,ind_ecc_high,:].value, color=cs[ind_m_10], alpha=0.5, zorder=10)\n",
    "\n",
    "ax1.plot(f_LISA.value, dT_LIGO_df_LISA[ind_m_35,ind_q09,ind_circ,:].to(u.yr/u.Hz).value, ls='-', color=cs[ind_m_35], zorder=5)#\n",
    "ax1.plot(f_LISA.value, dT_LIGO_df_LISA[ind_m_35,ind_q09,ind_ecc_mid,:].to(u.yr/u.Hz).value, ls='--', color=cs[ind_m_35], zorder=5)\n",
    "ax1.plot(f_LISA.value, dT_LIGO_df_LISA[ind_m_35,ind_q09,ind_ecc_high,:].to(u.yr/u.Hz).value, ls=':', color=cs[ind_m_35], zorder=5)\n",
    "#plt.fill_between(f_LISA.value, DH[ind_m_35,ind_q09,ind_circ,:].value, DH[ind_m_35,ind_q09,ind_ecc_high,:].value, color=cs[ind_m_35], alpha=0.5, zorder=5)\n",
    "\n",
    "\n",
    "ax1.plot(f_LISA.value, dT_LIGO_df_LISA[ind_m_80,ind_q09,ind_circ,:].to(u.yr/u.Hz).value, ls='-', color=cs[ind_m_80])\n",
    "ax1.plot(f_LISA.value, dT_LIGO_df_LISA[ind_m_80,ind_q09,ind_ecc_mid,:].to(u.yr/u.Hz).value, ls='--', color=cs[ind_m_80])\n",
    "ax1.plot(f_LISA.value, dT_LIGO_df_LISA[ind_m_80,ind_q09,ind_ecc_high,:].to(u.yr/u.Hz).value, ls=':', color=cs[ind_m_80])\n",
    "#plt.fill_between(f_LISA.value, DH[ind_m_80,ind_q09,ind_circ,:].value, DH[ind_m_80,ind_q09,ind_ecc_high,:].value, color=cs[ind_m_80], alpha=0.5)\n",
    "\n",
    "ax1.set_xscale('log')\n",
    "ax1.set_yscale('log')\n",
    "#ax1.set_ylim(1e-5, 3)\n",
    "ax1.set_xlim(1e-5, 1e-1)\n",
    "ax1.set_xlabel(r'$f_{\\rm{LISA}}$ [Hz]')\n",
    "\n",
    "ax1.legend(loc='upper right', frameon=False, prop={'size':11})\n",
    "\n",
    "ax1.set_ylabel(r'$\\partial T_{\\rm{merge}}(e_{\\rm{LISA}},f_{\\rm{LISA}})/\\partial f_{\\rm{LISA}}$')"
   ]
  },
  {
   "cell_type": "code",
   "execution_count": null,
   "metadata": {},
   "outputs": [],
   "source": [
    "LISA_norm = dT_LIGO_df_LISA * VC"
   ]
  },
  {
   "cell_type": "code",
   "execution_count": null,
   "metadata": {},
   "outputs": [],
   "source": [
    "np.shape(LISA_norm), np.shape(dN_dm1dqdVcdt)"
   ]
  },
  {
   "cell_type": "code",
   "execution_count": null,
   "metadata": {},
   "outputs": [],
   "source": [
    "N_LISA_cumulative = np.zeros((len(mass_1), len(mass_ratio), len(e_LIGO), len(f_LISA)))\n",
    "N_LISA = np.zeros((len(mass_1), len(mass_ratio), len(e_LIGO)))\n",
    "for ee, ecc in enumerate(e_LIGO):\n",
    "    for mm, m in enumerate(mass_1):\n",
    "        for qq, q in enumerate(mass_ratio):\n",
    "            arg = (LISA_norm[mm, qq, ee,:] * dN_dm1dqdVcdt[qq,mm]).to(u.Hz**(-1) / u.Msun)\n",
    "            N_LISA_cumulative[mm,qq,ee,:] = cumulative_trapezoid(arg, -f_LISA, initial=0)\n",
    "            N_LISA[mm,qq,ee] = trapezoid(arg, -f_LISA).value\n",
    "            \n"
   ]
  },
  {
   "cell_type": "code",
   "execution_count": null,
   "metadata": {},
   "outputs": [],
   "source": [
    "M1.shape, Q"
   ]
  },
  {
   "cell_type": "code",
   "execution_count": null,
   "metadata": {},
   "outputs": [],
   "source": [
    "plt.scatter(M1[:,:], Q[:,:], c=N_LISA[:,:,0].T, s=10, norm=colors.LogNorm(vmin=1e-5, vmax=0.4))\n",
    "plt.colorbar()"
   ]
  },
  {
   "cell_type": "code",
   "execution_count": null,
   "metadata": {},
   "outputs": [],
   "source": [
    "plt.scatter(M1[:,:], Q[:,:], c=N_LISA[:,:,7].T, s=10, norm=colors.LogNorm(vmin=1e-5, vmax=0.4))\n",
    "plt.colorbar()"
   ]
  },
  {
   "cell_type": "code",
   "execution_count": null,
   "metadata": {},
   "outputs": [],
   "source": [
    "plt.scatter(M1[:,:], Q[:,:], c=N_LISA[:,:,15].T, s=10, norm=colors.LogNorm(vmin=1e-5, vmax=0.4))\n",
    "plt.colorbar()"
   ]
  },
  {
   "cell_type": "code",
   "execution_count": null,
   "metadata": {},
   "outputs": [],
   "source": [
    "dN_dm1_cumulative_list = []\n",
    "for ee, ecc in enumerate(e_LIGO):\n",
    "    dN_dm1_cumulative = np.zeros((len(mass_1),len(f_LISA)))\n",
    "    for mm, m in enumerate(mass_1):\n",
    "        dN_dm1_cumulative[mm,:] = trapezoid(N_LISA_cumulative[mm,:,ee,:], mass_ratio, axis=0)\n",
    "    dN_dm1_cumulative_list.append(dN_dm1_cumulative)"
   ]
  },
  {
   "cell_type": "code",
   "execution_count": null,
   "metadata": {},
   "outputs": [],
   "source": [
    "def format_sci_notation(num):\n",
    "    exponent = int(np.floor(np.log10(num)))\n",
    "    coefficient = num / 10**exponent\n",
    "    return rf'${coefficient:.1f} \\times 10^{{{exponent}}}$'\n",
    "dN_dm1_list = []\n",
    "for ii in range(0,len(e_LIGO)):\n",
    "    dN_dm1 = []\n",
    "    for mm, m in enumerate(mass_1):\n",
    "        dN_dm1.append(np.max(dN_dm1_cumulative_list[ii][mm,:]))\n",
    "    if ii==0:\n",
    "        plt.plot(mass_1, dN_dm1, label=rf'$e_{{\\rm{{LIGO}}}}={e_LIGO[ii]}$', c=cs[ii])\n",
    "    else:\n",
    "        plt.plot(mass_1, dN_dm1, label=rf'$e_{{\\rm{{LIGO}}}}$={format_sci_notation(e_LIGO[ii])}', c=cs[ii])\n",
    "    dN_dm1_list.append(dN_dm1)\n",
    "plt.legend()\n",
    "plt.yscale('log')\n"
   ]
  },
  {
   "cell_type": "code",
   "execution_count": null,
   "metadata": {},
   "outputs": [],
   "source": [
    "for ii, n in enumerate(dN_dm1_list):\n",
    "    print(e_LIGO[ii], trapezoid(n/u.Msun, mass_1))"
   ]
  },
  {
   "cell_type": "code",
   "execution_count": null,
   "metadata": {},
   "outputs": [],
   "source": []
  }
 ],
 "metadata": {
  "kernelspec": {
   "display_name": "cosmic",
   "language": "python",
   "name": "cosmic"
  },
  "language_info": {
   "codemirror_mode": {
    "name": "ipython",
    "version": 3
   },
   "file_extension": ".py",
   "mimetype": "text/x-python",
   "name": "python",
   "nbconvert_exporter": "python",
   "pygments_lexer": "ipython3",
   "version": "3.10.14"
  }
 },
 "nbformat": 4,
 "nbformat_minor": 4
}
