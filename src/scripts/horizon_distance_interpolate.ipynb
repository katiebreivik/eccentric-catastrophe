{
 "cells": [
  {
   "cell_type": "code",
   "execution_count": 1,
   "id": "9f9b37b6-ceb2-4889-a188-f286a79d45bd",
   "metadata": {},
   "outputs": [],
   "source": [
    "import numpy as np\n",
    "import matplotlib.pyplot as plt\n",
    "import legwork as lw\n",
    "import astropy.units as u\n",
    "import tqdm\n",
    "from astropy.cosmology import Planck18, z_at_value\n",
    "from scipy.integrate import trapz\n",
    "from schwimmbad import MultiPool"
   ]
  },
  {
   "cell_type": "code",
   "execution_count": 8,
   "id": "d2693fb3-8b2e-463c-a30a-22c8c665213d",
   "metadata": {},
   "outputs": [],
   "source": [
    "e_grid = np.logspace(-3, np.log10(1-0.01), 10)\n",
    "mass1_grid = np.logspace(np.log10(5), np.log10(50), 10)\n",
    "mass2_grid = np.logspace(np.log10(5), np.log10(50), 10)\n",
    "f_grid = np.logspace(-4, -1.5, 1000)"
   ]
  },
  {
   "cell_type": "code",
   "execution_count": 15,
   "id": "05264bf7-14db-421e-9a8c-d729d51aeb74",
   "metadata": {},
   "outputs": [],
   "source": [
    "M1, M2, E, F = np.meshgrid(mass1_grid, mass2_grid, e_grid, f_grid)\n",
    "\n",
    "mass_ratio_mask = M1 > M2\n",
    "\n",
    "M1 = M1[mass_ratio_mask]\n",
    "M2 = M2[mass_ratio_mask]\n",
    "E = E[mass_ratio_mask]\n",
    "F = F[mass_ratio_mask]"
   ]
  },
  {
   "cell_type": "code",
   "execution_count": 16,
   "id": "28fb7e43-c882-4bba-8ac1-4236bf9fa36a",
   "metadata": {},
   "outputs": [
    {
     "data": {
      "text/plain": [
       "(450000,)"
      ]
     },
     "execution_count": 16,
     "metadata": {},
     "output_type": "execute_result"
    }
   ],
   "source": [
    "nproc=30"
   ]
  },
  {
   "cell_type": "code",
   "execution_count": null,
   "id": "a4aa41b0-da83-462e-b374-a4b6077c949c",
   "metadata": {},
   "outputs": [],
   "source": [
    "def "
   ]
  },
  {
   "cell_type": "code",
   "execution_count": null,
   "id": "38c8a475-1159-476f-8343-b050545754c3",
   "metadata": {},
   "outputs": [],
   "source": [
    "with MultiPool(processes=n_proc) as pool:\n",
    "    snr = np.array(list(pool.map(integrate_de_dt, zip(ecc_i, timesteps.tolist(), beta, c_0))))"
   ]
  },
  {
   "cell_type": "code",
   "execution_count": null,
   "id": "ccb62955-b0da-4922-b5ea-275e43d9826e",
   "metadata": {},
   "outputs": [
    {
     "name": "stderr",
     "output_type": "stream",
     "text": [
      "  0%|          | 0/5 [00:00<?, ?it/s]"
     ]
    },
    {
     "name": "stdout",
     "output_type": "stream",
     "text": [
      "WARNING: Setting `interpolate_g=True` for a small number of sources may be slower than computing directly. The exact runtime depends on the eccentricity of your sources so we recommend trying your sample with `interpolate_g=False` to check which is faster.\n",
      "WARNING: Setting `interpolate_g=True` for a small number of sources may be slower than computing directly. The exact runtime depends on the eccentricity of your sources so we recommend trying your sample with `interpolate_g=False` to check which is faster.\n",
      "WARNING: Setting `interpolate_g=True` for a small number of sources may be slower than computing directly. The exact runtime depends on the eccentricity of your sources so we recommend trying your sample with `interpolate_g=False` to check which is faster.\n",
      "WARNING: Setting `interpolate_g=True` for a small number of sources may be slower than computing directly. The exact runtime depends on the eccentricity of your sources so we recommend trying your sample with `interpolate_g=False` to check which is faster.\n",
      "WARNING: Setting `interpolate_g=True` for a small number of sources may be slower than computing directly. The exact runtime depends on the eccentricity of your sources so we recommend trying your sample with `interpolate_g=False` to check which is faster.\n",
      "WARNING: Setting `interpolate_g=True` for a small number of sources may be slower than computing directly. The exact runtime depends on the eccentricity of your sources so we recommend trying your sample with `interpolate_g=False` to check which is faster.\n",
      "WARNING: Setting `interpolate_g=True` for a small number of sources may be slower than computing directly. The exact runtime depends on the eccentricity of your sources so we recommend trying your sample with `interpolate_g=False` to check which is faster.\n",
      "WARNING: Setting `interpolate_g=True` for a small number of sources may be slower than computing directly. The exact runtime depends on the eccentricity of your sources so we recommend trying your sample with `interpolate_g=False` to check which is faster.\n",
      "WARNING: Setting `interpolate_g=True` for a small number of sources may be slower than computing directly. The exact runtime depends on the eccentricity of your sources so we recommend trying your sample with `interpolate_g=False` to check which is faster.\n",
      "WARNING: Setting `interpolate_g=True` for a small number of sources may be slower than computing directly. The exact runtime depends on the eccentricity of your sources so we recommend trying your sample with `interpolate_g=False` to check which is faster.\n"
     ]
    }
   ],
   "source": [
    "\n",
    "m1_list = []\n",
    "m2_list = []\n",
    "e_list = []\n",
    "f_list = []\n",
    "snrs = []\n",
    "for m1 in tqdm.tqdm(mass1_grid):\n",
    "    for m2 in mass2_grid:\n",
    "        if m2 < m1:\n",
    "            for e in e_grid:                 \n",
    "                e_evol = np.ones(len(f_grid)) * e\n",
    "                m1_evol = np.ones(len(f_grid)) * m1\n",
    "                m2_evol = np.ones(len(f_grid)) * m2\n",
    "                f_evol = f_grid\n",
    "                \n",
    "                source = lw.source.Source(m_1=m1_evol * u.Msun,\n",
    "                                          m_2=m2_evol * u.Msun,\n",
    "                                          ecc=e_evol,\n",
    "                                          f_orb=f_evol*u.Hz,\n",
    "                                          dist=8 * np.ones(len(e_evol)) * u.Mpc,\n",
    "                                          interpolate_g=True)\n",
    "                                              \n",
    "                snr = source.get_snr(approximate_R=True, verbose=False)\n",
    "\n",
    "                snrs.extend(snr)         \n",
    "                source = []\n",
    "                snr = []"
   ]
  },
  {
   "cell_type": "code",
   "execution_count": null,
   "id": "d14b1b5c-da69-45af-aa58-6bccf930d3f4",
   "metadata": {},
   "outputs": [],
   "source": [
    "%%prun -s cumulative -q -l 20 -T prun0\n",
    "\n",
    "source = lw.source.Source(m_1=np.ones(len(e_grid)) * m1 * u.Msun,\n",
    "                          m_2=np.ones(len(e_grid)) * m2 * u.Msun,\n",
    "                          ecc=e_grid,\n",
    "                          f_orb=np.ones(len(e_grid))*f*u.Hz,\n",
    "                          dist=8 * np.ones(len(e_grid)) * u.Mpc,\n",
    "                          interpolate_g=True,\n",
    "                          n_proc=1)\n",
    "                          \n",
    "snr = source.get_snr(approximate_R=True, verbose=True)\n"
   ]
  },
  {
   "cell_type": "code",
   "execution_count": null,
   "id": "1b4f03dd-d895-41b2-a0d6-7e7e46d96c2d",
   "metadata": {},
   "outputs": [],
   "source": [
    "print(open('prun0', 'r').read())\n",
    "\n"
   ]
  },
  {
   "cell_type": "code",
   "execution_count": null,
   "id": "9d48206f-e488-4edd-895f-734b248f88f6",
   "metadata": {},
   "outputs": [],
   "source": [
    "\n",
    "snrs = []\n",
    "for f in tqdm.tqdm(f_grid):\n",
    "    source = lw.source.Source(m_1=np.array(m1_list)*u.Msun,\n",
    "                              m_2=np.array(m2_list)*u.Msun,\n",
    "                              ecc=np.array(e_list),\n",
    "                              f_orb=np.ones(len(m1_list))*f*u.Hz,\n",
    "                              dist=8 * np.ones(len(m1_list)) * u.Mpc,\n",
    "                              interpolate_g=True,\n",
    "                              n_proc=36)\n",
    "                              \n",
    "    snr = source.get_snr(approximate_R=True, verbose=True)\n",
    "    snrs.append(snr)                          "
   ]
  },
  {
   "cell_type": "code",
   "execution_count": null,
   "id": "8c4b5cfb-33ce-4b99-ad8f-62d146d63509",
   "metadata": {},
   "outputs": [],
   "source": []
  },
  {
   "cell_type": "code",
   "execution_count": null,
   "id": "06cbda5d-0ad7-4b92-aeba-ba1f85c483b3",
   "metadata": {},
   "outputs": [],
   "source": []
  }
 ],
 "metadata": {
  "kernelspec": {
   "display_name": "cosmic",
   "language": "python",
   "name": "cosmic"
  },
  "language_info": {
   "codemirror_mode": {
    "name": "ipython",
    "version": 3
   },
   "file_extension": ".py",
   "mimetype": "text/x-python",
   "name": "python",
   "nbconvert_exporter": "python",
   "pygments_lexer": "ipython3",
   "version": "3.8.5"
  },
  "toc-autonumbering": true,
  "toc-showcode": false,
  "toc-showmarkdowntxt": true
 },
 "nbformat": 4,
 "nbformat_minor": 5
}
