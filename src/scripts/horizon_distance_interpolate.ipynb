{
 "cells": [
  {
   "cell_type": "code",
   "execution_count": 1,
   "id": "9f9b37b6-ceb2-4889-a188-f286a79d45bd",
   "metadata": {},
   "outputs": [],
   "source": [
    "import numpy as np\n",
    "import matplotlib.pyplot as plt\n",
    "import legwork as lw\n",
    "import astropy.units as u\n",
    "import tqdm\n",
    "from astropy.cosmology import Planck18, z_at_value\n",
    "from scipy.integrate import trapz\n",
    "from schwimmbad import MultiPool"
   ]
  },
  {
   "cell_type": "code",
   "execution_count": 2,
   "id": "e754ff5a",
   "metadata": {},
   "outputs": [],
   "source": [
    "def get_peak_fGW(e, forb):\n",
    "    sum = -1.01678 * e + 5.57372 * e**2 - 4.9271 * e**3 + 1.68506*e**4\n",
    "    npeak = 2 * 1 + sum * (1-e**2)**(7/2)\n",
    "\n",
    "    return forb * npeak"
   ]
  },
  {
   "cell_type": "code",
   "execution_count": 3,
   "id": "d2693fb3-8b2e-463c-a30a-22c8c665213d",
   "metadata": {},
   "outputs": [],
   "source": [
    "e_grid = np.logspace(-3, np.log10(0.999), 10)\n",
    "mass1_grid = np.logspace(np.log10(5), np.log10(50), 10)\n",
    "mass2_grid = np.logspace(np.log10(5), np.log10(50), 10)\n",
    "f_grid = np.logspace(-4, -1, 100)"
   ]
  },
  {
   "cell_type": "code",
   "execution_count": null,
   "id": "05264bf7-14db-421e-9a8c-d729d51aeb74",
   "metadata": {},
   "outputs": [],
   "source": [
    "M1, M2, E, F = np.meshgrid(mass1_grid, mass2_grid, e_grid, f_grid)\n",
    "\n",
    "mass_ratio_mask = M1 > M2\n",
    "\n",
    "M1 = M1[mass_ratio_mask]\n",
    "M2 = M2[mass_ratio_mask]\n",
    "E = E[mass_ratio_mask]\n",
    "F = F[mass_ratio_mask]\n",
    "FPEAK = get_peak_fGW(E, F)"
   ]
  },
  {
   "cell_type": "code",
   "execution_count": null,
   "id": "28fb7e43-c882-4bba-8ac1-4236bf9fa36a",
   "metadata": {},
   "outputs": [],
   "source": [
    "fpeak_mask = FPEAK > 1e-1\n",
    "\n",
    "M1 = M1[fpeak_mask]\n",
    "M2 = M2[fpeak_mask]\n",
    "E = E[fpeak_mask]\n",
    "F = F[fpeak_mask]\n",
    "\n",
    "print(F)\n"
   ]
  },
  {
   "cell_type": "code",
   "execution_count": null,
   "id": "a4aa41b0-da83-462e-b374-a4b6077c949c",
   "metadata": {},
   "outputs": [],
   "source": [
    "source = lw.source.Source(m_1=M1 * u.Msun,\n",
    "                          m_2=M2 * u.Msun,\n",
    "                          ecc=E,\n",
    "                          f_orb=F*u.Hz,\n",
    "                          dist=8 * np.ones(len(E)) * u.Mpc,\n",
    "                          interpolate_g=True)"
   ]
  },
  {
   "cell_type": "code",
   "execution_count": null,
   "id": "14e124d3-3810-437c-86d4-e3b59967524a",
   "metadata": {},
   "outputs": [
    {
     "ename": "KeyboardInterrupt",
     "evalue": "",
     "output_type": "error",
     "traceback": [
      "\u001b[0;31m---------------------------------------------------------------------------\u001b[0m",
      "\u001b[0;31mKeyboardInterrupt\u001b[0m                         Traceback (most recent call last)",
      "Cell \u001b[0;32mIn[19], line 1\u001b[0m\n\u001b[0;32m----> 1\u001b[0m snr \u001b[38;5;241m=\u001b[39m \u001b[43msource\u001b[49m\u001b[38;5;241;43m.\u001b[39;49m\u001b[43mget_snr\u001b[49m\u001b[43m(\u001b[49m\u001b[43mverbose\u001b[49m\u001b[38;5;241;43m=\u001b[39;49m\u001b[38;5;28;43;01mTrue\u001b[39;49;00m\u001b[43m)\u001b[49m\n",
      "File \u001b[0;32m~/miniconda3/envs/cosmic/lib/python3.10/site-packages/legwork/source.py:631\u001b[0m, in \u001b[0;36mSource.get_snr\u001b[0;34m(self, t_obs, instrument, custom_psd, L, approximate_R, confusion_noise, n_step, verbose, re_interpolate_sc, which_sources)\u001b[0m\n\u001b[1;32m    629\u001b[0m         n_evol \u001b[38;5;241m=\u001b[39m \u001b[38;5;28mlen\u001b[39m(snr[evol_mask])\n\u001b[1;32m    630\u001b[0m         \u001b[38;5;28mprint\u001b[39m(\u001b[38;5;124m\"\u001b[39m\u001b[38;5;130;01m\\t\u001b[39;00m\u001b[38;5;132;01m{}\u001b[39;00m\u001b[38;5;124m sources are evolving\u001b[39m\u001b[38;5;124m\"\u001b[39m\u001b[38;5;241m.\u001b[39mformat(n_evol))\n\u001b[0;32m--> 631\u001b[0m     snr[evol_mask] \u001b[38;5;241m=\u001b[39m \u001b[38;5;28;43mself\u001b[39;49m\u001b[38;5;241;43m.\u001b[39;49m\u001b[43mget_snr_evolving\u001b[49m\u001b[43m(\u001b[49m\u001b[43mt_obs\u001b[49m\u001b[38;5;241;43m=\u001b[39;49m\u001b[43mt_obs\u001b[49m\u001b[43m,\u001b[49m\n\u001b[1;32m    632\u001b[0m \u001b[43m                                           \u001b[49m\u001b[43minstrument\u001b[49m\u001b[38;5;241;43m=\u001b[39;49m\u001b[43minstrument\u001b[49m\u001b[43m,\u001b[49m\n\u001b[1;32m    633\u001b[0m \u001b[43m                                           \u001b[49m\u001b[43mcustom_psd\u001b[49m\u001b[38;5;241;43m=\u001b[39;49m\u001b[43mcustom_psd\u001b[49m\u001b[43m,\u001b[49m\n\u001b[1;32m    634\u001b[0m \u001b[43m                                           \u001b[49m\u001b[43mL\u001b[49m\u001b[38;5;241;43m=\u001b[39;49m\u001b[43mL\u001b[49m\u001b[43m,\u001b[49m\n\u001b[1;32m    635\u001b[0m \u001b[43m                                           \u001b[49m\u001b[43mapproximate_R\u001b[49m\u001b[38;5;241;43m=\u001b[39;49m\u001b[43mapproximate_R\u001b[49m\u001b[43m,\u001b[49m\n\u001b[1;32m    636\u001b[0m \u001b[43m                                           \u001b[49m\u001b[43mconfusion_noise\u001b[49m\u001b[38;5;241;43m=\u001b[39;49m\u001b[43mconfusion_noise\u001b[49m\u001b[43m,\u001b[49m\n\u001b[1;32m    637\u001b[0m \u001b[43m                                           \u001b[49m\u001b[43mwhich_sources\u001b[49m\u001b[38;5;241;43m=\u001b[39;49m\u001b[43mevol_mask\u001b[49m\u001b[43m,\u001b[49m\n\u001b[1;32m    638\u001b[0m \u001b[43m                                           \u001b[49m\u001b[43mn_step\u001b[49m\u001b[38;5;241;43m=\u001b[39;49m\u001b[43mn_step\u001b[49m\u001b[43m,\u001b[49m\n\u001b[1;32m    639\u001b[0m \u001b[43m                                           \u001b[49m\u001b[43mverbose\u001b[49m\u001b[38;5;241;43m=\u001b[39;49m\u001b[43mverbose\u001b[49m\u001b[43m)\u001b[49m\n\u001b[1;32m    640\u001b[0m \u001b[38;5;28mself\u001b[39m\u001b[38;5;241m.\u001b[39msnr \u001b[38;5;241m=\u001b[39m snr\n\u001b[1;32m    641\u001b[0m \u001b[38;5;28;01mreturn\u001b[39;00m snr\n",
      "File \u001b[0;32m~/miniconda3/envs/cosmic/lib/python3.10/site-packages/legwork/source.py:920\u001b[0m, in \u001b[0;36mSource.get_snr_evolving\u001b[0;34m(self, t_obs, instrument, custom_psd, L, approximate_R, confusion_noise, re_interpolate_sc, n_step, which_sources, verbose)\u001b[0m\n\u001b[1;32m    918\u001b[0m         \u001b[38;5;28;01mif\u001b[39;00m match\u001b[38;5;241m.\u001b[39many():\n\u001b[1;32m    919\u001b[0m             t_merge \u001b[38;5;241m=\u001b[39m \u001b[38;5;28;01mNone\u001b[39;00m \u001b[38;5;28;01mif\u001b[39;00m \u001b[38;5;28mself\u001b[39m\u001b[38;5;241m.\u001b[39mt_merge \u001b[38;5;129;01mis\u001b[39;00m \u001b[38;5;28;01mNone\u001b[39;00m \u001b[38;5;28;01melse\u001b[39;00m \u001b[38;5;28mself\u001b[39m\u001b[38;5;241m.\u001b[39mt_merge[match]\n\u001b[0;32m--> 920\u001b[0m             snr[match], msh[match] \u001b[38;5;241m=\u001b[39m \u001b[43msn\u001b[49m\u001b[38;5;241;43m.\u001b[39;49m\u001b[43msnr_ecc_evolving\u001b[49m\u001b[43m(\u001b[49m\u001b[43mm_1\u001b[49m\u001b[38;5;241;43m=\u001b[39;49m\u001b[38;5;28;43mself\u001b[39;49m\u001b[38;5;241;43m.\u001b[39;49m\u001b[43mm_1\u001b[49m\u001b[43m[\u001b[49m\u001b[43mmatch\u001b[49m\u001b[43m]\u001b[49m\u001b[43m,\u001b[49m\n\u001b[1;32m    921\u001b[0m \u001b[43m                                                         \u001b[49m\u001b[43mm_2\u001b[49m\u001b[38;5;241;43m=\u001b[39;49m\u001b[38;5;28;43mself\u001b[39;49m\u001b[38;5;241;43m.\u001b[39;49m\u001b[43mm_2\u001b[49m\u001b[43m[\u001b[49m\u001b[43mmatch\u001b[49m\u001b[43m]\u001b[49m\u001b[43m,\u001b[49m\n\u001b[1;32m    922\u001b[0m \u001b[43m                                                         \u001b[49m\u001b[43mf_orb_i\u001b[49m\u001b[38;5;241;43m=\u001b[39;49m\u001b[38;5;28;43mself\u001b[39;49m\u001b[38;5;241;43m.\u001b[39;49m\u001b[43mf_orb\u001b[49m\u001b[43m[\u001b[49m\u001b[43mmatch\u001b[49m\u001b[43m]\u001b[49m\u001b[43m,\u001b[49m\n\u001b[1;32m    923\u001b[0m \u001b[43m                                                         \u001b[49m\u001b[43mdist\u001b[49m\u001b[38;5;241;43m=\u001b[39;49m\u001b[38;5;28;43mself\u001b[39;49m\u001b[38;5;241;43m.\u001b[39;49m\u001b[43mdist\u001b[49m\u001b[43m[\u001b[49m\u001b[43mmatch\u001b[49m\u001b[43m]\u001b[49m\u001b[43m,\u001b[49m\n\u001b[1;32m    924\u001b[0m \u001b[43m                                                         \u001b[49m\u001b[43mecc\u001b[49m\u001b[38;5;241;43m=\u001b[39;49m\u001b[38;5;28;43mself\u001b[39;49m\u001b[38;5;241;43m.\u001b[39;49m\u001b[43mecc\u001b[49m\u001b[43m[\u001b[49m\u001b[43mmatch\u001b[49m\u001b[43m]\u001b[49m\u001b[43m,\u001b[49m\n\u001b[1;32m    925\u001b[0m \u001b[43m                                                         \u001b[49m\u001b[43mharmonics_required\u001b[49m\u001b[38;5;241;43m=\u001b[39;49m\u001b[43mupper\u001b[49m\u001b[43m,\u001b[49m\n\u001b[1;32m    926\u001b[0m \u001b[43m                                                         \u001b[49m\u001b[43mt_obs\u001b[49m\u001b[38;5;241;43m=\u001b[39;49m\u001b[43mt_obs\u001b[49m\u001b[43m,\u001b[49m\n\u001b[1;32m    927\u001b[0m \u001b[43m                                                         \u001b[49m\u001b[43mn_step\u001b[49m\u001b[38;5;241;43m=\u001b[39;49m\u001b[43mn_step\u001b[49m\u001b[43m,\u001b[49m\n\u001b[1;32m    928\u001b[0m \u001b[43m                                                         \u001b[49m\u001b[43minterpolated_g\u001b[49m\u001b[38;5;241;43m=\u001b[39;49m\u001b[38;5;28;43mself\u001b[39;49m\u001b[38;5;241;43m.\u001b[39;49m\u001b[43mg\u001b[49m\u001b[43m,\u001b[49m\n\u001b[1;32m    929\u001b[0m \u001b[43m                                                         \u001b[49m\u001b[43minterpolated_sc\u001b[49m\u001b[38;5;241;43m=\u001b[39;49m\u001b[38;5;28;43mself\u001b[39;49m\u001b[38;5;241;43m.\u001b[39;49m\u001b[43msc\u001b[49m\u001b[43m,\u001b[49m\n\u001b[1;32m    930\u001b[0m \u001b[43m                                                         \u001b[49m\u001b[43mn_proc\u001b[49m\u001b[38;5;241;43m=\u001b[39;49m\u001b[38;5;28;43mself\u001b[39;49m\u001b[38;5;241;43m.\u001b[39;49m\u001b[43mn_proc\u001b[49m\u001b[43m,\u001b[49m\n\u001b[1;32m    931\u001b[0m \u001b[43m                                                         \u001b[49m\u001b[43mret_max_snr_harmonic\u001b[49m\u001b[38;5;241;43m=\u001b[39;49m\u001b[38;5;28;43;01mTrue\u001b[39;49;00m\u001b[43m,\u001b[49m\n\u001b[1;32m    932\u001b[0m \u001b[43m                                                         \u001b[49m\u001b[43minstrument\u001b[49m\u001b[38;5;241;43m=\u001b[39;49m\u001b[43minstrument\u001b[49m\u001b[43m,\u001b[49m\n\u001b[1;32m    933\u001b[0m \u001b[43m                                                         \u001b[49m\u001b[43mcustom_psd\u001b[49m\u001b[38;5;241;43m=\u001b[39;49m\u001b[43mcustom_psd\u001b[49m\u001b[43m,\u001b[49m\n\u001b[1;32m    934\u001b[0m \u001b[43m                                                         \u001b[49m\u001b[43mL\u001b[49m\u001b[38;5;241;43m=\u001b[39;49m\u001b[43mL\u001b[49m\u001b[43m,\u001b[49m\n\u001b[1;32m    935\u001b[0m \u001b[43m                                                         \u001b[49m\u001b[43mapproximate_R\u001b[49m\u001b[38;5;241;43m=\u001b[39;49m\u001b[43mapproximate_R\u001b[49m\u001b[43m,\u001b[49m\n\u001b[1;32m    936\u001b[0m \u001b[43m                                                         \u001b[49m\u001b[43mconfusion_noise\u001b[49m\u001b[38;5;241;43m=\u001b[39;49m\u001b[43mconfusion_noise\u001b[49m\u001b[43m)\u001b[49m\n\u001b[1;32m    938\u001b[0m \u001b[38;5;28;01mif\u001b[39;00m \u001b[38;5;28mself\u001b[39m\u001b[38;5;241m.\u001b[39mmax_snr_harmonic \u001b[38;5;129;01mis\u001b[39;00m \u001b[38;5;28;01mNone\u001b[39;00m:\n\u001b[1;32m    939\u001b[0m     \u001b[38;5;28mself\u001b[39m\u001b[38;5;241m.\u001b[39mmax_snr_harmonic \u001b[38;5;241m=\u001b[39m np\u001b[38;5;241m.\u001b[39mzeros(\u001b[38;5;28mself\u001b[39m\u001b[38;5;241m.\u001b[39mn_sources)\u001b[38;5;241m.\u001b[39mastype(\u001b[38;5;28mint\u001b[39m)\n",
      "File \u001b[0;32m~/miniconda3/envs/cosmic/lib/python3.10/site-packages/legwork/snr.py:338\u001b[0m, in \u001b[0;36msnr_ecc_evolving\u001b[0;34m(m_1, m_2, f_orb_i, dist, ecc, harmonics_required, t_obs, n_step, t_merge, interpolated_g, interpolated_sc, n_proc, ret_max_snr_harmonic, ret_snr2_by_harmonic, **kwargs)\u001b[0m\n\u001b[1;32m    336\u001b[0m \u001b[38;5;66;03m# calculate the characteristic noise power\u001b[39;00m\n\u001b[1;32m    337\u001b[0m \u001b[38;5;28;01mif\u001b[39;00m interpolated_sc \u001b[38;5;129;01mis\u001b[39;00m \u001b[38;5;129;01mnot\u001b[39;00m \u001b[38;5;28;01mNone\u001b[39;00m:\n\u001b[0;32m--> 338\u001b[0m     h_f_lisa \u001b[38;5;241m=\u001b[39m \u001b[43minterpolated_sc\u001b[49m\u001b[43m(\u001b[49m\u001b[43mf_n_evol\u001b[49m\u001b[38;5;241;43m.\u001b[39;49m\u001b[43mflatten\u001b[49m\u001b[43m(\u001b[49m\u001b[43m)\u001b[49m\u001b[43m)\u001b[49m\n\u001b[1;32m    339\u001b[0m \u001b[38;5;28;01melse\u001b[39;00m:\n\u001b[1;32m    340\u001b[0m     h_f_lisa \u001b[38;5;241m=\u001b[39m psd\u001b[38;5;241m.\u001b[39mpower_spectral_density(f\u001b[38;5;241m=\u001b[39mf_n_evol\u001b[38;5;241m.\u001b[39mflatten(), t_obs\u001b[38;5;241m=\u001b[39mt_obs, \u001b[38;5;241m*\u001b[39m\u001b[38;5;241m*\u001b[39mkwargs)\n",
      "\u001b[0;31mKeyboardInterrupt\u001b[0m: "
     ]
    }
   ],
   "source": [
    "snr = source.get_snr(verbose=True)"
   ]
  },
  {
   "cell_type": "code",
   "execution_count": null,
   "id": "674feb0d",
   "metadata": {},
   "outputs": [],
   "source": []
  },
  {
   "cell_type": "code",
   "execution_count": null,
   "id": "38c8a475-1159-476f-8343-b050545754c3",
   "metadata": {},
   "outputs": [],
   "source": [
    "with MultiPool(processes=2) as pool:\n",
    "    snr = np.array(list(pool.map(integrate_de_dt, zip(ecc_i, timesteps.tolist(), beta, c_0))))"
   ]
  },
  {
   "cell_type": "code",
   "execution_count": null,
   "id": "ccb62955-b0da-4922-b5ea-275e43d9826e",
   "metadata": {},
   "outputs": [],
   "source": [
    "\n",
    "m1_list = []\n",
    "m2_list = []\n",
    "e_list = []\n",
    "f_list = []\n",
    "snrs = []\n",
    "for m1 in tqdm.tqdm(mass1_grid):\n",
    "    for m2 in mass2_grid:\n",
    "        if m2 < m1:\n",
    "            for e in e_grid:                 \n",
    "                e_evol = np.ones(len(f_grid)) * e\n",
    "                m1_evol = np.ones(len(f_grid)) * m1\n",
    "                m2_evol = np.ones(len(f_grid)) * m2\n",
    "                f_evol = f_grid\n",
    "                \n",
    "                source = lw.source.Source(m_1=m1_evol * u.Msun,\n",
    "                                          m_2=m2_evol * u.Msun,\n",
    "                                          ecc=e_evol,\n",
    "                                          f_orb=f_evol*u.Hz,\n",
    "                                          dist=8 * np.ones(len(e_evol)) * u.Mpc,\n",
    "                                          interpolate_g=False)\n",
    "                                              \n",
    "                snr = source.get_snr(approximate_R=True, verbose=False)\n",
    "\n",
    "                snrs.extend(snr)         \n",
    "                source = []\n",
    "                snr = []"
   ]
  },
  {
   "cell_type": "code",
   "execution_count": null,
   "id": "d14b1b5c-da69-45af-aa58-6bccf930d3f4",
   "metadata": {},
   "outputs": [],
   "source": [
    "%%prun -s cumulative -q -l 20 -T prun0\n",
    "\n",
    "source = lw.source.Source(m_1=np.ones(len(e_grid)) * m1 * u.Msun,\n",
    "                          m_2=np.ones(len(e_grid)) * m2 * u.Msun,\n",
    "                          ecc=e_grid,\n",
    "                          f_orb=np.ones(len(e_grid))*f*u.Hz,\n",
    "                          dist=8 * np.ones(len(e_grid)) * u.Mpc,\n",
    "                          interpolate_g=True,\n",
    "                          n_proc=1)\n",
    "                          \n",
    "snr = source.get_snr(approximate_R=True, verbose=True)\n"
   ]
  },
  {
   "cell_type": "code",
   "execution_count": null,
   "id": "1b4f03dd-d895-41b2-a0d6-7e7e46d96c2d",
   "metadata": {},
   "outputs": [],
   "source": [
    "print(open('prun0', 'r').read())\n",
    "\n"
   ]
  },
  {
   "cell_type": "code",
   "execution_count": null,
   "id": "9d48206f-e488-4edd-895f-734b248f88f6",
   "metadata": {},
   "outputs": [],
   "source": [
    "\n",
    "snrs = []\n",
    "for f in tqdm.tqdm(f_grid):\n",
    "    source = lw.source.Source(m_1=np.array(m1_list)*u.Msun,\n",
    "                              m_2=np.array(m2_list)*u.Msun,\n",
    "                              ecc=np.array(e_list),\n",
    "                              f_orb=np.ones(len(m1_list))*f*u.Hz,\n",
    "                              dist=8 * np.ones(len(m1_list)) * u.Mpc,\n",
    "                              interpolate_g=True,\n",
    "                              n_proc=36)\n",
    "                              \n",
    "    snr = source.get_snr(approximate_R=True, verbose=True)\n",
    "    snrs.append(snr)                          "
   ]
  },
  {
   "cell_type": "code",
   "execution_count": null,
   "id": "8c4b5cfb-33ce-4b99-ad8f-62d146d63509",
   "metadata": {},
   "outputs": [],
   "source": []
  },
  {
   "cell_type": "code",
   "execution_count": null,
   "id": "06cbda5d-0ad7-4b92-aeba-ba1f85c483b3",
   "metadata": {},
   "outputs": [],
   "source": []
  }
 ],
 "metadata": {
  "kernelspec": {
   "display_name": "Python 3 (ipykernel)",
   "language": "python",
   "name": "python3"
  },
  "language_info": {
   "codemirror_mode": {
    "name": "ipython",
    "version": 3
   },
   "file_extension": ".py",
   "mimetype": "text/x-python",
   "name": "python",
   "nbconvert_exporter": "python",
   "pygments_lexer": "ipython3",
   "version": "3.10.14"
  },
  "toc-autonumbering": true,
  "toc-showcode": false,
  "toc-showmarkdowntxt": true
 },
 "nbformat": 4,
 "nbformat_minor": 5
}
