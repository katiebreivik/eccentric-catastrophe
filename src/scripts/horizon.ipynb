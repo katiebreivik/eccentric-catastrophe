{
 "cells": [
  {
   "cell_type": "code",
   "execution_count": 1,
   "id": "04b595d7-2b59-4867-bb6c-eebc3075e55f",
   "metadata": {},
   "outputs": [],
   "source": [
    "import numpy as np\n",
    "import matplotlib.pyplot as plt\n",
    "import legwork as lw\n",
    "import astropy.units as u\n",
    "import tqdm\n",
    "from astropy.cosmology import Planck18, z_at_value\n",
    "from scipy.integrate import trapz\n",
    "from schwimmbad import MultiPool"
   ]
  },
  {
   "cell_type": "code",
   "execution_count": 2,
   "id": "5825d0d1-8a5b-4530-b2c3-8a1e64516283",
   "metadata": {},
   "outputs": [],
   "source": [
    "e_grid = np.logspace(-3, np.log10(1-0.01), 50)\n"
   ]
  },
  {
   "cell_type": "code",
   "execution_count": 5,
   "id": "7567f0da-bd2c-4a5c-a4cb-95857b80ec24",
   "metadata": {},
   "outputs": [],
   "source": [
    "def get_d_h(e):\n",
    "    mass1_grid = np.logspace(np.log10(5), np.log10(80), 50)\n",
    "    mass2_grid = np.logspace(np.log10(5), np.log10(80), 50)\n",
    "    f_grid = np.logspace(-4, -1.5, 1000)\n",
    "    m1_list = []\n",
    "    m2_list = []\n",
    "    e_list = []\n",
    "    f_list = []\n",
    "    for m1 in mass1_grid:\n",
    "        for m2 in mass2_grid:\n",
    "            if m2 < m1:\n",
    "                             \n",
    "                e_list.extend(np.zeros(len(f_grid)) * 0)\n",
    "                m1_list.extend(np.ones(len(f_grid)) * m1)\n",
    "                m2_list.extend(np.ones(len(f_grid)) * m2)\n",
    "                f_list.extend(f_grid)\n",
    "                                \n",
    "    source = lw.source.Source(m_1=m1_list * u.Msun,\n",
    "                              m_2=m2_list * u.Msun,\n",
    "                              ecc=e_list,\n",
    "                              f_orb=f_list*u.Hz,\n",
    "                              dist=8 * np.ones(len(e_list)) * u.Mpc,\n",
    "                              interpolate_g=True)\n",
    "                                  \n",
    "    snr = source.get_snr(approximate_R=True, verbose=False)\n",
    "    \n",
    "    return snr"
   ]
  },
  {
   "cell_type": "code",
   "execution_count": null,
   "id": "493811cc-2fee-494b-a643-12f96a245528",
   "metadata": {},
   "outputs": [
    {
     "name": "stderr",
     "output_type": "stream",
     "text": [
      " 28%|████████████                               | 14/50 [12:34<31:59, 53.32s/it]"
     ]
    }
   ],
   "source": [
    "snrs = []\n",
    "for e in tqdm.tqdm(e_grid):\n",
    "    snrs.append(get_d_h(e))"
   ]
  },
  {
   "cell_type": "code",
   "execution_count": null,
   "id": "87ecf1e1-b3f1-4dec-9537-c5308865ce70",
   "metadata": {},
   "outputs": [],
   "source": []
  }
 ],
 "metadata": {
  "kernelspec": {
   "display_name": "Python 3 (ipykernel)",
   "language": "python",
   "name": "python3"
  },
  "language_info": {
   "codemirror_mode": {
    "name": "ipython",
    "version": 3
   },
   "file_extension": ".py",
   "mimetype": "text/x-python",
   "name": "python",
   "nbconvert_exporter": "python",
   "pygments_lexer": "ipython3",
   "version": "3.10.4"
  }
 },
 "nbformat": 4,
 "nbformat_minor": 5
}
