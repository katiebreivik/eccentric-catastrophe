{
 "cells": [
  {
   "cell_type": "code",
   "execution_count": 7,
   "id": "ef0a1acc-b42a-4bb2-a167-e0f77021d6c9",
   "metadata": {},
   "outputs": [],
   "source": [
    "import numpy as np\n",
    "import matplotlib.pyplot as plt\n",
    "from matplotlib import cm\n",
    "\n",
    "from legwork import evol, utils\n",
    "import legwork as lw\n",
    "import astropy.units as u\n",
    "import astropy.constants as c\n",
    "\n",
    "from scipy.integrate import cumtrapz, trapz\n",
    "from scipy.interpolate import interp1d\n",
    "\n",
    "from astropy.cosmology import Planck18, z_at_value"
   ]
  },
  {
   "cell_type": "code",
   "execution_count": 8,
   "id": "1193eb64-07b5-4001-b004-414b73bffde9",
   "metadata": {},
   "outputs": [],
   "source": [
    "from utils import get_de_de10"
   ]
  },
  {
   "cell_type": "code",
   "execution_count": null,
   "id": "e6ed61c9-b0fa-4d35-b574-e3d1dd87cb15",
   "metadata": {},
   "outputs": [],
   "source": []
  },
  {
   "cell_type": "code",
   "execution_count": 9,
   "id": "2ce3b8b7-1570-4df3-9938-75329fe5469c",
   "metadata": {},
   "outputs": [],
   "source": [
    "def dg_de(f, e):\n",
    "    prefac = (19 / 18) * (1 / f) \n",
    "    numerator = 6 * (4477 * e**8 + 99225 * e**6 + 145260 * e**4 + 141472 * e**2 - 29184)\n",
    "    denominator = 19 * (37 * e**4 + 292 * e**2 + 96)**2\n",
    "    \n",
    "    return prefac * numerator / denominator\n",
    "\n",
    "def dTmerger_df(m1, m2, f, e):\n",
    "    beta = lw.utils.beta(m1, m2)\n",
    "    ecc_fac = (1 - e**2)**(7/2) * (1 + 0.27 * e**10 + 0.33 * e**20 + 0.2 * e**1000)\n",
    "    dt_df = -2 / 3 * (c.G * (m1 + m2) / (4 * np.pi**2))**(4/3) / beta * f**(-11/3)\n",
    "    \n",
    "    return ecc_fac * dt_df\n",
    "\n",
    "def dTmerger_df_circ(m1, m2, f):\n",
    "    beta = lw.utils.beta(m1, m2)\n",
    "    dt_df = -2 / 3 * (c.G * (m1 + m2) / (4 * np.pi**2))**(4/3) / beta * f**(-11/3)\n",
    "    \n",
    "    return dt_df\n",
    "\n",
    "def create_timesteps(t_evol=-100*u.yr, nstep_fast=100, nstep=20):\n",
    "    t_chunks = np.logspace(0, np.log10(-1*t_evol.to(u.s).value), 10)\n",
    "    t_lo = t_chunks[0]\n",
    "    times = np.logspace(-2, np.log10(t_lo), nstep_fast)\n",
    "    timesteps = -1 * times * u.s\n",
    "    for t in t_chunks[1:]:\n",
    "        times = np.logspace(np.log10(t_lo), np.log10(t), nstep_fast)\n",
    "        timesteps = np.append(timesteps, -1 * times * u.s)\n",
    "        t_lo = t\n",
    "    return timesteps\n",
    "\n",
    "def get_t_evol_LISA(m1, m2, e_LIGO=1e-5, f_LIGO=10*u.Hz, f_LISA=1e-5*u.Hz):\n",
    "    if e_LIGO == 0:\n",
    "        timesteps = create_timesteps(t_evol = -(100000000000)* u.yr, nstep_fast=50 * max(1, int(0.5 * e_LIGO/1e-4)))\n",
    "\n",
    "        a_evol, f_evol = evol.evol_circ(\n",
    "            m_1=m1, m_2=m2, f_orb_i=f_LIGO, timesteps=timesteps,\n",
    "            output_vars=[\"a\", \"f_orb\"])\n",
    "    \n",
    "    else:\n",
    "        timesteps = create_timesteps(t_evol = -(1000/e_LIGO)* u.yr, nstep_fast=50 * max(1, int(0.5 * e_LIGO/1e-4)))\n",
    "        a_evol, e_evol, f_evol = evol.evol_ecc(\n",
    "            m_1=m1, m_2=m2, f_orb_i=f_LIGO, ecc_i=e_LIGO, timesteps=timesteps,\n",
    "            t_before=0.01*u.yr, output_vars=[\"a\", \"ecc\", \"f_orb\"], avoid_merger=False)\n",
    "    \n",
    "    t_interp = interp1d(a_evol, timesteps)\n",
    "    a_lo = utils.get_a_from_f_orb(m_1=m1, m_2=m2, f_orb=f_LISA)  \n",
    "    t_LISA = t_interp(a_lo)\n",
    "\n",
    "    return t_LISA * u.s\n",
    "\n",
    "def dNdVde_primedMcdf(dNdVdedMcdt, m1, m2, f_LIGO, e_LIGO):\n",
    "    # get time to merger for f_LISA = 1e-4 Hz\n",
    "    t_evol = get_t_evol_LISA(m1, m2, e_LIGO, f_LIGO, f_LISA=1e-5*u.Hz)\n",
    "    \n",
    "    # create timesteps\n",
    "    timesteps = create_timesteps(t_evol, nstep_fast=50 * max(1, int(0.5 * e_LIGO/1e-4)))\n",
    "    \n",
    "    if e_LIGO == 0:\n",
    "        a_evol, f_orb_evol = evol.evol_circ(\n",
    "            m_1=m1, m_2=m2, f_orb_i=f_LIGO, timesteps=timesteps,\n",
    "            output_vars=[\"a\", \"f_orb\"])\n",
    "        ecc_evol = np.zeros(len(f_orb_evol))\n",
    "    else:\n",
    "        f_orb_evol, ecc_evol = evol.evol_ecc(\n",
    "            m_1=m1, m_2=m2, f_orb_i=f_LIGO, ecc_i=e_LIGO, timesteps=timesteps,\n",
    "            t_before=0.01*u.yr, output_vars=[\"f_orb\", \"ecc\"], avoid_merger=False)\n",
    "        \n",
    "    lnJ = -cumtrapz(dg_de(f_orb_evol, ecc_evol), f_orb_evol, initial=0)\n",
    "    de_deprime = np.exp(lnJ)\n",
    "    \n",
    "    \n",
    "    dNdVde_LISAdMcdf = dNdVdedMcdt * -1 * dTmerger_df(m1, m2, f_orb_evol, ecc_evol) * de_deprime\n",
    "    \n",
    "    return f_orb_evol, ecc_evol, timesteps, dNdVde_LISAdMcdf.to(u.Mpc**(-3)/u.Hz)\n",
    "\n",
    "    \n",
    "    "
   ]
  },
  {
   "cell_type": "markdown",
   "id": "637d9ec8-8155-43bc-972e-4b4eecc2a648",
   "metadata": {},
   "source": [
    "### Need to create a way to get the evol time back to f_orb = 1e-4 Hz"
   ]
  },
  {
   "cell_type": "code",
   "execution_count": 10,
   "id": "a3b479ba-92a3-4f24-8019-1d9c5403e7dd",
   "metadata": {},
   "outputs": [
    {
     "data": {
      "text/plain": [
       "194841.66017601153"
      ]
     },
     "execution_count": 10,
     "metadata": {},
     "output_type": "execute_result"
    }
   ],
   "source": [
    "np.exp(trapz(dg_de(np.logspace(1, -4, 100), 0.0), np.logspace(1, -4, 100)))"
   ]
  },
  {
   "cell_type": "code",
   "execution_count": 11,
   "id": "03730ade-7d92-4bfe-b0e9-70ab365c57e5",
   "metadata": {},
   "outputs": [
    {
     "name": "stdout",
     "output_type": "stream",
     "text": [
      "2.4474767157734467e-05 Hz\n"
     ]
    }
   ],
   "source": [
    "f = utils.get_f_orb_from_a(m_1=30 * u.Msun, m_2=30 * u.Msun, a=10 * u.Rsun)  \n",
    "print(f)"
   ]
  },
  {
   "cell_type": "code",
   "execution_count": 12,
   "id": "a43c07ea-c9b7-4af6-8b28-b12e84c42b2d",
   "metadata": {},
   "outputs": [],
   "source": [
    "t_LISA = get_t_evol_LISA(m1=10*u.Msun, m2=10*u.Msun, e_LIGO=1e-4, f_LIGO=10*u.Hz, f_LISA=1e-4*u.Hz)\n"
   ]
  },
  {
   "cell_type": "code",
   "execution_count": 13,
   "id": "59585129-dc49-4e79-9316-2fb5706ebed1",
   "metadata": {},
   "outputs": [],
   "source": [
    "LIGO_rate = 20 * u.Gpc**(-3) * u.yr**(-1)\n",
    "m1 = 100\n",
    "m2 = 50"
   ]
  },
  {
   "cell_type": "code",
   "execution_count": 14,
   "id": "bcf830ed-a9f0-4687-9b4e-2d45ffd41d2b",
   "metadata": {},
   "outputs": [
    {
     "name": "stdout",
     "output_type": "stream",
     "text": [
      "60.836434189320556 solMass\n"
     ]
    }
   ],
   "source": [
    "f_lo, e_lo, t_lo, dNdVde_LISAdMcdf_lo = dNdVde_primedMcdf(LIGO_rate, m1=m1*u.Msun, m2=m2*u.Msun, f_LIGO=10*u.Hz, e_LIGO=0.0)\n",
    "f_mid, e_mid, t_mid, dNdVde_LISAdMcdf_mid = dNdVde_primedMcdf(LIGO_rate, m1=m1*u.Msun, m2=m2*u.Msun, f_LIGO=10*u.Hz, e_LIGO=1e-5)\n",
    "f_hi, e_hi, t_hi, dNdVde_LISAdMcdf_hi = dNdVde_primedMcdf(LIGO_rate, m1=m1*u.Msun, m2=m2*u.Msun, f_LIGO=10*u.Hz, e_LIGO=0.0001)\n",
    "\n",
    "e_labels=['0', '1e-5', '1e-4']\n",
    "mc = utils.chirp_mass(m_1=m1*u.Msun, m_2=m2*u.Msun)\n",
    "print(mc)"
   ]
  },
  {
   "cell_type": "code",
   "execution_count": null,
   "id": "068cc9f9-5741-42bb-96f2-d9f65e8822a1",
   "metadata": {},
   "outputs": [],
   "source": []
  },
  {
   "cell_type": "code",
   "execution_count": 15,
   "id": "5d2be967-70be-4a84-b987-f07646ad15fb",
   "metadata": {},
   "outputs": [
    {
     "data": {
      "image/png": "[encoded data removed]",
      "text/plain": [
       "<Figure size 1440x288 with 3 Axes>"
      ]
     },
     "metadata": {
      "needs_background": "light"
     },
     "output_type": "display_data"
    },
    {
     "data": {
      "image/png": "[encoded data removed]",
      "text/plain": [
       "<Figure size 432x288 with 1 Axes>"
      ]
     },
     "metadata": {
      "needs_background": "light"
     },
     "output_type": "display_data"
    }
   ],
   "source": [
    "fig, axs = plt.subplots(1, 3, figsize=(20,4))\n",
    "x_lo_lim = [1e-2, 1e-1, 1]\n",
    "x_hi_lim = [1e-1, 1, 10]\n",
    "\n",
    "y_lo_lim = [50 * 1e9, 5e-2 * 1e9, 1e-4 * 1e9]\n",
    "y_hi_lim = [5e-3 * 1e9, 1e-5 * 1e9, 5e-8 * 1e9]\n",
    "\n",
    "\n",
    "\n",
    "\n",
    "for ii, ax in enumerate(axs):\n",
    "    for jj, f, e, mc, elabel in zip(range(3), [f_lo, f_mid, f_hi], [e_lo, e_mid, e_hi], [mc, mc, mc], e_labels):\n",
    "        ax.plot(f*1000, e, label=r'e$_{\\rm{LIGO}}$='+elabel, lw=3 - jj)\n",
    "    if ii == 0:\n",
    "        ax.legend(prop={'size':14})\n",
    "        ax.set_ylabel(r'eccentricity', size=14)\n",
    "    \n",
    "    ax.set_xscale('log')\n",
    "    ax.set_yscale('log')\n",
    "    ax.set_xlabel('orbital frequency [Hz]', size=14)\n",
    "    ax.set_xlim(x_lo_lim[ii], x_hi_lim[ii])\n",
    "    ax.set_ylim(0.01, 1)\n",
    "    ax.tick_params(which='both', labelsize=10)\n",
    "    #ax.set_xticks(np.logspace(np.log10(x_lo_lim[ii]), np.log10(x_hi_lim[ii]), 3))\n",
    "\n",
    "fig, ax = plt.subplots(1, 1, figsize=(6,4))\n",
    "for jj, f, rate, mc, elabel in zip(range(3), [f_lo, f_mid, f_hi], [dNdVde_LISAdMcdf_lo, dNdVde_LISAdMcdf_mid, dNdVde_LISAdMcdf_hi], [mc, mc, mc], e_labels):\n",
    "    ax.plot(f*1000, cumtrapz(rate.to(u.Gpc**(-3) * u.Hz**(-1)), -f, initial=0), label=r'e$_{\\rm{LIGO}}$='+elabel, lw=3 - jj)\n",
    "ax.legend(prop={'size':14})\n",
    "ax.set_ylabel(r'dN/dVded$\\mathcal{M}_c$df [Gpc$^{-1}$ M$_{\\odot}^{-1}$ Hz$^{-1}$]', size=14)\n",
    "\n",
    "ax.set_xscale('log')\n",
    "ax.set_yscale('log')\n",
    "ax.set_xlabel('orbital frequency [mHz]', size=14)\n",
    "ax.set_xlim(0.01, 100)\n",
    "ax.set_ylim(0.01, 50000)\n",
    "ax.tick_params(which='both', labelsize=10)\n",
    "#ax.set_xticks(np.logspace(np.log10(x_lo_lim[ii]), np.log10(x_hi_lim[ii]), 3))\n"
   ]
  },
  {
   "cell_type": "markdown",
   "id": "37b3d185-0e38-4da0-88d1-59fc03df0a62",
   "metadata": {},
   "source": [
    "### Now we can calculate the horizon distance for these tracks"
   ]
  },
  {
   "cell_type": "code",
   "execution_count": 16,
   "id": "74d9900b-fab5-4d6d-850b-6ff01a166a58",
   "metadata": {},
   "outputs": [
    {
     "ename": "KeyboardInterrupt",
     "evalue": "",
     "output_type": "error",
     "traceback": [
      "\u001b[0;31m---------------------------------------------------------------------------\u001b[0m",
      "\u001b[0;31mKeyboardInterrupt\u001b[0m                         Traceback (most recent call last)",
      "Input \u001b[0;32mIn [16]\u001b[0m, in \u001b[0;36m<cell line: 2>\u001b[0;34m()\u001b[0m\n\u001b[1;32m      7\u001b[0m rate \u001b[38;5;241m=\u001b[39m rate[ind_evol]\n\u001b[1;32m      8\u001b[0m source \u001b[38;5;241m=\u001b[39m lw\u001b[38;5;241m.\u001b[39msource\u001b[38;5;241m.\u001b[39mSource(m_1\u001b[38;5;241m=\u001b[39mm1\u001b[38;5;241m*\u001b[39mu\u001b[38;5;241m.\u001b[39mMsun \u001b[38;5;241m*\u001b[39m np\u001b[38;5;241m.\u001b[39mones_like(e),\n\u001b[1;32m      9\u001b[0m                           m_2\u001b[38;5;241m=\u001b[39mm2\u001b[38;5;241m*\u001b[39mu\u001b[38;5;241m.\u001b[39mMsun \u001b[38;5;241m*\u001b[39m np\u001b[38;5;241m.\u001b[39mones_like(e),\n\u001b[1;32m     10\u001b[0m                           ecc\u001b[38;5;241m=\u001b[39me,\n\u001b[0;32m   (...)\u001b[0m\n\u001b[1;32m     14\u001b[0m                           n_proc\u001b[38;5;241m=\u001b[39m\u001b[38;5;241m1\u001b[39m,\n\u001b[1;32m     15\u001b[0m                          )\n\u001b[0;32m---> 17\u001b[0m snr \u001b[38;5;241m=\u001b[39m \u001b[43msource\u001b[49m\u001b[38;5;241;43m.\u001b[39;49m\u001b[43mget_snr\u001b[49m\u001b[43m(\u001b[49m\u001b[43mapproximate_R\u001b[49m\u001b[38;5;241;43m=\u001b[39;49m\u001b[38;5;28;43;01mTrue\u001b[39;49;00m\u001b[43m)\u001b[49m\n\u001b[1;32m     18\u001b[0m D_h \u001b[38;5;241m=\u001b[39m snr\u001b[38;5;241m/\u001b[39m\u001b[38;5;241m7\u001b[39m \u001b[38;5;241m*\u001b[39m \u001b[38;5;241m8\u001b[39m \u001b[38;5;241m*\u001b[39m u\u001b[38;5;241m.\u001b[39mMpc\n\u001b[1;32m     19\u001b[0m redshift \u001b[38;5;241m=\u001b[39m np\u001b[38;5;241m.\u001b[39mones(\u001b[38;5;28mlen\u001b[39m(D_h)) \u001b[38;5;241m*\u001b[39m \u001b[38;5;241m1e-8\u001b[39m\n",
      "File \u001b[0;32m~/anaconda3/envs/cosmic/lib/python3.8/site-packages/legwork/source.py:627\u001b[0m, in \u001b[0;36mSource.get_snr\u001b[0;34m(self, t_obs, instrument, custom_psd, L, approximate_R, confusion_noise, n_step, verbose, re_interpolate_sc, which_sources)\u001b[0m\n\u001b[1;32m    625\u001b[0m         n_evol \u001b[38;5;241m=\u001b[39m \u001b[38;5;28mlen\u001b[39m(snr[evol_mask])\n\u001b[1;32m    626\u001b[0m         \u001b[38;5;28mprint\u001b[39m(\u001b[38;5;124m\"\u001b[39m\u001b[38;5;130;01m\\t\u001b[39;00m\u001b[38;5;132;01m{}\u001b[39;00m\u001b[38;5;124m sources are evolving\u001b[39m\u001b[38;5;124m\"\u001b[39m\u001b[38;5;241m.\u001b[39mformat(n_evol))\n\u001b[0;32m--> 627\u001b[0m     snr[evol_mask] \u001b[38;5;241m=\u001b[39m \u001b[38;5;28;43mself\u001b[39;49m\u001b[38;5;241;43m.\u001b[39;49m\u001b[43mget_snr_evolving\u001b[49m\u001b[43m(\u001b[49m\u001b[43mt_obs\u001b[49m\u001b[38;5;241;43m=\u001b[39;49m\u001b[43mt_obs\u001b[49m\u001b[43m,\u001b[49m\n\u001b[1;32m    628\u001b[0m \u001b[43m                                           \u001b[49m\u001b[43minstrument\u001b[49m\u001b[38;5;241;43m=\u001b[39;49m\u001b[43minstrument\u001b[49m\u001b[43m,\u001b[49m\n\u001b[1;32m    629\u001b[0m \u001b[43m                                           \u001b[49m\u001b[43mcustom_psd\u001b[49m\u001b[38;5;241;43m=\u001b[39;49m\u001b[43mcustom_psd\u001b[49m\u001b[43m,\u001b[49m\n\u001b[1;32m    630\u001b[0m \u001b[43m                                           \u001b[49m\u001b[43mL\u001b[49m\u001b[38;5;241;43m=\u001b[39;49m\u001b[43mL\u001b[49m\u001b[43m,\u001b[49m\n\u001b[1;32m    631\u001b[0m \u001b[43m                                           \u001b[49m\u001b[43mapproximate_R\u001b[49m\u001b[38;5;241;43m=\u001b[39;49m\u001b[43mapproximate_R\u001b[49m\u001b[43m,\u001b[49m\n\u001b[1;32m    632\u001b[0m \u001b[43m                                           \u001b[49m\u001b[43mconfusion_noise\u001b[49m\u001b[38;5;241;43m=\u001b[39;49m\u001b[43mconfusion_noise\u001b[49m\u001b[43m,\u001b[49m\n\u001b[1;32m    633\u001b[0m \u001b[43m                                           \u001b[49m\u001b[43mwhich_sources\u001b[49m\u001b[38;5;241;43m=\u001b[39;49m\u001b[43mevol_mask\u001b[49m\u001b[43m,\u001b[49m\n\u001b[1;32m    634\u001b[0m \u001b[43m                                           \u001b[49m\u001b[43mn_step\u001b[49m\u001b[38;5;241;43m=\u001b[39;49m\u001b[43mn_step\u001b[49m\u001b[43m,\u001b[49m\n\u001b[1;32m    635\u001b[0m \u001b[43m                                           \u001b[49m\u001b[43mverbose\u001b[49m\u001b[38;5;241;43m=\u001b[39;49m\u001b[43mverbose\u001b[49m\u001b[43m)\u001b[49m\n\u001b[1;32m    636\u001b[0m \u001b[38;5;28mself\u001b[39m\u001b[38;5;241m.\u001b[39msnr \u001b[38;5;241m=\u001b[39m snr\n\u001b[1;32m    637\u001b[0m \u001b[38;5;28;01mreturn\u001b[39;00m snr\n",
      "File \u001b[0;32m~/anaconda3/envs/cosmic/lib/python3.8/site-packages/legwork/source.py:916\u001b[0m, in \u001b[0;36mSource.get_snr_evolving\u001b[0;34m(self, t_obs, instrument, custom_psd, L, approximate_R, confusion_noise, re_interpolate_sc, n_step, which_sources, verbose)\u001b[0m\n\u001b[1;32m    914\u001b[0m         \u001b[38;5;28;01mif\u001b[39;00m match\u001b[38;5;241m.\u001b[39many():\n\u001b[1;32m    915\u001b[0m             t_merge \u001b[38;5;241m=\u001b[39m \u001b[38;5;28;01mNone\u001b[39;00m \u001b[38;5;28;01mif\u001b[39;00m \u001b[38;5;28mself\u001b[39m\u001b[38;5;241m.\u001b[39mt_merge \u001b[38;5;129;01mis\u001b[39;00m \u001b[38;5;28;01mNone\u001b[39;00m \u001b[38;5;28;01melse\u001b[39;00m \u001b[38;5;28mself\u001b[39m\u001b[38;5;241m.\u001b[39mt_merge[match]\n\u001b[0;32m--> 916\u001b[0m             snr[match], msh[match] \u001b[38;5;241m=\u001b[39m \u001b[43msn\u001b[49m\u001b[38;5;241;43m.\u001b[39;49m\u001b[43msnr_ecc_evolving\u001b[49m\u001b[43m(\u001b[49m\u001b[43mm_1\u001b[49m\u001b[38;5;241;43m=\u001b[39;49m\u001b[38;5;28;43mself\u001b[39;49m\u001b[38;5;241;43m.\u001b[39;49m\u001b[43mm_1\u001b[49m\u001b[43m[\u001b[49m\u001b[43mmatch\u001b[49m\u001b[43m]\u001b[49m\u001b[43m,\u001b[49m\n\u001b[1;32m    917\u001b[0m \u001b[43m                                                         \u001b[49m\u001b[43mm_2\u001b[49m\u001b[38;5;241;43m=\u001b[39;49m\u001b[38;5;28;43mself\u001b[39;49m\u001b[38;5;241;43m.\u001b[39;49m\u001b[43mm_2\u001b[49m\u001b[43m[\u001b[49m\u001b[43mmatch\u001b[49m\u001b[43m]\u001b[49m\u001b[43m,\u001b[49m\n\u001b[1;32m    918\u001b[0m \u001b[43m                                                         \u001b[49m\u001b[43mf_orb_i\u001b[49m\u001b[38;5;241;43m=\u001b[39;49m\u001b[38;5;28;43mself\u001b[39;49m\u001b[38;5;241;43m.\u001b[39;49m\u001b[43mf_orb\u001b[49m\u001b[43m[\u001b[49m\u001b[43mmatch\u001b[49m\u001b[43m]\u001b[49m\u001b[43m,\u001b[49m\n\u001b[1;32m    919\u001b[0m \u001b[43m                                                         \u001b[49m\u001b[43mdist\u001b[49m\u001b[38;5;241;43m=\u001b[39;49m\u001b[38;5;28;43mself\u001b[39;49m\u001b[38;5;241;43m.\u001b[39;49m\u001b[43mdist\u001b[49m\u001b[43m[\u001b[49m\u001b[43mmatch\u001b[49m\u001b[43m]\u001b[49m\u001b[43m,\u001b[49m\n\u001b[1;32m    920\u001b[0m \u001b[43m                                                         \u001b[49m\u001b[43mecc\u001b[49m\u001b[38;5;241;43m=\u001b[39;49m\u001b[38;5;28;43mself\u001b[39;49m\u001b[38;5;241;43m.\u001b[39;49m\u001b[43mecc\u001b[49m\u001b[43m[\u001b[49m\u001b[43mmatch\u001b[49m\u001b[43m]\u001b[49m\u001b[43m,\u001b[49m\n\u001b[1;32m    921\u001b[0m \u001b[43m                                                         \u001b[49m\u001b[43mharmonics_required\u001b[49m\u001b[38;5;241;43m=\u001b[39;49m\u001b[43mupper\u001b[49m\u001b[43m,\u001b[49m\n\u001b[1;32m    922\u001b[0m \u001b[43m                                                         \u001b[49m\u001b[43mt_obs\u001b[49m\u001b[38;5;241;43m=\u001b[39;49m\u001b[43mt_obs\u001b[49m\u001b[43m,\u001b[49m\n\u001b[1;32m    923\u001b[0m \u001b[43m                                                         \u001b[49m\u001b[43mn_step\u001b[49m\u001b[38;5;241;43m=\u001b[39;49m\u001b[43mn_step\u001b[49m\u001b[43m,\u001b[49m\n\u001b[1;32m    924\u001b[0m \u001b[43m                                                         \u001b[49m\u001b[43minterpolated_g\u001b[49m\u001b[38;5;241;43m=\u001b[39;49m\u001b[38;5;28;43mself\u001b[39;49m\u001b[38;5;241;43m.\u001b[39;49m\u001b[43mg\u001b[49m\u001b[43m,\u001b[49m\n\u001b[1;32m    925\u001b[0m \u001b[43m                                                         \u001b[49m\u001b[43minterpolated_sc\u001b[49m\u001b[38;5;241;43m=\u001b[39;49m\u001b[38;5;28;43mself\u001b[39;49m\u001b[38;5;241;43m.\u001b[39;49m\u001b[43msc\u001b[49m\u001b[43m,\u001b[49m\n\u001b[1;32m    926\u001b[0m \u001b[43m                                                         \u001b[49m\u001b[43mn_proc\u001b[49m\u001b[38;5;241;43m=\u001b[39;49m\u001b[38;5;28;43mself\u001b[39;49m\u001b[38;5;241;43m.\u001b[39;49m\u001b[43mn_proc\u001b[49m\u001b[43m,\u001b[49m\n\u001b[1;32m    927\u001b[0m \u001b[43m                                                         \u001b[49m\u001b[43mret_max_snr_harmonic\u001b[49m\u001b[38;5;241;43m=\u001b[39;49m\u001b[38;5;28;43;01mTrue\u001b[39;49;00m\u001b[43m,\u001b[49m\n\u001b[1;32m    928\u001b[0m \u001b[43m                                                         \u001b[49m\u001b[43minstrument\u001b[49m\u001b[38;5;241;43m=\u001b[39;49m\u001b[43minstrument\u001b[49m\u001b[43m,\u001b[49m\n\u001b[1;32m    929\u001b[0m \u001b[43m                                                         \u001b[49m\u001b[43mcustom_psd\u001b[49m\u001b[38;5;241;43m=\u001b[39;49m\u001b[43mcustom_psd\u001b[49m\u001b[43m,\u001b[49m\n\u001b[1;32m    930\u001b[0m \u001b[43m                                                         \u001b[49m\u001b[43mL\u001b[49m\u001b[38;5;241;43m=\u001b[39;49m\u001b[43mL\u001b[49m\u001b[43m,\u001b[49m\n\u001b[1;32m    931\u001b[0m \u001b[43m                                                         \u001b[49m\u001b[43mapproximate_R\u001b[49m\u001b[38;5;241;43m=\u001b[39;49m\u001b[43mapproximate_R\u001b[49m\u001b[43m,\u001b[49m\n\u001b[1;32m    932\u001b[0m \u001b[43m                                                         \u001b[49m\u001b[43mconfusion_noise\u001b[49m\u001b[38;5;241;43m=\u001b[39;49m\u001b[43mconfusion_noise\u001b[49m\u001b[43m)\u001b[49m\n\u001b[1;32m    934\u001b[0m \u001b[38;5;28;01mif\u001b[39;00m \u001b[38;5;28mself\u001b[39m\u001b[38;5;241m.\u001b[39mmax_snr_harmonic \u001b[38;5;129;01mis\u001b[39;00m \u001b[38;5;28;01mNone\u001b[39;00m:\n\u001b[1;32m    935\u001b[0m     \u001b[38;5;28mself\u001b[39m\u001b[38;5;241m.\u001b[39mmax_snr_harmonic \u001b[38;5;241m=\u001b[39m np\u001b[38;5;241m.\u001b[39mzeros(\u001b[38;5;28mself\u001b[39m\u001b[38;5;241m.\u001b[39mn_sources)\u001b[38;5;241m.\u001b[39mastype(\u001b[38;5;28mint\u001b[39m)\n",
      "File \u001b[0;32m~/anaconda3/envs/cosmic/lib/python3.8/site-packages/legwork/snr.py:333\u001b[0m, in \u001b[0;36msnr_ecc_evolving\u001b[0;34m(m_1, m_2, f_orb_i, dist, ecc, harmonics_required, t_obs, n_step, t_merge, interpolated_g, interpolated_sc, n_proc, ret_max_snr_harmonic, ret_snr2_by_harmonic, **kwargs)\u001b[0m\n\u001b[1;32m    330\u001b[0m f_n_evol \u001b[38;5;241m=\u001b[39m harms[np\u001b[38;5;241m.\u001b[39mnewaxis, np\u001b[38;5;241m.\u001b[39mnewaxis, :] \u001b[38;5;241m*\u001b[39m f_orb_evol[\u001b[38;5;241m.\u001b[39m\u001b[38;5;241m.\u001b[39m\u001b[38;5;241m.\u001b[39m, np\u001b[38;5;241m.\u001b[39mnewaxis]\n\u001b[1;32m    332\u001b[0m \u001b[38;5;66;03m# calculate the characteristic strain\u001b[39;00m\n\u001b[0;32m--> 333\u001b[0m h_c_n_2 \u001b[38;5;241m=\u001b[39m \u001b[43mstrain\u001b[49m\u001b[38;5;241;43m.\u001b[39;49m\u001b[43mh_c_n\u001b[49m\u001b[43m(\u001b[49m\u001b[43mm_c\u001b[49m\u001b[38;5;241;43m=\u001b[39;49m\u001b[43mm_c\u001b[49m\u001b[43m,\u001b[49m\u001b[43m \u001b[49m\u001b[43mf_orb\u001b[49m\u001b[38;5;241;43m=\u001b[39;49m\u001b[43mf_orb_evol\u001b[49m\u001b[43m,\u001b[49m\u001b[43m \u001b[49m\u001b[43mecc\u001b[49m\u001b[38;5;241;43m=\u001b[39;49m\u001b[43me_evol\u001b[49m\u001b[43m,\u001b[49m\u001b[43m \u001b[49m\u001b[43mn\u001b[49m\u001b[38;5;241;43m=\u001b[39;49m\u001b[43mharms\u001b[49m\u001b[43m,\u001b[49m\u001b[43m \u001b[49m\u001b[43mdist\u001b[49m\u001b[38;5;241;43m=\u001b[39;49m\u001b[43mdist\u001b[49m\u001b[43m,\u001b[49m\n\u001b[1;32m    334\u001b[0m \u001b[43m                       \u001b[49m\u001b[43minterpolated_g\u001b[49m\u001b[38;5;241;43m=\u001b[39;49m\u001b[43minterpolated_g\u001b[49m\u001b[43m)\u001b[49m\u001b[38;5;241m*\u001b[39m\u001b[38;5;241m*\u001b[39m\u001b[38;5;241m2\u001b[39m\n\u001b[1;32m    336\u001b[0m \u001b[38;5;66;03m# calculate the characteristic noise power\u001b[39;00m\n\u001b[1;32m    337\u001b[0m \u001b[38;5;28;01mif\u001b[39;00m interpolated_sc \u001b[38;5;129;01mis\u001b[39;00m \u001b[38;5;129;01mnot\u001b[39;00m \u001b[38;5;28;01mNone\u001b[39;00m:\n",
      "File \u001b[0;32m~/anaconda3/envs/cosmic/lib/python3.8/site-packages/legwork/strain.py:219\u001b[0m, in \u001b[0;36mh_c_n\u001b[0;34m(m_c, f_orb, ecc, n, dist, position, polarisation, inclination, interpolated_g)\u001b[0m\n\u001b[1;32m    217\u001b[0m     n \u001b[38;5;241m=\u001b[39m n[np\u001b[38;5;241m.\u001b[39mnewaxis, np\u001b[38;5;241m.\u001b[39mnewaxis, :]\n\u001b[1;32m    218\u001b[0m     ecc \u001b[38;5;241m=\u001b[39m ecc[\u001b[38;5;241m.\u001b[39m\u001b[38;5;241m.\u001b[39m\u001b[38;5;241m.\u001b[39m, np\u001b[38;5;241m.\u001b[39mnewaxis]\n\u001b[0;32m--> 219\u001b[0m     n_dependent_part \u001b[38;5;241m=\u001b[39m (\u001b[43mutils\u001b[49m\u001b[38;5;241;43m.\u001b[39;49m\u001b[43mpeters_g\u001b[49m\u001b[43m(\u001b[49m\u001b[43mn\u001b[49m\u001b[43m,\u001b[49m\u001b[43m \u001b[49m\u001b[43mecc\u001b[49m\u001b[43m)\u001b[49m \u001b[38;5;241m/\u001b[39m n)\u001b[38;5;241m*\u001b[39m\u001b[38;5;241m*\u001b[39m(\u001b[38;5;241m1\u001b[39m\u001b[38;5;241m/\u001b[39m\u001b[38;5;241m2\u001b[39m)\n\u001b[1;32m    220\u001b[0m \u001b[38;5;28;01melse\u001b[39;00m:\n\u001b[1;32m    221\u001b[0m     \u001b[38;5;66;03m# flatten array to work nicely interp2d\u001b[39;00m\n\u001b[1;32m    222\u001b[0m     g_vals \u001b[38;5;241m=\u001b[39m interpolated_g(n, ecc\u001b[38;5;241m.\u001b[39mflatten())\n",
      "File \u001b[0;32m~/anaconda3/envs/cosmic/lib/python3.8/site-packages/legwork/utils.py:58\u001b[0m, in \u001b[0;36mpeters_g\u001b[0;34m(n, e)\u001b[0m\n\u001b[1;32m     39\u001b[0m \u001b[38;5;124;03m\"\"\"Compute g(n, e) from Peters and Mathews (1963) Eq.20\u001b[39;00m\n\u001b[1;32m     40\u001b[0m \n\u001b[1;32m     41\u001b[0m \u001b[38;5;124;03mThis function gives the relative power of gravitational radiation at the nth harmonic\u001b[39;00m\n\u001b[0;32m   (...)\u001b[0m\n\u001b[1;32m     54\u001b[0m \u001b[38;5;124;03m    g(n, e) from Peters and Mathews (1963) Eq. 20\u001b[39;00m\n\u001b[1;32m     55\u001b[0m \u001b[38;5;124;03m\"\"\"\u001b[39;00m\n\u001b[1;32m     57\u001b[0m bracket_1 \u001b[38;5;241m=\u001b[39m jv(n\u001b[38;5;241m-\u001b[39m\u001b[38;5;241m2\u001b[39m, n\u001b[38;5;241m*\u001b[39me) \u001b[38;5;241m-\u001b[39m \u001b[38;5;241m2\u001b[39m\u001b[38;5;241m*\u001b[39me\u001b[38;5;241m*\u001b[39mjv(n\u001b[38;5;241m-\u001b[39m\u001b[38;5;241m1\u001b[39m, n\u001b[38;5;241m*\u001b[39me) \u001b[38;5;241m+\u001b[39m \u001b[38;5;241m2\u001b[39m\u001b[38;5;241m/\u001b[39mn\u001b[38;5;241m*\u001b[39mjv(n, n\u001b[38;5;241m*\u001b[39me) \u001b[38;5;241m+\u001b[39m \u001b[38;5;241m2\u001b[39m\u001b[38;5;241m*\u001b[39me\u001b[38;5;241m*\u001b[39mjv(n\u001b[38;5;241m+\u001b[39m\u001b[38;5;241m1\u001b[39m, n\u001b[38;5;241m*\u001b[39me) \u001b[38;5;241m-\u001b[39m jv(n\u001b[38;5;241m+\u001b[39m\u001b[38;5;241m2\u001b[39m, n\u001b[38;5;241m*\u001b[39me)\n\u001b[0;32m---> 58\u001b[0m bracket_2 \u001b[38;5;241m=\u001b[39m \u001b[43mjv\u001b[49m\u001b[43m(\u001b[49m\u001b[43mn\u001b[49m\u001b[38;5;241;43m-\u001b[39;49m\u001b[38;5;241;43m2\u001b[39;49m\u001b[43m,\u001b[49m\u001b[43m \u001b[49m\u001b[43mn\u001b[49m\u001b[38;5;241;43m*\u001b[39;49m\u001b[43me\u001b[49m\u001b[43m)\u001b[49m \u001b[38;5;241m-\u001b[39m \u001b[38;5;241m2\u001b[39m\u001b[38;5;241m*\u001b[39mjv(n, n\u001b[38;5;241m*\u001b[39me) \u001b[38;5;241m+\u001b[39m jv(n\u001b[38;5;241m+\u001b[39m\u001b[38;5;241m2\u001b[39m, n\u001b[38;5;241m*\u001b[39me)\n\u001b[1;32m     59\u001b[0m bracket_3 \u001b[38;5;241m=\u001b[39m jv(n, n\u001b[38;5;241m*\u001b[39me)\n\u001b[1;32m     61\u001b[0m g \u001b[38;5;241m=\u001b[39m n\u001b[38;5;241m*\u001b[39m\u001b[38;5;241m*\u001b[39m\u001b[38;5;241m4\u001b[39m\u001b[38;5;241m/\u001b[39m\u001b[38;5;241m32\u001b[39m \u001b[38;5;241m*\u001b[39m (bracket_1\u001b[38;5;241m*\u001b[39m\u001b[38;5;241m*\u001b[39m\u001b[38;5;241m2\u001b[39m \u001b[38;5;241m+\u001b[39m (\u001b[38;5;241m1\u001b[39m \u001b[38;5;241m-\u001b[39m e\u001b[38;5;241m*\u001b[39m\u001b[38;5;241m*\u001b[39m\u001b[38;5;241m2\u001b[39m) \u001b[38;5;241m*\u001b[39m bracket_2\u001b[38;5;241m*\u001b[39m\u001b[38;5;241m*\u001b[39m\u001b[38;5;241m2\u001b[39m \u001b[38;5;241m+\u001b[39m \u001b[38;5;241m4\u001b[39m \u001b[38;5;241m/\u001b[39m (\u001b[38;5;241m3\u001b[39m \u001b[38;5;241m*\u001b[39m n\u001b[38;5;241m*\u001b[39m\u001b[38;5;241m*\u001b[39m\u001b[38;5;241m3\u001b[39m) \u001b[38;5;241m*\u001b[39m bracket_3\u001b[38;5;241m*\u001b[39m\u001b[38;5;241m*\u001b[39m\u001b[38;5;241m2\u001b[39m)\n",
      "\u001b[0;31mKeyboardInterrupt\u001b[0m: "
     ]
    },
    {
     "name": "stdout",
     "output_type": "stream",
     "text": [
      "Error in callback <function flush_figures at 0x1555219b23a0> (for post_execute):\n"
     ]
    },
    {
     "ename": "KeyboardInterrupt",
     "evalue": "",
     "output_type": "error",
     "traceback": [
      "\u001b[0;31m---------------------------------------------------------------------------\u001b[0m",
      "\u001b[0;31mKeyboardInterrupt\u001b[0m                         Traceback (most recent call last)",
      "File \u001b[0;32m~/anaconda3/envs/cosmic/lib/python3.8/site-packages/matplotlib_inline/backend_inline.py:121\u001b[0m, in \u001b[0;36mflush_figures\u001b[0;34m()\u001b[0m\n\u001b[1;32m    118\u001b[0m \u001b[38;5;28;01mif\u001b[39;00m InlineBackend\u001b[38;5;241m.\u001b[39minstance()\u001b[38;5;241m.\u001b[39mclose_figures:\n\u001b[1;32m    119\u001b[0m     \u001b[38;5;66;03m# ignore the tracking, just draw and close all figures\u001b[39;00m\n\u001b[1;32m    120\u001b[0m     \u001b[38;5;28;01mtry\u001b[39;00m:\n\u001b[0;32m--> 121\u001b[0m         \u001b[38;5;28;01mreturn\u001b[39;00m \u001b[43mshow\u001b[49m\u001b[43m(\u001b[49m\u001b[38;5;28;43;01mTrue\u001b[39;49;00m\u001b[43m)\u001b[49m\n\u001b[1;32m    122\u001b[0m     \u001b[38;5;28;01mexcept\u001b[39;00m \u001b[38;5;167;01mException\u001b[39;00m \u001b[38;5;28;01mas\u001b[39;00m e:\n\u001b[1;32m    123\u001b[0m         \u001b[38;5;66;03m# safely show traceback if in IPython, else raise\u001b[39;00m\n\u001b[1;32m    124\u001b[0m         ip \u001b[38;5;241m=\u001b[39m get_ipython()\n",
      "File \u001b[0;32m~/anaconda3/envs/cosmic/lib/python3.8/site-packages/matplotlib_inline/backend_inline.py:41\u001b[0m, in \u001b[0;36mshow\u001b[0;34m(close, block)\u001b[0m\n\u001b[1;32m     39\u001b[0m \u001b[38;5;28;01mtry\u001b[39;00m:\n\u001b[1;32m     40\u001b[0m     \u001b[38;5;28;01mfor\u001b[39;00m figure_manager \u001b[38;5;129;01min\u001b[39;00m Gcf\u001b[38;5;241m.\u001b[39mget_all_fig_managers():\n\u001b[0;32m---> 41\u001b[0m         \u001b[43mdisplay\u001b[49m\u001b[43m(\u001b[49m\n\u001b[1;32m     42\u001b[0m \u001b[43m            \u001b[49m\u001b[43mfigure_manager\u001b[49m\u001b[38;5;241;43m.\u001b[39;49m\u001b[43mcanvas\u001b[49m\u001b[38;5;241;43m.\u001b[39;49m\u001b[43mfigure\u001b[49m\u001b[43m,\u001b[49m\n\u001b[1;32m     43\u001b[0m \u001b[43m            \u001b[49m\u001b[43mmetadata\u001b[49m\u001b[38;5;241;43m=\u001b[39;49m\u001b[43m_fetch_figure_metadata\u001b[49m\u001b[43m(\u001b[49m\u001b[43mfigure_manager\u001b[49m\u001b[38;5;241;43m.\u001b[39;49m\u001b[43mcanvas\u001b[49m\u001b[38;5;241;43m.\u001b[39;49m\u001b[43mfigure\u001b[49m\u001b[43m)\u001b[49m\n\u001b[1;32m     44\u001b[0m \u001b[43m        \u001b[49m\u001b[43m)\u001b[49m\n\u001b[1;32m     45\u001b[0m \u001b[38;5;28;01mfinally\u001b[39;00m:\n\u001b[1;32m     46\u001b[0m     show\u001b[38;5;241m.\u001b[39m_to_draw \u001b[38;5;241m=\u001b[39m []\n",
      "File \u001b[0;32m~/anaconda3/envs/cosmic/lib/python3.8/site-packages/IPython/core/display_functions.py:298\u001b[0m, in \u001b[0;36mdisplay\u001b[0;34m(include, exclude, metadata, transient, display_id, raw, clear, *objs, **kwargs)\u001b[0m\n\u001b[1;32m    296\u001b[0m     publish_display_data(data\u001b[38;5;241m=\u001b[39mobj, metadata\u001b[38;5;241m=\u001b[39mmetadata, \u001b[38;5;241m*\u001b[39m\u001b[38;5;241m*\u001b[39mkwargs)\n\u001b[1;32m    297\u001b[0m \u001b[38;5;28;01melse\u001b[39;00m:\n\u001b[0;32m--> 298\u001b[0m     format_dict, md_dict \u001b[38;5;241m=\u001b[39m \u001b[38;5;28;43mformat\u001b[39;49m\u001b[43m(\u001b[49m\u001b[43mobj\u001b[49m\u001b[43m,\u001b[49m\u001b[43m \u001b[49m\u001b[43minclude\u001b[49m\u001b[38;5;241;43m=\u001b[39;49m\u001b[43minclude\u001b[49m\u001b[43m,\u001b[49m\u001b[43m \u001b[49m\u001b[43mexclude\u001b[49m\u001b[38;5;241;43m=\u001b[39;49m\u001b[43mexclude\u001b[49m\u001b[43m)\u001b[49m\n\u001b[1;32m    299\u001b[0m     \u001b[38;5;28;01mif\u001b[39;00m \u001b[38;5;129;01mnot\u001b[39;00m format_dict:\n\u001b[1;32m    300\u001b[0m         \u001b[38;5;66;03m# nothing to display (e.g. _ipython_display_ took over)\u001b[39;00m\n\u001b[1;32m    301\u001b[0m         \u001b[38;5;28;01mcontinue\u001b[39;00m\n",
      "File \u001b[0;32m~/anaconda3/envs/cosmic/lib/python3.8/site-packages/IPython/core/formatters.py:178\u001b[0m, in \u001b[0;36mDisplayFormatter.format\u001b[0;34m(self, obj, include, exclude)\u001b[0m\n\u001b[1;32m    176\u001b[0m md \u001b[38;5;241m=\u001b[39m \u001b[38;5;28;01mNone\u001b[39;00m\n\u001b[1;32m    177\u001b[0m \u001b[38;5;28;01mtry\u001b[39;00m:\n\u001b[0;32m--> 178\u001b[0m     data \u001b[38;5;241m=\u001b[39m \u001b[43mformatter\u001b[49m\u001b[43m(\u001b[49m\u001b[43mobj\u001b[49m\u001b[43m)\u001b[49m\n\u001b[1;32m    179\u001b[0m \u001b[38;5;28;01mexcept\u001b[39;00m:\n\u001b[1;32m    180\u001b[0m     \u001b[38;5;66;03m# FIXME: log the exception\u001b[39;00m\n\u001b[1;32m    181\u001b[0m     \u001b[38;5;28;01mraise\u001b[39;00m\n",
      "File \u001b[0;32m~/anaconda3/envs/cosmic/lib/python3.8/site-packages/decorator.py:232\u001b[0m, in \u001b[0;36mdecorate.<locals>.fun\u001b[0;34m(*args, **kw)\u001b[0m\n\u001b[1;32m    230\u001b[0m \u001b[38;5;28;01mif\u001b[39;00m \u001b[38;5;129;01mnot\u001b[39;00m kwsyntax:\n\u001b[1;32m    231\u001b[0m     args, kw \u001b[38;5;241m=\u001b[39m fix(args, kw, sig)\n\u001b[0;32m--> 232\u001b[0m \u001b[38;5;28;01mreturn\u001b[39;00m \u001b[43mcaller\u001b[49m\u001b[43m(\u001b[49m\u001b[43mfunc\u001b[49m\u001b[43m,\u001b[49m\u001b[43m \u001b[49m\u001b[38;5;241;43m*\u001b[39;49m\u001b[43m(\u001b[49m\u001b[43mextras\u001b[49m\u001b[43m \u001b[49m\u001b[38;5;241;43m+\u001b[39;49m\u001b[43m \u001b[49m\u001b[43margs\u001b[49m\u001b[43m)\u001b[49m\u001b[43m,\u001b[49m\u001b[43m \u001b[49m\u001b[38;5;241;43m*\u001b[39;49m\u001b[38;5;241;43m*\u001b[39;49m\u001b[43mkw\u001b[49m\u001b[43m)\u001b[49m\n",
      "File \u001b[0;32m~/anaconda3/envs/cosmic/lib/python3.8/site-packages/IPython/core/formatters.py:222\u001b[0m, in \u001b[0;36mcatch_format_error\u001b[0;34m(method, self, *args, **kwargs)\u001b[0m\n\u001b[1;32m    220\u001b[0m \u001b[38;5;124;03m\"\"\"show traceback on failed format call\"\"\"\u001b[39;00m\n\u001b[1;32m    221\u001b[0m \u001b[38;5;28;01mtry\u001b[39;00m:\n\u001b[0;32m--> 222\u001b[0m     r \u001b[38;5;241m=\u001b[39m \u001b[43mmethod\u001b[49m\u001b[43m(\u001b[49m\u001b[38;5;28;43mself\u001b[39;49m\u001b[43m,\u001b[49m\u001b[43m \u001b[49m\u001b[38;5;241;43m*\u001b[39;49m\u001b[43margs\u001b[49m\u001b[43m,\u001b[49m\u001b[43m \u001b[49m\u001b[38;5;241;43m*\u001b[39;49m\u001b[38;5;241;43m*\u001b[39;49m\u001b[43mkwargs\u001b[49m\u001b[43m)\u001b[49m\n\u001b[1;32m    223\u001b[0m \u001b[38;5;28;01mexcept\u001b[39;00m \u001b[38;5;167;01mNotImplementedError\u001b[39;00m:\n\u001b[1;32m    224\u001b[0m     \u001b[38;5;66;03m# don't warn on NotImplementedErrors\u001b[39;00m\n\u001b[1;32m    225\u001b[0m     \u001b[38;5;28;01mreturn\u001b[39;00m \u001b[38;5;28mself\u001b[39m\u001b[38;5;241m.\u001b[39m_check_return(\u001b[38;5;28;01mNone\u001b[39;00m, args[\u001b[38;5;241m0\u001b[39m])\n",
      "File \u001b[0;32m~/anaconda3/envs/cosmic/lib/python3.8/site-packages/IPython/core/formatters.py:339\u001b[0m, in \u001b[0;36mBaseFormatter.__call__\u001b[0;34m(self, obj)\u001b[0m\n\u001b[1;32m    337\u001b[0m     \u001b[38;5;28;01mpass\u001b[39;00m\n\u001b[1;32m    338\u001b[0m \u001b[38;5;28;01melse\u001b[39;00m:\n\u001b[0;32m--> 339\u001b[0m     \u001b[38;5;28;01mreturn\u001b[39;00m \u001b[43mprinter\u001b[49m\u001b[43m(\u001b[49m\u001b[43mobj\u001b[49m\u001b[43m)\u001b[49m\n\u001b[1;32m    340\u001b[0m \u001b[38;5;66;03m# Finally look for special method names\u001b[39;00m\n\u001b[1;32m    341\u001b[0m method \u001b[38;5;241m=\u001b[39m get_real_method(obj, \u001b[38;5;28mself\u001b[39m\u001b[38;5;241m.\u001b[39mprint_method)\n",
      "File \u001b[0;32m~/anaconda3/envs/cosmic/lib/python3.8/site-packages/IPython/core/pylabtools.py:151\u001b[0m, in \u001b[0;36mprint_figure\u001b[0;34m(fig, fmt, bbox_inches, base64, **kwargs)\u001b[0m\n\u001b[1;32m    148\u001b[0m     \u001b[38;5;28;01mfrom\u001b[39;00m \u001b[38;5;21;01mmatplotlib\u001b[39;00m\u001b[38;5;21;01m.\u001b[39;00m\u001b[38;5;21;01mbackend_bases\u001b[39;00m \u001b[38;5;28;01mimport\u001b[39;00m FigureCanvasBase\n\u001b[1;32m    149\u001b[0m     FigureCanvasBase(fig)\n\u001b[0;32m--> 151\u001b[0m \u001b[43mfig\u001b[49m\u001b[38;5;241;43m.\u001b[39;49m\u001b[43mcanvas\u001b[49m\u001b[38;5;241;43m.\u001b[39;49m\u001b[43mprint_figure\u001b[49m\u001b[43m(\u001b[49m\u001b[43mbytes_io\u001b[49m\u001b[43m,\u001b[49m\u001b[43m \u001b[49m\u001b[38;5;241;43m*\u001b[39;49m\u001b[38;5;241;43m*\u001b[39;49m\u001b[43mkw\u001b[49m\u001b[43m)\u001b[49m\n\u001b[1;32m    152\u001b[0m data \u001b[38;5;241m=\u001b[39m bytes_io\u001b[38;5;241m.\u001b[39mgetvalue()\n\u001b[1;32m    153\u001b[0m \u001b[38;5;28;01mif\u001b[39;00m fmt \u001b[38;5;241m==\u001b[39m \u001b[38;5;124m'\u001b[39m\u001b[38;5;124msvg\u001b[39m\u001b[38;5;124m'\u001b[39m:\n",
      "File \u001b[0;32m~/anaconda3/envs/cosmic/lib/python3.8/site-packages/matplotlib/backend_bases.py:2319\u001b[0m, in \u001b[0;36mFigureCanvasBase.print_figure\u001b[0;34m(self, filename, dpi, facecolor, edgecolor, orientation, format, bbox_inches, pad_inches, bbox_extra_artists, backend, **kwargs)\u001b[0m\n\u001b[1;32m   2315\u001b[0m \u001b[38;5;28;01mtry\u001b[39;00m:\n\u001b[1;32m   2316\u001b[0m     \u001b[38;5;66;03m# _get_renderer may change the figure dpi (as vector formats\u001b[39;00m\n\u001b[1;32m   2317\u001b[0m     \u001b[38;5;66;03m# force the figure dpi to 72), so we need to set it again here.\u001b[39;00m\n\u001b[1;32m   2318\u001b[0m     \u001b[38;5;28;01mwith\u001b[39;00m cbook\u001b[38;5;241m.\u001b[39m_setattr_cm(\u001b[38;5;28mself\u001b[39m\u001b[38;5;241m.\u001b[39mfigure, dpi\u001b[38;5;241m=\u001b[39mdpi):\n\u001b[0;32m-> 2319\u001b[0m         result \u001b[38;5;241m=\u001b[39m \u001b[43mprint_method\u001b[49m\u001b[43m(\u001b[49m\n\u001b[1;32m   2320\u001b[0m \u001b[43m            \u001b[49m\u001b[43mfilename\u001b[49m\u001b[43m,\u001b[49m\n\u001b[1;32m   2321\u001b[0m \u001b[43m            \u001b[49m\u001b[43mfacecolor\u001b[49m\u001b[38;5;241;43m=\u001b[39;49m\u001b[43mfacecolor\u001b[49m\u001b[43m,\u001b[49m\n\u001b[1;32m   2322\u001b[0m \u001b[43m            \u001b[49m\u001b[43medgecolor\u001b[49m\u001b[38;5;241;43m=\u001b[39;49m\u001b[43medgecolor\u001b[49m\u001b[43m,\u001b[49m\n\u001b[1;32m   2323\u001b[0m \u001b[43m            \u001b[49m\u001b[43morientation\u001b[49m\u001b[38;5;241;43m=\u001b[39;49m\u001b[43morientation\u001b[49m\u001b[43m,\u001b[49m\n\u001b[1;32m   2324\u001b[0m \u001b[43m            \u001b[49m\u001b[43mbbox_inches_restore\u001b[49m\u001b[38;5;241;43m=\u001b[39;49m\u001b[43m_bbox_inches_restore\u001b[49m\u001b[43m,\u001b[49m\n\u001b[1;32m   2325\u001b[0m \u001b[43m            \u001b[49m\u001b[38;5;241;43m*\u001b[39;49m\u001b[38;5;241;43m*\u001b[39;49m\u001b[43mkwargs\u001b[49m\u001b[43m)\u001b[49m\n\u001b[1;32m   2326\u001b[0m \u001b[38;5;28;01mfinally\u001b[39;00m:\n\u001b[1;32m   2327\u001b[0m     \u001b[38;5;28;01mif\u001b[39;00m bbox_inches \u001b[38;5;129;01mand\u001b[39;00m restore_bbox:\n",
      "File \u001b[0;32m~/anaconda3/envs/cosmic/lib/python3.8/site-packages/matplotlib/backend_bases.py:1648\u001b[0m, in \u001b[0;36m_check_savefig_extra_args.<locals>.wrapper\u001b[0;34m(*args, **kwargs)\u001b[0m\n\u001b[1;32m   1640\u001b[0m     _api\u001b[38;5;241m.\u001b[39mwarn_deprecated(\n\u001b[1;32m   1641\u001b[0m         \u001b[38;5;124m'\u001b[39m\u001b[38;5;124m3.3\u001b[39m\u001b[38;5;124m'\u001b[39m, name\u001b[38;5;241m=\u001b[39mname, removal\u001b[38;5;241m=\u001b[39m\u001b[38;5;124m'\u001b[39m\u001b[38;5;124m3.6\u001b[39m\u001b[38;5;124m'\u001b[39m,\n\u001b[1;32m   1642\u001b[0m         message\u001b[38;5;241m=\u001b[39m\u001b[38;5;124m'\u001b[39m\u001b[38;5;132;01m%(name)s\u001b[39;00m\u001b[38;5;124m() got unexpected keyword argument \u001b[39m\u001b[38;5;124m\"\u001b[39m\u001b[38;5;124m'\u001b[39m\n\u001b[1;32m   1643\u001b[0m                 \u001b[38;5;241m+\u001b[39m arg \u001b[38;5;241m+\u001b[39m \u001b[38;5;124m'\u001b[39m\u001b[38;5;124m\"\u001b[39m\u001b[38;5;124m which is no longer supported as of \u001b[39m\u001b[38;5;124m'\u001b[39m\n\u001b[1;32m   1644\u001b[0m                 \u001b[38;5;124m'\u001b[39m\u001b[38;5;132;01m%(since)s\u001b[39;00m\u001b[38;5;124m and will become an error \u001b[39m\u001b[38;5;124m'\u001b[39m\n\u001b[1;32m   1645\u001b[0m                 \u001b[38;5;124m'\u001b[39m\u001b[38;5;132;01m%(removal)s\u001b[39;00m\u001b[38;5;124m'\u001b[39m)\n\u001b[1;32m   1646\u001b[0m     kwargs\u001b[38;5;241m.\u001b[39mpop(arg)\n\u001b[0;32m-> 1648\u001b[0m \u001b[38;5;28;01mreturn\u001b[39;00m \u001b[43mfunc\u001b[49m\u001b[43m(\u001b[49m\u001b[38;5;241;43m*\u001b[39;49m\u001b[43margs\u001b[49m\u001b[43m,\u001b[49m\u001b[43m \u001b[49m\u001b[38;5;241;43m*\u001b[39;49m\u001b[38;5;241;43m*\u001b[39;49m\u001b[43mkwargs\u001b[49m\u001b[43m)\u001b[49m\n",
      "File \u001b[0;32m~/anaconda3/envs/cosmic/lib/python3.8/site-packages/matplotlib/_api/deprecation.py:412\u001b[0m, in \u001b[0;36mdelete_parameter.<locals>.wrapper\u001b[0;34m(*inner_args, **inner_kwargs)\u001b[0m\n\u001b[1;32m    402\u001b[0m     deprecation_addendum \u001b[38;5;241m=\u001b[39m (\n\u001b[1;32m    403\u001b[0m         \u001b[38;5;124mf\u001b[39m\u001b[38;5;124m\"\u001b[39m\u001b[38;5;124mIf any parameter follows \u001b[39m\u001b[38;5;132;01m{\u001b[39;00mname\u001b[38;5;132;01m!r}\u001b[39;00m\u001b[38;5;124m, they should be passed as \u001b[39m\u001b[38;5;124m\"\u001b[39m\n\u001b[1;32m    404\u001b[0m         \u001b[38;5;124mf\u001b[39m\u001b[38;5;124m\"\u001b[39m\u001b[38;5;124mkeyword, not positionally.\u001b[39m\u001b[38;5;124m\"\u001b[39m)\n\u001b[1;32m    405\u001b[0m     warn_deprecated(\n\u001b[1;32m    406\u001b[0m         since,\n\u001b[1;32m    407\u001b[0m         name\u001b[38;5;241m=\u001b[39m\u001b[38;5;28mrepr\u001b[39m(name),\n\u001b[0;32m   (...)\u001b[0m\n\u001b[1;32m    410\u001b[0m                  \u001b[38;5;28;01melse\u001b[39;00m deprecation_addendum,\n\u001b[1;32m    411\u001b[0m         \u001b[38;5;241m*\u001b[39m\u001b[38;5;241m*\u001b[39mkwargs)\n\u001b[0;32m--> 412\u001b[0m \u001b[38;5;28;01mreturn\u001b[39;00m \u001b[43mfunc\u001b[49m\u001b[43m(\u001b[49m\u001b[38;5;241;43m*\u001b[39;49m\u001b[43minner_args\u001b[49m\u001b[43m,\u001b[49m\u001b[43m \u001b[49m\u001b[38;5;241;43m*\u001b[39;49m\u001b[38;5;241;43m*\u001b[39;49m\u001b[43minner_kwargs\u001b[49m\u001b[43m)\u001b[49m\n",
      "File \u001b[0;32m~/anaconda3/envs/cosmic/lib/python3.8/site-packages/matplotlib/backends/backend_agg.py:540\u001b[0m, in \u001b[0;36mFigureCanvasAgg.print_png\u001b[0;34m(self, filename_or_obj, metadata, pil_kwargs, *args)\u001b[0m\n\u001b[1;32m    490\u001b[0m \u001b[38;5;129m@_check_savefig_extra_args\u001b[39m\n\u001b[1;32m    491\u001b[0m \u001b[38;5;129m@_api\u001b[39m\u001b[38;5;241m.\u001b[39mdelete_parameter(\u001b[38;5;124m\"\u001b[39m\u001b[38;5;124m3.5\u001b[39m\u001b[38;5;124m\"\u001b[39m, \u001b[38;5;124m\"\u001b[39m\u001b[38;5;124margs\u001b[39m\u001b[38;5;124m\"\u001b[39m)\n\u001b[1;32m    492\u001b[0m \u001b[38;5;28;01mdef\u001b[39;00m \u001b[38;5;21mprint_png\u001b[39m(\u001b[38;5;28mself\u001b[39m, filename_or_obj, \u001b[38;5;241m*\u001b[39margs,\n\u001b[1;32m    493\u001b[0m               metadata\u001b[38;5;241m=\u001b[39m\u001b[38;5;28;01mNone\u001b[39;00m, pil_kwargs\u001b[38;5;241m=\u001b[39m\u001b[38;5;28;01mNone\u001b[39;00m):\n\u001b[1;32m    494\u001b[0m     \u001b[38;5;124;03m\"\"\"\u001b[39;00m\n\u001b[1;32m    495\u001b[0m \u001b[38;5;124;03m    Write the figure to a PNG file.\u001b[39;00m\n\u001b[1;32m    496\u001b[0m \n\u001b[0;32m   (...)\u001b[0m\n\u001b[1;32m    538\u001b[0m \u001b[38;5;124;03m        *metadata*, including the default 'Software' key.\u001b[39;00m\n\u001b[1;32m    539\u001b[0m \u001b[38;5;124;03m    \"\"\"\u001b[39;00m\n\u001b[0;32m--> 540\u001b[0m     \u001b[43mFigureCanvasAgg\u001b[49m\u001b[38;5;241;43m.\u001b[39;49m\u001b[43mdraw\u001b[49m\u001b[43m(\u001b[49m\u001b[38;5;28;43mself\u001b[39;49m\u001b[43m)\u001b[49m\n\u001b[1;32m    541\u001b[0m     mpl\u001b[38;5;241m.\u001b[39mimage\u001b[38;5;241m.\u001b[39mimsave(\n\u001b[1;32m    542\u001b[0m         filename_or_obj, \u001b[38;5;28mself\u001b[39m\u001b[38;5;241m.\u001b[39mbuffer_rgba(), \u001b[38;5;28mformat\u001b[39m\u001b[38;5;241m=\u001b[39m\u001b[38;5;124m\"\u001b[39m\u001b[38;5;124mpng\u001b[39m\u001b[38;5;124m\"\u001b[39m, origin\u001b[38;5;241m=\u001b[39m\u001b[38;5;124m\"\u001b[39m\u001b[38;5;124mupper\u001b[39m\u001b[38;5;124m\"\u001b[39m,\n\u001b[1;32m    543\u001b[0m         dpi\u001b[38;5;241m=\u001b[39m\u001b[38;5;28mself\u001b[39m\u001b[38;5;241m.\u001b[39mfigure\u001b[38;5;241m.\u001b[39mdpi, metadata\u001b[38;5;241m=\u001b[39mmetadata, pil_kwargs\u001b[38;5;241m=\u001b[39mpil_kwargs)\n",
      "File \u001b[0;32m~/anaconda3/envs/cosmic/lib/python3.8/site-packages/matplotlib/backends/backend_agg.py:436\u001b[0m, in \u001b[0;36mFigureCanvasAgg.draw\u001b[0;34m(self)\u001b[0m\n\u001b[1;32m    432\u001b[0m \u001b[38;5;66;03m# Acquire a lock on the shared font cache.\u001b[39;00m\n\u001b[1;32m    433\u001b[0m \u001b[38;5;28;01mwith\u001b[39;00m RendererAgg\u001b[38;5;241m.\u001b[39mlock, \\\n\u001b[1;32m    434\u001b[0m      (\u001b[38;5;28mself\u001b[39m\u001b[38;5;241m.\u001b[39mtoolbar\u001b[38;5;241m.\u001b[39m_wait_cursor_for_draw_cm() \u001b[38;5;28;01mif\u001b[39;00m \u001b[38;5;28mself\u001b[39m\u001b[38;5;241m.\u001b[39mtoolbar\n\u001b[1;32m    435\u001b[0m       \u001b[38;5;28;01melse\u001b[39;00m nullcontext()):\n\u001b[0;32m--> 436\u001b[0m     \u001b[38;5;28;43mself\u001b[39;49m\u001b[38;5;241;43m.\u001b[39;49m\u001b[43mfigure\u001b[49m\u001b[38;5;241;43m.\u001b[39;49m\u001b[43mdraw\u001b[49m\u001b[43m(\u001b[49m\u001b[38;5;28;43mself\u001b[39;49m\u001b[38;5;241;43m.\u001b[39;49m\u001b[43mrenderer\u001b[49m\u001b[43m)\u001b[49m\n\u001b[1;32m    437\u001b[0m     \u001b[38;5;66;03m# A GUI class may be need to update a window using this draw, so\u001b[39;00m\n\u001b[1;32m    438\u001b[0m     \u001b[38;5;66;03m# don't forget to call the superclass.\u001b[39;00m\n\u001b[1;32m    439\u001b[0m     \u001b[38;5;28msuper\u001b[39m()\u001b[38;5;241m.\u001b[39mdraw()\n",
      "File \u001b[0;32m~/anaconda3/envs/cosmic/lib/python3.8/site-packages/matplotlib/artist.py:73\u001b[0m, in \u001b[0;36m_finalize_rasterization.<locals>.draw_wrapper\u001b[0;34m(artist, renderer, *args, **kwargs)\u001b[0m\n\u001b[1;32m     71\u001b[0m \u001b[38;5;129m@wraps\u001b[39m(draw)\n\u001b[1;32m     72\u001b[0m \u001b[38;5;28;01mdef\u001b[39;00m \u001b[38;5;21mdraw_wrapper\u001b[39m(artist, renderer, \u001b[38;5;241m*\u001b[39margs, \u001b[38;5;241m*\u001b[39m\u001b[38;5;241m*\u001b[39mkwargs):\n\u001b[0;32m---> 73\u001b[0m     result \u001b[38;5;241m=\u001b[39m \u001b[43mdraw\u001b[49m\u001b[43m(\u001b[49m\u001b[43martist\u001b[49m\u001b[43m,\u001b[49m\u001b[43m \u001b[49m\u001b[43mrenderer\u001b[49m\u001b[43m,\u001b[49m\u001b[43m \u001b[49m\u001b[38;5;241;43m*\u001b[39;49m\u001b[43margs\u001b[49m\u001b[43m,\u001b[49m\u001b[43m \u001b[49m\u001b[38;5;241;43m*\u001b[39;49m\u001b[38;5;241;43m*\u001b[39;49m\u001b[43mkwargs\u001b[49m\u001b[43m)\u001b[49m\n\u001b[1;32m     74\u001b[0m     \u001b[38;5;28;01mif\u001b[39;00m renderer\u001b[38;5;241m.\u001b[39m_rasterizing:\n\u001b[1;32m     75\u001b[0m         renderer\u001b[38;5;241m.\u001b[39mstop_rasterizing()\n",
      "File \u001b[0;32m~/anaconda3/envs/cosmic/lib/python3.8/site-packages/matplotlib/artist.py:50\u001b[0m, in \u001b[0;36mallow_rasterization.<locals>.draw_wrapper\u001b[0;34m(artist, renderer)\u001b[0m\n\u001b[1;32m     47\u001b[0m     \u001b[38;5;28;01mif\u001b[39;00m artist\u001b[38;5;241m.\u001b[39mget_agg_filter() \u001b[38;5;129;01mis\u001b[39;00m \u001b[38;5;129;01mnot\u001b[39;00m \u001b[38;5;28;01mNone\u001b[39;00m:\n\u001b[1;32m     48\u001b[0m         renderer\u001b[38;5;241m.\u001b[39mstart_filter()\n\u001b[0;32m---> 50\u001b[0m     \u001b[38;5;28;01mreturn\u001b[39;00m \u001b[43mdraw\u001b[49m\u001b[43m(\u001b[49m\u001b[43martist\u001b[49m\u001b[43m,\u001b[49m\u001b[43m \u001b[49m\u001b[43mrenderer\u001b[49m\u001b[43m)\u001b[49m\n\u001b[1;32m     51\u001b[0m \u001b[38;5;28;01mfinally\u001b[39;00m:\n\u001b[1;32m     52\u001b[0m     \u001b[38;5;28;01mif\u001b[39;00m artist\u001b[38;5;241m.\u001b[39mget_agg_filter() \u001b[38;5;129;01mis\u001b[39;00m \u001b[38;5;129;01mnot\u001b[39;00m \u001b[38;5;28;01mNone\u001b[39;00m:\n",
      "File \u001b[0;32m~/anaconda3/envs/cosmic/lib/python3.8/site-packages/matplotlib/figure.py:2810\u001b[0m, in \u001b[0;36mFigure.draw\u001b[0;34m(self, renderer)\u001b[0m\n\u001b[1;32m   2807\u001b[0m         \u001b[38;5;66;03m# ValueError can occur when resizing a window.\u001b[39;00m\n\u001b[1;32m   2809\u001b[0m \u001b[38;5;28mself\u001b[39m\u001b[38;5;241m.\u001b[39mpatch\u001b[38;5;241m.\u001b[39mdraw(renderer)\n\u001b[0;32m-> 2810\u001b[0m \u001b[43mmimage\u001b[49m\u001b[38;5;241;43m.\u001b[39;49m\u001b[43m_draw_list_compositing_images\u001b[49m\u001b[43m(\u001b[49m\n\u001b[1;32m   2811\u001b[0m \u001b[43m    \u001b[49m\u001b[43mrenderer\u001b[49m\u001b[43m,\u001b[49m\u001b[43m \u001b[49m\u001b[38;5;28;43mself\u001b[39;49m\u001b[43m,\u001b[49m\u001b[43m \u001b[49m\u001b[43martists\u001b[49m\u001b[43m,\u001b[49m\u001b[43m \u001b[49m\u001b[38;5;28;43mself\u001b[39;49m\u001b[38;5;241;43m.\u001b[39;49m\u001b[43msuppressComposite\u001b[49m\u001b[43m)\u001b[49m\n\u001b[1;32m   2813\u001b[0m \u001b[38;5;28;01mfor\u001b[39;00m sfig \u001b[38;5;129;01min\u001b[39;00m \u001b[38;5;28mself\u001b[39m\u001b[38;5;241m.\u001b[39msubfigs:\n\u001b[1;32m   2814\u001b[0m     sfig\u001b[38;5;241m.\u001b[39mdraw(renderer)\n",
      "File \u001b[0;32m~/anaconda3/envs/cosmic/lib/python3.8/site-packages/matplotlib/image.py:132\u001b[0m, in \u001b[0;36m_draw_list_compositing_images\u001b[0;34m(renderer, parent, artists, suppress_composite)\u001b[0m\n\u001b[1;32m    130\u001b[0m \u001b[38;5;28;01mif\u001b[39;00m not_composite \u001b[38;5;129;01mor\u001b[39;00m \u001b[38;5;129;01mnot\u001b[39;00m has_images:\n\u001b[1;32m    131\u001b[0m     \u001b[38;5;28;01mfor\u001b[39;00m a \u001b[38;5;129;01min\u001b[39;00m artists:\n\u001b[0;32m--> 132\u001b[0m         \u001b[43ma\u001b[49m\u001b[38;5;241;43m.\u001b[39;49m\u001b[43mdraw\u001b[49m\u001b[43m(\u001b[49m\u001b[43mrenderer\u001b[49m\u001b[43m)\u001b[49m\n\u001b[1;32m    133\u001b[0m \u001b[38;5;28;01melse\u001b[39;00m:\n\u001b[1;32m    134\u001b[0m     \u001b[38;5;66;03m# Composite any adjacent images together\u001b[39;00m\n\u001b[1;32m    135\u001b[0m     image_group \u001b[38;5;241m=\u001b[39m []\n",
      "File \u001b[0;32m~/anaconda3/envs/cosmic/lib/python3.8/site-packages/matplotlib/artist.py:50\u001b[0m, in \u001b[0;36mallow_rasterization.<locals>.draw_wrapper\u001b[0;34m(artist, renderer)\u001b[0m\n\u001b[1;32m     47\u001b[0m     \u001b[38;5;28;01mif\u001b[39;00m artist\u001b[38;5;241m.\u001b[39mget_agg_filter() \u001b[38;5;129;01mis\u001b[39;00m \u001b[38;5;129;01mnot\u001b[39;00m \u001b[38;5;28;01mNone\u001b[39;00m:\n\u001b[1;32m     48\u001b[0m         renderer\u001b[38;5;241m.\u001b[39mstart_filter()\n\u001b[0;32m---> 50\u001b[0m     \u001b[38;5;28;01mreturn\u001b[39;00m \u001b[43mdraw\u001b[49m\u001b[43m(\u001b[49m\u001b[43martist\u001b[49m\u001b[43m,\u001b[49m\u001b[43m \u001b[49m\u001b[43mrenderer\u001b[49m\u001b[43m)\u001b[49m\n\u001b[1;32m     51\u001b[0m \u001b[38;5;28;01mfinally\u001b[39;00m:\n\u001b[1;32m     52\u001b[0m     \u001b[38;5;28;01mif\u001b[39;00m artist\u001b[38;5;241m.\u001b[39mget_agg_filter() \u001b[38;5;129;01mis\u001b[39;00m \u001b[38;5;129;01mnot\u001b[39;00m \u001b[38;5;28;01mNone\u001b[39;00m:\n",
      "File \u001b[0;32m~/anaconda3/envs/cosmic/lib/python3.8/site-packages/matplotlib/axes/_base.py:3082\u001b[0m, in \u001b[0;36m_AxesBase.draw\u001b[0;34m(self, renderer)\u001b[0m\n\u001b[1;32m   3079\u001b[0m         a\u001b[38;5;241m.\u001b[39mdraw(renderer)\n\u001b[1;32m   3080\u001b[0m     renderer\u001b[38;5;241m.\u001b[39mstop_rasterizing()\n\u001b[0;32m-> 3082\u001b[0m \u001b[43mmimage\u001b[49m\u001b[38;5;241;43m.\u001b[39;49m\u001b[43m_draw_list_compositing_images\u001b[49m\u001b[43m(\u001b[49m\n\u001b[1;32m   3083\u001b[0m \u001b[43m    \u001b[49m\u001b[43mrenderer\u001b[49m\u001b[43m,\u001b[49m\u001b[43m \u001b[49m\u001b[38;5;28;43mself\u001b[39;49m\u001b[43m,\u001b[49m\u001b[43m \u001b[49m\u001b[43martists\u001b[49m\u001b[43m,\u001b[49m\u001b[43m \u001b[49m\u001b[38;5;28;43mself\u001b[39;49m\u001b[38;5;241;43m.\u001b[39;49m\u001b[43mfigure\u001b[49m\u001b[38;5;241;43m.\u001b[39;49m\u001b[43msuppressComposite\u001b[49m\u001b[43m)\u001b[49m\n\u001b[1;32m   3085\u001b[0m renderer\u001b[38;5;241m.\u001b[39mclose_group(\u001b[38;5;124m'\u001b[39m\u001b[38;5;124maxes\u001b[39m\u001b[38;5;124m'\u001b[39m)\n\u001b[1;32m   3086\u001b[0m \u001b[38;5;28mself\u001b[39m\u001b[38;5;241m.\u001b[39mstale \u001b[38;5;241m=\u001b[39m \u001b[38;5;28;01mFalse\u001b[39;00m\n",
      "File \u001b[0;32m~/anaconda3/envs/cosmic/lib/python3.8/site-packages/matplotlib/image.py:132\u001b[0m, in \u001b[0;36m_draw_list_compositing_images\u001b[0;34m(renderer, parent, artists, suppress_composite)\u001b[0m\n\u001b[1;32m    130\u001b[0m \u001b[38;5;28;01mif\u001b[39;00m not_composite \u001b[38;5;129;01mor\u001b[39;00m \u001b[38;5;129;01mnot\u001b[39;00m has_images:\n\u001b[1;32m    131\u001b[0m     \u001b[38;5;28;01mfor\u001b[39;00m a \u001b[38;5;129;01min\u001b[39;00m artists:\n\u001b[0;32m--> 132\u001b[0m         \u001b[43ma\u001b[49m\u001b[38;5;241;43m.\u001b[39;49m\u001b[43mdraw\u001b[49m\u001b[43m(\u001b[49m\u001b[43mrenderer\u001b[49m\u001b[43m)\u001b[49m\n\u001b[1;32m    133\u001b[0m \u001b[38;5;28;01melse\u001b[39;00m:\n\u001b[1;32m    134\u001b[0m     \u001b[38;5;66;03m# Composite any adjacent images together\u001b[39;00m\n\u001b[1;32m    135\u001b[0m     image_group \u001b[38;5;241m=\u001b[39m []\n",
      "File \u001b[0;32m~/anaconda3/envs/cosmic/lib/python3.8/site-packages/matplotlib/artist.py:50\u001b[0m, in \u001b[0;36mallow_rasterization.<locals>.draw_wrapper\u001b[0;34m(artist, renderer)\u001b[0m\n\u001b[1;32m     47\u001b[0m     \u001b[38;5;28;01mif\u001b[39;00m artist\u001b[38;5;241m.\u001b[39mget_agg_filter() \u001b[38;5;129;01mis\u001b[39;00m \u001b[38;5;129;01mnot\u001b[39;00m \u001b[38;5;28;01mNone\u001b[39;00m:\n\u001b[1;32m     48\u001b[0m         renderer\u001b[38;5;241m.\u001b[39mstart_filter()\n\u001b[0;32m---> 50\u001b[0m     \u001b[38;5;28;01mreturn\u001b[39;00m \u001b[43mdraw\u001b[49m\u001b[43m(\u001b[49m\u001b[43martist\u001b[49m\u001b[43m,\u001b[49m\u001b[43m \u001b[49m\u001b[43mrenderer\u001b[49m\u001b[43m)\u001b[49m\n\u001b[1;32m     51\u001b[0m \u001b[38;5;28;01mfinally\u001b[39;00m:\n\u001b[1;32m     52\u001b[0m     \u001b[38;5;28;01mif\u001b[39;00m artist\u001b[38;5;241m.\u001b[39mget_agg_filter() \u001b[38;5;129;01mis\u001b[39;00m \u001b[38;5;129;01mnot\u001b[39;00m \u001b[38;5;28;01mNone\u001b[39;00m:\n",
      "File \u001b[0;32m~/anaconda3/envs/cosmic/lib/python3.8/site-packages/matplotlib/axis.py:1159\u001b[0m, in \u001b[0;36mAxis.draw\u001b[0;34m(self, renderer, *args, **kwargs)\u001b[0m\n\u001b[1;32m   1156\u001b[0m renderer\u001b[38;5;241m.\u001b[39mopen_group(\u001b[38;5;18m__name__\u001b[39m, gid\u001b[38;5;241m=\u001b[39m\u001b[38;5;28mself\u001b[39m\u001b[38;5;241m.\u001b[39mget_gid())\n\u001b[1;32m   1158\u001b[0m ticks_to_draw \u001b[38;5;241m=\u001b[39m \u001b[38;5;28mself\u001b[39m\u001b[38;5;241m.\u001b[39m_update_ticks()\n\u001b[0;32m-> 1159\u001b[0m ticklabelBoxes, ticklabelBoxes2 \u001b[38;5;241m=\u001b[39m \u001b[38;5;28;43mself\u001b[39;49m\u001b[38;5;241;43m.\u001b[39;49m\u001b[43m_get_tick_bboxes\u001b[49m\u001b[43m(\u001b[49m\u001b[43mticks_to_draw\u001b[49m\u001b[43m,\u001b[49m\n\u001b[1;32m   1160\u001b[0m \u001b[43m                                                        \u001b[49m\u001b[43mrenderer\u001b[49m\u001b[43m)\u001b[49m\n\u001b[1;32m   1162\u001b[0m \u001b[38;5;28;01mfor\u001b[39;00m tick \u001b[38;5;129;01min\u001b[39;00m ticks_to_draw:\n\u001b[1;32m   1163\u001b[0m     tick\u001b[38;5;241m.\u001b[39mdraw(renderer)\n",
      "File \u001b[0;32m~/anaconda3/envs/cosmic/lib/python3.8/site-packages/matplotlib/axis.py:1085\u001b[0m, in \u001b[0;36mAxis._get_tick_bboxes\u001b[0;34m(self, ticks, renderer)\u001b[0m\n\u001b[1;32m   1083\u001b[0m \u001b[38;5;28;01mdef\u001b[39;00m \u001b[38;5;21m_get_tick_bboxes\u001b[39m(\u001b[38;5;28mself\u001b[39m, ticks, renderer):\n\u001b[1;32m   1084\u001b[0m     \u001b[38;5;124;03m\"\"\"Return lists of bboxes for ticks' label1's and label2's.\"\"\"\u001b[39;00m\n\u001b[0;32m-> 1085\u001b[0m     \u001b[38;5;28;01mreturn\u001b[39;00m ([tick\u001b[38;5;241m.\u001b[39mlabel1\u001b[38;5;241m.\u001b[39mget_window_extent(renderer)\n\u001b[1;32m   1086\u001b[0m              \u001b[38;5;28;01mfor\u001b[39;00m tick \u001b[38;5;129;01min\u001b[39;00m ticks \u001b[38;5;28;01mif\u001b[39;00m tick\u001b[38;5;241m.\u001b[39mlabel1\u001b[38;5;241m.\u001b[39mget_visible()],\n\u001b[1;32m   1087\u001b[0m             [tick\u001b[38;5;241m.\u001b[39mlabel2\u001b[38;5;241m.\u001b[39mget_window_extent(renderer)\n\u001b[1;32m   1088\u001b[0m              \u001b[38;5;28;01mfor\u001b[39;00m tick \u001b[38;5;129;01min\u001b[39;00m ticks \u001b[38;5;28;01mif\u001b[39;00m tick\u001b[38;5;241m.\u001b[39mlabel2\u001b[38;5;241m.\u001b[39mget_visible()])\n",
      "File \u001b[0;32m~/anaconda3/envs/cosmic/lib/python3.8/site-packages/matplotlib/axis.py:1085\u001b[0m, in \u001b[0;36m<listcomp>\u001b[0;34m(.0)\u001b[0m\n\u001b[1;32m   1083\u001b[0m \u001b[38;5;28;01mdef\u001b[39;00m \u001b[38;5;21m_get_tick_bboxes\u001b[39m(\u001b[38;5;28mself\u001b[39m, ticks, renderer):\n\u001b[1;32m   1084\u001b[0m     \u001b[38;5;124;03m\"\"\"Return lists of bboxes for ticks' label1's and label2's.\"\"\"\u001b[39;00m\n\u001b[0;32m-> 1085\u001b[0m     \u001b[38;5;28;01mreturn\u001b[39;00m ([\u001b[43mtick\u001b[49m\u001b[38;5;241;43m.\u001b[39;49m\u001b[43mlabel1\u001b[49m\u001b[38;5;241;43m.\u001b[39;49m\u001b[43mget_window_extent\u001b[49m\u001b[43m(\u001b[49m\u001b[43mrenderer\u001b[49m\u001b[43m)\u001b[49m\n\u001b[1;32m   1086\u001b[0m              \u001b[38;5;28;01mfor\u001b[39;00m tick \u001b[38;5;129;01min\u001b[39;00m ticks \u001b[38;5;28;01mif\u001b[39;00m tick\u001b[38;5;241m.\u001b[39mlabel1\u001b[38;5;241m.\u001b[39mget_visible()],\n\u001b[1;32m   1087\u001b[0m             [tick\u001b[38;5;241m.\u001b[39mlabel2\u001b[38;5;241m.\u001b[39mget_window_extent(renderer)\n\u001b[1;32m   1088\u001b[0m              \u001b[38;5;28;01mfor\u001b[39;00m tick \u001b[38;5;129;01min\u001b[39;00m ticks \u001b[38;5;28;01mif\u001b[39;00m tick\u001b[38;5;241m.\u001b[39mlabel2\u001b[38;5;241m.\u001b[39mget_visible()])\n",
      "File \u001b[0;32m~/anaconda3/envs/cosmic/lib/python3.8/site-packages/matplotlib/text.py:910\u001b[0m, in \u001b[0;36mText.get_window_extent\u001b[0;34m(self, renderer, dpi)\u001b[0m\n\u001b[1;32m    907\u001b[0m     \u001b[38;5;28;01mraise\u001b[39;00m \u001b[38;5;167;01mRuntimeError\u001b[39;00m(\u001b[38;5;124m'\u001b[39m\u001b[38;5;124mCannot get window extent w/o renderer\u001b[39m\u001b[38;5;124m'\u001b[39m)\n\u001b[1;32m    909\u001b[0m \u001b[38;5;28;01mwith\u001b[39;00m cbook\u001b[38;5;241m.\u001b[39m_setattr_cm(\u001b[38;5;28mself\u001b[39m\u001b[38;5;241m.\u001b[39mfigure, dpi\u001b[38;5;241m=\u001b[39mdpi):\n\u001b[0;32m--> 910\u001b[0m     bbox, info, descent \u001b[38;5;241m=\u001b[39m \u001b[38;5;28;43mself\u001b[39;49m\u001b[38;5;241;43m.\u001b[39;49m\u001b[43m_get_layout\u001b[49m\u001b[43m(\u001b[49m\u001b[38;5;28;43mself\u001b[39;49m\u001b[38;5;241;43m.\u001b[39;49m\u001b[43m_renderer\u001b[49m\u001b[43m)\u001b[49m\n\u001b[1;32m    911\u001b[0m     x, y \u001b[38;5;241m=\u001b[39m \u001b[38;5;28mself\u001b[39m\u001b[38;5;241m.\u001b[39mget_unitless_position()\n\u001b[1;32m    912\u001b[0m     x, y \u001b[38;5;241m=\u001b[39m \u001b[38;5;28mself\u001b[39m\u001b[38;5;241m.\u001b[39mget_transform()\u001b[38;5;241m.\u001b[39mtransform((x, y))\n",
      "File \u001b[0;32m~/anaconda3/envs/cosmic/lib/python3.8/site-packages/matplotlib/text.py:317\u001b[0m, in \u001b[0;36mText._get_layout\u001b[0;34m(self, renderer)\u001b[0m\n\u001b[1;32m    315\u001b[0m clean_line, ismath \u001b[38;5;241m=\u001b[39m \u001b[38;5;28mself\u001b[39m\u001b[38;5;241m.\u001b[39m_preprocess_math(line)\n\u001b[1;32m    316\u001b[0m \u001b[38;5;28;01mif\u001b[39;00m clean_line:\n\u001b[0;32m--> 317\u001b[0m     w, h, d \u001b[38;5;241m=\u001b[39m \u001b[43mrenderer\u001b[49m\u001b[38;5;241;43m.\u001b[39;49m\u001b[43mget_text_width_height_descent\u001b[49m\u001b[43m(\u001b[49m\n\u001b[1;32m    318\u001b[0m \u001b[43m        \u001b[49m\u001b[43mclean_line\u001b[49m\u001b[43m,\u001b[49m\u001b[43m \u001b[49m\u001b[38;5;28;43mself\u001b[39;49m\u001b[38;5;241;43m.\u001b[39;49m\u001b[43m_fontproperties\u001b[49m\u001b[43m,\u001b[49m\u001b[43m \u001b[49m\u001b[43mismath\u001b[49m\u001b[38;5;241;43m=\u001b[39;49m\u001b[43mismath\u001b[49m\u001b[43m)\u001b[49m\n\u001b[1;32m    319\u001b[0m \u001b[38;5;28;01melse\u001b[39;00m:\n\u001b[1;32m    320\u001b[0m     w \u001b[38;5;241m=\u001b[39m h \u001b[38;5;241m=\u001b[39m d \u001b[38;5;241m=\u001b[39m \u001b[38;5;241m0\u001b[39m\n",
      "File \u001b[0;32m~/anaconda3/envs/cosmic/lib/python3.8/site-packages/matplotlib/backends/backend_agg.py:265\u001b[0m, in \u001b[0;36mRendererAgg.get_text_width_height_descent\u001b[0;34m(self, s, prop, ismath)\u001b[0m\n\u001b[1;32m    261\u001b[0m     \u001b[38;5;28;01mreturn\u001b[39;00m w, h, d\n\u001b[1;32m    263\u001b[0m \u001b[38;5;28;01mif\u001b[39;00m ismath:\n\u001b[1;32m    264\u001b[0m     ox, oy, width, height, descent, fonts, used_characters \u001b[38;5;241m=\u001b[39m \\\n\u001b[0;32m--> 265\u001b[0m         \u001b[38;5;28;43mself\u001b[39;49m\u001b[38;5;241;43m.\u001b[39;49m\u001b[43mmathtext_parser\u001b[49m\u001b[38;5;241;43m.\u001b[39;49m\u001b[43mparse\u001b[49m\u001b[43m(\u001b[49m\u001b[43ms\u001b[49m\u001b[43m,\u001b[49m\u001b[43m \u001b[49m\u001b[38;5;28;43mself\u001b[39;49m\u001b[38;5;241;43m.\u001b[39;49m\u001b[43mdpi\u001b[49m\u001b[43m,\u001b[49m\u001b[43m \u001b[49m\u001b[43mprop\u001b[49m\u001b[43m)\u001b[49m\n\u001b[1;32m    266\u001b[0m     \u001b[38;5;28;01mreturn\u001b[39;00m width, height, descent\n\u001b[1;32m    268\u001b[0m flags \u001b[38;5;241m=\u001b[39m get_hinting_flag()\n",
      "File \u001b[0;32m~/anaconda3/envs/cosmic/lib/python3.8/site-packages/matplotlib/mathtext.py:435\u001b[0m, in \u001b[0;36mMathTextParser.parse\u001b[0;34m(self, s, dpi, prop, _force_standard_ps_fonts)\u001b[0m\n\u001b[1;32m    420\u001b[0m     _api\u001b[38;5;241m.\u001b[39mwarn_deprecated(\n\u001b[1;32m    421\u001b[0m         \u001b[38;5;124m\"\u001b[39m\u001b[38;5;124m3.4\u001b[39m\u001b[38;5;124m\"\u001b[39m,\n\u001b[1;32m    422\u001b[0m         removal\u001b[38;5;241m=\u001b[39m\u001b[38;5;124m\"\u001b[39m\u001b[38;5;124m3.5\u001b[39m\u001b[38;5;124m\"\u001b[39m,\n\u001b[0;32m   (...)\u001b[0m\n\u001b[1;32m    429\u001b[0m         )\n\u001b[1;32m    430\u001b[0m     )\n\u001b[1;32m    432\u001b[0m \u001b[38;5;66;03m# lru_cache can't decorate parse() directly because the ps.useafm and\u001b[39;00m\n\u001b[1;32m    433\u001b[0m \u001b[38;5;66;03m# mathtext.fontset rcParams also affect the parse (e.g. by affecting\u001b[39;00m\n\u001b[1;32m    434\u001b[0m \u001b[38;5;66;03m# the glyph metrics).\u001b[39;00m\n\u001b[0;32m--> 435\u001b[0m \u001b[38;5;28;01mreturn\u001b[39;00m \u001b[38;5;28;43mself\u001b[39;49m\u001b[38;5;241;43m.\u001b[39;49m\u001b[43m_parse_cached\u001b[49m\u001b[43m(\u001b[49m\u001b[43ms\u001b[49m\u001b[43m,\u001b[49m\u001b[43m \u001b[49m\u001b[43mdpi\u001b[49m\u001b[43m,\u001b[49m\u001b[43m \u001b[49m\u001b[43mprop\u001b[49m\u001b[43m,\u001b[49m\u001b[43m \u001b[49m\u001b[43m_force_standard_ps_fonts\u001b[49m\u001b[43m)\u001b[49m\n",
      "File \u001b[0;32m~/anaconda3/envs/cosmic/lib/python3.8/site-packages/matplotlib/mathtext.py:458\u001b[0m, in \u001b[0;36mMathTextParser._parse_cached\u001b[0;34m(self, s, dpi, prop, force_standard_ps_fonts)\u001b[0m\n\u001b[1;32m    456\u001b[0m box \u001b[38;5;241m=\u001b[39m \u001b[38;5;28mself\u001b[39m\u001b[38;5;241m.\u001b[39m_parser\u001b[38;5;241m.\u001b[39mparse(s, font_output, fontsize, dpi)\n\u001b[1;32m    457\u001b[0m font_output\u001b[38;5;241m.\u001b[39mset_canvas_size(box\u001b[38;5;241m.\u001b[39mwidth, box\u001b[38;5;241m.\u001b[39mheight, box\u001b[38;5;241m.\u001b[39mdepth)\n\u001b[0;32m--> 458\u001b[0m \u001b[38;5;28;01mreturn\u001b[39;00m \u001b[43mfont_output\u001b[49m\u001b[38;5;241;43m.\u001b[39;49m\u001b[43mget_results\u001b[49m\u001b[43m(\u001b[49m\u001b[43mbox\u001b[49m\u001b[43m)\u001b[49m\n",
      "File \u001b[0;32m~/anaconda3/envs/cosmic/lib/python3.8/site-packages/matplotlib/_mathtext.py:204\u001b[0m, in \u001b[0;36mFonts.get_results\u001b[0;34m(self, box)\u001b[0m\n\u001b[1;32m    199\u001b[0m \u001b[38;5;28;01mdef\u001b[39;00m \u001b[38;5;21mget_results\u001b[39m(\u001b[38;5;28mself\u001b[39m, box):\n\u001b[1;32m    200\u001b[0m     \u001b[38;5;124;03m\"\"\"\u001b[39;00m\n\u001b[1;32m    201\u001b[0m \u001b[38;5;124;03m    Get the data needed by the backend to render the math\u001b[39;00m\n\u001b[1;32m    202\u001b[0m \u001b[38;5;124;03m    expression.  The return value is backend-specific.\u001b[39;00m\n\u001b[1;32m    203\u001b[0m \u001b[38;5;124;03m    \"\"\"\u001b[39;00m\n\u001b[0;32m--> 204\u001b[0m     result \u001b[38;5;241m=\u001b[39m \u001b[38;5;28;43mself\u001b[39;49m\u001b[38;5;241;43m.\u001b[39;49m\u001b[43mmathtext_backend\u001b[49m\u001b[38;5;241;43m.\u001b[39;49m\u001b[43mget_results\u001b[49m\u001b[43m(\u001b[49m\n\u001b[1;32m    205\u001b[0m \u001b[43m        \u001b[49m\u001b[43mbox\u001b[49m\u001b[43m,\u001b[49m\u001b[43m \u001b[49m\u001b[38;5;28;43mself\u001b[39;49m\u001b[38;5;241;43m.\u001b[39;49m\u001b[43mget_used_characters\u001b[49m\u001b[43m(\u001b[49m\u001b[43m)\u001b[49m\u001b[43m)\u001b[49m\n\u001b[1;32m    206\u001b[0m     \u001b[38;5;28;01mif\u001b[39;00m \u001b[38;5;28mself\u001b[39m\u001b[38;5;241m.\u001b[39mdestroy \u001b[38;5;241m!=\u001b[39m TruetypeFonts\u001b[38;5;241m.\u001b[39mdestroy\u001b[38;5;241m.\u001b[39m\u001b[38;5;21m__get__\u001b[39m(\u001b[38;5;28mself\u001b[39m):\n\u001b[1;32m    207\u001b[0m         destroy \u001b[38;5;241m=\u001b[39m _api\u001b[38;5;241m.\u001b[39mdeprecate_method_override(\n\u001b[1;32m    208\u001b[0m             \u001b[38;5;18m__class__\u001b[39m\u001b[38;5;241m.\u001b[39mdestroy, \u001b[38;5;28mself\u001b[39m, since\u001b[38;5;241m=\u001b[39m\u001b[38;5;124m\"\u001b[39m\u001b[38;5;124m3.4\u001b[39m\u001b[38;5;124m\"\u001b[39m)\n",
      "File \u001b[0;32m~/anaconda3/envs/cosmic/lib/python3.8/site-packages/matplotlib/mathtext.py:158\u001b[0m, in \u001b[0;36mMathtextBackendAgg.get_results\u001b[0;34m(self, box, used_characters)\u001b[0m\n\u001b[1;32m    156\u001b[0m orig_height \u001b[38;5;241m=\u001b[39m box\u001b[38;5;241m.\u001b[39mheight\n\u001b[1;32m    157\u001b[0m orig_depth  \u001b[38;5;241m=\u001b[39m box\u001b[38;5;241m.\u001b[39mdepth\n\u001b[0;32m--> 158\u001b[0m \u001b[43m_mathtext\u001b[49m\u001b[38;5;241;43m.\u001b[39;49m\u001b[43mship\u001b[49m\u001b[43m(\u001b[49m\u001b[38;5;241;43m0\u001b[39;49m\u001b[43m,\u001b[49m\u001b[43m \u001b[49m\u001b[38;5;241;43m0\u001b[39;49m\u001b[43m,\u001b[49m\u001b[43m \u001b[49m\u001b[43mbox\u001b[49m\u001b[43m)\u001b[49m\n\u001b[1;32m    159\u001b[0m bbox \u001b[38;5;241m=\u001b[39m \u001b[38;5;28mself\u001b[39m\u001b[38;5;241m.\u001b[39mbbox\n\u001b[1;32m    160\u001b[0m bbox \u001b[38;5;241m=\u001b[39m [bbox[\u001b[38;5;241m0\u001b[39m] \u001b[38;5;241m-\u001b[39m \u001b[38;5;241m1\u001b[39m, bbox[\u001b[38;5;241m1\u001b[39m] \u001b[38;5;241m-\u001b[39m \u001b[38;5;241m1\u001b[39m, bbox[\u001b[38;5;241m2\u001b[39m] \u001b[38;5;241m+\u001b[39m \u001b[38;5;241m1\u001b[39m, bbox[\u001b[38;5;241m3\u001b[39m] \u001b[38;5;241m+\u001b[39m \u001b[38;5;241m1\u001b[39m]\n",
      "File \u001b[0;32m~/anaconda3/envs/cosmic/lib/python3.8/site-packages/matplotlib/_mathtext.py:1732\u001b[0m, in \u001b[0;36mShip.__call__\u001b[0;34m(self, ox, oy, box)\u001b[0m\n\u001b[1;32m   1730\u001b[0m \u001b[38;5;28mself\u001b[39m\u001b[38;5;241m.\u001b[39moff_h       \u001b[38;5;241m=\u001b[39m ox\n\u001b[1;32m   1731\u001b[0m \u001b[38;5;28mself\u001b[39m\u001b[38;5;241m.\u001b[39moff_v       \u001b[38;5;241m=\u001b[39m oy \u001b[38;5;241m+\u001b[39m box\u001b[38;5;241m.\u001b[39mheight\n\u001b[0;32m-> 1732\u001b[0m \u001b[38;5;28;43mself\u001b[39;49m\u001b[38;5;241;43m.\u001b[39;49m\u001b[43mhlist_out\u001b[49m\u001b[43m(\u001b[49m\u001b[43mbox\u001b[49m\u001b[43m)\u001b[49m\n",
      "File \u001b[0;32m~/anaconda3/envs/cosmic/lib/python3.8/site-packages/matplotlib/_mathtext.py:1767\u001b[0m, in \u001b[0;36mShip.hlist_out\u001b[0;34m(self, box)\u001b[0m\n\u001b[1;32m   1765\u001b[0m \u001b[38;5;28mself\u001b[39m\u001b[38;5;241m.\u001b[39mcur_v \u001b[38;5;241m=\u001b[39m base_line \u001b[38;5;241m+\u001b[39m p\u001b[38;5;241m.\u001b[39mshift_amount\n\u001b[1;32m   1766\u001b[0m \u001b[38;5;28;01mif\u001b[39;00m \u001b[38;5;28misinstance\u001b[39m(p, Hlist):\n\u001b[0;32m-> 1767\u001b[0m     \u001b[38;5;28;43mself\u001b[39;49m\u001b[38;5;241;43m.\u001b[39;49m\u001b[43mhlist_out\u001b[49m\u001b[43m(\u001b[49m\u001b[43mp\u001b[49m\u001b[43m)\u001b[49m\n\u001b[1;32m   1768\u001b[0m \u001b[38;5;28;01melse\u001b[39;00m:\n\u001b[1;32m   1769\u001b[0m     \u001b[38;5;66;03m# p.vpack(box.height + box.depth, 'exactly')\u001b[39;00m\n\u001b[1;32m   1770\u001b[0m     \u001b[38;5;28mself\u001b[39m\u001b[38;5;241m.\u001b[39mvlist_out(p)\n",
      "File \u001b[0;32m~/anaconda3/envs/cosmic/lib/python3.8/site-packages/matplotlib/_mathtext.py:1767\u001b[0m, in \u001b[0;36mShip.hlist_out\u001b[0;34m(self, box)\u001b[0m\n\u001b[1;32m   1765\u001b[0m \u001b[38;5;28mself\u001b[39m\u001b[38;5;241m.\u001b[39mcur_v \u001b[38;5;241m=\u001b[39m base_line \u001b[38;5;241m+\u001b[39m p\u001b[38;5;241m.\u001b[39mshift_amount\n\u001b[1;32m   1766\u001b[0m \u001b[38;5;28;01mif\u001b[39;00m \u001b[38;5;28misinstance\u001b[39m(p, Hlist):\n\u001b[0;32m-> 1767\u001b[0m     \u001b[38;5;28;43mself\u001b[39;49m\u001b[38;5;241;43m.\u001b[39;49m\u001b[43mhlist_out\u001b[49m\u001b[43m(\u001b[49m\u001b[43mp\u001b[49m\u001b[43m)\u001b[49m\n\u001b[1;32m   1768\u001b[0m \u001b[38;5;28;01melse\u001b[39;00m:\n\u001b[1;32m   1769\u001b[0m     \u001b[38;5;66;03m# p.vpack(box.height + box.depth, 'exactly')\u001b[39;00m\n\u001b[1;32m   1770\u001b[0m     \u001b[38;5;28mself\u001b[39m\u001b[38;5;241m.\u001b[39mvlist_out(p)\n",
      "    \u001b[0;31m[... skipping similar frames: Ship.hlist_out at line 1767 (2 times)]\u001b[0m\n",
      "File \u001b[0;32m~/anaconda3/envs/cosmic/lib/python3.8/site-packages/matplotlib/_mathtext.py:1767\u001b[0m, in \u001b[0;36mShip.hlist_out\u001b[0;34m(self, box)\u001b[0m\n\u001b[1;32m   1765\u001b[0m \u001b[38;5;28mself\u001b[39m\u001b[38;5;241m.\u001b[39mcur_v \u001b[38;5;241m=\u001b[39m base_line \u001b[38;5;241m+\u001b[39m p\u001b[38;5;241m.\u001b[39mshift_amount\n\u001b[1;32m   1766\u001b[0m \u001b[38;5;28;01mif\u001b[39;00m \u001b[38;5;28misinstance\u001b[39m(p, Hlist):\n\u001b[0;32m-> 1767\u001b[0m     \u001b[38;5;28;43mself\u001b[39;49m\u001b[38;5;241;43m.\u001b[39;49m\u001b[43mhlist_out\u001b[49m\u001b[43m(\u001b[49m\u001b[43mp\u001b[49m\u001b[43m)\u001b[49m\n\u001b[1;32m   1768\u001b[0m \u001b[38;5;28;01melse\u001b[39;00m:\n\u001b[1;32m   1769\u001b[0m     \u001b[38;5;66;03m# p.vpack(box.height + box.depth, 'exactly')\u001b[39;00m\n\u001b[1;32m   1770\u001b[0m     \u001b[38;5;28mself\u001b[39m\u001b[38;5;241m.\u001b[39mvlist_out(p)\n",
      "File \u001b[0;32m~/anaconda3/envs/cosmic/lib/python3.8/site-packages/matplotlib/_mathtext.py:1755\u001b[0m, in \u001b[0;36mShip.hlist_out\u001b[0;34m(self, box)\u001b[0m\n\u001b[1;32m   1753\u001b[0m \u001b[38;5;28;01mfor\u001b[39;00m p \u001b[38;5;129;01min\u001b[39;00m box\u001b[38;5;241m.\u001b[39mchildren:\n\u001b[1;32m   1754\u001b[0m     \u001b[38;5;28;01mif\u001b[39;00m \u001b[38;5;28misinstance\u001b[39m(p, Char):\n\u001b[0;32m-> 1755\u001b[0m         \u001b[43mp\u001b[49m\u001b[38;5;241;43m.\u001b[39;49m\u001b[43mrender\u001b[49m\u001b[43m(\u001b[49m\u001b[38;5;28;43mself\u001b[39;49m\u001b[38;5;241;43m.\u001b[39;49m\u001b[43mcur_h\u001b[49m\u001b[43m \u001b[49m\u001b[38;5;241;43m+\u001b[39;49m\u001b[43m \u001b[49m\u001b[38;5;28;43mself\u001b[39;49m\u001b[38;5;241;43m.\u001b[39;49m\u001b[43moff_h\u001b[49m\u001b[43m,\u001b[49m\u001b[43m \u001b[49m\u001b[38;5;28;43mself\u001b[39;49m\u001b[38;5;241;43m.\u001b[39;49m\u001b[43mcur_v\u001b[49m\u001b[43m \u001b[49m\u001b[38;5;241;43m+\u001b[39;49m\u001b[43m \u001b[49m\u001b[38;5;28;43mself\u001b[39;49m\u001b[38;5;241;43m.\u001b[39;49m\u001b[43moff_v\u001b[49m\u001b[43m)\u001b[49m\n\u001b[1;32m   1756\u001b[0m         \u001b[38;5;28mself\u001b[39m\u001b[38;5;241m.\u001b[39mcur_h \u001b[38;5;241m+\u001b[39m\u001b[38;5;241m=\u001b[39m p\u001b[38;5;241m.\u001b[39mwidth\n\u001b[1;32m   1757\u001b[0m     \u001b[38;5;28;01melif\u001b[39;00m \u001b[38;5;28misinstance\u001b[39m(p, Kern):\n",
      "File \u001b[0;32m~/anaconda3/envs/cosmic/lib/python3.8/site-packages/matplotlib/_mathtext.py:1195\u001b[0m, in \u001b[0;36mChar.render\u001b[0;34m(self, x, y)\u001b[0m\n\u001b[1;32m   1191\u001b[0m \u001b[38;5;28;01mdef\u001b[39;00m \u001b[38;5;21mrender\u001b[39m(\u001b[38;5;28mself\u001b[39m, x, y):\n\u001b[1;32m   1192\u001b[0m     \u001b[38;5;124;03m\"\"\"\u001b[39;00m\n\u001b[1;32m   1193\u001b[0m \u001b[38;5;124;03m    Render the character to the canvas\u001b[39;00m\n\u001b[1;32m   1194\u001b[0m \u001b[38;5;124;03m    \"\"\"\u001b[39;00m\n\u001b[0;32m-> 1195\u001b[0m     \u001b[38;5;28;43mself\u001b[39;49m\u001b[38;5;241;43m.\u001b[39;49m\u001b[43mfont_output\u001b[49m\u001b[38;5;241;43m.\u001b[39;49m\u001b[43mrender_glyph\u001b[49m\u001b[43m(\u001b[49m\n\u001b[1;32m   1196\u001b[0m \u001b[43m        \u001b[49m\u001b[43mx\u001b[49m\u001b[43m,\u001b[49m\u001b[43m \u001b[49m\u001b[43my\u001b[49m\u001b[43m,\u001b[49m\n\u001b[1;32m   1197\u001b[0m \u001b[43m        \u001b[49m\u001b[38;5;28;43mself\u001b[39;49m\u001b[38;5;241;43m.\u001b[39;49m\u001b[43mfont\u001b[49m\u001b[43m,\u001b[49m\u001b[43m \u001b[49m\u001b[38;5;28;43mself\u001b[39;49m\u001b[38;5;241;43m.\u001b[39;49m\u001b[43mfont_class\u001b[49m\u001b[43m,\u001b[49m\u001b[43m \u001b[49m\u001b[38;5;28;43mself\u001b[39;49m\u001b[38;5;241;43m.\u001b[39;49m\u001b[43mc\u001b[49m\u001b[43m,\u001b[49m\u001b[43m \u001b[49m\u001b[38;5;28;43mself\u001b[39;49m\u001b[38;5;241;43m.\u001b[39;49m\u001b[43mfontsize\u001b[49m\u001b[43m,\u001b[49m\u001b[43m \u001b[49m\u001b[38;5;28;43mself\u001b[39;49m\u001b[38;5;241;43m.\u001b[39;49m\u001b[43mdpi\u001b[49m\u001b[43m)\u001b[49m\n",
      "File \u001b[0;32m~/anaconda3/envs/cosmic/lib/python3.8/site-packages/matplotlib/_api/deprecation.py:299\u001b[0m, in \u001b[0;36mrename_parameter.<locals>.wrapper\u001b[0;34m(*args, **kwargs)\u001b[0m\n\u001b[1;32m    294\u001b[0m     warn_deprecated(\n\u001b[1;32m    295\u001b[0m         since, message\u001b[38;5;241m=\u001b[39m\u001b[38;5;124mf\u001b[39m\u001b[38;5;124m\"\u001b[39m\u001b[38;5;124mThe \u001b[39m\u001b[38;5;132;01m{\u001b[39;00mold\u001b[38;5;132;01m!r}\u001b[39;00m\u001b[38;5;124m parameter of \u001b[39m\u001b[38;5;132;01m{\u001b[39;00mfunc\u001b[38;5;241m.\u001b[39m\u001b[38;5;18m__name__\u001b[39m\u001b[38;5;132;01m}\u001b[39;00m\u001b[38;5;124m() \u001b[39m\u001b[38;5;124m\"\u001b[39m\n\u001b[1;32m    296\u001b[0m         \u001b[38;5;124mf\u001b[39m\u001b[38;5;124m\"\u001b[39m\u001b[38;5;124mhas been renamed \u001b[39m\u001b[38;5;132;01m{\u001b[39;00mnew\u001b[38;5;132;01m!r}\u001b[39;00m\u001b[38;5;124m since Matplotlib \u001b[39m\u001b[38;5;132;01m{\u001b[39;00msince\u001b[38;5;132;01m}\u001b[39;00m\u001b[38;5;124m; support \u001b[39m\u001b[38;5;124m\"\u001b[39m\n\u001b[1;32m    297\u001b[0m         \u001b[38;5;124mf\u001b[39m\u001b[38;5;124m\"\u001b[39m\u001b[38;5;124mfor the old name will be dropped %(removal)s.\u001b[39m\u001b[38;5;124m\"\u001b[39m)\n\u001b[1;32m    298\u001b[0m     kwargs[new] \u001b[38;5;241m=\u001b[39m kwargs\u001b[38;5;241m.\u001b[39mpop(old)\n\u001b[0;32m--> 299\u001b[0m \u001b[38;5;28;01mreturn\u001b[39;00m \u001b[43mfunc\u001b[49m\u001b[43m(\u001b[49m\u001b[38;5;241;43m*\u001b[39;49m\u001b[43margs\u001b[49m\u001b[43m,\u001b[49m\u001b[43m \u001b[49m\u001b[38;5;241;43m*\u001b[39;49m\u001b[38;5;241;43m*\u001b[39;49m\u001b[43mkwargs\u001b[49m\u001b[43m)\u001b[49m\n",
      "File \u001b[0;32m~/anaconda3/envs/cosmic/lib/python3.8/site-packages/matplotlib/_mathtext.py:168\u001b[0m, in \u001b[0;36mFonts.render_glyph\u001b[0;34m(self, ox, oy, font, font_class, sym, fontsize, dpi)\u001b[0m\n\u001b[1;32m    162\u001b[0m \u001b[38;5;129m@_api\u001b[39m\u001b[38;5;241m.\u001b[39mrename_parameter(\u001b[38;5;124m\"\u001b[39m\u001b[38;5;124m3.4\u001b[39m\u001b[38;5;124m\"\u001b[39m, \u001b[38;5;124m\"\u001b[39m\u001b[38;5;124mfacename\u001b[39m\u001b[38;5;124m\"\u001b[39m, \u001b[38;5;124m\"\u001b[39m\u001b[38;5;124mfont\u001b[39m\u001b[38;5;124m\"\u001b[39m)\n\u001b[1;32m    163\u001b[0m \u001b[38;5;28;01mdef\u001b[39;00m \u001b[38;5;21mrender_glyph\u001b[39m(\u001b[38;5;28mself\u001b[39m, ox, oy, font, font_class, sym, fontsize, dpi):\n\u001b[1;32m    164\u001b[0m     \u001b[38;5;124;03m\"\"\"\u001b[39;00m\n\u001b[1;32m    165\u001b[0m \u001b[38;5;124;03m    At position (*ox*, *oy*), draw the glyph specified by the remaining\u001b[39;00m\n\u001b[1;32m    166\u001b[0m \u001b[38;5;124;03m    parameters (see `get_metrics` for their detailed description).\u001b[39;00m\n\u001b[1;32m    167\u001b[0m \u001b[38;5;124;03m    \"\"\"\u001b[39;00m\n\u001b[0;32m--> 168\u001b[0m     info \u001b[38;5;241m=\u001b[39m \u001b[38;5;28;43mself\u001b[39;49m\u001b[38;5;241;43m.\u001b[39;49m\u001b[43m_get_info\u001b[49m\u001b[43m(\u001b[49m\u001b[43mfont\u001b[49m\u001b[43m,\u001b[49m\u001b[43m \u001b[49m\u001b[43mfont_class\u001b[49m\u001b[43m,\u001b[49m\u001b[43m \u001b[49m\u001b[43msym\u001b[49m\u001b[43m,\u001b[49m\u001b[43m \u001b[49m\u001b[43mfontsize\u001b[49m\u001b[43m,\u001b[49m\u001b[43m \u001b[49m\u001b[43mdpi\u001b[49m\u001b[43m)\u001b[49m\n\u001b[1;32m    169\u001b[0m     \u001b[38;5;28mself\u001b[39m\u001b[38;5;241m.\u001b[39mused_characters\u001b[38;5;241m.\u001b[39msetdefault(info\u001b[38;5;241m.\u001b[39mfont\u001b[38;5;241m.\u001b[39mfname, \u001b[38;5;28mset\u001b[39m())\u001b[38;5;241m.\u001b[39madd(info\u001b[38;5;241m.\u001b[39mnum)\n\u001b[1;32m    170\u001b[0m     \u001b[38;5;28mself\u001b[39m\u001b[38;5;241m.\u001b[39mmathtext_backend\u001b[38;5;241m.\u001b[39mrender_glyph(ox, oy, info)\n",
      "File \u001b[0;32m~/anaconda3/envs/cosmic/lib/python3.8/site-packages/matplotlib/_mathtext.py:273\u001b[0m, in \u001b[0;36mTruetypeFonts._get_info\u001b[0;34m(self, fontname, font_class, sym, fontsize, dpi, math)\u001b[0m\n\u001b[1;32m    267\u001b[0m font, num, symbol_name, fontsize, slanted \u001b[38;5;241m=\u001b[39m \\\n\u001b[1;32m    268\u001b[0m     \u001b[38;5;28mself\u001b[39m\u001b[38;5;241m.\u001b[39m_get_glyph(fontname, font_class, sym, fontsize, math)\n\u001b[1;32m    270\u001b[0m font\u001b[38;5;241m.\u001b[39mset_size(fontsize, dpi)\n\u001b[1;32m    271\u001b[0m glyph \u001b[38;5;241m=\u001b[39m font\u001b[38;5;241m.\u001b[39mload_char(\n\u001b[1;32m    272\u001b[0m     num,\n\u001b[0;32m--> 273\u001b[0m     flags\u001b[38;5;241m=\u001b[39m\u001b[38;5;28;43mself\u001b[39;49m\u001b[38;5;241;43m.\u001b[39;49m\u001b[43mmathtext_backend\u001b[49m\u001b[38;5;241;43m.\u001b[39;49m\u001b[43mget_hinting_type\u001b[49m\u001b[43m(\u001b[49m\u001b[43m)\u001b[49m)\n\u001b[1;32m    275\u001b[0m xmin, ymin, xmax, ymax \u001b[38;5;241m=\u001b[39m [val\u001b[38;5;241m/\u001b[39m\u001b[38;5;241m64.0\u001b[39m \u001b[38;5;28;01mfor\u001b[39;00m val \u001b[38;5;129;01min\u001b[39;00m glyph\u001b[38;5;241m.\u001b[39mbbox]\n\u001b[1;32m    276\u001b[0m offset \u001b[38;5;241m=\u001b[39m \u001b[38;5;28mself\u001b[39m\u001b[38;5;241m.\u001b[39m_get_offset(font, glyph, fontsize, dpi)\n",
      "File \u001b[0;32m~/anaconda3/envs/cosmic/lib/python3.8/site-packages/matplotlib/mathtext.py:179\u001b[0m, in \u001b[0;36mMathtextBackendAgg.get_hinting_type\u001b[0;34m(self)\u001b[0m\n\u001b[1;32m    177\u001b[0m \u001b[38;5;28;01mdef\u001b[39;00m \u001b[38;5;21mget_hinting_type\u001b[39m(\u001b[38;5;28mself\u001b[39m):\n\u001b[1;32m    178\u001b[0m     \u001b[38;5;28;01mfrom\u001b[39;00m \u001b[38;5;21;01mmatplotlib\u001b[39;00m\u001b[38;5;21;01m.\u001b[39;00m\u001b[38;5;21;01mbackends\u001b[39;00m \u001b[38;5;28;01mimport\u001b[39;00m backend_agg\n\u001b[0;32m--> 179\u001b[0m     \u001b[38;5;28;01mreturn\u001b[39;00m \u001b[43mbackend_agg\u001b[49m\u001b[38;5;241;43m.\u001b[39;49m\u001b[43mget_hinting_flag\u001b[49m\u001b[43m(\u001b[49m\u001b[43m)\u001b[49m\n",
      "File \u001b[0;32m~/anaconda3/envs/cosmic/lib/python3.8/site-packages/matplotlib/backends/backend_agg.py:53\u001b[0m, in \u001b[0;36mget_hinting_flag\u001b[0;34m()\u001b[0m\n\u001b[1;32m     52\u001b[0m \u001b[38;5;28;01mdef\u001b[39;00m \u001b[38;5;21mget_hinting_flag\u001b[39m():\n\u001b[0;32m---> 53\u001b[0m     mapping \u001b[38;5;241m=\u001b[39m {\n\u001b[1;32m     54\u001b[0m         \u001b[38;5;124m'\u001b[39m\u001b[38;5;124mdefault\u001b[39m\u001b[38;5;124m'\u001b[39m: LOAD_DEFAULT,\n\u001b[1;32m     55\u001b[0m         \u001b[38;5;124m'\u001b[39m\u001b[38;5;124mno_autohint\u001b[39m\u001b[38;5;124m'\u001b[39m: LOAD_NO_AUTOHINT,\n\u001b[1;32m     56\u001b[0m         \u001b[38;5;124m'\u001b[39m\u001b[38;5;124mforce_autohint\u001b[39m\u001b[38;5;124m'\u001b[39m: LOAD_FORCE_AUTOHINT,\n\u001b[1;32m     57\u001b[0m         \u001b[38;5;124m'\u001b[39m\u001b[38;5;124mno_hinting\u001b[39m\u001b[38;5;124m'\u001b[39m: LOAD_NO_HINTING,\n\u001b[1;32m     58\u001b[0m         \u001b[38;5;28;01mTrue\u001b[39;00m: LOAD_FORCE_AUTOHINT,\n\u001b[1;32m     59\u001b[0m         \u001b[38;5;28;01mFalse\u001b[39;00m: LOAD_NO_HINTING,\n\u001b[1;32m     60\u001b[0m         \u001b[38;5;124m'\u001b[39m\u001b[38;5;124meither\u001b[39m\u001b[38;5;124m'\u001b[39m: LOAD_DEFAULT,\n\u001b[1;32m     61\u001b[0m         \u001b[38;5;124m'\u001b[39m\u001b[38;5;124mnative\u001b[39m\u001b[38;5;124m'\u001b[39m: LOAD_NO_AUTOHINT,\n\u001b[1;32m     62\u001b[0m         \u001b[38;5;124m'\u001b[39m\u001b[38;5;124mauto\u001b[39m\u001b[38;5;124m'\u001b[39m: LOAD_FORCE_AUTOHINT,\n\u001b[1;32m     63\u001b[0m         \u001b[38;5;124m'\u001b[39m\u001b[38;5;124mnone\u001b[39m\u001b[38;5;124m'\u001b[39m: LOAD_NO_HINTING,\n\u001b[1;32m     64\u001b[0m     }\n\u001b[1;32m     65\u001b[0m     \u001b[38;5;28;01mreturn\u001b[39;00m mapping[mpl\u001b[38;5;241m.\u001b[39mrcParams[\u001b[38;5;124m'\u001b[39m\u001b[38;5;124mtext.hinting\u001b[39m\u001b[38;5;124m'\u001b[39m]]\n",
      "\u001b[0;31mKeyboardInterrupt\u001b[0m: "
     ]
    }
   ],
   "source": [
    "fig1 = plt.figure(figsize=(6, 4))\n",
    "for f, e, rate, label in zip([f_lo, f_mid, f_hi], [e_lo, e_mid, e_hi], [dNdVde_LISAdMcdf_lo, dNdVde_LISAdMcdf_mid, dNdVde_LISAdMcdf_hi], e_labels):\n",
    "    ind_evol, = np.where(f < 1e-1 * u.Hz)\n",
    "     \n",
    "    e = e[ind_evol]\n",
    "    f = f[ind_evol]\n",
    "    rate = rate[ind_evol]\n",
    "    source = lw.source.Source(m_1=m1*u.Msun * np.ones_like(e),\n",
    "                              m_2=m2*u.Msun * np.ones_like(e),\n",
    "                              ecc=e,\n",
    "                              f_orb=f,\n",
    "                              dist=8 * np.ones_like(e) * u.Mpc,\n",
    "                              interpolate_g=False,\n",
    "                              n_proc=1,\n",
    "                             )\n",
    "    \n",
    "    snr = source.get_snr(approximate_R=True)\n",
    "    D_h = snr/7 * 8 * u.Mpc\n",
    "    redshift = np.ones(len(D_h)) * 1e-8\n",
    "    redshift[D_h > 0.0001 * u.Mpc] = z_at_value(Planck18.luminosity_distance, D_h[D_h > 0.0001 * u.Mpc])\n",
    "    V_c = Planck18.comoving_volume(z=redshift)\n",
    "    \n",
    "    #plt.plot(f, cumtrapz(rate.to(u.Gpc**(-3) * u.Hz**(-1)) * V_c.to(u.Gpc**3), -f, initial=0) )\n",
    "    \n",
    "    plt.plot(f, V_c.to(u.Gpc**3))\n",
    "    plt.xscale('log')\n",
    "    plt.yscale('log')\n",
    "#plt.ylim(1e-4, 1e-1)\n",
    "plt.show()\n",
    "plt.close()\n",
    "        \n",
    "   #fig2 = plt.figure(figsize=(6, 4))\n",
    "   #print(rate * V_c)\n",
    "   #\n",
    "   #plt.scatter(f,cumtrapz(rate * V_c, -f, initial=0), label=f'e={label}', s=5)\n",
    "   #\n",
    "   ##cbar.set_ticklabels(ticklabels=np.linspace(0.0, 1.0, 5), size=10)\n",
    "   #plt.xlabel('orbital frequency [Hz]', size=14)\n",
    "   #plt.xlim(1e-5, 1e-1)\n",
    "   #plt.xscale('log')\n",
    "   #plt.yscale('log')\n",
    "   #plt.tick_params(labelsize=10)\n",
    "   #plt.ylabel(r'integrated rate', size=14)\n",
    "   #plt.legend(prop={'size':14})\n",
    "   #plt.show()\n",
    "   #plt.close()\n",
    "   #"
   ]
  },
  {
   "cell_type": "code",
   "execution_count": null,
   "id": "2c28c200-d2d3-4a49-8345-b597b82bb9b6",
   "metadata": {},
   "outputs": [],
   "source": []
  },
  {
   "cell_type": "code",
   "execution_count": 44,
   "id": "cb739448-bf03-47a6-a8b6-15dad93ace22",
   "metadata": {},
   "outputs": [],
   "source": [
    "source = lw.source.Source(m_1=m1*u.Msun * np.ones_like(e_hi[-2:]),\n",
    "                              m_2=m2*u.Msun * np.ones_like(e_hi[-2:]),\n",
    "                              ecc=e_hi[-2:],\n",
    "                              f_orb=f_hi[-2:],\n",
    "                              dist=8 * np.ones_like(e_hi[-2:]) * u.Mpc,\n",
    "                              interpolate_g=False,\n",
    "                              )"
   ]
  },
  {
   "cell_type": "code",
   "execution_count": 45,
   "id": "7cdb6335-464f-4515-bbcd-b57eaf28126c",
   "metadata": {},
   "outputs": [
    {
     "data": {
      "text/plain": [
       "0"
      ]
     },
     "execution_count": 45,
     "metadata": {},
     "output_type": "execute_result"
    }
   ],
   "source": [
    "len(f_hi[e_hi > 0.99])"
   ]
  },
  {
   "cell_type": "code",
   "execution_count": null,
   "id": "f623fd4f-b894-455e-af06-a45f14836671",
   "metadata": {},
   "outputs": [],
   "source": [
    "source.get_snr(verbose=True)"
   ]
  },
  {
   "cell_type": "markdown",
   "id": "911ae729-8760-47c6-9b47-128ee46bb991",
   "metadata": {},
   "source": [
    "## cool! You can run LW backwards instead of forwards!"
   ]
  },
  {
   "cell_type": "code",
   "execution_count": 53,
   "id": "e881f3f9-6319-4976-b998-97a330c9bf73",
   "metadata": {},
   "outputs": [],
   "source": [
    "n_pop = 1\n",
    "ecc_i = 10**np.random.normal(loc=-12, scale=0.25, size=n_pop)\n",
    "m_1 = np.random.normal(loc=30, scale=5, size=n_pop) * u.Msun\n",
    "m_2 = np.random.normal(loc=30, scale=5, size=n_pop) * u.Msun\n",
    "forb_i = 0.1 * u.Hz\n",
    "t_evol = -100 * u.yr\n"
   ]
  },
  {
   "cell_type": "markdown",
   "id": "11d4eaf8-8956-4e77-8cc6-e41f0ce9a5a0",
   "metadata": {},
   "source": [
    "## need to calculate t_evol for each forb_LISA"
   ]
  },
  {
   "cell_type": "code",
   "execution_count": 54,
   "id": "a25924fe-8328-45ae-b548-107a7ead2ebe",
   "metadata": {},
   "outputs": [],
   "source": [
    "f_orb_evol, ecc_evol = evol.evol_ecc(t_evol=-10000 * u.yr, n_step=100000, m_1=m_1, m_2=m_2, \n",
    "                                     f_orb_i=forb_i, ecc_i=ecc_i, avoid_merger=True,\n",
    "                                     t_before=0.01*u.yr, output_vars=[\"f_orb\", \"ecc\"])\n",
    "    \n",
    "m_c = utils.chirp_mass(m_1, m_2)"
   ]
  },
  {
   "cell_type": "code",
   "execution_count": 55,
   "id": "093262f1-b5d2-4981-9d75-894ad9710622",
   "metadata": {},
   "outputs": [
    {
     "data": {
      "image/png": "[encoded data removed]",
      "text/plain": [
       "<Figure size 864x576 with 1 Axes>"
      ]
     },
     "metadata": {
      "needs_background": "light"
     },
     "output_type": "display_data"
    }
   ],
   "source": [
    "plt.plot(f_orb_evol, ecc_evol)\n",
    "plt.xscale('log')"
   ]
  },
  {
   "cell_type": "code",
   "execution_count": 56,
   "id": "58ecad44-fb4c-4da1-8096-0cac869bdd8c",
   "metadata": {},
   "outputs": [
    {
     "data": {
      "text/plain": [
       "(<Quantity [1.00000000e-01, 3.58920340e-02, 2.80475657e-02, ...,\n",
       "            1.00000000e+02, 1.00000000e+02, 1.00000000e+02] Hz>,\n",
       " array([1.16096966e-12, 3.42408968e-12, 4.44220081e-12, ...,\n",
       "        0.00000000e+00, 0.00000000e+00, 0.00000000e+00]))"
      ]
     },
     "execution_count": 56,
     "metadata": {},
     "output_type": "execute_result"
    }
   ],
   "source": [
    "f_orb_evol, ecc_evol"
   ]
  },
  {
   "cell_type": "code",
   "execution_count": 58,
   "id": "f2181c78-df92-4ef6-93cd-35996dac329f",
   "metadata": {},
   "outputs": [
    {
     "name": "stdout",
     "output_type": "stream",
     "text": [
      "0.10000000000000017 Hz\n"
     ]
    },
    {
     "data": {
      "text/plain": [
       "(0.0001, 10.0)"
      ]
     },
     "execution_count": 58,
     "metadata": {},
     "output_type": "execute_result"
    },
    {
     "data": {
      "image/png": "[encoded data removed]",
      "text/plain": [
       "<Figure size 864x576 with 1 Axes>"
      ]
     },
     "metadata": {
      "needs_background": "light"
     },
     "output_type": "display_data"
    }
   ],
   "source": [
    "for f, e, mc in zip(f_orb_evol, ecc_evol, m_c):\n",
    "    print(f)\n",
    "    plt.plot(f, e, c='silver')\n",
    "plt.xscale('log')\n",
    "plt.yscale('log')\n",
    "plt.xlabel('frequency [Hz]')\n",
    "plt.ylabel('ecc')\n",
    "plt.xlim(1e-4, 1e1)"
   ]
  },
  {
   "cell_type": "code",
   "execution_count": 32,
   "id": "994102c5-3bb0-4872-8d40-24841187da13",
   "metadata": {},
   "outputs": [
    {
     "ename": "IndexError",
     "evalue": "too many indices for array: array is 1-dimensional, but 2 were indexed",
     "output_type": "error",
     "traceback": [
      "\u001b[0;31m---------------------------------------------------------------------------\u001b[0m",
      "\u001b[0;31mIndexError\u001b[0m                                Traceback (most recent call last)",
      "Input \u001b[0;32mIn [32]\u001b[0m, in \u001b[0;36m<cell line: 1>\u001b[0;34m()\u001b[0m\n\u001b[1;32m      1\u001b[0m source \u001b[38;5;241m=\u001b[39m lw\u001b[38;5;241m.\u001b[39msource\u001b[38;5;241m.\u001b[39mSource(m_1\u001b[38;5;241m=\u001b[39mm_1,\n\u001b[1;32m      2\u001b[0m                           m_2\u001b[38;5;241m=\u001b[39mm_2,\n\u001b[0;32m----> 3\u001b[0m                           ecc\u001b[38;5;241m=\u001b[39m\u001b[43mecc_evol\u001b[49m\u001b[43m[\u001b[49m\u001b[43m:\u001b[49m\u001b[43m,\u001b[49m\u001b[43m \u001b[49m\u001b[38;5;241;43m-\u001b[39;49m\u001b[38;5;241;43m1\u001b[39;49m\u001b[43m]\u001b[49m,\n\u001b[1;32m      4\u001b[0m                           f_orb\u001b[38;5;241m=\u001b[39mf_orb_evol[:, \u001b[38;5;241m-\u001b[39m\u001b[38;5;241m1\u001b[39m],\n\u001b[1;32m      5\u001b[0m                           dist\u001b[38;5;241m=\u001b[39m\u001b[38;5;241m8\u001b[39m \u001b[38;5;241m*\u001b[39m np\u001b[38;5;241m.\u001b[39mones(\u001b[38;5;241m100\u001b[39m) \u001b[38;5;241m*\u001b[39m u\u001b[38;5;241m.\u001b[39mMpc,\n\u001b[1;32m      6\u001b[0m                           interpolate_g\u001b[38;5;241m=\u001b[39m\u001b[38;5;28;01mFalse\u001b[39;00m)\n",
      "\u001b[0;31mIndexError\u001b[0m: too many indices for array: array is 1-dimensional, but 2 were indexed"
     ]
    }
   ],
   "source": [
    "source = lw.source.Source(m_1=m_1,\n",
    "                          m_2=m_2,\n",
    "                          ecc=ecc_evol[:, -1],\n",
    "                          f_orb=f_orb_evol[:, -1],\n",
    "                          dist=8 * np.ones(100) * u.Mpc,\n",
    "                          interpolate_g=False)\n"
   ]
  },
  {
   "cell_type": "code",
   "execution_count": null,
   "id": "bcfbc360-4739-434e-a6ac-4978885aa97c",
   "metadata": {},
   "outputs": [],
   "source": [
    "snr = source.get_snr()"
   ]
  },
  {
   "cell_type": "code",
   "execution_count": null,
   "id": "1e510a7b-6baf-4216-8088-63645c8bbc48",
   "metadata": {},
   "outputs": [],
   "source": [
    "\n",
    "plt.hist(D_h.value)\n",
    "plt.xlabel('horizon distance [Mpc]')"
   ]
  },
  {
   "cell_type": "code",
   "execution_count": null,
   "id": "86755fa9-3623-459c-88de-bcd7ebd4cc81",
   "metadata": {},
   "outputs": [],
   "source": [
    "n_pop = 100\n",
    "ecc_i = 10**np.random.normal(loc=-6, scale=0.25, size=n_pop)\n",
    "m_1 = np.random.normal(loc=30, scale=5, size=n_pop) * u.Msun\n",
    "m_2 = np.random.normal(loc=30, scale=5, size=n_pop) * u.Msun\n",
    "forb_i = np.ones(n_pop) * 0.1 * u.Hz\n",
    "t_evol = np.ones(n_pop) * -10000 * u.yr\n"
   ]
  },
  {
   "cell_type": "code",
   "execution_count": null,
   "id": "d9cfd3ad-c194-4fba-a188-48447a16047f",
   "metadata": {},
   "outputs": [],
   "source": [
    "f_orb_evol, ecc_evol = evol.evol_ecc(t_evol=t_evol, n_step=10000, m_1=m_1, m_2=m_2, f_orb_i=forb_i, ecc_i=ecc_i,\n",
    "                                     t_before=0.1*u.yr, output_vars=[\"f_orb\", \"ecc\"])\n",
    "    \n",
    "m_c = utils.chirp_mass(m_1, m_2)"
   ]
  },
  {
   "cell_type": "code",
   "execution_count": null,
   "id": "4bfc0bef-90ee-4b5d-ba01-2d4590e956c5",
   "metadata": {},
   "outputs": [],
   "source": [
    "for f, e, mc in zip(f_orb_evol, ecc_evol, m_c):\n",
    "    plt.plot(f, e, c='salmon')\n",
    "plt.xscale('log')\n",
    "plt.yscale('log')\n",
    "plt.xlabel('orbital frequency [Hz]')\n",
    "plt.ylabel('ecc')\n",
    "plt.xlim(1e-4, 1e1)"
   ]
  },
  {
   "cell_type": "markdown",
   "id": "0cf05e24-919d-4154-b68d-5e3a3b644838",
   "metadata": {},
   "source": [
    "### need to get dg/de and dTmerger/df in functions:"
   ]
  },
  {
   "cell_type": "code",
   "execution_count": null,
   "id": "38b36842-7de2-4f39-bc71-91faa892cecf",
   "metadata": {},
   "outputs": [],
   "source": []
  },
  {
   "cell_type": "code",
   "execution_count": null,
   "id": "989c0d5a-cd5c-4ad4-a5f8-3372ed5984d3",
   "metadata": {},
   "outputs": [],
   "source": []
  },
  {
   "cell_type": "code",
   "execution_count": null,
   "id": "284f264c-b8ce-444c-8e51-6691ac324afd",
   "metadata": {},
   "outputs": [],
   "source": [
    "f, e\n",
    "f"
   ]
  },
  {
   "cell_type": "code",
   "execution_count": null,
   "id": "389b3e39-cbc4-44af-83ae-dd2d50f94526",
   "metadata": {},
   "outputs": [],
   "source": [
    "#np.exp(lnJ)"
   ]
  },
  {
   "cell_type": "code",
   "execution_count": null,
   "id": "0960dbf6-54cf-4b5b-b841-ed1b5a0a41b5",
   "metadata": {},
   "outputs": [],
   "source": [
    "plt.hist(np.log10(f.value))"
   ]
  },
  {
   "cell_type": "code",
   "execution_count": null,
   "id": "7387cc20-77d6-4935-8224-a0d774f525a3",
   "metadata": {},
   "outputs": [],
   "source": []
  },
  {
   "cell_type": "code",
   "execution_count": null,
   "id": "fa03d1cc-e131-4273-a1d3-1b39a78f5251",
   "metadata": {},
   "outputs": [],
   "source": [
    "plt.plot(f, e)\n",
    "plt.xscale('log')\n",
    "plt.yscale('log')"
   ]
  },
  {
   "cell_type": "code",
   "execution_count": null,
   "id": "2c9850b3-b070-45eb-a1e3-0a9b12b804f8",
   "metadata": {},
   "outputs": [],
   "source": [
    "plt.plot(f, dg_de(f, e))\n",
    "plt.xscale('log')"
   ]
  },
  {
   "cell_type": "code",
   "execution_count": null,
   "id": "264106bf-ca19-45b3-b34e-62fb270eb3f1",
   "metadata": {},
   "outputs": [],
   "source": [
    "plt.plot(f, e)\n",
    "plt.xscale('log')\n",
    "plt.yscale('log')"
   ]
  },
  {
   "cell_type": "code",
   "execution_count": null,
   "id": "be963a92-7bc6-4516-a431-d42f9edcd854",
   "metadata": {},
   "outputs": [],
   "source": [
    "f, dTmerger_df(m1, m2, f, e).to(u.s**2)"
   ]
  },
  {
   "cell_type": "code",
   "execution_count": null,
   "id": "bb25f14a-c6e6-4ce1-bb48-578f6796ce8f",
   "metadata": {},
   "outputs": [],
   "source": [
    "plt.plot(f, abs(dTmerger_df(m1, m2, f, e).to(u.s**2)))\n",
    "plt.yscale('log')\n",
    "plt.xscale('log')"
   ]
  },
  {
   "cell_type": "code",
   "execution_count": null,
   "id": "ce2f8307-31eb-494f-86d9-3f4d4f586a5d",
   "metadata": {},
   "outputs": [],
   "source": [
    "plt.plot(f, dNdVdedMcdt * dTmerger_df(m1, m2, f, e).to(u.s**2) * dg_de(f, e).to(u.s))\n",
    "plt.xscale('log')\n",
    "plt.yscale('log')\n",
    "#plt.xlim(1e-3, 1e-1)\n",
    "#plt.ylim(1e7, 1e18)"
   ]
  },
  {
   "cell_type": "code",
   "execution_count": null,
   "id": "abb2abb0-f231-4f83-b45e-67d64bbf4637",
   "metadata": {},
   "outputs": [],
   "source": [
    "dNdVdedMcdt * dg_de(f, e) * dTmerger_df(m1, m2, f, e)"
   ]
  },
  {
   "cell_type": "code",
   "execution_count": null,
   "id": "582d3d92-ef41-4b31-a9cf-f9e6ac49f9b6",
   "metadata": {},
   "outputs": [],
   "source": [
    "n_pop = 100\n",
    "ecc_i = 0.0\n",
    "m_1 = 40.0 * u.Msun\n",
    "m_2 = 30.0 * u.Msun\n",
    "forb_i = np.ones(n_pop) * 10 * u.Hz\n",
    "t_evol = np.ones(n_pop) * -100000 * u.yr"
   ]
  },
  {
   "cell_type": "code",
   "execution_count": null,
   "id": "73291b87-49dd-45ad-a687-ac079bb31360",
   "metadata": {},
   "outputs": [],
   "source": [
    "f_orb_evol = evol.evol_circ(t_evol=t_evol, n_step=100000, m_1=m_1, m_2=m_2, f_orb_i=forb_i, \n",
    "                                      output_vars=[\"f_orb\"])\n",
    "    \n",
    "m_c = utils.chirp_mass(m_1, m_2)"
   ]
  },
  {
   "cell_type": "code",
   "execution_count": null,
   "id": "3e78d136-6ad1-45d2-9e5c-a1bb09b7dda5",
   "metadata": {},
   "outputs": [],
   "source": [
    "f_orb_evol"
   ]
  },
  {
   "cell_type": "code",
   "execution_count": null,
   "id": "46f36e82-2f9d-43e6-837a-29ab51af149c",
   "metadata": {},
   "outputs": [],
   "source": [
    "e_evol = 0.0"
   ]
  },
  {
   "cell_type": "code",
   "execution_count": null,
   "id": "2cd9aa30-f9e2-4175-8618-c65f0e5c32b2",
   "metadata": {},
   "outputs": [],
   "source": []
  },
  {
   "cell_type": "code",
   "execution_count": null,
   "id": "e68b3ffe-f096-4fc8-8c2b-277baa82031f",
   "metadata": {},
   "outputs": [],
   "source": [
    "plt.plot(f_orb_evol, dTmerger_df_circ(m_1, m_2, f_orb_evol).to(u.s**2) * dg_de(f_orb_evol, e_evol) * dNdVdedMcdt)\n",
    "plt.xscale('log')\n",
    "plt.yscale('log')"
   ]
  },
  {
   "cell_type": "code",
   "execution_count": null,
   "id": "5079662d-9112-4338-83d4-29f9689706bf",
   "metadata": {},
   "outputs": [],
   "source": [
    "plt.plot(f_orb_evol, abs(dTmerger_df_circ(m_1, m_2, f_orb_evol)))\n",
    "plt.xscale('log')\n",
    "plt.yscale('log')"
   ]
  },
  {
   "cell_type": "code",
   "execution_count": null,
   "id": "d988b596-e5b4-4ed1-9788-9222cd0e405b",
   "metadata": {},
   "outputs": [],
   "source": []
  }
 ],
 "metadata": {
  "kernelspec": {
   "display_name": "cosmic",
   "language": "python",
   "name": "cosmic"
  },
  "language_info": {
   "codemirror_mode": {
    "name": "ipython",
    "version": 3
   },
   "file_extension": ".py",
   "mimetype": "text/x-python",
   "name": "python",
   "nbconvert_exporter": "python",
   "pygments_lexer": "ipython3",
   "version": "3.8.5"
  }
 },
 "nbformat": 4,
 "nbformat_minor": 5
}
