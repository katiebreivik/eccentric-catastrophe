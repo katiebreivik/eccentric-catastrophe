{
 "cells": [
  {
   "cell_type": "code",
   "execution_count": 1,
   "id": "8f0982b8-4b8f-48a4-a037-2aaa0d1b047b",
   "metadata": {},
   "outputs": [],
   "source": [
    "import numpy as np\n",
    "import matplotlib.pyplot as plt\n",
    "import legwork as lw\n",
    "import astropy.units as u\n",
    "import tqdm\n",
    "from astropy.cosmology import Planck18, z_at_value\n",
    "from scipy.integrate import trapz, cumtrapz\n",
    "from schwimmbad import MultiPool\n",
    "from utils import get_LISA_norm, get_LISA_norm_circular, dg_de\n",
    "from scipy.interpolate import interp1d"
   ]
  },
  {
   "cell_type": "code",
   "execution_count": 2,
   "id": "5b19a8ae-692c-4cc2-b50f-cb1c46049f8c",
   "metadata": {},
   "outputs": [],
   "source": [
    "def get_LIGO_rate_uniform_e(m1, n_e_bins):\n",
    "    if m1 < 20:\n",
    "        rate = 23.6 / n_e_bins * u.Gpc**(-3) * u.yr**(-1)\n",
    "    elif m1 < 50:\n",
    "        rate = 4.5 / n_e_bins * u.Gpc**(-3) * u.yr**(-1)\n",
    "    elif m1 <= 100:\n",
    "        rate = 0.2 / n_e_bins * u.Gpc**(-3) * u.yr**(-1)\n",
    "        \n",
    "    return rate\n",
    "        \n",
    "    \n",
    "def get_LIGO_rate_iso_dyn(m1, e, frac_iso, ebins):\n",
    "    e_circ = ebins[e < 1e-6]\n",
    "    e_ecc = ebins[e >= 1e-6]\n",
    "    if m1 < 20:\n",
    "        if e < 1e-6:\n",
    "            rate = 20 / len(e_circ) * frac_iso * u.Gpc**(-3) * u.yr**(-1)\n",
    "        else:\n",
    "            rate = 20 / len(e_ecc) * (1-frac_iso) * u.Gpc**(-3) * u.yr**(-1)\n",
    "    elif m1 < 50:\n",
    "        if e < 1e-6:\n",
    "            rate = 4.5 / len(e_circ) * frac_iso * u.Gpc**(-3) * u.yr**(-1)\n",
    "        else:\n",
    "            rate = 4.5 / len(e_circ) * (1-frac_iso) * u.Gpc**(-3) * u.yr**(-1)\n",
    "    elif m1 <= 100:\n",
    "        if e < 1e-6:\n",
    "            rate = 0.2 / len(e_circ) * frac_iso * u.Gpc**(-3) * u.yr**(-1)\n",
    "        else:\n",
    "            rate = 0.2 / len(e_ecc) * (1-frac_iso) * u.Gpc**(-3) * u.yr**(-1)\n",
    "        \n",
    "    return rate\n",
    "\n",
    "def ligo_rate(m1):\n",
    "    dat = np.array([[3.705799151343708, 0.001087789470121345],\n",
    "                   [4.384724186704389, 0.00984816875074369],\n",
    "                   [5.063649222065067, 0.06979974252228799],\n",
    "                   [5.827439886845831, 0.41173514594201527],\n",
    "                   [6.506364922206512, 1.3579705933006465],\n",
    "                   [6.845827439886847, 2.148948034692836],\n",
    "                   [7.77934936350778, 2.7449738151212433],\n",
    "                   [8.543140028288544, 2.6218307403757986],\n",
    "                   [9.561527581329564, 2.0525434471508692],\n",
    "                   [11.173974540311175, 1.2388629239937763],\n",
    "                   [12.701555869872706, 0.7828664968878465],\n",
    "                   [14.398868458274404, 0.4947116747780942],\n",
    "                   [16.859971711456865, 0.2895969742197884],\n",
    "                   [19.66053748231967, 0.17748817964452962],\n",
    "                   [22.206506364922213, 0.12773570001722281],\n",
    "                   [24.837340876944843, 0.10389898279212807],\n",
    "                   [27.722772277227726, 0.1087789470121345],\n",
    "                   [30.183875530410184, 0.13070104796093673],\n",
    "                   [32.729844413012735, 0.16441704701060267],\n",
    "                   [34.85148514851486, 0.16695189854274867],\n",
    "                   [37.397454031117405, 0.12107555776371784],\n",
    "                   [39.26449787835927, 0.08010405199404155],\n",
    "                   [41.30127298444131, 0.049851062445855264],\n",
    "                   [43.592644978783596, 0.029631988560550687],\n",
    "                   [45.629420084865636, 0.018440841322693136],\n",
    "                   [48.0905233380481, 0.011832859313068754],\n",
    "                   [50.891089108910904, 0.007949361111716631],\n",
    "                   [53.77652050919379, 0.005764973856945108],\n",
    "                   [57.25601131541727, 0.0043438393396653925],\n",
    "                   [61.923620933521946, 0.0032730313574784275],\n",
    "                   [66.67609618104669, 0.0024851284269805634],\n",
    "                   [70.66478076379069, 0.002068305171949823],\n",
    "                   [74.82319660537483, 0.0016952583040389245],\n",
    "                   [78.72701555869875, 0.0013476220436441713],\n",
    "                   [81.27298444130128, 0.0010389898279212807]])\n",
    "    \n",
    "    mass = dat[:,0]\n",
    "    rate = dat[:,1]\n",
    "    interp_rate = interp1d(mass, rate)\n",
    "    \n",
    "    return interp_rate(m1)"
   ]
  },
  {
   "cell_type": "code",
   "execution_count": 3,
   "id": "6fb2bf68-78c1-4ffb-98a0-b45a2e043512",
   "metadata": {
    "tags": []
   },
   "outputs": [
    {
     "name": "stderr",
     "output_type": "stream",
     "text": [
      "  0%|                                                    | 0/50 [00:00<?, ?it/s]\n"
     ]
    },
    {
     "ename": "NameError",
     "evalue": "name 'freq_evol' is not defined",
     "output_type": "error",
     "traceback": [
      "\u001b[0;31m---------------------------------------------------------------------------\u001b[0m",
      "\u001b[0;31mNameError\u001b[0m                                 Traceback (most recent call last)",
      "Input \u001b[0;32mIn [3]\u001b[0m, in \u001b[0;36m<cell line: 20>\u001b[0;34m()\u001b[0m\n\u001b[1;32m     21\u001b[0m \u001b[38;5;28;01mfor\u001b[39;00m e \u001b[38;5;129;01min\u001b[39;00m ecc_range:\n\u001b[1;32m     22\u001b[0m     dat \u001b[38;5;241m=\u001b[39m [m1, m1, e]\n\u001b[0;32m---> 23\u001b[0m     f_orb_evol, ecc_evol, timesteps, LISA_norm \u001b[38;5;241m=\u001b[39m \u001b[43mget_LISA_norm\u001b[49m\u001b[43m(\u001b[49m\u001b[43mdat\u001b[49m\u001b[43m)\u001b[49m\n\u001b[1;32m     24\u001b[0m     \u001b[38;5;28mprint\u001b[39m(f_orb_evol)\n\u001b[1;32m     25\u001b[0m     ind, \u001b[38;5;241m=\u001b[39m np\u001b[38;5;241m.\u001b[39mwhere(f_orb_evol \u001b[38;5;241m<\u001b[39m \u001b[38;5;241m0.1\u001b[39m \u001b[38;5;241m*\u001b[39m u\u001b[38;5;241m.\u001b[39mHz)\n",
      "File \u001b[0;32m~/Documents/Github/eccentric-catastrophe/src/scripts/utils.py:97\u001b[0m, in \u001b[0;36mget_LISA_norm\u001b[0;34m(dat)\u001b[0m\n\u001b[1;32m     94\u001b[0m \u001b[38;5;66;03m# get time to merger for f_LISA = 1e-4 Hz\u001b[39;00m\n\u001b[1;32m     95\u001b[0m dat \u001b[38;5;241m=\u001b[39m [m1, m2, e_LIGO]\n\u001b[0;32m---> 97\u001b[0m t_evol \u001b[38;5;241m=\u001b[39m \u001b[43mget_t_evol_LISA\u001b[49m\u001b[43m(\u001b[49m\u001b[43mdat\u001b[49m\u001b[43m)\u001b[49m\n\u001b[1;32m     99\u001b[0m \u001b[38;5;66;03m# create timesteps\u001b[39;00m\n\u001b[1;32m    100\u001b[0m timesteps \u001b[38;5;241m=\u001b[39m get_t_evol_from_f(m1, m2, e_LIGO, f_LIGO)\n",
      "File \u001b[0;32m~/Documents/Github/eccentric-catastrophe/src/scripts/utils.py:62\u001b[0m, in \u001b[0;36mget_t_evol_LISA\u001b[0;34m(dat)\u001b[0m\n\u001b[1;32m     57\u001b[0m     a_evol, e_evol, f_evol \u001b[38;5;241m=\u001b[39m evol\u001b[38;5;241m.\u001b[39mevol_ecc(\n\u001b[1;32m     58\u001b[0m         m_1\u001b[38;5;241m=\u001b[39mm1, m_2\u001b[38;5;241m=\u001b[39mm2, f_orb_i\u001b[38;5;241m=\u001b[39mf_LIGO, ecc_i\u001b[38;5;241m=\u001b[39me_LIGO, timesteps\u001b[38;5;241m=\u001b[39mtimesteps,\n\u001b[1;32m     59\u001b[0m         t_before\u001b[38;5;241m=\u001b[39m\u001b[38;5;241m0.01\u001b[39m\u001b[38;5;241m*\u001b[39mu\u001b[38;5;241m.\u001b[39myr, output_vars\u001b[38;5;241m=\u001b[39m[\u001b[38;5;124m\"\u001b[39m\u001b[38;5;124ma\u001b[39m\u001b[38;5;124m\"\u001b[39m, \u001b[38;5;124m\"\u001b[39m\u001b[38;5;124mecc\u001b[39m\u001b[38;5;124m\"\u001b[39m, \u001b[38;5;124m\"\u001b[39m\u001b[38;5;124mf_orb\u001b[39m\u001b[38;5;124m\"\u001b[39m], avoid_merger\u001b[38;5;241m=\u001b[39m\u001b[38;5;28;01mFalse\u001b[39;00m)\n\u001b[1;32m     61\u001b[0m t_interp \u001b[38;5;241m=\u001b[39m interp1d(a_evol, timesteps)\n\u001b[0;32m---> 62\u001b[0m a_lo \u001b[38;5;241m=\u001b[39m utils\u001b[38;5;241m.\u001b[39mget_a_from_f_orb(m_1\u001b[38;5;241m=\u001b[39mm1, m_2\u001b[38;5;241m=\u001b[39mm2, f_orb\u001b[38;5;241m=\u001b[39m\u001b[43mfreq_evol\u001b[49m)  \n\u001b[1;32m     63\u001b[0m \u001b[38;5;28;01mif\u001b[39;00m a_lo \u001b[38;5;241m<\u001b[39m \u001b[38;5;28mmin\u001b[39m(a_evol):\n\u001b[1;32m     64\u001b[0m     \u001b[38;5;28mprint\u001b[39m(a_lo, \u001b[38;5;28mmin\u001b[39m(a_evol), m1, e_LIGO)\n",
      "\u001b[0;31mNameError\u001b[0m: name 'freq_evol' is not defined"
     ]
    }
   ],
   "source": [
    "import warnings\n",
    "warnings.filterwarnings(\"ignore\")\n",
    "n_e_bins = 10\n",
    "mass1_range = np.logspace(np.log10(5), np.log10(80), 50)\n",
    "mass2_range = np.logspace(np.log10(5), np.log10(80), 50)\n",
    "ecc_range = np.logspace(-8, -4, n_e_bins)\n",
    "\n",
    "e_grid = np.logspace(-7, -4, n_e_bins)\n",
    "mass1_grid = np.linspace(5, 80, n_e_bins)\n",
    "mass2_grid = np.linspace(5, 80, n_e_bins)\n",
    "M, E = np.meshgrid(mass1_grid, n_e_bins)\n",
    "\n",
    "LISA_norms = []\n",
    "times = []\n",
    "ecc_evols = []\n",
    "f_orb_evols = []\n",
    "horizon_volumes = []\n",
    "mass = []\n",
    "e_LIGO = []\n",
    "for m1 in tqdm.tqdm(mass1_range):\n",
    "    for e in ecc_range:\n",
    "        dat = [m1, m1, e]\n",
    "        f_orb_evol, ecc_evol, timesteps, LISA_norm = get_LISA_norm(dat)\n",
    "        print(f_orb_evol)\n",
    "        ind, = np.where(f_orb_evol < 0.1 * u.Hz)\n",
    "                \n",
    "        source = lw.source.Source(m_1=m1*u.Msun * np.ones_like(ecc_evol[ind]),\n",
    "                                  m_2=m1*u.Msun * np.ones_like(ecc_evol[ind]),\n",
    "                                  ecc=ecc_evol[ind],\n",
    "                                  f_orb=f_orb_evol[ind],\n",
    "                                  dist=8 * np.ones_like(ecc_evol[ind]) * u.Mpc,\n",
    "                                  interpolate_g=False,\n",
    "                                  n_proc=2,\n",
    "                                 )\n",
    "        \n",
    "        snr = source.get_snr(approximate_R=True)\n",
    "        D_h = snr/7 * 8 * u.Mpc\n",
    "        print(D_h)\n",
    "        redshift = np.ones(len(D_h)) * 1e-8\n",
    "        redshift[D_h > 1 * u.kpc] = z_at_value(Planck18.luminosity_distance, D_h[D_h > 1 * u.kpc])\n",
    "        V_c = Planck18.comoving_volume(z=redshift)\n",
    "        horizon_volumes.append(V_c)\n",
    "        mass.append(m1)\n",
    "        e_LIGO.append(e)\n",
    "        LISA_norms.append(LISA_norm[ind])\n",
    "        times.append(timesteps[ind])\n",
    "        ecc_evols.append(ecc_evol[ind])\n",
    "        f_orb_evols.append(f_orb_evol[ind])\n",
    "        "
   ]
  },
  {
   "cell_type": "code",
   "execution_count": null,
   "id": "2f01affb-f51f-4c50-82d6-47cafabb4b28",
   "metadata": {},
   "outputs": [],
   "source": [
    "LIGO_rate_uniform = []\n",
    "#LIGO_rate_iso_dyn_50 = []\n",
    "#LIGO_rate_iso_dyn_80 = []\n",
    "\n",
    "for m1 in tqdm.tqdm(mass1_range):\n",
    "    for m2 in mass2_range:\n",
    "        if m2 < m1:\n",
    "            for e in ecc_range:\n",
    "                LIGO_rate_uniform.append(ligo_rate(m1)/len(ecc_range))\n",
    "                #LIGO_rate_iso_dyn_50.append(get_LIGO_rate_iso_dyn(m1, e, frac_iso=0.5, ebins=ecc_range))\n",
    "                #LIGO_rate_iso_dyn_80.append(get_LIGO_rate_iso_dyn(m1, e, frac_iso=0.8, ebins=ecc_range))\n",
    "                "
   ]
  },
  {
   "cell_type": "code",
   "execution_count": null,
   "id": "27d05a9c-8f29-43ec-9fae-9d52f9fd3417",
   "metadata": {},
   "outputs": [],
   "source": [
    "N_lisa_tot_uniform = []\n",
    "#N_lisa_tot_iso_dyn_50 = []\n",
    "#N_lisa_tot_iso_dyn_80 = []\n",
    "for ii in range(len(LISA_norms)):\n",
    "\n",
    "    N_lisa_tot_uniform.append(trapz((LISA_norms[ii]*LIGO_rate_uniform[ii]*V_c[ii]).to(u.Hz**(-1))).value, f_orb_evols[ii])\n",
    "    #N_lisa_tot_iso_dyn_50.append(trapz((LISA_norms[ii]*LIGO_rate_iso_dyn_50[ii]*V_c[ii]).to(u.Hz**(-1))).value, f_orb_evols[ii])\n",
    "    #N_lisa_tot_iso_dyn_80.append(trapz((LISA_norms[ii]*LIGO_rate_iso_dyn_80[ii]*V_c[ii]).to(u.Hz**(-1))).value, f_orb_evols[ii])"
   ]
  },
  {
   "cell_type": "code",
   "execution_count": null,
   "id": "f004f321-251e-4396-8299-5da196b034a7",
   "metadata": {},
   "outputs": [],
   "source": [
    "M_c = lw.utils.chirp_mass(M1*u.Msun, M2*u.Msun)"
   ]
  },
  {
   "cell_type": "code",
   "execution_count": null,
   "id": "51215708-4811-4446-a392-5950c8e87513",
   "metadata": {},
   "outputs": [],
   "source": [
    "fig = plt.figure(figsize=(6, 4))\n",
    "rate_tot = 0\n",
    "for m, e, l, LR, f, V in zip(M_c, ecc_evols, LISA_norms,LIGO_rate_uniform, f_orb_evols, V_c):\n",
    "    rate_tot += m * trapz(f, (l * LR * V).to(u.Hz**(-1)))\n",
    "    plt.scatter(f, cumtrapz(f, (l * LR ).to(u.Hz**(-1)*u.Mpc**(-3)) * V, initial=0), c=np.log10(e), label=np.round(m, 2), s=5)\n",
    "plt.xscale('log')\n",
    "plt.yscale('log')\n",
    "plt.colorbar()\n",
    "print(rate_tot)"
   ]
  },
  {
   "cell_type": "code",
   "execution_count": null,
   "id": "1ba168af-28ca-4e3b-b027-1199d67d48b7",
   "metadata": {},
   "outputs": [],
   "source": [
    "fig, (ax1, ax2, ax3) = plt.subplots(1, 3, figsize=(16, 4))\n",
    "ax1.scatter(M_c, E, c=N_lisa_tot_uniform, s=M2, norm=colors.LogNorm())\n",
    "#print(np.sum(N_lisa_tot_uniform))\n",
    "ax1.set_title(f'N LISA {np.round(np.sum(N_lisa_tot_uniform), 4)}')\n",
    "ax2.scatter(M_c, E, c=N_lisa_tot_iso_dyn_50, s=M2, norm=colors.LogNorm())\n",
    "ax2.set_title(f'N LISA {np.round(np.sum(N_lisa_tot_iso_dyn_50), 4)}')\n",
    "c = ax3.scatter(M_c, E, c=N_lisa_tot_iso_dyn_80, s=M2, norm=colors.LogNorm())\n",
    "ax3.set_title(f'N LISA {np.round(np.sum(N_lisa_tot_iso_dyn_80), 4)}')\n",
    "ax1.set_yscale('log')\n",
    "ax2.set_yscale('log')\n",
    "ax3.set_yscale('log')\n",
    "plt.colorbar(c)    "
   ]
  },
  {
   "cell_type": "code",
   "execution_count": null,
   "id": "04aad4c9-ae25-4d9f-80ce-d6ca8218508f",
   "metadata": {},
   "outputs": [],
   "source": [
    "## let's try it out as just circular for now..."
   ]
  },
  {
   "cell_type": "code",
   "execution_count": null,
   "id": "e8050058-b20a-4156-b998-ac72c56de590",
   "metadata": {},
   "outputs": [],
   "source": [
    "n_grid = 50\n",
    "nproc=1\n",
    "#e_grid = np.logspace(-9, -4, n_grid)\n",
    "mass_grid = np.linspace(5, 80, n_grid)\n",
    "m_c = lw.utils.chirp_mass(mass_grid * u.Msun, mass_grid * u.Msun)\n",
    "#M1, M2= np.meshgrid(mass_grid, mass_grid)\n",
    "E = np.zeros_like(mass_grid)"
   ]
  },
  {
   "cell_type": "code",
   "execution_count": null,
   "id": "4b256f61-0470-4c72-9d11-91dfe83ddae6",
   "metadata": {
    "scrolled": true,
    "tags": []
   },
   "outputs": [],
   "source": [
    "with MultiPool(processes=nproc) as pool:\n",
    "    dat_out = list(pool.map(get_LISA_norm_circular, zip(list(mass_grid), list(mass_grid), list(E))))\n"
   ]
  },
  {
   "cell_type": "code",
   "execution_count": null,
   "id": "773df2c4-e2a1-4549-b601-aec6e2984d7e",
   "metadata": {},
   "outputs": [],
   "source": [
    "V_c = []\n",
    "LIGO_rate_uniform = []\n",
    "LIGO_rate_iso_dyn_50 = []\n",
    "LIGO_rate_iso_dyn_80 = []\n",
    "LIGO_rate = []\n",
    "times = []\n",
    "ecc_evols = []\n",
    "f_orb_evols = []\n",
    "LISA_norms = []\n",
    "m1_evols = []\n",
    "m2_evols = []\n",
    "\n",
    "for d, m1, m2, e in tqdm.tqdm(zip(dat_out, mass_grid, mass_grid, E), total=len(mass_grid)):\n",
    "    f_orb_evol, ecc_evol, timesteps, LISA_norm = d\n",
    "    \n",
    "    LISA_norms.append(LISA_norm.to(u.yr/u.Hz))\n",
    "    times.append(timesteps)\n",
    "    ecc_evols.append(ecc_evol)\n",
    "    f_orb_evols.append(f_orb_evol)\n",
    "    m1_evols.append(m1 * np.ones(len(f_orb_evol)))\n",
    "    m2_evols.append(m2 * np.ones(len(f_orb_evol)))\n",
    "    LIGO_rate_uniform.append(get_LIGO_rate_uniform_e(m1, n_grid))\n",
    "    LIGO_rate_iso_dyn_50.append(get_LIGO_rate_iso_dyn(m1, e, frac_iso=0.5))\n",
    "    LIGO_rate_iso_dyn_80.append(get_LIGO_rate_iso_dyn(m1, e, frac_iso=0.8))\n",
    "    LIGO_rate.append(ligo_rate(m1))\n",
    "\n",
    "times = np.array(times)\n",
    "ecc_evols = np.array(ecc_evols)\n",
    "f_orb_evols = np.array(f_orb_evols)\n",
    "m1_evols = np.array(m1_evols)\n",
    "m2_evols = np.array(m2_evols)\n"
   ]
  },
  {
   "cell_type": "code",
   "execution_count": null,
   "id": "95c02988-948f-48f1-8930-f0f0664f6c26",
   "metadata": {},
   "outputs": [],
   "source": [
    "np.shape(m1_evols), np.shape(f_orb_evols)"
   ]
  },
  {
   "cell_type": "code",
   "execution_count": null,
   "id": "360c7516-bab3-4817-bfdb-d18df6605152",
   "metadata": {},
   "outputs": [],
   "source": [
    "source = lw.source.Source(m_1=m1_evols.flatten() * u.Msun,\n",
    "                          m_2=m2_evols.flatten() * u.Msun,\n",
    "                          ecc=ecc_evols.flatten(),\n",
    "                          f_orb=f_orb_evols.flatten() * u.Hz,\n",
    "                          dist=8 * np.ones(len(f_orb_evols.flatten())) * u.Mpc,\n",
    "                          interpolate_g=False,\n",
    "                          n_proc=1)\n",
    "snr = source.get_snr(approximate_R=True, verbose=True)\n",
    "D_h = snr/7 * 8 * u.Mpc\n",
    "redshift = np.ones(len(D_h)) * 1e-8\n",
    "redshift[D_h > 0.0001 * u.Mpc] = z_at_value(Planck18.luminosity_distance, D_h[D_h > 0.0001 * u.Mpc])\n",
    "V_c = Planck18.comoving_volume(z=redshift)\n"
   ]
  },
  {
   "cell_type": "code",
   "execution_count": null,
   "id": "824338ba-5f4a-4f97-9b76-e06b1db71476",
   "metadata": {},
   "outputs": [],
   "source": [
    "V_c_reshape = V_c.reshape(f_orb_evols.shape)\n",
    "SNR_reshape = snr.reshape(f_orb_evols.shape)"
   ]
  },
  {
   "cell_type": "code",
   "execution_count": null,
   "id": "384524bd-e089-402c-a679-e2ec962a8004",
   "metadata": {},
   "outputs": [],
   "source": [
    "np.shape(V_c_reshape), np.shape(LIGO_rate), np.shape(mass_grid), np.shape(f_orb_evols)"
   ]
  },
  {
   "cell_type": "code",
   "execution_count": null,
   "id": "0f7ebb69-0c64-4b7b-bf45-3ac8d74db635",
   "metadata": {},
   "outputs": [],
   "source": [
    "V_c_reshape"
   ]
  },
  {
   "cell_type": "code",
   "execution_count": null,
   "id": "8321ce0a-986a-4bba-a7ff-a7f634a06792",
   "metadata": {},
   "outputs": [],
   "source": [
    "for ii in range(len(mass_grid)):\n",
    "    plt.scatter(f_orb_evols[ii,:], np.ones(100) * m_c[ii], c=np.log10(V_c_reshape[ii,:].value), vmin=-13, vmax=10)\n",
    "    \n",
    "plt.xscale('log')\n",
    "plt.colorbar(label=r'comoving volume [Mpc$^3$]')\n",
    "plt.xlabel('orbital frequency')\n",
    "plt.ylabel(r'chirp mass [M$_{\\odot}$]; q=1')"
   ]
  },
  {
   "cell_type": "code",
   "execution_count": null,
   "id": "4f229c22-67c7-4aa7-bd8f-1eab1ee26bcb",
   "metadata": {},
   "outputs": [],
   "source": [
    "for ii in range(len(mass_grid)):\n",
    "    rate_per_freq = (V_c_reshape[ii,:] * LISA_norms[ii] * LIGO_rate[ii] * u.Gpc**(-3) * u.yr**(-1)).to(u.Hz**(-1))\n",
    "    \n",
    "    plt.scatter(f_orb_evols[ii,:], np.ones(100) * m_c[ii], \n",
    "                c=np.log10(rate_per_freq.value))\n",
    "    \n",
    "plt.xscale('log')\n",
    "plt.colorbar(label=r'rate per frequency [Hz$^{-1}$]')\n",
    "plt.xlabel('orbital frequency')\n",
    "plt.ylabel(r'chirp mass [M$_{\\odot}$]; q=1')"
   ]
  },
  {
   "cell_type": "code",
   "execution_count": null,
   "id": "4057a667-11b3-401f-b04c-8fba17f5539a",
   "metadata": {},
   "outputs": [],
   "source": [
    "rate = []\n",
    "for ii, m1, m2 in zip(range(len(mass_grid)), mass_grid, mass_grid):\n",
    "    f = f_orb_evols[ii, :]\n",
    "    v_c = V_c_reshape[ii, :]\n",
    "    snr = SNR_reshape[ii, :]\n",
    "    l_norm = LISA_norms[ii]\n",
    "    l_rate = LIGO_rate[ii] * u.Gpc**(-3) * u.yr**(-1)\n",
    "    rate.append(trapz(l_norm * v_c * l_rate.to(u.Mpc**(-3) * u.yr**(-1)), f * u.Hz).value)"
   ]
  },
  {
   "cell_type": "code",
   "execution_count": null,
   "id": "38dfc06b-840b-40c2-9c93-2b0cd094c004",
   "metadata": {},
   "outputs": [],
   "source": [
    "print(rate)"
   ]
  },
  {
   "cell_type": "code",
   "execution_count": null,
   "id": "3dfb7a9e-437d-4d84-8bc7-3e7ae9e2e266",
   "metadata": {},
   "outputs": [],
   "source": [
    "plt.scatter(m_c, rate)"
   ]
  },
  {
   "cell_type": "code",
   "execution_count": null,
   "id": "19443e8a-5468-41dd-8818-a7aaea705a65",
   "metadata": {},
   "outputs": [],
   "source": []
  },
  {
   "cell_type": "code",
   "execution_count": null,
   "id": "b150f509-8854-4c1b-a61c-ad134f9d4c2c",
   "metadata": {},
   "outputs": [],
   "source": [
    "f_orb_evols.flatten()[np.isnan(snr)]"
   ]
  },
  {
   "cell_type": "code",
   "execution_count": null,
   "id": "cd258d34-ae61-4702-aae4-f6f0ad226665",
   "metadata": {},
   "outputs": [],
   "source": [
    "fig, (ax1, ax2, ax3) = plt.subplots(1, 3, figsize=(16, 4))\n",
    "ax1.scatter(M_c, E, c=N_lisa_tot_uniform, s=M2, norm=colors.LogNorm())\n",
    "#print(np.sum(N_lisa_tot_uniform))\n",
    "ax1.set_title(f'N LISA {np.round(np.sum(N_lisa_tot_uniform), 4)}')\n",
    "ax2.scatter(M_c, E, c=N_lisa_tot_iso_dyn_50, s=M2, norm=colors.LogNorm())\n",
    "ax2.set_title(f'N LISA {np.round(np.sum(N_lisa_tot_iso_dyn_50), 4)}')\n",
    "c = ax3.scatter(M_c, E, c=N_lisa_tot_iso_dyn_80, s=M2, norm=colors.LogNorm())\n",
    "ax3.set_title(f'N LISA {np.round(np.sum(N_lisa_tot_iso_dyn_80), 4)}')\n",
    "ax1.set_yscale('log')\n",
    "ax2.set_yscale('log')\n",
    "ax3.set_yscale('log')\n",
    "ax1.set_xscale('log')\n",
    "ax2.set_xscale('log')\n",
    "ax3.set_xscale('log')\n",
    "\n",
    "plt.colorbar(c)    "
   ]
  },
  {
   "cell_type": "code",
   "execution_count": null,
   "id": "807d9696-0c75-4b6f-b81c-550084f81395",
   "metadata": {},
   "outputs": [],
   "source": [
    "plt.scatter(e_LIGO, N_lisa_tot_uniform)\n",
    "plt.xscale('log')\n",
    "plt.yscale('log')"
   ]
  },
  {
   "cell_type": "code",
   "execution_count": null,
   "id": "1e122a82-e408-4ce4-bc78-eeb89af77061",
   "metadata": {},
   "outputs": [],
   "source": [
    "sum(N_lisa_tot_uniform), sum(N_lisa_tot_iso_dyn_50), sum(N_lisa_tot_iso_dyn_80)"
   ]
  },
  {
   "cell_type": "code",
   "execution_count": null,
   "id": "bdef73b5-ccf5-4e1b-99e2-56f3e0a27a7d",
   "metadata": {},
   "outputs": [],
   "source": []
  },
  {
   "cell_type": "code",
   "execution_count": null,
   "id": "414341c3-f9f5-49cb-939b-68a64d12680b",
   "metadata": {},
   "outputs": [],
   "source": []
  }
 ],
 "metadata": {
  "kernelspec": {
   "display_name": "Python 3 (ipykernel)",
   "language": "python",
   "name": "python3"
  },
  "language_info": {
   "codemirror_mode": {
    "name": "ipython",
    "version": 3
   },
   "file_extension": ".py",
   "mimetype": "text/x-python",
   "name": "python",
   "nbconvert_exporter": "python",
   "pygments_lexer": "ipython3",
   "version": "3.10.4"
  }
 },
 "nbformat": 4,
 "nbformat_minor": 5
}
