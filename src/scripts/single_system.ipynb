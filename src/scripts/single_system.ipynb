{
 "cells": [
  {
   "cell_type": "code",
   "execution_count": null,
   "metadata": {},
   "outputs": [],
   "source": [
    "import numpy as np\n",
    "import matplotlib.pyplot as plt\n",
    "from matplotlib import colors\n",
    "import tqdm\n",
    "\n",
    "import legwork as lw\n",
    "import astropy.units as u\n",
    "import astropy.constants as c\n",
    "\n",
    "from scipy.integrate import cumulative_trapezoid, trapezoid\n",
    "from scipy.interpolate import interp1d\n",
    "\n",
    "from astropy.cosmology import Planck18, z_at_value\n",
    "\n",
    "from schwimmbad import MultiPool"
   ]
  },
  {
   "cell_type": "code",
   "execution_count": null,
   "metadata": {},
   "outputs": [],
   "source": [
    "m1 = 15 * u.Msun\n",
    "m2 = 10 * u.Msun\n",
    "f_LIGO = 10 * u.Hz\n",
    "a_LIGO = lw.utils.get_a_from_f_orb(f_orb=f_LIGO, m_1=m1, m_2=m2)\n",
    "e_LIGO_list = np.logspace(-8, -3, 15)\n",
    "\n",
    "e_LIGO_list = np.append(0.0, e_LIGO_list)\n",
    "\n",
    "LIGO_rate = 0.2*35 / (u.Gpc**(3) * u.yr)\n",
    "\n",
    "f_LISA_hi = 0.1 * u.Hz\n",
    "f_LISA_lo = 1e-5 * u.Hz\n",
    "n_LISA_step = 100\n",
    "f_LISA = np.logspace(np.log10(f_LISA_lo.value), np.log10(f_LISA_hi.value), n_LISA_step) * u.Hz"
   ]
  },
  {
   "cell_type": "code",
   "execution_count": null,
   "metadata": {},
   "outputs": [],
   "source": [
    "def get_LISA_params(m1, m2, e_LIGO, a_LIGO, n_LISA_step=100):\n",
    "    if e_LIGO > 0.0:\n",
    "        e_max = 0.99995\n",
    "        if e_LIGO >= 1e-3:\n",
    "            e_grid_steps = 10000\n",
    "        else:\n",
    "            e_grid_steps = 5000\n",
    "        e_grid = np.logspace(np.log10(e_LIGO), np.log10(e_max), e_grid_steps)\n",
    "        a_grid = lw.utils.get_a_from_ecc(e_grid, lw.utils.c_0(a_i=a_LIGO, ecc_i=e_LIGO))\n",
    "        log_a_interp = interp1d(a_grid.to(u.Rsun).value, e_grid)\n",
    "\n",
    "        f_LISA_grid = np.logspace(np.log10(f_LISA_hi.value), np.log10(f_LISA_lo.value), n_LISA_step)\n",
    "        a_LISA_grid = lw.utils.get_a_from_f_orb(m_1=m1, m_2=m2, f_orb=f_LISA_grid * u.Hz)\n",
    "        e_LISA_grid = log_a_interp(a_LISA_grid.to(u.Rsun).value)\n",
    "        t_merge_LISA_grid = lw.evol.get_t_merge_ecc(m_1=m1*np.ones(n_LISA_step), m_2=m2*np.ones(n_LISA_step), ecc_i=e_LISA_grid, a_i=a_LISA_grid, exact=True)\n",
    "        f_dot_orb_LISA_grid = lw.utils.fn_dot(m_c=lw.utils.chirp_mass(m_1=m1, m_2=m2), f_orb=f_LISA_grid*u.Hz, e=e_LISA_grid, n=1)\n",
    "\n",
    "\n",
    "    else:\n",
    "        f_LISA_grid = np.logspace(np.log10(f_LISA_hi.value), np.log10(f_LISA_lo.value), n_LISA_step)\n",
    "        t_merge_LISA_grid = lw.evol.get_t_merge_circ(m_1=m1, m_2=m2, f_orb_i=f_LISA_grid*u.Hz)\n",
    "        f_dot_orb_LISA_grid = lw.utils.fn_dot(m_c=lw.utils.chirp_mass(m_1=m1, m_2=m2), f_orb=f_LISA_grid*u.Hz, e=np.zeros(n_LISA_step), n=1)\n",
    "        e_LISA_grid = np.zeros(len(f_LISA_grid))\n",
    "\n",
    "    return [f_LISA_grid*u.Hz, e_LISA_grid, t_merge_LISA_grid, f_dot_orb_LISA_grid]#, t_evol]\n",
    "\n",
    "\n",
    "def get_peak_fGW(e, forb):\n",
    "    sum = -1.01678 * e + 5.57372 * e**2 - 4.9271 * e**3 + 1.68506*e**4\n",
    "    npeak = 2 * 1 + sum * (1-e**2)**(7/2)\n",
    "\n",
    "    return forb * npeak\n",
    "    "
   ]
  },
  {
   "cell_type": "code",
   "execution_count": null,
   "metadata": {},
   "outputs": [],
   "source": [
    "m1 = 40 * u.Msun\n",
    "m2 = 35 * u.Msun\n",
    "for e_LIGO in e_LIGO_list:\n",
    "    dat_out = get_LISA_params(m1, m2, e_LIGO, a_LIGO)\n",
    "    f_LISA_grid, e_LISA_grid, t_merge_LISA_grid, f_dot_orb_LISA_grid = dat_out\n",
    "    if e_LISA_grid.all() > 0.0:\n",
    "        plt.scatter(f_LISA_grid, e_LISA_grid)\n",
    "#plt.colorbar()\n",
    "plt.xscale('log')\n",
    "plt.yscale('log')\n",
    "plt.ylabel(r'$e_{\\mathrm{LISA}}$')\n",
    "plt.xlabel('orbital frequency [Hz]')\n",
    "plt.tight_layout()"
   ]
  },
  {
   "cell_type": "code",
   "execution_count": null,
   "metadata": {},
   "outputs": [],
   "source": [
    "for e_LIGO in e_LIGO_list:\n",
    "    dat_out = get_LISA_params(m1, m2, e_LIGO, a_LIGO)\n",
    "    f_LISA_grid, e_LISA_grid, t_merge_LISA_grid, f_dot_orb_LISA_grid = dat_out\n",
    "    if e_LISA_grid.all() == 0.0:\n",
    "        e_LISA_grid = np.ones(len(f_LISA_grid))*1e-10\n",
    "    plt.plot(f_LISA_grid, t_merge_LISA_grid.to(u.yr))\n",
    "plt.axhline(4, color='black', label='4 years')\n",
    "plt.legend()\n",
    "plt.xscale('log')\n",
    "plt.yscale('log')\n",
    "plt.xlim(5e-6, 0.5)\n",
    "plt.ylabel('merger time [yr]')\n",
    "plt.xlabel('orbital frequency [Hz]')\n",
    "plt.tight_layout()"
   ]
  },
  {
   "cell_type": "code",
   "execution_count": null,
   "metadata": {},
   "outputs": [],
   "source": [
    "from utils import dTmerger_df, chirp_mass"
   ]
  },
  {
   "cell_type": "code",
   "execution_count": null,
   "metadata": {},
   "outputs": [],
   "source": [
    "dat_all = np.load('horizon_dat.npy')\n",
    "M1, M2, E, F, D_horizon = dat_all"
   ]
  },
  {
   "cell_type": "code",
   "execution_count": null,
   "metadata": {},
   "outputs": [],
   "source": [
    "def get_horizon_from_interp(m1, m2, e, f_orb):\n",
    "    from scipy.interpolate import NearestNDInterpolator\n",
    "\n",
    "    ind_lo, = np.where(e <= 0.1)\n",
    "    ind_mid, = np.where((e > 0.1) & (e <= 0.5))\n",
    "    ind_mid_hi, = np.where((e > 0.5) & (e <= 0.7))\n",
    "    ind_hi, = np.where(e > 0.7)\n",
    "\n",
    "    inds = [ind_lo, ind_mid, ind_mid_hi, ind_hi]\n",
    "    fnames = ['horizon_dat_e_lo.npy', 'horizon_dat_e_mid.npy', \n",
    "              'horizon_dat_e_mid_hi.npy', 'horizon_dat_e_hi.npy',]\n",
    "\n",
    "    d_horizon = np.ones(len(m1))\n",
    "    \n",
    "    for ind, fname in zip(inds, fnames):\n",
    "        dat_all = np.load(fname)\n",
    "        M1, M2, E, F, D_horizon = dat_all\n",
    "        MC = chirp_mass(M1, M2)\n",
    "        interp = NearestNDInterpolator(\n",
    "            list(zip(M1.flatten(), M2.flatten(), F.flatten(), E.flatten())), D_horizon.flatten()\n",
    "        )\n",
    "    \n",
    "        mc = chirp_mass(m1[ind], m2[ind])\n",
    "    \n",
    "        d_horizon[ind] = interp(m1[ind], m2[ind], f_orb[ind], e[ind])\n",
    "    \n",
    "    return d_horizon * u.Mpc\n",
    "\n",
    "def get_horizon(m1, m2, e, f_orb):\n",
    "    source = lw.source.Source(m_1=m1,\n",
    "                              m_2=m2,\n",
    "                              ecc=e,\n",
    "                              f_orb=f_orb,\n",
    "                              dist=8 * u.Mpc,\n",
    "                              interpolate_g=False)\n",
    "\n",
    "    snr = source.get_snr(approximate_R=True, verbose=False)\n",
    "\n",
    "    snr_thresh = 12.0\n",
    "    d_horizon = snr / snr_thresh * 8 * u.Mpc\n",
    "\n",
    "    return d_horizon\n",
    "\n",
    "def get_e_LIGO(e_LISA, f_LISA, m1, m2):\n",
    "    e_grid_steps = 5000\n",
    "    a_LISA = lw.utils.get_a_from_f_orb(f_orb=f_LISA, m_1=m1, m_2=m2)\n",
    "    e_evol_grid = np.logspace(np.log10(1e-15), np.log10(e_LISA), e_grid_steps)\n",
    "    a_evol_grid = lw.utils.get_a_from_ecc(e_evol_grid, lw.utils.c_0(a_i=a_LISA, ecc_i=e_LISA))\n",
    "    log_a_interp = interp1d(a_evol_grid.to(u.Rsun).value, e_evol_grid)\n",
    "    a_LIGO = lw.utils.get_a_from_f_orb(f_orb=10 * u.Hz, m_1=m1, m_2=m2) \n",
    "    e_LIGO = log_a_interp(a_LIGO.to(u.Rsun).value)\n",
    "\n",
    "    return e_LIGO\n",
    "\n",
    "def get_T_LIGO(e_LISA, f_LISA, m1, m2):\n",
    "    beta = lw.utils.beta(m1, m2)\n",
    "    a_LISA = lw.utils.get_a_from_f_orb(f_orb=f_LISA, m_1=m1, m_2=m2)\n",
    "    Tc = a_LISA**4 / (4 * beta)\n",
    "\n",
    "    ecc_fac = (1 - e_LISA**2)**(7/2) * (1 + 0.27 * e_LISA**10 + 0.33 * e_LISA**20 + 0.2 * e_LISA**1000)\n",
    "    \n",
    "    return Tc * ecc_fac"
   ]
  },
  {
   "cell_type": "code",
   "execution_count": null,
   "metadata": {},
   "outputs": [],
   "source": [
    "m1 = 10 * u.Msun\n",
    "m2 = 10 * u.Msun\n",
    "\n",
    "e_LISA = np.logspace(-1, np.log10(0.9), 500)\n",
    "f_LISA = np.logspace(-5, -1, 100) * u.Hz\n",
    "\n",
    "EE, FF = np.meshgrid(e_LISA, f_LISA)\n",
    "print(np.shape(EE))\n",
    "print(np.shape(FF))"
   ]
  },
  {
   "cell_type": "code",
   "execution_count": null,
   "metadata": {},
   "outputs": [],
   "source": [
    "e_LIGO_at_f_LISA_e_LISA = []\n",
    "for f in tqdm.tqdm(f_LISA):\n",
    "    e_LIGO = []\n",
    "    for e in e_LISA:\n",
    "        e_LIGO.append(get_e_LIGO(e, f, m1, m2))\n",
    "    e_LIGO_at_f_LISA_e_LISA.append(e_LIGO)\n",
    "\n",
    "e_LIGO_at_f_LISA_e_LISA = np.vstack(e_LIGO_at_f_LISA_e_LISA)\n",
    "\n",
    "print(np.shape(e_LIGO_at_f_LISA_e_LISA))"
   ]
  },
  {
   "cell_type": "code",
   "execution_count": null,
   "metadata": {},
   "outputs": [],
   "source": [
    "T_LIGO_at_f_LISA_e_LISA = []\n",
    "for f in tqdm.tqdm(f_LISA):\n",
    "    \n",
    "    e_LIGO = []\n",
    "    for e in e_LISA:\n",
    "        e_LIGO.append(get_T_LIGO(e, f, m1, m2).to(u.yr).value)\n",
    "    T_LIGO_at_f_LISA_e_LISA.append(e_LIGO)\n",
    "\n",
    "T_LIGO_at_f_LISA_e_LISA = np.vstack(T_LIGO_at_f_LISA_e_LISA)\n",
    "\n",
    "print(np.shape(T_LIGO_at_f_LISA_e_LISA))"
   ]
  },
  {
   "cell_type": "code",
   "execution_count": null,
   "metadata": {},
   "outputs": [],
   "source": [
    "def get_de_LIGO_de_LISA(e_LIGO_at_f_LISA_e_LISA, f_LISA_ind, e_LISA_grid):\n",
    "    de_LIGO_de_LISA = np.gradient(e_LIGO_at_f_LISA_e_LISA[f_LISA_ind, :], e_LISA_grid)\n",
    "\n",
    "    return de_LIGO_de_LISA\n",
    "\n",
    "def get_de_LIGO_df_LISA(e_LIGO_at_f_LISA_e_LISA, e_LISA_ind, f_LISA_grid):\n",
    "    de_LIGO_df_LISA = np.gradient(e_LIGO_at_f_LISA_e_LISA[:, e_LISA_ind], f_LISA_grid)\n",
    "\n",
    "    return de_LIGO_df_LISA\n",
    "\n",
    "def get_dT_LIGO_de_LISA(T_LIGO_at_f_LISA_e_LISA, f_LISA_ind, e_LISA_grid):\n",
    "    dT_LIGO_de_LISA = np.gradient(T_LIGO_at_f_LISA_e_LISA[f_LISA_ind, :], e_LISA_grid)\n",
    "\n",
    "    return dT_LIGO_de_LISA\n",
    "\n",
    "def get_dT_LIGO_df_LISA(T_LIGO_at_f_LISA_e_LISA, e_LISA_ind, f_LISA_grid):\n",
    "    dT_LIGO_df_LISA = np.gradient(T_LIGO_at_f_LISA_e_LISA[:, e_LISA_ind], f_LISA_grid)\n",
    "\n",
    "    return dT_LIGO_df_LISA\n"
   ]
  },
  {
   "cell_type": "code",
   "execution_count": null,
   "metadata": {},
   "outputs": [],
   "source": [
    "de_LIGO_de_LISA = []\n",
    "for ii in range(len(f_LISA)):\n",
    "    de_LIGO_de_LISA.append(get_de_LIGO_de_LISA(e_LIGO_at_f_LISA_e_LISA, f_LISA_ind=ii, e_LISA_grid=e_LISA))\n",
    "\n",
    "de_LIGO_df_LISA = []\n",
    "for ii in range(len(e_LISA)):\n",
    "    de_LIGO_df_LISA.append(get_de_LIGO_df_LISA(e_LIGO_at_f_LISA_e_LISA, e_LISA_ind=ii, f_LISA_grid=f_LISA))\n"
   ]
  },
  {
   "cell_type": "code",
   "execution_count": null,
   "metadata": {},
   "outputs": [],
   "source": [
    "de_LIGO_de_LISA = np.vstack(de_LIGO_de_LISA)\n",
    "de_LIGO_df_LISA = np.vstack(de_LIGO_df_LISA).T"
   ]
  },
  {
   "cell_type": "code",
   "execution_count": null,
   "metadata": {},
   "outputs": [],
   "source": [
    "print(np.min(np.log10(de_LIGO_df_LISA.value)), np.max(np.log10(de_LIGO_df_LISA.value)))\n",
    "print(np.min(np.log10(de_LIGO_de_LISA)), np.max(np.log10(de_LIGO_de_LISA)))"
   ]
  },
  {
   "cell_type": "code",
   "execution_count": null,
   "metadata": {},
   "outputs": [],
   "source": [
    "fig, (ax1, ax2) = plt.subplots(1, 2, figsize=(12, 5))\n",
    "\n",
    "ax1.scatter(np.log10(FF.flatten().value), np.log10(EE.flatten()), c=np.log10(de_LIGO_de_LISA.flatten()), vmin = -6.5, vmax=3.2, s=1)\n",
    "p = ax2.scatter(np.log10(FF.flatten().value), np.log10(EE.flatten()), c=np.log10(de_LIGO_df_LISA.flatten().value), vmin = -6.5, vmax=3.2, s=1)\n",
    "#plt.colorbar(p)"
   ]
  },
  {
   "cell_type": "code",
   "execution_count": null,
   "metadata": {},
   "outputs": [],
   "source": [
    "dT_LIGO_de_LISA = []\n",
    "for ii in range(len(f_LISA)):\n",
    "    dT_LIGO_de_LISA.append(get_dT_LIGO_de_LISA(T_LIGO_at_f_LISA_e_LISA*u.yr, f_LISA_ind=ii, e_LISA_grid=e_LISA))\n",
    "\n",
    "dT_LIGO_df_LISA = []\n",
    "for ii in range(len(e_LISA)):\n",
    "    dT_LIGO_df_LISA.append(get_dT_LIGO_df_LISA(T_LIGO_at_f_LISA_e_LISA*u.yr, e_LISA_ind=ii, f_LISA_grid=f_LISA))\n"
   ]
  },
  {
   "cell_type": "code",
   "execution_count": null,
   "metadata": {},
   "outputs": [],
   "source": [
    "T_LIGO_at_f_LISA_e_LISA"
   ]
  },
  {
   "cell_type": "code",
   "execution_count": null,
   "metadata": {},
   "outputs": [],
   "source": [
    "dT_LIGO_de_LISA = np.vstack(dT_LIGO_de_LISA)\n",
    "dT_LIGO_df_LISA = np.vstack(dT_LIGO_df_LISA).T"
   ]
  },
  {
   "cell_type": "code",
   "execution_count": null,
   "metadata": {},
   "outputs": [],
   "source": [
    "dT_LIGO_df_LISA"
   ]
  },
  {
   "cell_type": "code",
   "execution_count": null,
   "metadata": {},
   "outputs": [],
   "source": [
    "dT_check = dTmerger_df(m1, m2, FF.flatten(), EE.flatten()).to(u.Hz**(-2))\n",
    "dT_check = dT_check.reshape(len(f_LISA), len(e_LISA))\n",
    "\n",
    "np.shape(de_LIGO_de_LISA), np.shape(dT_check), np.shape(dT_LIGO_df_LISA)"
   ]
  },
  {
   "cell_type": "code",
   "execution_count": null,
   "metadata": {},
   "outputs": [],
   "source": [
    "plt.plot(f_LISA, np.abs(dT_LIGO_df_LISA[:,0].to(u.Hz**(-2))))\n",
    "plt.plot(f_LISA, np.abs(dT_check[:,0].to(u.Hz**(-2))))\n",
    "plt.xscale('log')\n",
    "plt.yscale('log')"
   ]
  },
  {
   "cell_type": "markdown",
   "metadata": {},
   "source": [
    "### YASSSS They are exactamundo the same. "
   ]
  },
  {
   "cell_type": "code",
   "execution_count": null,
   "metadata": {},
   "outputs": [],
   "source": [
    "print(np.min(dT_LIGO_df_LISA), np.max(dT_LIGO_df_LISA))"
   ]
  },
  {
   "cell_type": "code",
   "execution_count": null,
   "metadata": {},
   "outputs": [],
   "source": [
    "np.min(dT_LIGO_de_LISA), np.max(dT_LIGO_de_LISA)"
   ]
  },
  {
   "cell_type": "code",
   "execution_count": null,
   "metadata": {},
   "outputs": [],
   "source": [
    "from matplotlib import colors"
   ]
  },
  {
   "cell_type": "code",
   "execution_count": null,
   "metadata": {},
   "outputs": [],
   "source": [
    "jacobian = dT_LIGO_de_LISA * de_LIGO_df_LISA - dT_check*de_LIGO_de_LISA"
   ]
  },
  {
   "cell_type": "code",
   "execution_count": null,
   "metadata": {},
   "outputs": [],
   "source": [
    "np.min(jacobian), np.max(jacobian)"
   ]
  },
  {
   "cell_type": "code",
   "execution_count": null,
   "metadata": {},
   "outputs": [],
   "source": [
    "ind, = np.where(jacobian.flatten() < 0)"
   ]
  },
  {
   "cell_type": "code",
   "execution_count": null,
   "metadata": {},
   "outputs": [],
   "source": [
    "print(EE.flatten()[ind])\n",
    "print(FF.flatten()[ind])"
   ]
  },
  {
   "cell_type": "code",
   "execution_count": null,
   "metadata": {},
   "outputs": [],
   "source": [
    "plt.scatter(FF.flatten()[ind], EE.flatten()[ind])\n",
    "plt.xscale('log')"
   ]
  },
  {
   "cell_type": "code",
   "execution_count": null,
   "metadata": {},
   "outputs": [],
   "source": [
    "plt.scatter(FF.flatten(), EE.flatten(), c=np.abs(jacobian.value), norm=colors.LogNorm(), s=5, marker='s')\n",
    "plt.xscale('log')\n",
    "plt.yscale('log')\n",
    "plt.colorbar()"
   ]
  },
  {
   "cell_type": "code",
   "execution_count": null,
   "metadata": {},
   "outputs": [],
   "source": [
    "plt.scatter(FF.flatten(), EE.flatten(), c=e_LIGO_at_f_LISA_e_LISA, norm=colors.LogNorm())\n",
    "plt.xscale('log')\n",
    "plt.yscale('log')\n",
    "plt.colorbar()"
   ]
  },
  {
   "cell_type": "code",
   "execution_count": null,
   "metadata": {},
   "outputs": [],
   "source": [
    "for ii in range(0,len(f_LISA),20):\n",
    "    plt.plot(e_LISA[:499], jacobian[ii,:499], label=f'log f={np.round(np.log10(f_LISA[ii].to(u.Hz).value), 2)}')\n",
    "plt.xscale('log')\n",
    "plt.yscale('log')\n",
    "plt.legend(ncol=3, prop={'size':15}, loc=[0.0, 1.01])\n",
    "plt.ylabel('jacobian at different frequencies')\n",
    "plt.xlabel('eccentricity')"
   ]
  },
  {
   "cell_type": "code",
   "execution_count": null,
   "metadata": {},
   "outputs": [],
   "source": [
    "for ii in range(0,len(e_LISA),50):\n",
    "    plt.plot(f_LISA[:99], jacobian[:99,ii], label=f'log e={np.round(np.log10(e_LISA[ii]), 2)}')\n",
    "plt.xscale('log')\n",
    "plt.yscale('log')\n",
    "plt.legend(ncol=3, prop={'size':15}, loc=[0.0, 1.01])\n",
    "plt.ylabel('jacobian at different eccentricities')\n",
    "plt.xlabel('frequency')"
   ]
  },
  {
   "cell_type": "code",
   "execution_count": null,
   "metadata": {},
   "outputs": [],
   "source": [
    "def get_Vc_Dh(dat_in):\n",
    "    m1, m2, e, f = dat_in\n",
    "    m_1 = m1\n",
    "    m_2 = m1\n",
    "    d_h = get_horizon(m_1, m_2, ee, ff)\n",
    "    \n",
    "    #Calculate the comoving volume based on the horizon distance + cosmology if necessary\n",
    "    if d_h > 10*u.kpc:\n",
    "        redshift = z_at_value(Planck18.luminosity_distance, d_h)\n",
    "        V_c = Planck18.comoving_volume(z=redshift)\n",
    "    else:\n",
    "        V_c = 4/3 * np.pi * d_h**3  \n",
    "\n",
    "    return [d_h, V_c]\n",
    "\n",
    "dat_in = []\n",
    "for ee, ff in zip(EE.flatten(), FF.flatten()):\n",
    "    dat_in.append([m1, m2, ee, ff])\n"
   ]
  },
  {
   "cell_type": "code",
   "execution_count": null,
   "metadata": {},
   "outputs": [],
   "source": [
    "with MultiPool(processes=4) as pool:\n",
    "    dat_out = list(tqdm.tqdm(pool.imap(get_Vc_Dh, dat_in), total=len(dat_in)))"
   ]
  },
  {
   "cell_type": "code",
   "execution_count": null,
   "metadata": {},
   "outputs": [],
   "source": [
    "    dNdfdMcdVc = 1 * jj\n",
    "    ax2.plot(f_LISA_grid, cumulative_trapezoid(dNdfdMcdVc, -f_LISA_grid, initial=0), label=f'e10={e_LIGO}, N={np.round(trapezoid(dNdfdMcdVc, -f_LISA_grid), 2)}')\n",
    "    ax1.plot(f_LISA_grid, dNdfdMcdVc, label=f'e10={e_LIGO}, N={np.round(trapezoid(dNdfdMcdVc, -f_LISA_grid), 2)}')\n",
    "    ax3.plot(f_LISA_grid, d_horizon)\n",
    "    print(e_LIGO, trapezoid(dNdfdMcdVc, -f_LISA_grid), trapezoid(dNdfdMcdVc * V_c.to(u.Gpc**3), -f_LISA_grid))\n",
    "\n",
    "# !!!! check the slope for increasing eccentricity\n",
    "    \n",
    "ax1.set_xscale('log')\n",
    "ax2.set_xscale('log')\n",
    "ax3.set_xscale('log')\n",
    "ax1.set_yscale('log')\n",
    "ax2.set_yscale('log')\n",
    "ax3.set_yscale('log')\n",
    "\n",
    "ax2.set_ylabel('dN/dVcdMc', size=14)\n",
    "ax1.set_ylabel('dN/dfdVcdMc', size=14)\n",
    "ax3.set_ylabel('Vc [Gpc$^3$]', size=14)\n",
    "ax1.set_xlabel('frequency [Hz]', size=14)\n",
    "ax2.set_xlabel('frequency [Hz]', size=14)\n",
    "ax3.set_xlabel('frequency [Hz]', size=14)\n",
    "ax1.legend(prop={'size' : 12})\n",
    "plt.tight_layout()\n",
    "\n"
   ]
  },
  {
   "cell_type": "code",
   "execution_count": null,
   "metadata": {},
   "outputs": [],
   "source": [
    "f_mask =(f_LISA_grid>0.025*u.Hz) & (f_LISA_grid < 0.045 * u.Hz)\n",
    "print(d_horizon[f_mask])\n",
    "print(t_merge_LISA_grid[f_mask].to(u.yr))\n",
    "#print(e_LISA_grid[f_mask])\n",
    "print(snr[f_mask])\n",
    "print(e_LIGO, trapz(dNdfdMc, -f_LISA_grid))"
   ]
  },
  {
   "cell_type": "code",
   "execution_count": null,
   "metadata": {},
   "outputs": [],
   "source": [
    "import numpy as np\n",
    "import matplotlib.pyplot as plt\n",
    "import legwork as lw\n",
    "import astropy.units as u\n",
    "from scipy.interpolate import interp1d\n",
    "from astropy.cosmology import Planck18, z_at_value\n",
    "from scipy.integrate import trapz\n",
    "import paths\n",
    "import tqdm\n",
    "\n",
    "def ligo_rate(m1):\n",
    "    dat = np.array([[3.705799151343708, 0.001087789470121345],\n",
    "                   [4.384724186704389, 0.00984816875074369],\n",
    "                   [5.063649222065067, 0.06979974252228799],\n",
    "                   [5.827439886845831, 0.41173514594201527],\n",
    "                   [6.506364922206512, 1.3579705933006465],\n",
    "                   [6.845827439886847, 2.148948034692836],\n",
    "                   [7.77934936350778, 2.7449738151212433],\n",
    "                   [8.543140028288544, 2.6218307403757986],\n",
    "                   [9.561527581329564, 2.0525434471508692],\n",
    "                   [11.173974540311175, 1.2388629239937763],\n",
    "                   [12.701555869872706, 0.7828664968878465],\n",
    "                   [14.398868458274404, 0.4947116747780942],\n",
    "                   [16.859971711456865, 0.2895969742197884],\n",
    "                   [19.66053748231967, 0.17748817964452962],\n",
    "                   [22.206506364922213, 0.12773570001722281],\n",
    "                   [24.837340876944843, 0.10389898279212807],\n",
    "                   [27.722772277227726, 0.1087789470121345],\n",
    "                   [30.183875530410184, 0.13070104796093673],\n",
    "                   [32.729844413012735, 0.16441704701060267],\n",
    "                   [34.85148514851486, 0.16695189854274867],\n",
    "                   [37.397454031117405, 0.12107555776371784],\n",
    "                   [39.26449787835927, 0.08010405199404155],\n",
    "                   [41.30127298444131, 0.049851062445855264],\n",
    "                   [43.592644978783596, 0.029631988560550687],\n",
    "                   [45.629420084865636, 0.018440841322693136],\n",
    "                   [48.0905233380481, 0.011832859313068754],\n",
    "                   [50.891089108910904, 0.007949361111716631],\n",
    "                   [53.77652050919379, 0.005764973856945108],\n",
    "                   [57.25601131541727, 0.0043438393396653925],\n",
    "                   [61.923620933521946, 0.0032730313574784275],\n",
    "                   [66.67609618104669, 0.0024851284269805634],\n",
    "                   [70.66478076379069, 0.002068305171949823],\n",
    "                   [74.82319660537483, 0.0016952583040389245],\n",
    "                   [78.72701555869875, 0.0013476220436441713],\n",
    "                   [81.27298444130128, 0.0010389898279212807]])\n",
    "    \n",
    "    mass = dat[:,0]\n",
    "    rate = dat[:,1]\n",
    "    interp_rate = interp1d(mass, rate)\n",
    "    \n",
    "    return interp_rate(m1)\n",
    "\n",
    "# set up the grids\n",
    "masses = np.arange(5, 80, 5.0)\n",
    "m_c = lw.utils.chirp_mass(masses, masses)\n",
    "\n",
    "# set up bins\n",
    "delta_m = np.mean(masses[1:] - masses[:-1])/2\n",
    "mass_bins = np.arange(min(masses) - delta_m, max(masses) + 3 * delta_m, 2*delta_m)\n",
    "masses = masses * u.Msun\n",
    "mass_bins = mass_bins * u.Msun\n",
    "#ecc_bins = [5e-5, 4e-5, 3e-5, 2e-5, 1e-5, 1e-6, 1e-7,1e-8, 0.0]\n",
    "#ecc_bins = [1e-10]\n",
    "ecc_bins = np.logspace(-4.2, -9, 10)\n",
    "\n",
    "## get the meshgrid\n",
    "#MASS, ECC = np.meshgrid(masses, ecc_bins)\n",
    "#MC = lw.utils.chirp_mass(MASS, MASS)\n",
    "#RATE = ligo_rate(MASS.flatten().value)\n",
    "#RATE = RATE.reshape(MC.shape) * u.Gpc**(-3) * u.yr**(-1) * u.Msun**(-1)\n",
    "snr_thresh = 7\n",
    "dNdMc_ecc_2 = []\n",
    "for e_LIGO in ecc_bins:\n",
    "    dNdMc = []\n",
    "    RATE = ligo_rate(masses) * u.Gpc**(-3) * u.hr**(-1) * u.Msun**(-1)\n",
    "    for m1, m2, LR in zip(masses, masses, RATE):\n",
    "        a_LIGO = lw.utils.get_a_from_f_orb(m_1=m1, m_2=m2, f_orb = 10 * u.Hz)\n",
    "        dat_out = get_LISA_params(m1, m2, e_LIGO, a_LIGO)\n",
    "        #f_LISA_grid*u.Hz, e_LISA_grid, t_merge_LISA_grid, f_dot_orb_LISA_grid, t_evol\n",
    "        f_LISA_grid, e_LISA_grid, t_merge_LISA_grid, f_dot_orb_LISA_grid, t_evol = dat_out\n",
    "        print(np.max(e_LISA_grid))\n",
    "        s = source = lw.source.Source(m_1=m1*np.ones(len(e_LISA_grid)),\n",
    "                                      m_2=m2*np.ones(len(e_LISA_grid)),\n",
    "                                      ecc=e_LISA_grid,\n",
    "                                      f_orb=f_LISA_grid,\n",
    "                                      dist=8 * np.ones(len(e_LISA_grid)) * u.Mpc,\n",
    "                                      interpolate_g=False)\n",
    "        snr = s.get_snr()\n",
    "        d_horizon = np.ones(len(e_LISA_grid))* 8 * u.Mpc * snr/snr_thresh\n",
    "        horizon_mask = d_horizon > 0.001 * u.Mpc\n",
    "        horizon_comoving_volume = 4/3 * np.pi * d_horizon**3\n",
    "        redshift = np.zeros(len(e_LISA_grid))\n",
    "        redshift[horizon_mask] = z_at_value(Planck18.luminosity_distance, d_horizon[horizon_mask])\n",
    "        horizon_comoving_volume[horizon_mask] = Planck18.comoving_volume(z=redshift[horizon_mask])\n",
    "        f_dot_orb_LISA_grid = lw.utils.fn_dot(m_c = lw.utils.chirp_mass(m1, m2), e=e_LISA_grid, n=1, f_orb=f_LISA_grid)\n",
    "        dNdMc.append(trapz(LR / f_dot_orb_LISA_grid * horizon_comoving_volume.to(u.Gpc**3), -f_LISA_grid).value)\n",
    "    dNdMc_ecc_2.append(dNdMc)\n",
    "dNdMc = np.array(dNdMc_ecc_2[0])\n",
    "        \n",
    "N_LISA_obs=trapz(dNdMc * u.Msun**(-1), masses)\n",
    "print(N_LISA_obs)\n",
    "fig, ax = plt.subplots(figsize=(6, 4))\n",
    "ax.plot(masses, dNdMc, lw=3, label=r\"LISA\")\n",
    "ax.set_yscale('log')\n",
    "#ax.plot(masses, ligo_rate(masses)/45, lw=2, label=r\"LIGO\")\n",
    "plt.legend(prop={\"size\":14})\n",
    "plt.tick_params('both', labelsize=12)\n",
    "plt.minorticks_on()\n",
    "ax.set_xlabel('mass [Msun]', size=16)\n",
    "ax.set_ylabel('p(M) [M$_{\\odot}^{-1}$]', size=16)\n",
    "plt.tight_layout()\n",
    "plt.savefig(paths.figures / 'fig1.png', facecolor='white', dpi=100)\n"
   ]
  },
  {
   "cell_type": "code",
   "execution_count": null,
   "metadata": {},
   "outputs": [],
   "source": [
    "N_LISA_obs = []\n",
    "for ii in range(len(ecc_bins)):\n",
    "    dNdMc = np.array(dNdMc_ecc_2[ii])\n",
    "    plt.plot(masses, dNdMc, label=np.round(ecc_bins[ii], 10), lw=10-ii)\n",
    "    N_LISA_obs.append(trapz(dNdMc * u.Msun**(-1), masses))\n",
    "\n",
    "    print(ecc_bins[ii], N_LISA_obs)\n",
    "plt.yscale('log')\n",
    "plt.legend()"
   ]
  },
  {
   "cell_type": "code",
   "execution_count": null,
   "metadata": {},
   "outputs": [],
   "source": [
    "plt.plot(ecc_bins, N_LISA_obs)\n",
    "plt.scatter(ecc_bins, N_LISA_obs)\n",
    "plt.xscale('log')"
   ]
  },
  {
   "cell_type": "code",
   "execution_count": null,
   "metadata": {},
   "outputs": [],
   "source": []
  }
 ],
 "metadata": {
  "kernelspec": {
   "display_name": "Python 3 (ipykernel)",
   "language": "python",
   "name": "python3"
  },
  "language_info": {
   "codemirror_mode": {
    "name": "ipython",
    "version": 3
   },
   "file_extension": ".py",
   "mimetype": "text/x-python",
   "name": "python",
   "nbconvert_exporter": "python",
   "pygments_lexer": "ipython3",
   "version": "3.10.14"
  }
 },
 "nbformat": 4,
 "nbformat_minor": 4
}
