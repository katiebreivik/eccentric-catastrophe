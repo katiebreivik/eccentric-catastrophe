{
 "cells": [
  {
   "cell_type": "code",
   "execution_count": 1,
   "id": "8f0982b8-4b8f-48a4-a037-2aaa0d1b047b",
   "metadata": {},
   "outputs": [],
   "source": [
    "import numpy as np\n",
    "import matplotlib.pyplot as plt\n",
    "import legwork as lw\n",
    "import astropy.units as u\n",
    "import tqdm\n",
    "from astropy.cosmology import Planck18, z_at_value\n",
    "from scipy.integrate import trapz, cumtrapz\n",
    "from schwimmbad import MultiPool\n",
    "from utils import get_LISA_norm, get_LISA_norm_circular, dg_de\n",
    "from scipy.interpolate import interp1d"
   ]
  },
  {
   "cell_type": "code",
   "execution_count": 2,
   "id": "5b19a8ae-692c-4cc2-b50f-cb1c46049f8c",
   "metadata": {},
   "outputs": [],
   "source": [
    "def get_LIGO_rate_uniform_e(m1, n_e_bins):\n",
    "    if m1 < 20:\n",
    "        rate = 23.6 / n_e_bins * u.Gpc**(-3) * u.yr**(-1)\n",
    "    elif m1 < 50:\n",
    "        rate = 4.5 / n_e_bins * u.Gpc**(-3) * u.yr**(-1)\n",
    "    elif m1 <= 100:\n",
    "        rate = 0.2 / n_e_bins * u.Gpc**(-3) * u.yr**(-1)\n",
    "        \n",
    "    return rate\n",
    "        \n",
    "    \n",
    "def get_LIGO_rate_iso_dyn(m1, e, frac_iso):\n",
    "    if m1 < 20:\n",
    "        if e < 1e-6:\n",
    "            rate = 20 * frac_iso * u.Gpc**(-3) * u.yr**(-1)\n",
    "        else:\n",
    "            rate = 20 * (1-frac_iso) * u.Gpc**(-3) * u.yr**(-1)\n",
    "    elif m1 < 50:\n",
    "        if e < 1e-6:\n",
    "            rate = 4.5 * frac_iso * u.Gpc**(-3) * u.yr**(-1)\n",
    "        else:\n",
    "            rate = 4.5 * (1-frac_iso) * u.Gpc**(-3) * u.yr**(-1)\n",
    "    elif m1 <= 100:\n",
    "        if e < 1e-6:\n",
    "            rate = 0.2 * frac_iso * u.Gpc**(-3) * u.yr**(-1)\n",
    "        else:\n",
    "            rate = 0.2 * (1-frac_iso) * u.Gpc**(-3) * u.yr**(-1)\n",
    "        \n",
    "    return rate\n",
    "\n",
    "def ligo_rate(m1):\n",
    "    dat = np.array([[3.705799151343708, 0.001087789470121345],\n",
    "                   [4.384724186704389, 0.00984816875074369],\n",
    "                   [5.063649222065067, 0.06979974252228799],\n",
    "                   [5.827439886845831, 0.41173514594201527],\n",
    "                   [6.506364922206512, 1.3579705933006465],\n",
    "                   [6.845827439886847, 2.148948034692836],\n",
    "                   [7.77934936350778, 2.7449738151212433],\n",
    "                   [8.543140028288544, 2.6218307403757986],\n",
    "                   [9.561527581329564, 2.0525434471508692],\n",
    "                   [11.173974540311175, 1.2388629239937763],\n",
    "                   [12.701555869872706, 0.7828664968878465],\n",
    "                   [14.398868458274404, 0.4947116747780942],\n",
    "                   [16.859971711456865, 0.2895969742197884],\n",
    "                   [19.66053748231967, 0.17748817964452962],\n",
    "                   [22.206506364922213, 0.12773570001722281],\n",
    "                   [24.837340876944843, 0.10389898279212807],\n",
    "                   [27.722772277227726, 0.1087789470121345],\n",
    "                   [30.183875530410184, 0.13070104796093673],\n",
    "                   [32.729844413012735, 0.16441704701060267],\n",
    "                   [34.85148514851486, 0.16695189854274867],\n",
    "                   [37.397454031117405, 0.12107555776371784],\n",
    "                   [39.26449787835927, 0.08010405199404155],\n",
    "                   [41.30127298444131, 0.049851062445855264],\n",
    "                   [43.592644978783596, 0.029631988560550687],\n",
    "                   [45.629420084865636, 0.018440841322693136],\n",
    "                   [48.0905233380481, 0.011832859313068754],\n",
    "                   [50.891089108910904, 0.007949361111716631],\n",
    "                   [53.77652050919379, 0.005764973856945108],\n",
    "                   [57.25601131541727, 0.0043438393396653925],\n",
    "                   [61.923620933521946, 0.0032730313574784275],\n",
    "                   [66.67609618104669, 0.0024851284269805634],\n",
    "                   [70.66478076379069, 0.002068305171949823],\n",
    "                   [74.82319660537483, 0.0016952583040389245],\n",
    "                   [78.72701555869875, 0.0013476220436441713],\n",
    "                   [81.27298444130128, 0.0010389898279212807]])\n",
    "    \n",
    "    mass = dat[:,0]\n",
    "    rate = dat[:,1]\n",
    "    interp_rate = interp1d(mass, rate)\n",
    "    \n",
    "    return interp_rate(m1)"
   ]
  },
  {
   "cell_type": "code",
   "execution_count": 6,
   "id": "0611bdfe-0c63-4a35-b7ba-f2bb5baa7796",
   "metadata": {},
   "outputs": [
    {
     "data": {
      "text/plain": [
       "array([1.28402542, 1.47534062, 1.62598065, 1.75261877, 1.86306359,\n",
       "       1.96169623, 2.05125619, 2.13358621, 2.20999315, 2.28144177,\n",
       "       2.34866717, 2.41224393, 2.47263079, 2.53020051, 2.58526064,\n",
       "       2.63806823, 2.68884061, 2.73776334, 2.78499632, 2.83067838,\n",
       "       2.87493096, 2.91786094, 2.95956298, 3.00012131, 3.03961131,\n",
       "       3.07810068, 3.11565052, 3.15231616, 3.18814791, 3.22319162,\n",
       "       3.25748926, 3.29107931, 3.3239972 , 3.35627558, 3.38794464,\n",
       "       3.41903234, 3.44956467, 3.47956578, 3.50905819, 3.53806295,\n",
       "       3.56659972, 3.59468694, 3.62234191, 3.64958088, 3.67641917,\n",
       "       3.70287118, 3.72895053, 3.75467008, 3.78004197, 3.80507773,\n",
       "       3.82978828, 3.85418397, 3.87827465, 3.90206969, 3.92557797,\n",
       "       3.948808  , 3.97176786, 3.99446528, 4.01690763, 4.03910195,\n",
       "       4.06105499, 4.08277321, 4.10426277, 4.12552962, 4.14657942,\n",
       "       4.16741764, 4.18804952, 4.20848008, 4.22871416, 4.24875644,\n",
       "       4.26861138, 4.2882833 , 4.30777637, 4.32709459, 4.34624184,\n",
       "       4.36522184, 4.38403821, 4.40269442, 4.42119384, 4.43953973,\n",
       "       4.45773522, 4.47578337, 4.49368713, 4.51144934, 4.52907277,\n",
       "       4.5465601 , 4.56391393, 4.58113677, 4.59823108, 4.61519923,\n",
       "       4.6320435 , 4.64876615, 4.66536935, 4.6818552 , 4.69822575,\n",
       "       4.71448301, 4.73062891, 4.74666534, 4.76259413])"
      ]
     },
     "execution_count": 6,
     "metadata": {},
     "output_type": "execute_result"
    }
   ],
   "source": [
    "np.exp(cumtrapz(dg_de(np.linspace(0.0001, 0.01, 100), np.zeros(100)), np.linspace(0.0001, 0.01, 100)))"
   ]
  },
  {
   "cell_type": "code",
   "execution_count": 5,
   "id": "c1e8e3ee-8072-4fd5-9e9e-79e9bcfe3d26",
   "metadata": {},
   "outputs": [
    {
     "data": {
      "text/plain": [
       "array([0.02327731, 0.04655463, 0.06983194, 0.09310925, 0.11638656,\n",
       "       0.13966388, 0.16294119, 0.1862185 , 0.20949581, 0.23277313,\n",
       "       0.25605044, 0.27932775, 0.30260506, 0.32588238, 0.34915969,\n",
       "       0.372437  , 0.39571431, 0.41899163, 0.44226894, 0.46554625,\n",
       "       0.48882356, 0.51210088, 0.53537819, 0.5586555 , 0.58193281,\n",
       "       0.60521013, 0.62848744, 0.65176475, 0.67504206, 0.69831938,\n",
       "       0.72159669, 0.744874  , 0.76815131, 0.79142863, 0.81470594,\n",
       "       0.83798325, 0.86126056, 0.88453788, 0.90781519, 0.9310925 ,\n",
       "       0.95436981, 0.97764713, 1.00092444, 1.02420175, 1.04747906,\n",
       "       1.07075638, 1.09403369, 1.117311  , 1.14058831, 1.16386563,\n",
       "       1.18714294, 1.21042025, 1.23369756, 1.25697488, 1.28025219,\n",
       "       1.3035295 , 1.32680681, 1.35008413, 1.37336144, 1.39663875,\n",
       "       1.41991606, 1.44319338, 1.46647069, 1.489748  , 1.51302531,\n",
       "       1.53630263, 1.55957994, 1.58285725, 1.60613456, 1.62941188,\n",
       "       1.65268919, 1.6759665 , 1.69924381, 1.72252113, 1.74579844,\n",
       "       1.76907575, 1.79235306, 1.81563038, 1.83890769, 1.862185  ,\n",
       "       1.88546231, 1.90873963, 1.93201694, 1.95529425, 1.97857156,\n",
       "       2.00184888, 2.02512619, 2.0484035 , 2.07168081, 2.09495813,\n",
       "       2.11823544, 2.14151275, 2.16479006, 2.18806738, 2.21134469,\n",
       "       2.234622  , 2.25789931, 2.28117663, 2.30445394])"
      ]
     },
     "execution_count": 5,
     "metadata": {},
     "output_type": "execute_result"
    }
   ],
   "source": [
    "cumtrapz(dg_de(np.logspace(-4, -1, 100), np.zeros(100)), np.logspace(-4, -1, 100))"
   ]
  },
  {
   "cell_type": "code",
   "execution_count": null,
   "id": "8934cac6-1466-4092-9aec-19acb20ff62a",
   "metadata": {},
   "outputs": [],
   "source": []
  },
  {
   "cell_type": "code",
   "execution_count": null,
   "id": "00694225-04f3-4f7e-a283-1c650c3fbfeb",
   "metadata": {},
   "outputs": [],
   "source": []
  },
  {
   "cell_type": "markdown",
   "id": "9b3e0969-f3bf-48f7-84dc-ddfafca33bed",
   "metadata": {
    "tags": []
   },
   "source": [
    "## Let's do the whole ecc story"
   ]
  },
  {
   "cell_type": "code",
   "execution_count": null,
   "id": "ba8232d4-0cb6-448e-a92f-1d20498467de",
   "metadata": {},
   "outputs": [],
   "source": [
    "n_grid = 5\n",
    "\n",
    "e_grid = np.logspace(-9, -4, n_grid)\n",
    "mass1_grid = np.linspace(5, 80, n_grid)\n",
    "mass2_grid = np.linspace(5, 80, n_grid)\n",
    "M1, M2, E = np.meshgrid(mass1_grid, mass2_grid, e_grid)\n",
    "\n",
    "mass_ratio_mask = M1 > M2\n",
    "\n",
    "M1 = M1[mass_ratio_mask].flatten()\n",
    "M2 = M2[mass_ratio_mask].flatten()\n",
    "E = E[mass_ratio_mask].flatten()\n"
   ]
  },
  {
   "cell_type": "code",
   "execution_count": null,
   "id": "bcdbabc9-3ed8-446d-bf37-96253151a074",
   "metadata": {},
   "outputs": [],
   "source": [
    "nproc=36"
   ]
  },
  {
   "cell_type": "code",
   "execution_count": null,
   "id": "05b3ecea-8f10-45fa-8c84-c3cd76edfd34",
   "metadata": {},
   "outputs": [],
   "source": [
    "print(len(M1))"
   ]
  },
  {
   "cell_type": "code",
   "execution_count": null,
   "id": "7586f61e-6cee-4dcc-baf4-a379e1bac7e6",
   "metadata": {},
   "outputs": [],
   "source": [
    "with MultiPool(processes=nproc) as pool:\n",
    "    dat_out = list(pool.map(get_LISA_norm, zip(M1, M2, E)))\n"
   ]
  },
  {
   "cell_type": "code",
   "execution_count": null,
   "id": "915c34cb-474b-4cf7-b4be-8b2bbd40858c",
   "metadata": {},
   "outputs": [],
   "source": [
    "V_c = []\n",
    "LIGO_rate_uniform = []\n",
    "LIGO_rate_iso_dyn_50 = []\n",
    "LIGO_rate_iso_dyn_80 = []\n",
    "times = []\n",
    "ecc_evols = []\n",
    "f_orb_evols = []\n",
    "LISA_norms = []\n",
    "for d, m1, m2, e in tqdm.tqdm(zip(dat_out, M1, M2, E), total=len(M1)):\n",
    "    f_orb_evol, ecc_evol, timesteps, LISA_norm = d\n",
    "    \n",
    "    LISA_norms.append(LISA_norm)\n",
    "    times.append(timesteps)\n",
    "    ecc_evols.append(ecc_evol)\n",
    "    f_orb_evols.append(f_orb_evol)\n",
    "    \n",
    "    source = lw.source.Source(m_1=m1 * np.ones(len(f_orb_evol)) * u.Msun,\n",
    "                              m_2=m2 * np.ones(len(f_orb_evol)) * u.Msun,\n",
    "                              ecc=ecc_evol,\n",
    "                              f_orb=f_orb_evol,\n",
    "                              dist=8 * np.ones(len(f_orb_evol)) * u.Mpc,\n",
    "                              interpolate_g=False,\n",
    "                              n_proc=nproc)\n",
    "    snr = source.get_snr(approximate_R=True, verbose=False)\n",
    "    D_h = snr/7 * 8 * u.Mpc\n",
    "    redshift = np.ones(len(D_h)) * 1e-8\n",
    "    redshift[D_h > 0.0001 * u.Mpc] = z_at_value(Planck18.luminosity_distance, D_h[D_h > 0.0001 * u.Mpc])\n",
    "    V_c.append(Planck18.comoving_volume(z=redshift))\n",
    "    LIGO_rate_uniform.append(get_LIGO_rate_uniform_e(m1, n_grid))\n",
    "    LIGO_rate_iso_dyn_50.append(get_LIGO_rate_iso_dyn(m1, e, frac_iso=0.5))\n",
    "    LIGO_rate_iso_dyn_80.append(get_LIGO_rate_iso_dyn(m1, e, frac_iso=0.8))\n",
    "   "
   ]
  },
  {
   "cell_type": "code",
   "execution_count": null,
   "id": "173c5e35-638e-46f4-8ed4-97c3f0ab37be",
   "metadata": {},
   "outputs": [],
   "source": [
    "N_lisa_tot_uniform = []\n",
    "N_lisa_tot_iso_dyn_50 = []\n",
    "N_lisa_tot_iso_dyn_80 = []\n",
    "for ii in range(len(LISA_norms)):\n",
    "\n",
    "    N_lisa_tot_uniform.append(trapz((LISA_norms[ii]*LIGO_rate_uniform[ii]*V_c[ii]).to(u.Hz**(-1))).value, f_orb_evols[ii])\n",
    "    N_lisa_tot_iso_dyn_50.append(trapz((LISA_norms[ii]*LIGO_rate_iso_dyn_50[ii]*V_c[ii]).to(u.Hz**(-1))).value, f_orb_evols[ii])\n",
    "    N_lisa_tot_iso_dyn_80.append(trapz((LISA_norms[ii]*LIGO_rate_iso_dyn_80[ii]*V_c[ii]).to(u.Hz**(-1))).value, f_orb_evols[ii])"
   ]
  },
  {
   "cell_type": "code",
   "execution_count": null,
   "id": "f004f321-251e-4396-8299-5da196b034a7",
   "metadata": {},
   "outputs": [],
   "source": [
    "M_c = lw.utils.chirp_mass(M1*u.Msun, M2*u.Msun)"
   ]
  },
  {
   "cell_type": "code",
   "execution_count": null,
   "id": "51215708-4811-4446-a392-5950c8e87513",
   "metadata": {},
   "outputs": [],
   "source": [
    "fig = plt.figure(figsize=(6, 4))\n",
    "rate_tot = 0\n",
    "for m, e, l, LR, f, V in zip(M_c, ecc_evols, LISA_norms,LIGO_rate_uniform, f_orb_evols, V_c):\n",
    "    rate_tot += m * trapz(f, (l * LR * V).to(u.Hz**(-1)))\n",
    "    plt.scatter(f, cumtrapz(f, (l * LR ).to(u.Hz**(-1)*u.Mpc**(-3)) * V, initial=0), c=np.log10(e), label=np.round(m, 2), s=5)\n",
    "plt.xscale('log')\n",
    "plt.yscale('log')\n",
    "plt.colorbar()\n",
    "print(rate_tot)"
   ]
  },
  {
   "cell_type": "code",
   "execution_count": null,
   "id": "1ba168af-28ca-4e3b-b027-1199d67d48b7",
   "metadata": {},
   "outputs": [],
   "source": [
    "fig, (ax1, ax2, ax3) = plt.subplots(1, 3, figsize=(16, 4))\n",
    "ax1.scatter(M_c, E, c=N_lisa_tot_uniform, s=M2, norm=colors.LogNorm())\n",
    "#print(np.sum(N_lisa_tot_uniform))\n",
    "ax1.set_title(f'N LISA {np.round(np.sum(N_lisa_tot_uniform), 4)}')\n",
    "ax2.scatter(M_c, E, c=N_lisa_tot_iso_dyn_50, s=M2, norm=colors.LogNorm())\n",
    "ax2.set_title(f'N LISA {np.round(np.sum(N_lisa_tot_iso_dyn_50), 4)}')\n",
    "c = ax3.scatter(M_c, E, c=N_lisa_tot_iso_dyn_80, s=M2, norm=colors.LogNorm())\n",
    "ax3.set_title(f'N LISA {np.round(np.sum(N_lisa_tot_iso_dyn_80), 4)}')\n",
    "ax1.set_yscale('log')\n",
    "ax2.set_yscale('log')\n",
    "ax3.set_yscale('log')\n",
    "plt.colorbar(c)    "
   ]
  },
  {
   "cell_type": "code",
   "execution_count": null,
   "id": "42fc086b-eb40-4d5b-8f9a-8be00c36d4d6",
   "metadata": {},
   "outputs": [],
   "source": []
  },
  {
   "cell_type": "markdown",
   "id": "da0fb1ad-8208-43a1-b17b-eedc39014389",
   "metadata": {},
   "source": [
    "## let's try it out as just circular for now..."
   ]
  },
  {
   "cell_type": "code",
   "execution_count": null,
   "id": "e8050058-b20a-4156-b998-ac72c56de590",
   "metadata": {},
   "outputs": [],
   "source": [
    "n_grid = 50\n",
    "nproc=1\n",
    "#e_grid = np.logspace(-9, -4, n_grid)\n",
    "mass_grid = np.linspace(5, 80, n_grid)\n",
    "m_c = lw.utils.chirp_mass(mass_grid * u.Msun, mass_grid * u.Msun)\n",
    "#M1, M2= np.meshgrid(mass_grid, mass_grid)\n",
    "E = np.zeros_like(mass_grid)"
   ]
  },
  {
   "cell_type": "code",
   "execution_count": null,
   "id": "4b256f61-0470-4c72-9d11-91dfe83ddae6",
   "metadata": {
    "scrolled": true,
    "tags": []
   },
   "outputs": [],
   "source": [
    "with MultiPool(processes=nproc) as pool:\n",
    "    dat_out = list(pool.map(get_LISA_norm_circular, zip(list(mass_grid), list(mass_grid), list(E))))\n"
   ]
  },
  {
   "cell_type": "code",
   "execution_count": null,
   "id": "773df2c4-e2a1-4549-b601-aec6e2984d7e",
   "metadata": {},
   "outputs": [],
   "source": [
    "V_c = []\n",
    "LIGO_rate_uniform = []\n",
    "LIGO_rate_iso_dyn_50 = []\n",
    "LIGO_rate_iso_dyn_80 = []\n",
    "LIGO_rate = []\n",
    "times = []\n",
    "ecc_evols = []\n",
    "f_orb_evols = []\n",
    "LISA_norms = []\n",
    "m1_evols = []\n",
    "m2_evols = []\n",
    "\n",
    "for d, m1, m2, e in tqdm.tqdm(zip(dat_out, mass_grid, mass_grid, E), total=len(mass_grid)):\n",
    "    f_orb_evol, ecc_evol, timesteps, LISA_norm = d\n",
    "    \n",
    "    LISA_norms.append(LISA_norm.to(u.yr/u.Hz))\n",
    "    times.append(timesteps)\n",
    "    ecc_evols.append(ecc_evol)\n",
    "    f_orb_evols.append(f_orb_evol)\n",
    "    m1_evols.append(m1 * np.ones(len(f_orb_evol)))\n",
    "    m2_evols.append(m2 * np.ones(len(f_orb_evol)))\n",
    "    LIGO_rate_uniform.append(get_LIGO_rate_uniform_e(m1, n_grid))\n",
    "    LIGO_rate_iso_dyn_50.append(get_LIGO_rate_iso_dyn(m1, e, frac_iso=0.5))\n",
    "    LIGO_rate_iso_dyn_80.append(get_LIGO_rate_iso_dyn(m1, e, frac_iso=0.8))\n",
    "    LIGO_rate.append(ligo_rate(m1))\n",
    "\n",
    "times = np.array(times)\n",
    "ecc_evols = np.array(ecc_evols)\n",
    "f_orb_evols = np.array(f_orb_evols)\n",
    "m1_evols = np.array(m1_evols)\n",
    "m2_evols = np.array(m2_evols)\n"
   ]
  },
  {
   "cell_type": "code",
   "execution_count": null,
   "id": "95c02988-948f-48f1-8930-f0f0664f6c26",
   "metadata": {},
   "outputs": [],
   "source": [
    "np.shape(m1_evols), np.shape(f_orb_evols)"
   ]
  },
  {
   "cell_type": "code",
   "execution_count": null,
   "id": "360c7516-bab3-4817-bfdb-d18df6605152",
   "metadata": {},
   "outputs": [],
   "source": [
    "source = lw.source.Source(m_1=m1_evols.flatten() * u.Msun,\n",
    "                          m_2=m2_evols.flatten() * u.Msun,\n",
    "                          ecc=ecc_evols.flatten(),\n",
    "                          f_orb=f_orb_evols.flatten() * u.Hz,\n",
    "                          dist=8 * np.ones(len(f_orb_evols.flatten())) * u.Mpc,\n",
    "                          interpolate_g=False,\n",
    "                          n_proc=1)\n",
    "snr = source.get_snr(approximate_R=True, verbose=True)\n",
    "D_h = snr/7 * 8 * u.Mpc\n",
    "redshift = np.ones(len(D_h)) * 1e-8\n",
    "redshift[D_h > 0.0001 * u.Mpc] = z_at_value(Planck18.luminosity_distance, D_h[D_h > 0.0001 * u.Mpc])\n",
    "V_c = Planck18.comoving_volume(z=redshift)\n"
   ]
  },
  {
   "cell_type": "code",
   "execution_count": null,
   "id": "824338ba-5f4a-4f97-9b76-e06b1db71476",
   "metadata": {},
   "outputs": [],
   "source": [
    "V_c_reshape = V_c.reshape(f_orb_evols.shape)\n",
    "SNR_reshape = snr.reshape(f_orb_evols.shape)"
   ]
  },
  {
   "cell_type": "code",
   "execution_count": null,
   "id": "384524bd-e089-402c-a679-e2ec962a8004",
   "metadata": {},
   "outputs": [],
   "source": [
    "np.shape(V_c_reshape), np.shape(LIGO_rate), np.shape(mass_grid), np.shape(f_orb_evols)"
   ]
  },
  {
   "cell_type": "code",
   "execution_count": null,
   "id": "0f7ebb69-0c64-4b7b-bf45-3ac8d74db635",
   "metadata": {},
   "outputs": [],
   "source": [
    "V_c_reshape"
   ]
  },
  {
   "cell_type": "code",
   "execution_count": null,
   "id": "8321ce0a-986a-4bba-a7ff-a7f634a06792",
   "metadata": {},
   "outputs": [],
   "source": [
    "for ii in range(len(mass_grid)):\n",
    "    plt.scatter(f_orb_evols[ii,:], np.ones(100) * m_c[ii], c=np.log10(V_c_reshape[ii,:].value), vmin=-13, vmax=10)\n",
    "    \n",
    "plt.xscale('log')\n",
    "plt.colorbar(label=r'comoving volume [Mpc$^3$]')\n",
    "plt.xlabel('orbital frequency')\n",
    "plt.ylabel(r'chirp mass [M$_{\\odot}$]; q=1')"
   ]
  },
  {
   "cell_type": "code",
   "execution_count": null,
   "id": "4f229c22-67c7-4aa7-bd8f-1eab1ee26bcb",
   "metadata": {},
   "outputs": [],
   "source": [
    "for ii in range(len(mass_grid)):\n",
    "    rate_per_freq = (V_c_reshape[ii,:] * LISA_norms[ii] * LIGO_rate[ii] * u.Gpc**(-3) * u.yr**(-1)).to(u.Hz**(-1))\n",
    "    \n",
    "    plt.scatter(f_orb_evols[ii,:], np.ones(100) * m_c[ii], \n",
    "                c=np.log10(rate_per_freq.value))\n",
    "    \n",
    "plt.xscale('log')\n",
    "plt.colorbar(label=r'rate per frequency [Hz$^{-1}$]')\n",
    "plt.xlabel('orbital frequency')\n",
    "plt.ylabel(r'chirp mass [M$_{\\odot}$]; q=1')"
   ]
  },
  {
   "cell_type": "code",
   "execution_count": null,
   "id": "4057a667-11b3-401f-b04c-8fba17f5539a",
   "metadata": {},
   "outputs": [],
   "source": [
    "rate = []\n",
    "for ii, m1, m2 in zip(range(len(mass_grid)), mass_grid, mass_grid):\n",
    "    f = f_orb_evols[ii, :]\n",
    "    v_c = V_c_reshape[ii, :]\n",
    "    snr = SNR_reshape[ii, :]\n",
    "    l_norm = LISA_norms[ii]\n",
    "    l_rate = LIGO_rate[ii] * u.Gpc**(-3) * u.yr**(-1)\n",
    "    rate.append(trapz(l_norm * v_c * l_rate.to(u.Mpc**(-3) * u.yr**(-1)), f * u.Hz).value)"
   ]
  },
  {
   "cell_type": "code",
   "execution_count": null,
   "id": "38dfc06b-840b-40c2-9c93-2b0cd094c004",
   "metadata": {},
   "outputs": [],
   "source": [
    "print(rate)"
   ]
  },
  {
   "cell_type": "code",
   "execution_count": null,
   "id": "3dfb7a9e-437d-4d84-8bc7-3e7ae9e2e266",
   "metadata": {},
   "outputs": [],
   "source": [
    "plt.scatter(m_c, rate)"
   ]
  },
  {
   "cell_type": "code",
   "execution_count": null,
   "id": "19443e8a-5468-41dd-8818-a7aaea705a65",
   "metadata": {},
   "outputs": [],
   "source": []
  },
  {
   "cell_type": "code",
   "execution_count": null,
   "id": "b150f509-8854-4c1b-a61c-ad134f9d4c2c",
   "metadata": {},
   "outputs": [],
   "source": [
    "f_orb_evols.flatten()[np.isnan(snr)]"
   ]
  },
  {
   "cell_type": "code",
   "execution_count": null,
   "id": "cd258d34-ae61-4702-aae4-f6f0ad226665",
   "metadata": {},
   "outputs": [],
   "source": [
    "fig, (ax1, ax2, ax3) = plt.subplots(1, 3, figsize=(16, 4))\n",
    "ax1.scatter(M_c, E, c=N_lisa_tot_uniform, s=M2, norm=colors.LogNorm())\n",
    "#print(np.sum(N_lisa_tot_uniform))\n",
    "ax1.set_title(f'N LISA {np.round(np.sum(N_lisa_tot_uniform), 4)}')\n",
    "ax2.scatter(M_c, E, c=N_lisa_tot_iso_dyn_50, s=M2, norm=colors.LogNorm())\n",
    "ax2.set_title(f'N LISA {np.round(np.sum(N_lisa_tot_iso_dyn_50), 4)}')\n",
    "c = ax3.scatter(M_c, E, c=N_lisa_tot_iso_dyn_80, s=M2, norm=colors.LogNorm())\n",
    "ax3.set_title(f'N LISA {np.round(np.sum(N_lisa_tot_iso_dyn_80), 4)}')\n",
    "ax1.set_yscale('log')\n",
    "ax2.set_yscale('log')\n",
    "ax3.set_yscale('log')\n",
    "plt.colorbar(c)    "
   ]
  },
  {
   "cell_type": "code",
   "execution_count": null,
   "id": "807d9696-0c75-4b6f-b81c-550084f81395",
   "metadata": {},
   "outputs": [],
   "source": [
    "plt.scatter(e_LIGO, N_lisa_tot_uniform)\n",
    "plt.xscale('log')\n",
    "plt.yscale('log')"
   ]
  },
  {
   "cell_type": "code",
   "execution_count": null,
   "id": "1e122a82-e408-4ce4-bc78-eeb89af77061",
   "metadata": {},
   "outputs": [],
   "source": [
    "sum(N_lisa_tot_uniform), sum(N_lisa_tot_iso_dyn_50), sum(N_lisa_tot_iso_dyn_80)"
   ]
  },
  {
   "cell_type": "code",
   "execution_count": null,
   "id": "bdef73b5-ccf5-4e1b-99e2-56f3e0a27a7d",
   "metadata": {},
   "outputs": [],
   "source": []
  },
  {
   "cell_type": "code",
   "execution_count": null,
   "id": "414341c3-f9f5-49cb-939b-68a64d12680b",
   "metadata": {},
   "outputs": [],
   "source": []
  }
 ],
 "metadata": {
  "kernelspec": {
   "display_name": "cosmic",
   "language": "python",
   "name": "cosmic"
  },
  "language_info": {
   "codemirror_mode": {
    "name": "ipython",
    "version": 3
   },
   "file_extension": ".py",
   "mimetype": "text/x-python",
   "name": "python",
   "nbconvert_exporter": "python",
   "pygments_lexer": "ipython3",
   "version": "3.8.5"
  }
 },
 "nbformat": 4,
 "nbformat_minor": 5
}
