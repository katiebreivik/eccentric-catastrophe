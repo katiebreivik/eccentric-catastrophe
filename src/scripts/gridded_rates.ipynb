{
 "cells": [
  {
   "cell_type": "code",
   "execution_count": 1,
   "id": "8f0982b8-4b8f-48a4-a037-2aaa0d1b047b",
   "metadata": {},
   "outputs": [],
   "source": [
    "import numpy as np\n",
    "import matplotlib.pyplot as plt\n",
    "import legwork as lw\n",
    "import astropy.units as u\n",
    "import utils\n",
    "from schwimmbad import MultiPool\n",
    "import tqdm\n",
    "from astropy.cosmology import Planck18, z_at_value\n",
    "from scipy.integrate import trapezoid, cumulative_trapezoid\n",
    "from utils import get_LISA_norm, get_LISA_norm_circular, dg_de\n",
    "from scipy.interpolate import NearestNDInterpolator, interp1d\n",
    "from matplotlib import colors"
   ]
  },
  {
   "cell_type": "code",
   "execution_count": 2,
   "id": "5b19a8ae-692c-4cc2-b50f-cb1c46049f8c",
   "metadata": {},
   "outputs": [],
   "source": [
    "def get_LIGO_rate_uniform_e(m1, n_e_bins):\n",
    "    if m1 < 20:\n",
    "        rate = 23.6 / n_e_bins * u.Gpc**(-3) * u.yr**(-1)\n",
    "    elif m1 < 50:\n",
    "        rate = 4.5 / n_e_bins * u.Gpc**(-3) * u.yr**(-1)\n",
    "    elif m1 <= 100:\n",
    "        rate = 0.2 / n_e_bins * u.Gpc**(-3) * u.yr**(-1)\n",
    "        \n",
    "    return rate\n",
    "        \n",
    "    \n",
    "def get_LIGO_rate_iso_dyn(m1, e, frac_iso, ebins):\n",
    "    e_circ = ebins[ebins < 1e-6]\n",
    "    e_ecc = ebins[ebins >= 1e-6]\n",
    "    if m1 < 20:\n",
    "        if e < 1e-6:\n",
    "            rate = 20 / len(e_circ) * frac_iso * u.Gpc**(-3) * u.yr**(-1)\n",
    "        else:\n",
    "            rate = 20 / len(e_ecc) * (1-frac_iso) * u.Gpc**(-3) * u.yr**(-1)\n",
    "    elif m1 < 50:\n",
    "        if e < 1e-6:\n",
    "            rate = 4.5 / len(e_circ) * frac_iso * u.Gpc**(-3) * u.yr**(-1)\n",
    "        else:\n",
    "            rate = 4.5 / len(e_circ) * (1-frac_iso) * u.Gpc**(-3) * u.yr**(-1)\n",
    "    elif m1 <= 100:\n",
    "        if e < 1e-6:\n",
    "            rate = 0.2 / len(e_circ) * frac_iso * u.Gpc**(-3) * u.yr**(-1)\n",
    "        else:\n",
    "            rate = 0.2 / len(e_ecc) * (1-frac_iso) * u.Gpc**(-3) * u.yr**(-1)\n",
    "        \n",
    "    return rate\n",
    "\n",
    "def ligo_rate(m1):\n",
    "    dat = np.array([[3.705799151343708, 0.001087789470121345],\n",
    "                   [4.384724186704389, 0.00984816875074369],\n",
    "                   [5.063649222065067, 0.06979974252228799],\n",
    "                   [5.827439886845831, 0.41173514594201527],\n",
    "                   [6.506364922206512, 1.3579705933006465],\n",
    "                   [6.845827439886847, 2.148948034692836],\n",
    "                   [7.77934936350778, 2.7449738151212433],\n",
    "                   [8.543140028288544, 2.6218307403757986],\n",
    "                   [9.561527581329564, 2.0525434471508692],\n",
    "                   [11.173974540311175, 1.2388629239937763],\n",
    "                   [12.701555869872706, 0.7828664968878465],\n",
    "                   [14.398868458274404, 0.4947116747780942],\n",
    "                   [16.859971711456865, 0.2895969742197884],\n",
    "                   [19.66053748231967, 0.17748817964452962],\n",
    "                   [22.206506364922213, 0.12773570001722281],\n",
    "                   [24.837340876944843, 0.10389898279212807],\n",
    "                   [27.722772277227726, 0.1087789470121345],\n",
    "                   [30.183875530410184, 0.13070104796093673],\n",
    "                   [32.729844413012735, 0.16441704701060267],\n",
    "                   [34.85148514851486, 0.16695189854274867],\n",
    "                   [37.397454031117405, 0.12107555776371784],\n",
    "                   [39.26449787835927, 0.08010405199404155],\n",
    "                   [41.30127298444131, 0.049851062445855264],\n",
    "                   [43.592644978783596, 0.029631988560550687],\n",
    "                   [45.629420084865636, 0.018440841322693136],\n",
    "                   [48.0905233380481, 0.011832859313068754],\n",
    "                   [50.891089108910904, 0.007949361111716631],\n",
    "                   [53.77652050919379, 0.005764973856945108],\n",
    "                   [57.25601131541727, 0.0043438393396653925],\n",
    "                   [61.923620933521946, 0.0032730313574784275],\n",
    "                   [66.67609618104669, 0.0024851284269805634],\n",
    "                   [70.66478076379069, 0.002068305171949823],\n",
    "                   [74.82319660537483, 0.0016952583040389245],\n",
    "                   [78.72701555869875, 0.0013476220436441713],\n",
    "                   [81.27298444130128, 0.0010389898279212807]])\n",
    "    \n",
    "    mass = dat[:,0]\n",
    "    rate = dat[:,1]\n",
    "    interp_rate = interp1d(mass, rate)\n",
    "    \n",
    "    return interp_rate(m1)"
   ]
  },
  {
   "cell_type": "code",
   "execution_count": 3,
   "id": "6c534769-e524-496f-942e-f4aa1edbc994",
   "metadata": {},
   "outputs": [],
   "source": [
    "def get_D_horizon(m1, m2, e, f, dat_load):\n",
    "    #Msun, Msun, Hz, Mpc\n",
    "    M1, M2, E, F, D_horizon = dat_load\n",
    "    dat_interp = list(zip(M1.flatten(), M2.flatten(), F.flatten(), E.flatten()))\n",
    "    interp = NearestNDInterpolator(dat_interp, D_horizon.flatten())\n",
    "\n",
    "    D_H_interp = interp(m1, m2, e, f)\n",
    "\n",
    "    return D_H_interp * u.Mpc\n",
    "    "
   ]
  },
  {
   "cell_type": "code",
   "execution_count": 4,
   "id": "6fb2bf68-78c1-4ffb-98a0-b45a2e043512",
   "metadata": {
    "tags": []
   },
   "outputs": [],
   "source": [
    "import warnings\n",
    "warnings.filterwarnings(\"ignore\")\n",
    "n_e_bins = 4\n",
    "n_m1_bins = 20\n",
    "n_q_bins = 5\n",
    "mass1_range = np.logspace(np.log10(5), np.log10(80), n_m1_bins)\n",
    "#q_range = np.linspace(0.1, 1.0, n_q_bins)\n",
    "q_range = np.array([0.9, 1.0])\n",
    "ecc_range = np.logspace(-8, -4, n_e_bins)\n",
    "\n",
    "M1, Q, E = np.meshgrid(mass1_range, q_range, ecc_range)\n",
    "M2 = M1 * Q\n",
    "\n",
    "dat_load = np.load('horizon_dat.npy', allow_pickle=True)\n"
   ]
  },
  {
   "cell_type": "code",
   "execution_count": 41,
   "id": "3f89162a-92cd-4f48-a049-06703cb08970",
   "metadata": {},
   "outputs": [],
   "source": [
    "dat_in = []\n",
    "for ii in range(len(M1.flatten())):\n",
    "    dat_in.append([M1.flatten()[ii], M2.flatten()[ii], E.flatten()[ii]])"
   ]
  },
  {
   "cell_type": "code",
   "execution_count": 42,
   "id": "d498e75b-2702-4bb1-8270-ead24f2f1aaa",
   "metadata": {},
   "outputs": [
    {
     "name": "stderr",
     "output_type": "stream",
     "text": [
      "35it [00:17,  2.59it/s]/Users/kbreivik/miniconda3/envs/cosmic/lib/python3.10/site-packages/scipy/integrate/_odepack_py.py:248: ODEintWarning: Excess accuracy requested (tolerances too small). Run with full_output = 1 to get quantitative information.\n",
      "  warnings.warn(warning_msg, ODEintWarning)\n"
     ]
    },
    {
     "name": "stdout",
     "output_type": "stream",
     "text": [
      " lsoda--  at t (=r1), too much accuracy requested  \u0000\u0000\n",
      "       for precision of machine..  see tolsf (=r2) \u0000\u0000\n",
      "      in above,  r1 = -0.2768283873289D+16   r2 =                  NaN\n"
     ]
    },
    {
     "name": "stderr",
     "output_type": "stream",
     "text": [
      "39it [00:19,  2.68it/s]/Users/kbreivik/miniconda3/envs/cosmic/lib/python3.10/site-packages/scipy/integrate/_odepack_py.py:248: ODEintWarning: Excess accuracy requested (tolerances too small). Run with full_output = 1 to get quantitative information.\n",
      "  warnings.warn(warning_msg, ODEintWarning)\n"
     ]
    },
    {
     "name": "stdout",
     "output_type": "stream",
     "text": [
      " lsoda--  at t (=r1), too much accuracy requested  \u0000\u0000\n",
      "       for precision of machine..  see tolsf (=r2) \u0000\u0000\n",
      "      in above,  r1 = -0.2230309236471D+16   r2 =                  NaN\n"
     ]
    },
    {
     "name": "stderr",
     "output_type": "stream",
     "text": [
      "43it [00:20,  2.46it/s]/Users/kbreivik/miniconda3/envs/cosmic/lib/python3.10/site-packages/scipy/integrate/_odepack_py.py:248: ODEintWarning: Excess accuracy requested (tolerances too small). Run with full_output = 1 to get quantitative information.\n",
      "  warnings.warn(warning_msg, ODEintWarning)\n",
      "46it [00:20,  3.60it/s]"
     ]
    },
    {
     "name": "stdout",
     "output_type": "stream",
     "text": [
      " lsoda--  at t (=r1), too much accuracy requested  \u0000\u0000\n",
      "       for precision of machine..  see tolsf (=r2) \u0000\u0000\n",
      "      in above,  r1 = -0.1680975181919D+16   r2 =                  NaN\n"
     ]
    },
    {
     "name": "stderr",
     "output_type": "stream",
     "text": [
      "50it [00:22,  3.39it/s]"
     ]
    },
    {
     "name": "stdout",
     "output_type": "stream",
     "text": [
      " lsoda--  at t (=r1), too much accuracy requested  \u0000\u0000\n",
      "       for precision of machine..  see tolsf (=r2) \u0000\u0000\n",
      "      in above,  r1 = -0.1220519292450D+16   r2 =                  NaN\n"
     ]
    },
    {
     "name": "stderr",
     "output_type": "stream",
     "text": [
      "53it [00:23,  2.62it/s]"
     ]
    },
    {
     "name": "stdout",
     "output_type": "stream",
     "text": [
      " lsoda--  at t (=r1), too much accuracy requested  \u0000\u0000\n",
      "       for precision of machine..  see tolsf (=r2) \u0000\u0000\n",
      "      in above,  r1 = -0.1002369843457D+16   r2 =                  NaN\n"
     ]
    },
    {
     "name": "stderr",
     "output_type": "stream",
     "text": [
      "57it [00:25,  2.53it/s]"
     ]
    },
    {
     "name": "stdout",
     "output_type": "stream",
     "text": [
      " lsoda--  at t (=r1), too much accuracy requested  \u0000\u0000\n",
      "       for precision of machine..  see tolsf (=r2) \u0000\u0000\n",
      "      in above,  r1 = -0.7607498246288D+15   r2 =                  NaN\n"
     ]
    },
    {
     "name": "stderr",
     "output_type": "stream",
     "text": [
      "61it [00:27,  2.61it/s]"
     ]
    },
    {
     "name": "stdout",
     "output_type": "stream",
     "text": [
      " lsoda--  at t (=r1), too much accuracy requested  \u0000\u0000\n",
      "       for precision of machine..  see tolsf (=r2) \u0000\u0000\n",
      "      in above,  r1 = -0.6016225817194D+15   r2 =                  NaN\n"
     ]
    },
    {
     "name": "stderr",
     "output_type": "stream",
     "text": [
      "65it [00:28,  2.59it/s]"
     ]
    },
    {
     "name": "stdout",
     "output_type": "stream",
     "text": [
      " lsoda--  at t (=r1), too much accuracy requested  \u0000\u0000\n",
      "       for precision of machine..  see tolsf (=r2) \u0000\u0000\n",
      "      in above,  r1 = -0.4766549997871D+15   r2 =                  NaN\n"
     ]
    },
    {
     "name": "stderr",
     "output_type": "stream",
     "text": [
      "69it [00:30,  2.24it/s]"
     ]
    },
    {
     "name": "stdout",
     "output_type": "stream",
     "text": [
      " lsoda--  at t (=r1), too much accuracy requested  \u0000\u0000\n",
      "       for precision of machine..  see tolsf (=r2) \u0000\u0000\n",
      "      in above,  r1 = -0.3786568967511D+15   r2 =                  NaN\n"
     ]
    },
    {
     "name": "stderr",
     "output_type": "stream",
     "text": [
      "73it [00:32,  2.04it/s]"
     ]
    },
    {
     "name": "stdout",
     "output_type": "stream",
     "text": [
      " lsoda--  at t (=r1), too much accuracy requested  \u0000\u0000\n",
      "       for precision of machine..  see tolsf (=r2) \u0000\u0000\n",
      "      in above,  r1 = -0.3016628355978D+15   r2 =                  NaN\n"
     ]
    },
    {
     "name": "stderr",
     "output_type": "stream",
     "text": [
      "76it [00:34,  1.84it/s]"
     ]
    },
    {
     "name": "stdout",
     "output_type": "stream",
     "text": [
      " lsoda--  at t (=r1), too much accuracy requested  \u0000\u0000\n",
      "       for precision of machine..  see tolsf (=r2) \u0000\u0000\n",
      "      in above,  r1 = -0.2407499710656D+15   r2 =                  NaN\n"
     ]
    },
    {
     "name": "stderr",
     "output_type": "stream",
     "text": [
      "116it [00:49,  2.56it/s]"
     ]
    },
    {
     "name": "stdout",
     "output_type": "stream",
     "text": [
      " lsoda--  at t (=r1), too much accuracy requested  \u0000\u0000\n",
      "       for precision of machine..  see tolsf (=r2) \u0000\u0000\n",
      "      in above,  r1 = -0.2557844959417D+16   r2 =                  NaN\n"
     ]
    },
    {
     "name": "stderr",
     "output_type": "stream",
     "text": [
      "119it [00:50,  2.66it/s]"
     ]
    },
    {
     "name": "stdout",
     "output_type": "stream",
     "text": [
      " lsoda--  at t (=r1), too much accuracy requested  \u0000\u0000\n",
      "       for precision of machine..  see tolsf (=r2) \u0000\u0000\n",
      "      in above,  r1 = -0.1903944186467D+16   r2 =                  NaN\n"
     ]
    },
    {
     "name": "stderr",
     "output_type": "stream",
     "text": [
      "123it [00:52,  2.50it/s]/Users/kbreivik/miniconda3/envs/cosmic/lib/python3.10/site-packages/scipy/integrate/_odepack_py.py:248: ODEintWarning: Excess accuracy requested (tolerances too small). Run with full_output = 1 to get quantitative information.\n",
      "  warnings.warn(warning_msg, ODEintWarning)\n",
      "124it [00:52,  2.71it/s]"
     ]
    },
    {
     "name": "stdout",
     "output_type": "stream",
     "text": [
      " lsoda--  at t (=r1), too much accuracy requested  \u0000\u0000\n",
      "       for precision of machine..  see tolsf (=r2) \u0000\u0000\n",
      "      in above,  r1 = -0.1568682798144D+16   r2 =                  NaN\n"
     ]
    },
    {
     "name": "stderr",
     "output_type": "stream",
     "text": [
      "128it [00:54,  2.41it/s]"
     ]
    },
    {
     "name": "stdout",
     "output_type": "stream",
     "text": [
      " lsoda--  at t (=r1), too much accuracy requested  \u0000\u0000\n",
      "       for precision of machine..  see tolsf (=r2) \u0000\u0000\n",
      "      in above,  r1 = -0.1135249794232D+16   r2 =                  NaN\n"
     ]
    },
    {
     "name": "stderr",
     "output_type": "stream",
     "text": [
      "132it [00:55,  2.38it/s]"
     ]
    },
    {
     "name": "stdout",
     "output_type": "stream",
     "text": [
      " lsoda--  at t (=r1), too much accuracy requested  \u0000\u0000\n",
      "       for precision of machine..  see tolsf (=r2) \u0000\u0000\n",
      "      in above,  r1 = -0.9352475884328D+15   r2 =                  NaN\n"
     ]
    },
    {
     "name": "stderr",
     "output_type": "stream",
     "text": [
      "136it [00:57,  2.32it/s]"
     ]
    },
    {
     "name": "stdout",
     "output_type": "stream",
     "text": [
      " lsoda--  at t (=r1), too much accuracy requested  \u0000\u0000\n",
      "       for precision of machine..  see tolsf (=r2) \u0000\u0000\n",
      "      in above,  r1 = -0.6986282608768D+15   r2 =                  NaN\n"
     ]
    },
    {
     "name": "stderr",
     "output_type": "stream",
     "text": [
      "140it [00:59,  2.39it/s]"
     ]
    },
    {
     "name": "stdout",
     "output_type": "stream",
     "text": [
      " lsoda--  at t (=r1), too much accuracy requested  \u0000\u0000\n",
      "       for precision of machine..  see tolsf (=r2) \u0000\u0000\n",
      "      in above,  r1 = -0.5527234490113D+15   r2 =                  NaN\n"
     ]
    },
    {
     "name": "stderr",
     "output_type": "stream",
     "text": [
      "144it [01:01,  2.32it/s]"
     ]
    },
    {
     "name": "stdout",
     "output_type": "stream",
     "text": [
      " lsoda--  at t (=r1), too much accuracy requested  \u0000\u0000\n",
      "       for precision of machine..  see tolsf (=r2) \u0000\u0000\n",
      "      in above,  r1 = -0.4383093251452D+15   r2 =                  NaN\n"
     ]
    },
    {
     "name": "stderr",
     "output_type": "stream",
     "text": [
      "148it [01:03,  2.05it/s]"
     ]
    },
    {
     "name": "stdout",
     "output_type": "stream",
     "text": [
      " lsoda--  at t (=r1), too much accuracy requested  \u0000\u0000\n",
      "       for precision of machine..  see tolsf (=r2) \u0000\u0000\n",
      "      in above,  r1 = -0.3485856957320D+15   r2 =                  NaN\n"
     ]
    },
    {
     "name": "stderr",
     "output_type": "stream",
     "text": [
      "152it [01:06,  1.55it/s]"
     ]
    },
    {
     "name": "stdout",
     "output_type": "stream",
     "text": [
      " lsoda--  at t (=r1), too much accuracy requested  \u0000\u0000\n",
      "       for precision of machine..  see tolsf (=r2) \u0000\u0000\n",
      "      in above,  r1 = -0.2778309771565D+15   r2 =                  NaN\n"
     ]
    },
    {
     "name": "stderr",
     "output_type": "stream",
     "text": [
      "156it [01:08,  1.70it/s]"
     ]
    },
    {
     "name": "stdout",
     "output_type": "stream",
     "text": [
      " lsoda--  at t (=r1), too much accuracy requested  \u0000\u0000\n",
      "       for precision of machine..  see tolsf (=r2) \u0000\u0000\n",
      "      in above,  r1 = -0.2073907950769D+15   r2 =                  NaN\n"
     ]
    },
    {
     "name": "stderr",
     "output_type": "stream",
     "text": [
      "160it [01:10,  2.28it/s]\n"
     ]
    }
   ],
   "source": [
    "with MultiPool(processes=4) as pool:\n",
    "    dat_out = list(tqdm.tqdm(pool.imap(utils.get_norms, dat_in)))\n"
   ]
  },
  {
   "cell_type": "code",
   "execution_count": 53,
   "id": "2f01affb-f51f-4c50-82d6-47cafabb4b28",
   "metadata": {},
   "outputs": [],
   "source": [
    "LIGO_rate_uniform = []\n",
    "LIGO_rate_iso_dyn_50 = []\n",
    "LIGO_rate_iso_dyn_80 = []\n",
    "for m1, m2, e in zip(M1.flatten(), M2.flatten(), E.flatten()):\n",
    "    LIGO_rate_uniform.append(ligo_rate(m1) * u.Gpc**(-3) * u.yr**(-1))\n",
    "    LIGO_rate_iso_dyn_50.append(get_LIGO_rate_iso_dyn(m1, e, frac_iso=0.5, ebins=ecc_range))\n",
    "    LIGO_rate_iso_dyn_80.append(get_LIGO_rate_iso_dyn(m1, e, frac_iso=0.8, ebins=ecc_range))                "
   ]
  },
  {
   "cell_type": "code",
   "execution_count": 54,
   "id": "27d05a9c-8f29-43ec-9fae-9d52f9fd3417",
   "metadata": {},
   "outputs": [],
   "source": [
    "N_lisa_tot_uniform = []\n",
    "N_lisa_tot_iso_dyn_50 = []\n",
    "N_lisa_tot_iso_dyn_80 = []\n",
    "for ii in range(len(dat_out)):\n",
    "    LISA_norms, timesteps, ecc_evols, f_orb_evols, D_h, redshift, V_c = dat_out[ii]\n",
    "\n",
    "    N_lisa_tot_uniform.append(trapezoid((LISA_norms*LIGO_rate_uniform[ii]*V_c).to(u.Hz**(-1)).value, f_orb_evols))\n",
    "    N_lisa_tot_iso_dyn_50.append(trapezoid((LISA_norms*LIGO_rate_iso_dyn_50[ii]*V_c).to(u.Hz**(-1)), f_orb_evols))\n",
    "    N_lisa_tot_iso_dyn_80.append(trapezoid((LISA_norms*LIGO_rate_iso_dyn_80[ii]*V_c).to(u.Hz**(-1)), f_orb_evols))"
   ]
  },
  {
   "cell_type": "code",
   "execution_count": 55,
   "id": "f004f321-251e-4396-8299-5da196b034a7",
   "metadata": {},
   "outputs": [],
   "source": [
    "M_c = lw.utils.chirp_mass(M1.flatten()*u.Msun, M2.flatten()*u.Msun)"
   ]
  },
  {
   "cell_type": "code",
   "execution_count": 56,
   "id": "51215708-4811-4446-a392-5950c8e87513",
   "metadata": {},
   "outputs": [],
   "source": [
    "#fig = plt.figure(figsize=(6, 4))\n",
    "rate_tot = 0\n",
    "#for m, e, l, LR, f, V in zip(M_c, ecc_evols, LISA_norms,LIGO_rate_uniform, f_orb_evols, V_c):\n",
    "\n",
    "rate_tot = []\n",
    "rate_tot_iso_50 = []\n",
    "rate_tot_iso_80 = []\n",
    "for ii in range(len(dat_out)):\n",
    "    norm, e, f, D_h, V  = dat_out[ii]\n",
    "    m = M_c[ii]\n",
    "    LR = LIGO_rate_uniform[ii]\n",
    "    LR50 = LIGO_rate_iso_dyn_50[ii]\n",
    "    LR80 = LIGO_rate_iso_dyn_80[ii]\n",
    "    rate_tot.append(trapezoid((norm * LR * V).to(u.Hz**(-1)), -f))\n",
    "    rate_tot_iso_50.append(trapezoid((norm * LR50 * V).to(u.Hz**(-1)), -f))\n",
    "    rate_tot_iso_80.append(trapezoid((norm * LR80 * V).to(u.Hz**(-1)), -f))\n",
    "    #plt.scatter(f, cumulative_trapezoid( (l * LR * V ).to(u.Hz**(-1)), -f, initial=0), c=e, norm=colors.LogNorm(), label=np.round(m, 2), s=5)\n",
    "    #plt.scatter(f, cumulative_trapezoid( (l * LR50 * V ).to(u.Hz**(-1)), -f, initial=0), c=e, norm=colors.LogNorm(), label=np.round(m, 2), s=5)\n",
    "    #plt.scatter(f, cumulative_trapezoid( (l * LR80 * V ).to(u.Hz**(-1)), -f, initial=0), c=e, norm=colors.LogNorm(), label=np.round(m, 2), s=5)\n",
    "    #plt.xscale('log')\n",
    "    #plt.yscale('log')\n",
    "    #plt.colorbar()\n",
    "    #plt.show()\n",
    "rate_tot = np.array(rate_tot)\n",
    "rate_tot_iso_50 = np.array(rate_tot_iso_50)\n",
    "rate_tot_iso_80 = np.array(rate_tot_iso_80)\n",
    "\n"
   ]
  },
  {
   "cell_type": "code",
   "execution_count": 57,
   "id": "e0e91b65",
   "metadata": {},
   "outputs": [
    {
     "data": {
      "text/plain": [
       "array([5.99756032e-03, 5.60098869e-01, 1.10539511e-03, 1.13082419e-05,\n",
       "       7.74826937e-02, 6.50438593e+00, 9.31428171e-03, 8.57398037e-05,\n",
       "       3.92629504e-01, 3.18149165e+01, 4.10600469e-02, 3.60717720e-04,\n",
       "       1.06315511e+00, 6.88602231e+01, 7.71766272e-02, 6.29008915e-04,\n",
       "       1.64185305e+00, 9.69516129e+01, 8.92609074e-02, 6.31602792e-04,\n",
       "       2.38401412e+00, 1.02309756e+02, 8.62755456e-02, 5.43812256e-04,\n",
       "       1.59439038e+00, 6.80469282e+01, 5.13623380e-02, 3.03165432e-04,\n",
       "       1.66824601e+00, 6.29857490e+01, 4.20888363e-02, 2.06042462e-04,\n",
       "       1.79527453e+00, 5.10139231e+01, 3.25093446e-02, 1.45214086e-04,\n",
       "       1.92707496e+00, 4.18072190e+01, 2.54835962e-02, 1.03032029e-04,\n",
       "       1.66252365e+00, 3.23298963e+01, 1.87947534e-02, 6.71320196e-05,\n",
       "       2.17898143e+00, 3.63416583e+01, 1.98212646e-02, 5.75095529e-05,\n",
       "       4.35587730e+00, 5.31355800e+01, 2.83842679e-02, 7.58183769e-05,\n",
       "       1.04900411e+01, 1.11466071e+02, 5.68213253e-02, 1.21634171e-04,\n",
       "       6.89014939e+00, 5.99253839e+01, 3.05992215e-02, 6.60307280e-05,\n",
       "       3.62135615e+00, 2.40269471e+01, 1.18706445e-02, 2.09799416e-05,\n",
       "       1.97023246e+00, 1.02387353e+01, 4.95528655e-03, 7.50983356e-06,\n",
       "       1.11636097e+00, 4.74884396e+00, 2.30436625e-03, 3.55789459e-06,\n",
       "       1.16983648e+00, 4.02381011e+00, 1.91259584e-03, 2.45829487e-06,\n",
       "       1.09641107e+00, 2.60185558e+00, 1.28002454e-03, 1.53164704e-06,\n",
       "       7.76315691e-03, 7.12805158e-01, 1.23291159e-03, 1.21471418e-05,\n",
       "       8.48989940e-02, 6.65680494e+00, 9.34129867e-03, 8.52956933e-05,\n",
       "       6.84048519e-01, 4.75891247e+01, 5.41738405e-02, 4.45399804e-04,\n",
       "       1.14973153e+00, 6.98676109e+01, 7.70793026e-02, 6.22456649e-04,\n",
       "       2.12476272e+00, 1.08271701e+02, 9.77096319e-02, 6.80556617e-04,\n",
       "       2.61183190e+00, 1.20222662e+02, 9.12237792e-02, 5.42045431e-04,\n",
       "       1.45969601e+00, 6.22983422e+01, 4.70232619e-02, 2.77554114e-04,\n",
       "       1.80374682e+00, 6.28499504e+01, 4.18939458e-02, 2.04186388e-04,\n",
       "       2.32204836e+00, 6.23860244e+01, 3.82443684e-02, 1.56793500e-04,\n",
       "       2.56309894e+00, 5.40756505e+01, 3.14744133e-02, 1.12827788e-04,\n",
       "       1.52207439e+00, 2.95986754e+01, 1.72069780e-02, 6.14607281e-05,\n",
       "       2.35475305e+00, 3.60462143e+01, 1.96609717e-02, 5.70394789e-05,\n",
       "       5.62590789e+00, 6.40596817e+01, 3.35372006e-02, 8.20197847e-05,\n",
       "       1.39241125e+01, 1.21101652e+02, 6.18371761e-02, 1.33439792e-04,\n",
       "       7.44037722e+00, 6.59773061e+01, 3.31652055e-02, 6.55209275e-05,\n",
       "       3.90879872e+00, 2.36736281e+01, 1.17081504e-02, 2.08213496e-05,\n",
       "       2.16414128e+00, 1.01096304e+01, 4.89974056e-03, 7.50158601e-06,\n",
       "       2.31234118e+00, 7.95360512e+00, 3.78050446e-03, 4.85915270e-06,\n",
       "       1.26583539e+00, 3.93768983e+00, 1.87462075e-03, 2.44058654e-06,\n",
       "       1.41134939e+00, 3.18331893e+00, 1.46943850e-03, 1.66018114e-06])"
      ]
     },
     "execution_count": 57,
     "metadata": {},
     "output_type": "execute_result"
    }
   ],
   "source": [
    "rate_tot"
   ]
  },
  {
   "cell_type": "code",
   "execution_count": 58,
   "id": "1ba168af-28ca-4e3b-b027-1199d67d48b7",
   "metadata": {},
   "outputs": [],
   "source": [
    "#fig, (ax1, ax2, ax3) = plt.subplots(1, 3, figsize=(16, 4))\n",
    "#ax1.scatter(M_c, E, c=N_lisa_tot_uniform, s=M2, norm=colors.LogNorm())\n",
    "#print(np.sum(N_lisa_tot_uniform))\n",
    "#ax1.set_title(f'N LISA {np.round(np.sum(N_lisa_tot_uniform), 4)}')\n",
    "#ax2.scatter(M_c, E, c=N_lisa_tot_iso_dyn_50, s=M2, norm=colors.LogNorm())\n",
    "#ax2.set_title(f'N LISA {np.round(np.sum(N_lisa_tot_iso_dyn_50), 4)}')\n",
    "#c = ax3.scatter(M_c, E, c=N_lisa_tot_iso_dyn_80, s=M2, norm=colors.LogNorm())\n",
    "#ax3.set_title(f'N LISA {np.round(np.sum(N_lisa_tot_iso_dyn_80), 4)}')\n",
    "#ax1.set_yscale('log')\n",
    "#ax2.set_yscale('log')\n",
    "#ax3.set_yscale('log')\n",
    "#plt.colorbar(c)    "
   ]
  },
  {
   "cell_type": "code",
   "execution_count": 59,
   "id": "33f09042",
   "metadata": {},
   "outputs": [],
   "source": [
    "rate_tot = rate_tot.reshape(np.shape(M2))\n",
    "rate_tot_iso_50 = rate_tot_iso_50.reshape(np.shape(M2))\n",
    "rate_tot_iso_80 = rate_tot_iso_80.reshape(np.shape(M2))"
   ]
  },
  {
   "cell_type": "code",
   "execution_count": 63,
   "id": "a2e34746",
   "metadata": {},
   "outputs": [
    {
     "name": "stdout",
     "output_type": "stream",
     "text": [
      "(2, 20, 4)\n",
      "[[6.88035861e-04 6.36452013e-02 1.16915335e-04 1.17276918e-06]\n",
      " [8.11908439e-03 6.58059543e-01 9.32779019e-04 8.55177485e-06]\n",
      " [5.38339012e-02 3.97020206e+00 4.76169437e-03 4.03058762e-05]\n",
      " [1.10644332e-01 6.93639170e+00 7.71279649e-03 6.25732782e-05]\n",
      " [1.88330789e-01 1.02611657e+01 9.34852697e-03 6.56079705e-05]\n",
      " [2.49792301e-01 1.11266209e+01 8.87496624e-03 5.42928843e-05]\n",
      " [1.52704319e-01 6.51726352e+00 4.91928000e-03 2.90359773e-05]\n",
      " [1.73599642e-01 6.29178497e+00 4.19913911e-03 2.05114425e-05]\n",
      " [2.05866144e-01 5.66999738e+00 3.53768565e-03 1.51003793e-05]\n",
      " [2.24508695e-01 4.79414348e+00 2.84790047e-03 1.07929909e-05]\n",
      " [1.59229902e-01 3.09642859e+00 1.80008657e-03 6.42963739e-06]\n",
      " [2.26686724e-01 3.61939363e+00 1.97411181e-03 5.72745159e-06]\n",
      " [4.99089260e-01 5.85976308e+00 3.09607342e-03 7.89190808e-06]\n",
      " [1.22070768e+00 1.16283861e+01 5.93292507e-03 1.27536982e-05]\n",
      " [7.16526330e-01 6.29513450e+00 3.18822135e-03 6.57758277e-06]\n",
      " [3.76507743e-01 2.38502876e+00 1.17893975e-03 2.09006456e-06]\n",
      " [2.06718687e-01 1.01741829e+00 4.92751356e-04 7.50570978e-07]\n",
      " [1.71435107e-01 6.35122454e-01 3.04243536e-04 4.20852364e-07]\n",
      " [1.21783593e-01 3.98074997e-01 1.89360830e-04 2.44944071e-07]\n",
      " [1.25388023e-01 2.89258725e-01 1.37473152e-04 1.59591409e-07]]\n",
      "[1.00000000e-08 2.15443469e-07 4.64158883e-06 1.00000000e-04] [2.34056681e+01 2.67777799e+02 1.62919340e-01 6.44640510e-04]\n",
      "0.0006306817562005336\n"
     ]
    }
   ],
   "source": [
    "#integrate over the masses\n",
    "print(np.shape(rate_tot))\n",
    "print(np.trapz(rate_tot, q_range, axis=0))\n",
    "print(ecc_range, np.trapz(np.trapz(rate_tot, q_range, axis=0), mass1_range, axis=0))\n",
    "print(np.trapz(np.trapz(np.trapz(rate_tot, q_range, axis=0), mass1_range, axis=0), ecc_range))"
   ]
  },
  {
   "cell_type": "code",
   "execution_count": 61,
   "id": "04aad4c9-ae25-4d9f-80ce-d6ca8218508f",
   "metadata": {},
   "outputs": [
    {
     "name": "stdout",
     "output_type": "stream",
     "text": [
      "(2, 20, 4)\n",
      "[[5.36026452e-02 4.95839147e+00 9.10849500e-03 9.13666481e-05]\n",
      " [1.03300885e-01 8.37263538e+00 1.18679513e-02 1.08806100e-04]\n",
      " [1.49839158e-01 1.10505039e+01 1.32535124e-02 1.12185787e-04]\n",
      " [2.03101222e-01 1.27325965e+01 1.41577826e-02 1.14860916e-04]\n",
      " [3.94501565e-01 2.14943396e+01 1.95826107e-02 1.37430779e-04]\n",
      " [7.59807885e-01 3.38444950e+01 2.69955051e-02 1.65145849e-04]\n",
      " [7.69694197e-01 3.28497578e+01 2.47952467e-02 1.46353576e-04]\n",
      " [1.49218746e+00 5.40814631e+01 3.60939841e-02 1.76307491e-04]\n",
      " [2.89476735e+00 7.97281328e+01 4.97448328e-02 2.12332558e-04]\n",
      " [5.09704319e+00 1.08841915e+02 6.46561671e-02 2.45034343e-04]\n",
      " [1.26800429e+00 2.46579610e+01 1.43347290e-02 5.12014871e-05]\n",
      " [2.45226840e+00 3.91541439e+01 2.13556927e-02 6.19588492e-05]\n",
      " [4.74146234e+00 5.56690921e+01 2.94134070e-02 7.49749353e-05]\n",
      " [8.31621972e+00 7.92197967e+01 4.04187745e-02 8.68861219e-05]\n",
      " [8.44876350e+00 7.42277016e+01 3.75932147e-02 7.75581285e-05]\n",
      " [1.76838474e+01 1.12020232e+02 5.53725411e-02 9.81663279e-05]\n",
      " [1.39972765e+00 6.88911359e+00 3.33650387e-03 5.08224472e-06]\n",
      " [2.27270765e+00 8.41979033e+00 4.03334312e-03 5.57922121e-06]\n",
      " [2.73316984e+00 8.93393391e+00 4.24979501e-03 5.49724086e-06]\n",
      " [5.25380872e+00 1.21200573e+01 5.76018052e-03 6.68694440e-06]]\n",
      "[3.50727222e+02 3.04090731e+03 1.67288174e+00 4.96851705e-03]\n",
      "0.007161844257576591\n"
     ]
    }
   ],
   "source": [
    "#integrate over the masses\n",
    "print(np.shape(rate_tot_iso_50))\n",
    "print(np.trapz(rate_tot_iso_50, q_range, axis=0))\n",
    "print(np.trapz(np.trapz(rate_tot_iso_50, q_range, axis=0), mass1_range, axis=0))\n",
    "print(np.trapz(np.trapz(np.trapz(rate_tot_iso_50, q_range, axis=0), mass1_range, axis=0), ecc_range))"
   ]
  },
  {
   "cell_type": "code",
   "execution_count": 62,
   "id": "ffd062f1",
   "metadata": {},
   "outputs": [
    {
     "name": "stdout",
     "output_type": "stream",
     "text": [
      "(2, 20, 4)\n",
      "[[8.57642323e-02 7.93342635e+00 3.64339800e-03 3.65466592e-05]\n",
      " [1.65281416e-01 1.33962166e+01 4.74718052e-03 4.35224401e-05]\n",
      " [2.39742652e-01 1.76808062e+01 5.30140494e-03 4.48743146e-05]\n",
      " [3.24961955e-01 2.03721544e+01 5.66311302e-03 4.59443662e-05]\n",
      " [6.31202503e-01 3.43909433e+01 7.83304428e-03 5.49723116e-05]\n",
      " [1.21569262e+00 5.41511920e+01 1.07982020e-02 6.60583396e-05]\n",
      " [1.23151072e+00 5.25596126e+01 9.91809867e-03 5.85414305e-05]\n",
      " [2.38749993e+00 8.65303409e+01 1.44375936e-02 7.05229963e-05]\n",
      " [4.63162776e+00 1.27565012e+02 1.98979331e-02 8.49330233e-05]\n",
      " [8.15526911e+00 1.74147064e+02 2.58624668e-02 9.80137372e-05]\n",
      " [2.02880686e+00 3.94527377e+01 5.73389158e-03 2.04805948e-05]\n",
      " [3.92362944e+00 6.26466303e+01 8.54227709e-03 2.47835397e-05]\n",
      " [7.58633974e+00 8.90705474e+01 1.17653628e-02 2.99899741e-05]\n",
      " [1.33059515e+01 1.26751675e+02 1.61675098e-02 3.47544488e-05]\n",
      " [1.35180216e+01 1.18764322e+02 1.50372859e-02 3.10232514e-05]\n",
      " [2.82941558e+01 1.79232371e+02 2.21490165e-02 3.92665312e-05]\n",
      " [2.23956425e+00 1.10225817e+01 1.33460155e-03 2.03289789e-06]\n",
      " [3.63633224e+00 1.34716645e+01 1.61333725e-03 2.23168848e-06]\n",
      " [4.37307174e+00 1.42942943e+01 1.69991800e-03 2.19889634e-06]\n",
      " [8.40609396e+00 1.93920916e+01 2.30407221e-03 2.67477776e-06]]\n",
      "[5.61163556e+02 4.86545170e+03 6.69152696e-01 1.98740682e-03]\n",
      "0.011358509880673107\n"
     ]
    }
   ],
   "source": [
    "#integrate over the masses\n",
    "print(np.shape(rate_tot_iso_80))\n",
    "print(np.trapz(rate_tot_iso_80, q_range, axis=0))\n",
    "print(np.trapz(np.trapz(rate_tot_iso_80, q_range, axis=0), mass1_range, axis=0))\n",
    "print(np.trapz(np.trapz(np.trapz(rate_tot_iso_80, q_range, axis=0), mass1_range, axis=0), ecc_range))"
   ]
  },
  {
   "cell_type": "code",
   "execution_count": null,
   "id": "e8050058-b20a-4156-b998-ac72c56de590",
   "metadata": {},
   "outputs": [],
   "source": [
    "n_grid = 50\n",
    "nproc=1\n",
    "#e_grid = np.logspace(-9, -4, n_grid)\n",
    "mass_grid = np.linspace(5, 80, n_grid)\n",
    "m_c = lw.utils.chirp_mass(mass_grid * u.Msun, mass_grid * u.Msun)\n",
    "#M1, M2= np.meshgrid(mass_grid, mass_grid)\n",
    "E = np.zeros_like(mass_grid)"
   ]
  },
  {
   "cell_type": "code",
   "execution_count": null,
   "id": "4b256f61-0470-4c72-9d11-91dfe83ddae6",
   "metadata": {
    "scrolled": true,
    "tags": []
   },
   "outputs": [],
   "source": [
    "with MultiPool(processes=nproc) as pool:\n",
    "    dat_out = list(pool.map(get_LISA_norm_circular, zip(list(mass_grid), list(mass_grid), list(E))))\n"
   ]
  },
  {
   "cell_type": "code",
   "execution_count": null,
   "id": "773df2c4-e2a1-4549-b601-aec6e2984d7e",
   "metadata": {},
   "outputs": [],
   "source": [
    "V_c = []\n",
    "LIGO_rate_uniform = []\n",
    "LIGO_rate_iso_dyn_50 = []\n",
    "LIGO_rate_iso_dyn_80 = []\n",
    "LIGO_rate = []\n",
    "times = []\n",
    "ecc_evols = []\n",
    "f_orb_evols = []\n",
    "LISA_norms = []\n",
    "m1_evols = []\n",
    "m2_evols = []\n",
    "\n",
    "for d, m1, m2, e in tqdm.tqdm(zip(dat_out, mass_grid, mass_grid, E), total=len(mass_grid)):\n",
    "    f_orb_evol, ecc_evol, timesteps, LISA_norm = d\n",
    "    \n",
    "    LISA_norms.append(LISA_norm.to(u.yr/u.Hz))\n",
    "    times.append(timesteps)\n",
    "    ecc_evols.append(ecc_evol)\n",
    "    f_orb_evols.append(f_orb_evol)\n",
    "    m1_evols.append(m1 * np.ones(len(f_orb_evol)))\n",
    "    m2_evols.append(m2 * np.ones(len(f_orb_evol)))\n",
    "    LIGO_rate_uniform.append(get_LIGO_rate_uniform_e(m1, n_grid))\n",
    "    LIGO_rate_iso_dyn_50.append(get_LIGO_rate_iso_dyn(m1, e, frac_iso=0.5))\n",
    "    LIGO_rate_iso_dyn_80.append(get_LIGO_rate_iso_dyn(m1, e, frac_iso=0.8))\n",
    "    LIGO_rate.append(ligo_rate(m1))\n",
    "\n",
    "times = np.array(times)\n",
    "ecc_evols = np.array(ecc_evols)\n",
    "f_orb_evols = np.array(f_orb_evols)\n",
    "m1_evols = np.array(m1_evols)\n",
    "m2_evols = np.array(m2_evols)\n"
   ]
  },
  {
   "cell_type": "code",
   "execution_count": null,
   "id": "95c02988-948f-48f1-8930-f0f0664f6c26",
   "metadata": {},
   "outputs": [],
   "source": [
    "np.shape(m1_evols), np.shape(f_orb_evols)"
   ]
  },
  {
   "cell_type": "code",
   "execution_count": null,
   "id": "360c7516-bab3-4817-bfdb-d18df6605152",
   "metadata": {},
   "outputs": [],
   "source": [
    "source = lw.source.Source(m_1=m1_evols.flatten() * u.Msun,\n",
    "                          m_2=m2_evols.flatten() * u.Msun,\n",
    "                          ecc=ecc_evols.flatten(),\n",
    "                          f_orb=f_orb_evols.flatten() * u.Hz,\n",
    "                          dist=8 * np.ones(len(f_orb_evols.flatten())) * u.Mpc,\n",
    "                          interpolate_g=False,\n",
    "                          n_proc=1)\n",
    "snr = source.get_snr(approximate_R=True, verbose=True)\n",
    "D_h = snr/7 * 8 * u.Mpc\n",
    "redshift = np.ones(len(D_h)) * 1e-8\n",
    "redshift[D_h > 0.0001 * u.Mpc] = z_at_value(Planck18.luminosity_distance, D_h[D_h > 0.0001 * u.Mpc])\n",
    "V_c = Planck18.comoving_volume(z=redshift)\n"
   ]
  },
  {
   "cell_type": "code",
   "execution_count": null,
   "id": "824338ba-5f4a-4f97-9b76-e06b1db71476",
   "metadata": {},
   "outputs": [],
   "source": [
    "V_c_reshape = V_c.reshape(f_orb_evols.shape)\n",
    "SNR_reshape = snr.reshape(f_orb_evols.shape)"
   ]
  },
  {
   "cell_type": "code",
   "execution_count": null,
   "id": "384524bd-e089-402c-a679-e2ec962a8004",
   "metadata": {},
   "outputs": [],
   "source": [
    "np.shape(V_c_reshape), np.shape(LIGO_rate), np.shape(mass_grid), np.shape(f_orb_evols)"
   ]
  },
  {
   "cell_type": "code",
   "execution_count": null,
   "id": "0f7ebb69-0c64-4b7b-bf45-3ac8d74db635",
   "metadata": {},
   "outputs": [],
   "source": [
    "V_c_reshape"
   ]
  },
  {
   "cell_type": "code",
   "execution_count": null,
   "id": "8321ce0a-986a-4bba-a7ff-a7f634a06792",
   "metadata": {},
   "outputs": [],
   "source": [
    "for ii in range(len(mass_grid)):\n",
    "    plt.scatter(f_orb_evols[ii,:], np.ones(100) * m_c[ii], c=np.log10(V_c_reshape[ii,:].value), vmin=-13, vmax=10)\n",
    "    \n",
    "plt.xscale('log')\n",
    "plt.colorbar(label=r'comoving volume [Mpc$^3$]')\n",
    "plt.xlabel('orbital frequency')\n",
    "plt.ylabel(r'chirp mass [M$_{\\odot}$]; q=1')"
   ]
  },
  {
   "cell_type": "code",
   "execution_count": null,
   "id": "4f229c22-67c7-4aa7-bd8f-1eab1ee26bcb",
   "metadata": {},
   "outputs": [],
   "source": [
    "for ii in range(len(mass_grid)):\n",
    "    rate_per_freq = (V_c_reshape[ii,:] * LISA_norms[ii] * LIGO_rate[ii] * u.Gpc**(-3) * u.yr**(-1)).to(u.Hz**(-1))\n",
    "    \n",
    "    plt.scatter(f_orb_evols[ii,:], np.ones(100) * m_c[ii], \n",
    "                c=np.log10(rate_per_freq.value))\n",
    "    \n",
    "plt.xscale('log')\n",
    "plt.colorbar(label=r'rate per frequency [Hz$^{-1}$]')\n",
    "plt.xlabel('orbital frequency')\n",
    "plt.ylabel(r'chirp mass [M$_{\\odot}$]; q=1')"
   ]
  },
  {
   "cell_type": "code",
   "execution_count": null,
   "id": "4057a667-11b3-401f-b04c-8fba17f5539a",
   "metadata": {},
   "outputs": [],
   "source": [
    "rate = []\n",
    "for ii, m1, m2 in zip(range(len(mass_grid)), mass_grid, mass_grid):\n",
    "    f = f_orb_evols[ii, :]\n",
    "    v_c = V_c_reshape[ii, :]\n",
    "    snr = SNR_reshape[ii, :]\n",
    "    l_norm = LISA_norms[ii]\n",
    "    l_rate = LIGO_rate[ii] * u.Gpc**(-3) * u.yr**(-1)\n",
    "    rate.append(trapz(l_norm * v_c * l_rate.to(u.Mpc**(-3) * u.yr**(-1)), f * u.Hz).value)"
   ]
  },
  {
   "cell_type": "code",
   "execution_count": null,
   "id": "38dfc06b-840b-40c2-9c93-2b0cd094c004",
   "metadata": {},
   "outputs": [],
   "source": [
    "print(rate)"
   ]
  },
  {
   "cell_type": "code",
   "execution_count": null,
   "id": "3dfb7a9e-437d-4d84-8bc7-3e7ae9e2e266",
   "metadata": {},
   "outputs": [],
   "source": [
    "plt.scatter(m_c, rate)"
   ]
  },
  {
   "cell_type": "code",
   "execution_count": null,
   "id": "19443e8a-5468-41dd-8818-a7aaea705a65",
   "metadata": {},
   "outputs": [],
   "source": []
  },
  {
   "cell_type": "code",
   "execution_count": null,
   "id": "b150f509-8854-4c1b-a61c-ad134f9d4c2c",
   "metadata": {},
   "outputs": [],
   "source": [
    "f_orb_evols.flatten()[np.isnan(snr)]"
   ]
  },
  {
   "cell_type": "code",
   "execution_count": null,
   "id": "cd258d34-ae61-4702-aae4-f6f0ad226665",
   "metadata": {},
   "outputs": [],
   "source": [
    "fig, (ax1, ax2, ax3) = plt.subplots(1, 3, figsize=(16, 4))\n",
    "ax1.scatter(M_c, E, c=N_lisa_tot_uniform, s=M2, norm=colors.LogNorm())\n",
    "#print(np.sum(N_lisa_tot_uniform))\n",
    "ax1.set_title(f'N LISA {np.round(np.sum(N_lisa_tot_uniform), 4)}')\n",
    "ax2.scatter(M_c, E, c=N_lisa_tot_iso_dyn_50, s=M2, norm=colors.LogNorm())\n",
    "ax2.set_title(f'N LISA {np.round(np.sum(N_lisa_tot_iso_dyn_50), 4)}')\n",
    "c = ax3.scatter(M_c, E, c=N_lisa_tot_iso_dyn_80, s=M2, norm=colors.LogNorm())\n",
    "ax3.set_title(f'N LISA {np.round(np.sum(N_lisa_tot_iso_dyn_80), 4)}')\n",
    "ax1.set_yscale('log')\n",
    "ax2.set_yscale('log')\n",
    "ax3.set_yscale('log')\n",
    "ax1.set_xscale('log')\n",
    "ax2.set_xscale('log')\n",
    "ax3.set_xscale('log')\n",
    "\n",
    "plt.colorbar(c)    "
   ]
  },
  {
   "cell_type": "code",
   "execution_count": null,
   "id": "807d9696-0c75-4b6f-b81c-550084f81395",
   "metadata": {},
   "outputs": [],
   "source": [
    "plt.scatter(e_LIGO, N_lisa_tot_uniform)\n",
    "plt.xscale('log')\n",
    "plt.yscale('log')"
   ]
  },
  {
   "cell_type": "code",
   "execution_count": null,
   "id": "1e122a82-e408-4ce4-bc78-eeb89af77061",
   "metadata": {},
   "outputs": [],
   "source": [
    "sum(N_lisa_tot_uniform), sum(N_lisa_tot_iso_dyn_50), sum(N_lisa_tot_iso_dyn_80)"
   ]
  },
  {
   "cell_type": "code",
   "execution_count": null,
   "id": "bdef73b5-ccf5-4e1b-99e2-56f3e0a27a7d",
   "metadata": {},
   "outputs": [],
   "source": [
    "len(dat_in[0])"
   ]
  },
  {
   "cell_type": "code",
   "execution_count": null,
   "id": "414341c3-f9f5-49cb-939b-68a64d12680b",
   "metadata": {},
   "outputs": [],
   "source": [
    "m1, m2, e_LIGO, dat_load = dat_in[-1]\n",
    "m1 = m1 * u.Msun\n",
    "m2 = m2 * u.Msun\n",
    "f_LIGO=10 * u.Hz\n",
    "#e_LIGO = 0.0\n",
    "# create timesteps\n",
    "timesteps = utils.get_t_evol_from_f(m1, m2, e_LIGO)\n",
    "print(timesteps)"
   ]
  },
  {
   "cell_type": "code",
   "execution_count": null,
   "id": "d6a13f57",
   "metadata": {},
   "outputs": [],
   "source": [
    "f_orb_evol, ecc_evol = lw.evol.evol_ecc(\n",
    "    m_1=m1, m_2=m2, f_orb_i=f_LIGO, ecc_i=e_LIGO, timesteps=timesteps,\n",
    "    t_before=0.00001*u.yr, output_vars=[\"f_orb\", \"ecc\"], avoid_merger=False)\n",
    "\n",
    "#f_orb_evol = lw.evol.evol_circ(\n",
    "#    m_1=m1, m_2=m2, f_orb_i=f_LIGO, timesteps=timesteps,\n",
    "#    output_vars=[\"f_orb\"])\n",
    "\n",
    "#LISA_mask = (f_orb_evol < 0.1 * u.Hz) & (f_orb_evol > 1e-4 * u.Hz)\n",
    "\n",
    "#f_orb_evol = f_orb_evol[LISA_mask]\n",
    "#ecc_evol = np.zeros(len(f_orb_evol))\n",
    "#ecc_evol = ecc_evol[LISA_mask]\n",
    "\n",
    "print(len(f_orb_evol), np.flip(f_orb_evol[-10:]))\n",
    "\n",
    "if e_LIGO > 0:\n",
    "    lnJ = cumulative_trapezoid(dg_de(f_orb_evol, ecc_evol), f_orb_evol, initial=0)\n",
    "    de_deprime = np.exp(lnJ)\n",
    "else:\n",
    "    de_deprime = np.ones(len(f_orb_evol[1:]))\n",
    "\n",
    "f_LISA_mask = f_orb_evol < 0.1 * u.Hz\n",
    "\n",
    "LISA_norm = np.abs(utils.dTmerger_df(m1, m2, f_orb_evol, ecc_evol).to(u.s / u.Hz)) * de_deprime\n",
    "\n",
    "LISA_norm_cut = LISA_norm[f_LISA_mask]\n",
    "\n",
    "print(utils.dTmerger_df(m1, m2, f_orb_evol, ecc_evol).to(u.s / u.Hz))"
   ]
  },
  {
   "cell_type": "code",
   "execution_count": null,
   "id": "18c2fa7c",
   "metadata": {},
   "outputs": [],
   "source": [
    "print(f_orb_evol[-10:])\n",
    "print(np.exp(cumulative_trapezoid(dg_de(f_orb_evol, e_LIGO), f_orb_evol))[-10:])\n",
    "print(np.exp(cumulative_trapezoid(dg_de(f_orb_evol, ecc_evol), f_orb_evol)[-10:]))"
   ]
  },
  {
   "cell_type": "code",
   "execution_count": null,
   "id": "24539b8a",
   "metadata": {},
   "outputs": [],
   "source": [
    "print(m2)\n",
    "source = lw.source.Source(m_1=m1*np.ones(len(f_orb_evol[f_LISA_mask])),\n",
    "                          m_2=m2*np.ones(len(f_orb_evol[f_LISA_mask])),\n",
    "                          ecc=np.flip(ecc_evol[f_LISA_mask]),\n",
    "                          f_orb=np.flip(f_orb_evol[f_LISA_mask]),\n",
    "                          dist=8 * np.ones(len(f_orb_evol[f_LISA_mask])) * u.Mpc,\n",
    "                          interpolate_g=True)\n",
    "\n",
    "snr = source.get_snr(approximate_R=True, verbose=False)\n",
    "#\n",
    "#D_h = utils.get_D_horizon(\n",
    "#        m1*np.ones_like(f_orb_evol), m2*np.ones_like(f_orb_evol), \n",
    "#        ecc_evol, f_orb_evol, dat_load)\n",
    "\n",
    "snr_thresh = 12.0\n",
    "D_h = snr / snr_thresh * 8 * u.Mpc\n",
    "V_c = 4/3 * np.pi * D_h**3\n",
    "redshift = np.ones(len(D_h)) * 1e-8\n",
    "redshift[D_h > 1 * u.kpc] = z_at_value(Planck18.luminosity_distance, D_h[D_h > 1 * u.kpc])\n",
    "V_c[D_h > 1 * u.kpc] = Planck18.comoving_volume(z=redshift[D_h > 1 * u.kpc])  "
   ]
  },
  {
   "cell_type": "code",
   "execution_count": null,
   "id": "3b245d9d",
   "metadata": {},
   "outputs": [],
   "source": [
    "LISA_norm_cut"
   ]
  },
  {
   "cell_type": "code",
   "execution_count": null,
   "id": "395e427b",
   "metadata": {},
   "outputs": [],
   "source": [
    "plt.plot(f_orb_evol, ecc_evol, label=r'$\\mathcal{M}_c = $'+str(np.round(lw.utils.chirp_mass(m1, m2), 2)))\n",
    "plt.plot(f_orb_evol[f_LISA_mask], ecc_evol[f_LISA_mask], label=r'LISA: $\\mathcal{M}_c = $'+str(np.round(lw.utils.chirp_mass(m1, m2), 2)))\n",
    "plt.xscale('log')\n",
    "plt.yscale('log')\n",
    "plt.legend()\n",
    "plt.xlabel('orbital frequency [Hz]')\n",
    "plt.ylabel('eccentricity')"
   ]
  },
  {
   "cell_type": "code",
   "execution_count": null,
   "id": "b9a70728",
   "metadata": {},
   "outputs": [],
   "source": [
    "de_deprime, f_orb_evol"
   ]
  },
  {
   "cell_type": "code",
   "execution_count": null,
   "id": "6634795a",
   "metadata": {},
   "outputs": [],
   "source": [
    "dg_de(f_orb_evol, e_LIGO)"
   ]
  },
  {
   "cell_type": "code",
   "execution_count": null,
   "id": "e72a3a82",
   "metadata": {},
   "outputs": [],
   "source": [
    "plt.scatter(f_orb_evol, np.abs(dg_de(f_orb_evol, e_LIGO)), label=r'$\\delta g/\\delta e$', s=30)\n",
    "plt.scatter(f_orb_evol, de_deprime, label=r'$\\delta e/\\delta e_{10}$', s=10)\n",
    "#plt.scatter(f_orb_evol[1:], lnJ, label=r'$\\ln(J)}$')\n",
    "plt.scatter(f_orb_evol, LISA_norm, label='LISA norm')\n",
    "plt.scatter(f_orb_evol[f_LISA_mask], np.abs(cumulative_trapezoid(V_c.to(u.Gpc**3) * 1/lw.utils.fn_dot(lw.utils.chirp_mass(m1, m2), f_orb_evol[f_LISA_mask], ecc_evol[f_LISA_mask], 1 * np.ones(len(f_orb_evol[f_LISA_mask]))).to(u.Hz / u.s), f_orb_evol[f_LISA_mask], initial=0)), label=r'$1/\\dot{f}_{circ}$', s=10)\n",
    "plt.scatter(f_orb_evol[f_LISA_mask], np.abs(cumulative_trapezoid(V_c.to(u.Gpc**3) * np.abs(utils.dTmerger_df(m1, m2, f_orb_evol[f_LISA_mask], ecc_evol[f_LISA_mask]).to(u.s / u.Hz)), f_orb_evol[f_LISA_mask], initial=0)), label=r'$\\delta T/ \\delta f$', s=10)\n",
    "#plt.scatter(f_orb_evol, V_c.to(u.Gpc**3), label=r'$V_c$')\n",
    "plt.scatter(f_orb_evol[f_LISA_mask], V_c.to(u.Gpc**3) * LISA_norm_cut, label=r'$LISA norm \\times V_{\\rm com}$')\n",
    "plt.legend()\n",
    "plt.yscale('log')\n",
    "plt.xscale('log')\n",
    "#plt.ylim(1e-8, 1e10)"
   ]
  },
  {
   "cell_type": "code",
   "execution_count": null,
   "id": "9e9141da",
   "metadata": {},
   "outputs": [],
   "source": [
    "cumulative_trapezoid(V_c.to(u.Gpc**3) * 1/lw.utils.fn_dot(lw.utils.chirp_mass(m1, m2), f_orb_evol[f_LISA_mask], ecc_evol[f_LISA_mask], 1 * np.ones(len(f_orb_evol[f_LISA_mask]))).to(u.Hz / u.s), f_orb_evol[f_LISA_mask], initial=0)"
   ]
  },
  {
   "cell_type": "code",
   "execution_count": null,
   "id": "b1a3daf4",
   "metadata": {},
   "outputs": [],
   "source": [
    "plt.scatter(f_orb_evol[1:], V_c.to(u.Gpc**3)[1:] * LISA_norm * LIGO_rate_uniform[0], label=r'LISA rate')\n",
    "plt.legend()\n",
    "plt.yscale('log')\n",
    "plt.xscale('log')"
   ]
  },
  {
   "cell_type": "code",
   "execution_count": null,
   "id": "073a438b",
   "metadata": {},
   "outputs": [],
   "source": [
    "trapezoid((V_c.to(u.Gpc**3)[1:] * LISA_norm * LIGO_rate_uniform[0]).to(u.Hz**(-1)), f_orb_evol[1:])"
   ]
  },
  {
   "cell_type": "code",
   "execution_count": null,
   "id": "a2e1ac7e",
   "metadata": {},
   "outputs": [],
   "source": [
    "f_orb_evol[1:]"
   ]
  },
  {
   "cell_type": "code",
   "execution_count": null,
   "id": "4cad6b5b",
   "metadata": {},
   "outputs": [],
   "source": [
    "V_c.to(u.Gpc**3)[1:]"
   ]
  },
  {
   "cell_type": "code",
   "execution_count": null,
   "id": "ab8608ad",
   "metadata": {},
   "outputs": [],
   "source": [
    "plt.plot(f_orb_evol[1:],LISA_norm)\n",
    "plt.loglog()"
   ]
  },
  {
   "cell_type": "code",
   "execution_count": null,
   "id": "46c3ef14",
   "metadata": {},
   "outputs": [],
   "source": []
  }
 ],
 "metadata": {
  "kernelspec": {
   "display_name": "Python 3 (ipykernel)",
   "language": "python",
   "name": "python3"
  },
  "language_info": {
   "codemirror_mode": {
    "name": "ipython",
    "version": 3
   },
   "file_extension": ".py",
   "mimetype": "text/x-python",
   "name": "python",
   "nbconvert_exporter": "python",
   "pygments_lexer": "ipython3",
   "version": "3.10.12"
  }
 },
 "nbformat": 4,
 "nbformat_minor": 5
}
