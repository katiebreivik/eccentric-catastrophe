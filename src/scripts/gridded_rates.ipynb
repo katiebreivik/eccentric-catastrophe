{
 "cells": [
  {
   "cell_type": "code",
   "execution_count": null,
   "id": "8f0982b8-4b8f-48a4-a037-2aaa0d1b047b",
   "metadata": {},
   "outputs": [],
   "source": [
    "import numpy as np\n",
    "import matplotlib.pyplot as plt\n",
    "import legwork as lw\n",
    "import astropy.units as u\n",
    "import tqdm\n",
    "from astropy.cosmology import Planck18, z_at_value\n",
    "from scipy.integrate import trapz\n",
    "\n",
    "from utils import get_LISA_norm"
   ]
  },
  {
   "cell_type": "code",
   "execution_count": null,
   "id": "5b19a8ae-692c-4cc2-b50f-cb1c46049f8c",
   "metadata": {},
   "outputs": [],
   "source": [
    "def get_LIGO_rate_uniform_e(m1, n_e_bins):\n",
    "    if m1 < 20:\n",
    "        rate = 20 / n_e_bins * u.Gpc**(-3) * u.yr**(-1)\n",
    "    elif m1 < 50:\n",
    "        rate = 4.5 / n_e_bins * u.Gpc**(-3) * u.yr**(-1)\n",
    "    elif m1 < 100:\n",
    "        rate = 0.2 / n_e_bins * u.Gpc**(-3) * u.yr**(-1)\n",
    "        \n",
    "    return rate\n",
    "        \n",
    "    \n",
    "def get_LIGO_rate_iso_dyn(m1, e, frac_iso):\n",
    "    if m1 < 20:\n",
    "        if e < 1e-6:\n",
    "            rate = 20 * frac_iso * u.Gpc**(-3) * u.yr**(-1)\n",
    "        else:\n",
    "            rate = 20 * (1-frac_iso) * u.Gpc**(-3) * u.yr**(-1)\n",
    "    elif m1 < 50:\n",
    "        if e < 1e-6:\n",
    "            rate = 4.5 * frac_iso * u.Gpc**(-3) * u.yr**(-1)\n",
    "        else:\n",
    "            rate = 4.5 * (1-frac_iso) * u.Gpc**(-3) * u.yr**(-1)\n",
    "    elif m1 < 100:\n",
    "        if e < 1e-6:\n",
    "            rate = 0.2 * frac_iso * u.Gpc**(-3) * u.yr**(-1)\n",
    "        else:\n",
    "            rate = 0.2 * (1-frac_iso) * u.Gpc**(-3) * u.yr**(-1)\n",
    "        \n",
    "    return rate"
   ]
  },
  {
   "cell_type": "code",
   "execution_count": null,
   "id": "6fb2bf68-78c1-4ffb-98a0-b45a2e043512",
   "metadata": {
    "tags": []
   },
   "outputs": [],
   "source": [
    "import warnings\n",
    "warnings.filterwarnings(\"ignore\")\n",
    "n_e_bins = 10\n",
    "mass1_range = np.arange(5, 80, 5)\n",
    "mass2_range = np.arange(5, 80, 5)\n",
    "ecc_range = np.logspace(-8, -4, n_e_bins)\n",
    "\n",
    "mass1 = []\n",
    "mass2 = []\n",
    "chirp_mass = []\n",
    "e_LIGO = []\n",
    "\n",
    "LISA_norms = []\n",
    "times = []\n",
    "ecc_evols = []\n",
    "f_orb_evols = []\n",
    "LIGO_rate_uniform = []\n",
    "LIGO_rate_iso_dyn_50 = []\n",
    "LIGO_rate_iso_dyn_80 = []\n",
    "horizon_volumes = []\n",
    "\n",
    "for m1 in tqdm.tqdm(mass1_range):\n",
    "    for m2 in mass2_range:\n",
    "        if m2 < m1:\n",
    "            for e in ecc_range:\n",
    "                f_orb_evol, ecc_evol, timesteps, LISA_norm = get_LISA_norm(\n",
    "                    m1=m1 * u.Msun, m2=m2 * u.Msun, f_LIGO=10 * u.Hz, e_LIGO=e\n",
    "                )\n",
    "                ind, = np.where(f_orb_evol < 0.1 * u.Hz)\n",
    "                \n",
    "                source = lw.source.Source(m_1=m1*u.Msun * np.ones_like(ecc_evol[ind]),\n",
    "                                          m_2=m2*u.Msun * np.ones_like(ecc_evol[ind]),\n",
    "                                          ecc=ecc_evol[ind],\n",
    "                                          f_orb=f_orb_evol[ind],\n",
    "                                          dist=8 * np.ones_like(ecc_evol[ind]) * u.Mpc,\n",
    "                                          interpolate_g=False,\n",
    "                                          n_proc=4,\n",
    "                                         )\n",
    "                \n",
    "                snr = source.get_snr(approximate_R=True)\n",
    "                D_h = snr/7 * 8 * u.Mpc\n",
    "                redshift = np.ones(len(D_h)) * 1e-8\n",
    "                redshift[D_h > 0.0001 * u.Mpc] = z_at_value(Planck18.luminosity_distance, D_h[D_h > 0.0001 * u.Mpc])\n",
    "                V_c = Planck18.comoving_volume(z=redshift)\n",
    "                horizon_volumes.append(V_c)\n",
    "                mass1.append(m1)\n",
    "                mass2.append(m2)\n",
    "                e_LIGO.append(e)\n",
    "                LISA_norms.append(LISA_norm[ind])\n",
    "                times.append(timesteps[ind])\n",
    "                ecc_evols.append(ecc_evol[ind])\n",
    "                f_orb_evols.append(f_orb_evol[ind])\n",
    "                LIGO_rate_uniform.append(get_LIGO_rate_uniform_e(m1, n_e_bins))\n",
    "                LIGO_rate_iso_dyn_50.append(get_LIGO_rate_iso_dyn(m1, e, frac_iso=0.5))\n",
    "                LIGO_rate_iso_dyn_80.append(get_LIGO_rate_iso_dyn(m1, e, frac_iso=0.8))\n",
    "                "
   ]
  },
  {
   "cell_type": "code",
   "execution_count": null,
   "id": "27d05a9c-8f29-43ec-9fae-9d52f9fd3417",
   "metadata": {},
   "outputs": [],
   "source": [
    "N_lisa_tot_uniform = []\n",
    "N_lisa_tot_iso_dyn_50 = []\n",
    "N_lisa_tot_iso_dyn_80 = []\n",
    "for ii in range(len(LISA_norms)):\n",
    "    N_lisa_tot_uniform.append(trapz(f_orb_evols[ii], (LISA_norms[ii]*LIGO_rate_uniform[ii]).to(u.Mpc**(-3)*u.Hz**(-1))).value)\n",
    "    N_lisa_tot_iso_dyn_50.append(trapz(f_orb_evols[ii], (LISA_norms[ii]*LIGO_rate_iso_dyn_50[ii]).to(u.Mpc**(-3)*u.Hz**(-1))).value)\n",
    "    N_lisa_tot_iso_dyn_80.append(trapz(f_orb_evols[ii], (LISA_norms[ii]*LIGO_rate_iso_dyn_80[ii]).to(u.Mpc**(-3)*u.Hz**(-1))).value)"
   ]
  },
  {
   "cell_type": "code",
   "execution_count": null,
   "id": "04aad4c9-ae25-4d9f-80ce-d6ca8218508f",
   "metadata": {},
   "outputs": [],
   "source": [
    "from matplotlib import colors"
   ]
  },
  {
   "cell_type": "code",
   "execution_count": null,
   "id": "cd258d34-ae61-4702-aae4-f6f0ad226665",
   "metadata": {},
   "outputs": [],
   "source": [
    "fig, (ax1, ax2, ax3) = plt.subplots(1, 3, figsize=(16, 4))\n",
    "ax1.scatter(lw.utils.chirp_mass(mass1*u.Msun, mass2*u.Msun), e_LIGO, c=N_lisa_tot_uniform, s=10, norm=colors.LogNorm())\n",
    "#print(np.sum(N_lisa_tot_uniform))\n",
    "ax1.set_title(f'N per comoving Mpc^3 {np.round(np.sum(N_lisa_tot_uniform), 4)}')\n",
    "ax2.scatter(lw.utils.chirp_mass(mass1*u.Msun, mass2*u.Msun), e_LIGO, c=N_lisa_tot_iso_dyn_50, s=10, norm=colors.LogNorm())\n",
    "ax2.set_title(f'N per comoving Mpc^3 {np.round(np.sum(N_lisa_tot_iso_dyn_50), 4)}')\n",
    "c = ax3.scatter(lw.utils.chirp_mass(mass1*u.Msun, mass2*u.Msun), e_LIGO, c=N_lisa_tot_iso_dyn_80, s=10, norm=colors.LogNorm())\n",
    "ax3.set_title(f'N per comoving Mpc^3 {np.round(np.sum(N_lisa_tot_iso_dyn_80), 4)}')\n",
    "ax1.set_yscale('log')\n",
    "ax2.set_yscale('log')\n",
    "ax3.set_yscale('log')\n",
    "plt.colorbar(c)    "
   ]
  },
  {
   "cell_type": "code",
   "execution_count": null,
   "id": "807d9696-0c75-4b6f-b81c-550084f81395",
   "metadata": {},
   "outputs": [],
   "source": []
  }
 ],
 "metadata": {
  "kernelspec": {
   "display_name": "Python 3 (ipykernel)",
   "language": "python",
   "name": "python3"
  },
  "language_info": {
   "codemirror_mode": {
    "name": "ipython",
    "version": 3
   },
   "file_extension": ".py",
   "mimetype": "text/x-python",
   "name": "python",
   "nbconvert_exporter": "python",
   "pygments_lexer": "ipython3",
   "version": "3.10.4"
  }
 },
 "nbformat": 4,
 "nbformat_minor": 5
}
