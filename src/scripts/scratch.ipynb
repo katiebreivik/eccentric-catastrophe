{
 "cells": [
  {
   "cell_type": "code",
   "execution_count": 1,
   "id": "ef0a1acc-b42a-4bb2-a167-e0f77021d6c9",
   "metadata": {},
   "outputs": [],
   "source": [
    "import numpy as np\n",
    "import matplotlib.pyplot as plt\n",
    "from matplotlib import cm\n",
    "\n",
    "from legwork import evol, utils\n",
    "import legwork as lw\n",
    "import astropy.units as u\n",
    "import astropy.constants as c\n",
    "\n",
    "from scipy.integrate import cumtrapz\n",
    "from scipy.interpolate import interp1d\n",
    "\n",
    "from astropy.cosmology import Planck18, z_at_value"
   ]
  },
  {
   "cell_type": "code",
   "execution_count": 24,
   "id": "2ce3b8b7-1570-4df3-9938-75329fe5469c",
   "metadata": {},
   "outputs": [],
   "source": [
    "def dg_de(f, e):\n",
    "    prefac = (19 / 18) * (1 / f)\n",
    "    numerator = 6 * (4477 * e**8 + 99225 * e**6 + 145260 * e**4 + 141472 * e**2 - 29184)\n",
    "    denominator = 19 * (37 * e**4 + 292 * e**2 + 96)**2\n",
    "    \n",
    "    return prefac * numerator / denominator\n",
    "\n",
    "def dTmerger_df(m1, m2, f, e):\n",
    "    beta = lw.utils.beta(m1, m2)\n",
    "    ecc_fac = (1 - e**2)**(7/2) * (1 + 0.27 * e**10 + 0.33 * e**20 + 0.2 * e**1000)\n",
    "    dt_df = -2 / 3 * (c.G * (m1 + m2) / (4 * np.pi**2))**(4/3) / beta * f**(-11/3)\n",
    "    \n",
    "    return ecc_fac * dt_df\n",
    "\n",
    "def dTmerger_df_circ(m1, m2, f):\n",
    "    beta = lw.utils.beta(m1, m2)\n",
    "    dt_df = -2 / 3 * (c.G * (m1 + m2) / (4 * np.pi**2))**(4/3) / beta * f**(-11/3)\n",
    "    \n",
    "    return dt_df\n",
    "\n",
    "def create_timesteps(t_evol=-100*u.yr, nstep_fast=100, nstep=20):\n",
    "    t_chunks = np.logspace(0, np.log10(-1*t_evol.to(u.s).value), 10)\n",
    "    t_lo = t_chunks[0]\n",
    "    times = np.logspace(-2, np.log10(t_lo), nstep_fast)\n",
    "    timesteps = -1 * times * u.s\n",
    "    for t in t_chunks[1:]:\n",
    "        times = np.logspace(np.log10(t_lo), np.log10(t), nstep_fast)\n",
    "        timesteps = np.append(timesteps, -1 * times * u.s)\n",
    "        t_lo = t\n",
    "    return timesteps\n",
    "\n",
    "def get_t_evol_LISA(m1, m2, e_LIGO=1e-5, f_LIGO=10*u.Hz, f_LISA=1e-5*u.Hz):\n",
    "    if e_LIGO == 0:\n",
    "        timesteps = create_timesteps(t_evol = -(100000000000)* u.yr, nstep_fast=50 * max(1, int(0.5 * e_LIGO/1e-4)))\n",
    "\n",
    "        a_evol, f_evol = evol.evol_circ(\n",
    "            m_1=m1, m_2=m2, f_orb_i=f_LIGO, timesteps=timesteps,\n",
    "            output_vars=[\"a\", \"f_orb\"])\n",
    "    \n",
    "    else:\n",
    "        timesteps = create_timesteps(t_evol = -(1000/e_LIGO)* u.yr, nstep_fast=50 * max(1, int(0.5 * e_LIGO/1e-4)))\n",
    "        a_evol, e_evol, f_evol = evol.evol_ecc(\n",
    "            m_1=m1, m_2=m2, f_orb_i=f_LIGO, ecc_i=e_LIGO, timesteps=timesteps,\n",
    "            t_before=0.01*u.yr, output_vars=[\"a\", \"ecc\", \"f_orb\"], avoid_merger=False)\n",
    "    \n",
    "    t_interp = interp1d(a_evol, timesteps)\n",
    "    a_lo = utils.get_a_from_f_orb(m_1=m1, m_2=m2, f_orb=f_LISA)  \n",
    "    t_LISA = t_interp(a_lo)\n",
    "\n",
    "    return t_LISA * u.s\n",
    "\n",
    "def dNdVde_primedMcdf(dNdVdedMcdt, m1, m2, f_LIGO, e_LIGO):\n",
    "    # get time to merger for f_LISA = 1e-4 Hz\n",
    "    t_evol = get_t_evol_LISA(m1, m2, e_LIGO, f_LIGO, f_LISA=1e-5*u.Hz)\n",
    "    \n",
    "    # create timesteps\n",
    "    timesteps = create_timesteps(t_evol, nstep_fast=50 * max(1, int(0.5 * e_LIGO/1e-4)))\n",
    "    \n",
    "    if e_LIGO == 0:\n",
    "        a_evol, f_orb_evol = evol.evol_circ(\n",
    "            m_1=m1, m_2=m2, f_orb_i=f_LIGO, timesteps=timesteps,\n",
    "            output_vars=[\"a\", \"f_orb\"])\n",
    "        ecc_evol = np.zeros(len(f_orb_evol))\n",
    "    else:\n",
    "        f_orb_evol, ecc_evol = evol.evol_ecc(\n",
    "            m_1=m1, m_2=m2, f_orb_i=f_LIGO, ecc_i=e_LIGO, timesteps=timesteps,\n",
    "            t_before=0.01*u.yr, output_vars=[\"f_orb\", \"ecc\"], avoid_merger=False)\n",
    "        \n",
    "    lnJ = -cumtrapz(dg_de(f_orb_evol, ecc_evol), f_orb_evol, initial=0)\n",
    "    de_deprime = np.exp(lnJ)\n",
    "    \n",
    "    \n",
    "    dNdVde_LISAdMcdf = dNdVdedMcdt * -1 * dTmerger_df(m1, m2, f_orb_evol, ecc_evol) * de_deprime\n",
    "    \n",
    "    return f_orb_evol, ecc_evol, timesteps, dNdVde_LISAdMcdf.to(u.Mpc**(-3)/u.Hz)\n",
    "\n",
    "    \n",
    "    "
   ]
  },
  {
   "cell_type": "markdown",
   "id": "637d9ec8-8155-43bc-972e-4b4eecc2a648",
   "metadata": {},
   "source": [
    "### Need to create a way to get the evol time back to f_orb = 1e-4 Hz"
   ]
  },
  {
   "cell_type": "code",
   "execution_count": 25,
   "id": "03730ade-7d92-4bfe-b0e9-70ab365c57e5",
   "metadata": {},
   "outputs": [
    {
     "name": "stdout",
     "output_type": "stream",
     "text": [
      "2.4474767157734467e-05 Hz\n"
     ]
    }
   ],
   "source": [
    "f = utils.get_f_orb_from_a(m_1=30 * u.Msun, m_2=30 * u.Msun, a=10 * u.Rsun)  \n",
    "print(f)"
   ]
  },
  {
   "cell_type": "code",
   "execution_count": 26,
   "id": "a43c07ea-c9b7-4af6-8b28-b12e84c42b2d",
   "metadata": {},
   "outputs": [],
   "source": [
    "t_LISA = get_t_evol_LISA(m1=10*u.Msun, m2=10*u.Msun, e_LIGO=1e-4, f_LIGO=10*u.Hz, f_LISA=1e-4*u.Hz)\n"
   ]
  },
  {
   "cell_type": "code",
   "execution_count": 80,
   "id": "59585129-dc49-4e79-9316-2fb5706ebed1",
   "metadata": {},
   "outputs": [],
   "source": [
    "LIGO_rate = 20 * u.Gpc**(-3) * u.yr**(-1)\n",
    "m1 = 100\n",
    "m2 = 50"
   ]
  },
  {
   "cell_type": "code",
   "execution_count": 81,
   "id": "bcf830ed-a9f0-4687-9b4e-2d45ffd41d2b",
   "metadata": {},
   "outputs": [
    {
     "name": "stdout",
     "output_type": "stream",
     "text": [
      "60.836434189320556 solMass\n"
     ]
    }
   ],
   "source": [
    "f_lo, e_lo, t_lo, dNdVde_LISAdMcdf_lo = dNdVde_primedMcdf(LIGO_rate, m1=m1*u.Msun, m2=m2*u.Msun, f_LIGO=10*u.Hz, e_LIGO=0.0)\n",
    "f_mid, e_mid, t_mid, dNdVde_LISAdMcdf_mid = dNdVde_primedMcdf(LIGO_rate, m1=m1*u.Msun, m2=m2*u.Msun, f_LIGO=10*u.Hz, e_LIGO=1e-5)\n",
    "f_hi, e_hi, t_hi, dNdVde_LISAdMcdf_hi = dNdVde_primedMcdf(LIGO_rate, m1=m1*u.Msun, m2=m2*u.Msun, f_LIGO=10*u.Hz, e_LIGO=0.0001)\n",
    "\n",
    "e_labels=['0', '1e-5', '1e-4']\n",
    "mc = utils.chirp_mass(m_1=m1*u.Msun, m_2=m2*u.Msun)\n",
    "print(mc)"
   ]
  },
  {
   "cell_type": "code",
   "execution_count": null,
   "id": "068cc9f9-5741-42bb-96f2-d9f65e8822a1",
   "metadata": {},
   "outputs": [],
   "source": []
  },
  {
   "cell_type": "code",
   "execution_count": 82,
   "id": "5d2be967-70be-4a84-b987-f07646ad15fb",
   "metadata": {},
   "outputs": [
    {
     "data": {
      "image/png": "[encoded data removed]",
      "text/plain": [
       "<Figure size 1440x288 with 3 Axes>"
      ]
     },
     "metadata": {
      "needs_background": "light"
     },
     "output_type": "display_data"
    },
    {
     "data": {
      "image/png": "[encoded data removed]",
      "text/plain": [
       "<Figure size 432x288 with 1 Axes>"
      ]
     },
     "metadata": {
      "needs_background": "light"
     },
     "output_type": "display_data"
    }
   ],
   "source": [
    "fig, axs = plt.subplots(1, 3, figsize=(20,4))\n",
    "x_lo_lim = [1e-2, 1e-1, 1]\n",
    "x_hi_lim = [1e-1, 1, 10]\n",
    "\n",
    "y_lo_lim = [50 * 1e9, 5e-2 * 1e9, 1e-4 * 1e9]\n",
    "y_hi_lim = [5e-3 * 1e9, 1e-5 * 1e9, 5e-8 * 1e9]\n",
    "\n",
    "\n",
    "\n",
    "\n",
    "for ii, ax in enumerate(axs):\n",
    "    for jj, f, e, mc, elabel in zip(range(3), [f_lo, f_mid, f_hi], [e_lo, e_mid, e_hi], [mc, mc, mc], e_labels):\n",
    "        ax.plot(f*1000, e, label=r'e$_{\\rm{LIGO}}$='+elabel, lw=3 - jj)\n",
    "    if ii == 0:\n",
    "        ax.legend(prop={'size':14})\n",
    "        ax.set_ylabel(r'eccentricity', size=14)\n",
    "    \n",
    "    ax.set_xscale('log')\n",
    "    ax.set_yscale('log')\n",
    "    ax.set_xlabel('orbital frequency [Hz]', size=14)\n",
    "    ax.set_xlim(x_lo_lim[ii], x_hi_lim[ii])\n",
    "    ax.set_ylim(0.01, 1)\n",
    "    ax.tick_params(which='both', labelsize=10)\n",
    "    #ax.set_xticks(np.logspace(np.log10(x_lo_lim[ii]), np.log10(x_hi_lim[ii]), 3))\n",
    "\n",
    "fig, ax = plt.subplots(1, 1, figsize=(6,4))\n",
    "for jj, f, rate, mc, elabel in zip(range(3), [f_lo, f_mid, f_hi], [dNdVde_LISAdMcdf_lo, dNdVde_LISAdMcdf_mid, dNdVde_LISAdMcdf_hi], [mc, mc, mc], e_labels):\n",
    "    ax.plot(f*1000, cumtrapz(rate.to(u.Gpc**(-3) * u.Hz**(-1)), -f, initial=0), label=r'e$_{\\rm{LIGO}}$='+elabel, lw=3 - jj)\n",
    "ax.legend(prop={'size':14})\n",
    "ax.set_ylabel(r'dN/dVded$\\mathcal{M}_c$df [Gpc$^{-1}$ M$_{\\odot}^{-1}$ Hz$^{-1}$]', size=14)\n",
    "\n",
    "ax.set_xscale('log')\n",
    "ax.set_yscale('log')\n",
    "ax.set_xlabel('orbital frequency [mHz]', size=14)\n",
    "ax.set_xlim(0.01, 100)\n",
    "ax.set_ylim(0.01, 50000)\n",
    "ax.tick_params(which='both', labelsize=10)\n",
    "#ax.set_xticks(np.logspace(np.log10(x_lo_lim[ii]), np.log10(x_hi_lim[ii]), 3))\n"
   ]
  },
  {
   "cell_type": "markdown",
   "id": "37b3d185-0e38-4da0-88d1-59fc03df0a62",
   "metadata": {},
   "source": [
    "### Now we can calculate the horizon distance for these tracks"
   ]
  },
  {
   "cell_type": "code",
   "execution_count": null,
   "id": "74d9900b-fab5-4d6d-850b-6ff01a166a58",
   "metadata": {},
   "outputs": [],
   "source": [
    "fig1 = plt.figure(figsize=(6, 4))\n",
    "for f, e, rate, label in zip([f_lo, f_mid, f_hi], [e_lo, e_mid, e_hi], [dNdVde_LISAdMcdf_lo, dNdVde_LISAdMcdf_mid, dNdVde_LISAdMcdf_hi], e_labels):\n",
    "    ind_evol, = np.where(f < 1e-1 * u.Hz)\n",
    "     \n",
    "    e = e[ind_evol]\n",
    "    f = f[ind_evol]\n",
    "    rate = rate[ind_evol]\n",
    "    source = lw.source.Source(m_1=m1*u.Msun * np.ones_like(e),\n",
    "                              m_2=m2*u.Msun * np.ones_like(e),\n",
    "                              ecc=e,\n",
    "                              f_orb=f,\n",
    "                              dist=8 * np.ones_like(e) * u.Mpc,\n",
    "                              interpolate_g=False,\n",
    "                              n_proc=1,\n",
    "                             )\n",
    "    \n",
    "    snr = source.get_snr(approximate_R=True)\n",
    "    D_h = snr/7 * 8 * u.Mpc\n",
    "    redshift = np.ones(len(D_h)) * 1e-8\n",
    "    redshift[D_h > 0.0001 * u.Mpc] = z_at_value(Planck18.luminosity_distance, D_h[D_h > 0.0001 * u.Mpc])\n",
    "    V_c = Planck18.comoving_volume(z=redshift)\n",
    "    \n",
    "    #plt.plot(f, cumtrapz(rate.to(u.Gpc**(-3) * u.Hz**(-1)) * V_c.to(u.Gpc**3), -f, initial=0) )\n",
    "    \n",
    "    plt.plot(f, V_c.to(u.Gpc**3))\n",
    "    plt.xscale('log')\n",
    "    plt.yscale('log')\n",
    "#plt.ylim(1e-4, 1e-1)\n",
    "plt.show()\n",
    "plt.close()\n",
    "        \n",
    "   #fig2 = plt.figure(figsize=(6, 4))\n",
    "   #print(rate * V_c)\n",
    "   #\n",
    "   #plt.scatter(f,cumtrapz(rate * V_c, -f, initial=0), label=f'e={label}', s=5)\n",
    "   #\n",
    "   ##cbar.set_ticklabels(ticklabels=np.linspace(0.0, 1.0, 5), size=10)\n",
    "   #plt.xlabel('orbital frequency [Hz]', size=14)\n",
    "   #plt.xlim(1e-5, 1e-1)\n",
    "   #plt.xscale('log')\n",
    "   #plt.yscale('log')\n",
    "   #plt.tick_params(labelsize=10)\n",
    "   #plt.ylabel(r'integrated rate', size=14)\n",
    "   #plt.legend(prop={'size':14})\n",
    "   #plt.show()\n",
    "   #plt.close()\n",
    "   #"
   ]
  },
  {
   "cell_type": "code",
   "execution_count": null,
   "id": "2c28c200-d2d3-4a49-8345-b597b82bb9b6",
   "metadata": {},
   "outputs": [],
   "source": []
  },
  {
   "cell_type": "code",
   "execution_count": 44,
   "id": "cb739448-bf03-47a6-a8b6-15dad93ace22",
   "metadata": {},
   "outputs": [],
   "source": [
    "source = lw.source.Source(m_1=m1*u.Msun * np.ones_like(e_hi[-2:]),\n",
    "                              m_2=m2*u.Msun * np.ones_like(e_hi[-2:]),\n",
    "                              ecc=e_hi[-2:],\n",
    "                              f_orb=f_hi[-2:],\n",
    "                              dist=8 * np.ones_like(e_hi[-2:]) * u.Mpc,\n",
    "                              interpolate_g=False,\n",
    "                              )"
   ]
  },
  {
   "cell_type": "code",
   "execution_count": 45,
   "id": "7cdb6335-464f-4515-bbcd-b57eaf28126c",
   "metadata": {},
   "outputs": [
    {
     "data": {
      "text/plain": [
       "0"
      ]
     },
     "execution_count": 45,
     "metadata": {},
     "output_type": "execute_result"
    }
   ],
   "source": [
    "len(f_hi[e_hi > 0.99])"
   ]
  },
  {
   "cell_type": "code",
   "execution_count": null,
   "id": "f623fd4f-b894-455e-af06-a45f14836671",
   "metadata": {},
   "outputs": [],
   "source": [
    "source.get_snr(verbose=True)"
   ]
  },
  {
   "cell_type": "markdown",
   "id": "911ae729-8760-47c6-9b47-128ee46bb991",
   "metadata": {},
   "source": [
    "## cool! You can run LW backwards instead of forwards!"
   ]
  },
  {
   "cell_type": "code",
   "execution_count": null,
   "id": "e881f3f9-6319-4976-b998-97a330c9bf73",
   "metadata": {},
   "outputs": [],
   "source": [
    "n_pop = 100\n",
    "ecc_i = 10**np.random.normal(loc=-6, scale=0.25, size=n_pop)\n",
    "m_1 = np.random.normal(loc=30, scale=5, size=n_pop) * u.Msun\n",
    "m_2 = np.random.normal(loc=30, scale=5, size=n_pop) * u.Msun\n",
    "forb_i = 0.1 * u.Hz\n",
    "t_evol = -100 * u.yr\n"
   ]
  },
  {
   "cell_type": "markdown",
   "id": "11d4eaf8-8956-4e77-8cc6-e41f0ce9a5a0",
   "metadata": {},
   "source": [
    "## need to calculate t_evol for each forb_LISA"
   ]
  },
  {
   "cell_type": "code",
   "execution_count": null,
   "id": "a25924fe-8328-45ae-b548-107a7ead2ebe",
   "metadata": {},
   "outputs": [],
   "source": [
    "f_orb_evol, ecc_evol = evol.evol_ecc(t_evol=-1000 * u.yr, n_step=10000, m_1=m_1, m_2=m_2, \n",
    "                                     f_orb_i=forb_i, ecc_i=ecc_i, avoid_merger=False,\n",
    "                                     t_before=0.01*u.yr, output_vars=[\"f_orb\", \"ecc\"])\n",
    "    \n",
    "m_c = utils.chirp_mass(m_1, m_2)"
   ]
  },
  {
   "cell_type": "code",
   "execution_count": null,
   "id": "253ac75a-030b-47a5-a747-ca806e30fab9",
   "metadata": {},
   "outputs": [],
   "source": [
    "ecc_evol[:, -1]"
   ]
  },
  {
   "cell_type": "code",
   "execution_count": null,
   "id": "f2181c78-df92-4ef6-93cd-35996dac329f",
   "metadata": {},
   "outputs": [],
   "source": [
    "for f, e, mc in zip(f_orb_evol, ecc_evol, m_c):\n",
    "    plt.plot(f, e, c='silver')\n",
    "plt.xscale('log')\n",
    "plt.yscale('log')\n",
    "plt.xlabel('frequency [Hz]')\n",
    "plt.ylabel('ecc')\n",
    "plt.xlim(1e-4, 1e1)"
   ]
  },
  {
   "cell_type": "code",
   "execution_count": null,
   "id": "994102c5-3bb0-4872-8d40-24841187da13",
   "metadata": {},
   "outputs": [],
   "source": [
    "source = lw.source.Source(m_1=m_1,\n",
    "                          m_2=m_2,\n",
    "                          ecc=ecc_evol[:, -1],\n",
    "                          f_orb=f_orb_evol[:, -1],\n",
    "                          dist=8 * np.ones(100) * u.Mpc,\n",
    "                          interpolate_g=False)\n"
   ]
  },
  {
   "cell_type": "code",
   "execution_count": null,
   "id": "bcfbc360-4739-434e-a6ac-4978885aa97c",
   "metadata": {},
   "outputs": [],
   "source": [
    "snr = source.get_snr()"
   ]
  },
  {
   "cell_type": "code",
   "execution_count": null,
   "id": "1e510a7b-6baf-4216-8088-63645c8bbc48",
   "metadata": {},
   "outputs": [],
   "source": [
    "\n",
    "plt.hist(D_h.value)\n",
    "plt.xlabel('horizon distance [Mpc]')"
   ]
  },
  {
   "cell_type": "code",
   "execution_count": null,
   "id": "86755fa9-3623-459c-88de-bcd7ebd4cc81",
   "metadata": {},
   "outputs": [],
   "source": [
    "n_pop = 100\n",
    "ecc_i = 10**np.random.normal(loc=-6, scale=0.25, size=n_pop)\n",
    "m_1 = np.random.normal(loc=30, scale=5, size=n_pop) * u.Msun\n",
    "m_2 = np.random.normal(loc=30, scale=5, size=n_pop) * u.Msun\n",
    "forb_i = np.ones(n_pop) * 0.1 * u.Hz\n",
    "t_evol = np.ones(n_pop) * -10000 * u.yr\n"
   ]
  },
  {
   "cell_type": "code",
   "execution_count": null,
   "id": "d9cfd3ad-c194-4fba-a188-48447a16047f",
   "metadata": {},
   "outputs": [],
   "source": [
    "f_orb_evol, ecc_evol = evol.evol_ecc(t_evol=t_evol, n_step=10000, m_1=m_1, m_2=m_2, f_orb_i=forb_i, ecc_i=ecc_i,\n",
    "                                     t_before=0.1*u.yr, output_vars=[\"f_orb\", \"ecc\"])\n",
    "    \n",
    "m_c = utils.chirp_mass(m_1, m_2)"
   ]
  },
  {
   "cell_type": "code",
   "execution_count": null,
   "id": "4bfc0bef-90ee-4b5d-ba01-2d4590e956c5",
   "metadata": {},
   "outputs": [],
   "source": [
    "for f, e, mc in zip(f_orb_evol, ecc_evol, m_c):\n",
    "    plt.plot(f, e, c='salmon')\n",
    "plt.xscale('log')\n",
    "plt.yscale('log')\n",
    "plt.xlabel('orbital frequency [Hz]')\n",
    "plt.ylabel('ecc')\n",
    "plt.xlim(1e-4, 1e1)"
   ]
  },
  {
   "cell_type": "markdown",
   "id": "0cf05e24-919d-4154-b68d-5e3a3b644838",
   "metadata": {},
   "source": [
    "### need to get dg/de and dTmerger/df in functions:"
   ]
  },
  {
   "cell_type": "code",
   "execution_count": null,
   "id": "38b36842-7de2-4f39-bc71-91faa892cecf",
   "metadata": {},
   "outputs": [],
   "source": []
  },
  {
   "cell_type": "code",
   "execution_count": null,
   "id": "989c0d5a-cd5c-4ad4-a5f8-3372ed5984d3",
   "metadata": {},
   "outputs": [],
   "source": []
  },
  {
   "cell_type": "code",
   "execution_count": null,
   "id": "284f264c-b8ce-444c-8e51-6691ac324afd",
   "metadata": {},
   "outputs": [],
   "source": [
    "f, e\n",
    "f"
   ]
  },
  {
   "cell_type": "code",
   "execution_count": null,
   "id": "389b3e39-cbc4-44af-83ae-dd2d50f94526",
   "metadata": {},
   "outputs": [],
   "source": [
    "#np.exp(lnJ)"
   ]
  },
  {
   "cell_type": "code",
   "execution_count": null,
   "id": "0960dbf6-54cf-4b5b-b841-ed1b5a0a41b5",
   "metadata": {},
   "outputs": [],
   "source": [
    "plt.hist(np.log10(f.value))"
   ]
  },
  {
   "cell_type": "code",
   "execution_count": null,
   "id": "7387cc20-77d6-4935-8224-a0d774f525a3",
   "metadata": {},
   "outputs": [],
   "source": []
  },
  {
   "cell_type": "code",
   "execution_count": null,
   "id": "fa03d1cc-e131-4273-a1d3-1b39a78f5251",
   "metadata": {},
   "outputs": [],
   "source": [
    "plt.plot(f, e)\n",
    "plt.xscale('log')\n",
    "plt.yscale('log')"
   ]
  },
  {
   "cell_type": "code",
   "execution_count": null,
   "id": "2c9850b3-b070-45eb-a1e3-0a9b12b804f8",
   "metadata": {},
   "outputs": [],
   "source": [
    "plt.plot(f, dg_de(f, e))\n",
    "plt.xscale('log')"
   ]
  },
  {
   "cell_type": "code",
   "execution_count": null,
   "id": "264106bf-ca19-45b3-b34e-62fb270eb3f1",
   "metadata": {},
   "outputs": [],
   "source": [
    "plt.plot(f, e)\n",
    "plt.xscale('log')\n",
    "plt.yscale('log')"
   ]
  },
  {
   "cell_type": "code",
   "execution_count": null,
   "id": "be963a92-7bc6-4516-a431-d42f9edcd854",
   "metadata": {},
   "outputs": [],
   "source": [
    "f, dTmerger_df(m1, m2, f, e).to(u.s**2)"
   ]
  },
  {
   "cell_type": "code",
   "execution_count": null,
   "id": "bb25f14a-c6e6-4ce1-bb48-578f6796ce8f",
   "metadata": {},
   "outputs": [],
   "source": [
    "plt.plot(f, abs(dTmerger_df(m1, m2, f, e).to(u.s**2)))\n",
    "plt.yscale('log')\n",
    "plt.xscale('log')"
   ]
  },
  {
   "cell_type": "code",
   "execution_count": null,
   "id": "ce2f8307-31eb-494f-86d9-3f4d4f586a5d",
   "metadata": {},
   "outputs": [],
   "source": [
    "plt.plot(f, dNdVdedMcdt * dTmerger_df(m1, m2, f, e).to(u.s**2) * dg_de(f, e).to(u.s))\n",
    "plt.xscale('log')\n",
    "plt.yscale('log')\n",
    "#plt.xlim(1e-3, 1e-1)\n",
    "#plt.ylim(1e7, 1e18)"
   ]
  },
  {
   "cell_type": "code",
   "execution_count": null,
   "id": "abb2abb0-f231-4f83-b45e-67d64bbf4637",
   "metadata": {},
   "outputs": [],
   "source": [
    "dNdVdedMcdt * dg_de(f, e) * dTmerger_df(m1, m2, f, e)"
   ]
  },
  {
   "cell_type": "code",
   "execution_count": null,
   "id": "582d3d92-ef41-4b31-a9cf-f9e6ac49f9b6",
   "metadata": {},
   "outputs": [],
   "source": [
    "n_pop = 100\n",
    "ecc_i = 0.0\n",
    "m_1 = 40.0 * u.Msun\n",
    "m_2 = 30.0 * u.Msun\n",
    "forb_i = np.ones(n_pop) * 10 * u.Hz\n",
    "t_evol = np.ones(n_pop) * -100000 * u.yr"
   ]
  },
  {
   "cell_type": "code",
   "execution_count": null,
   "id": "73291b87-49dd-45ad-a687-ac079bb31360",
   "metadata": {},
   "outputs": [],
   "source": [
    "f_orb_evol = evol.evol_circ(t_evol=t_evol, n_step=100000, m_1=m_1, m_2=m_2, f_orb_i=forb_i, \n",
    "                                      output_vars=[\"f_orb\"])\n",
    "    \n",
    "m_c = utils.chirp_mass(m_1, m_2)"
   ]
  },
  {
   "cell_type": "code",
   "execution_count": null,
   "id": "3e78d136-6ad1-45d2-9e5c-a1bb09b7dda5",
   "metadata": {},
   "outputs": [],
   "source": [
    "f_orb_evol"
   ]
  },
  {
   "cell_type": "code",
   "execution_count": null,
   "id": "46f36e82-2f9d-43e6-837a-29ab51af149c",
   "metadata": {},
   "outputs": [],
   "source": [
    "e_evol = 0.0"
   ]
  },
  {
   "cell_type": "code",
   "execution_count": null,
   "id": "2cd9aa30-f9e2-4175-8618-c65f0e5c32b2",
   "metadata": {},
   "outputs": [],
   "source": []
  },
  {
   "cell_type": "code",
   "execution_count": null,
   "id": "e68b3ffe-f096-4fc8-8c2b-277baa82031f",
   "metadata": {},
   "outputs": [],
   "source": [
    "plt.plot(f_orb_evol, dTmerger_df_circ(m_1, m_2, f_orb_evol).to(u.s**2) * dg_de(f_orb_evol, e_evol) * dNdVdedMcdt)\n",
    "plt.xscale('log')\n",
    "plt.yscale('log')"
   ]
  },
  {
   "cell_type": "code",
   "execution_count": null,
   "id": "5079662d-9112-4338-83d4-29f9689706bf",
   "metadata": {},
   "outputs": [],
   "source": [
    "plt.plot(f_orb_evol, abs(dTmerger_df_circ(m_1, m_2, f_orb_evol)))\n",
    "plt.xscale('log')\n",
    "plt.yscale('log')"
   ]
  },
  {
   "cell_type": "code",
   "execution_count": null,
   "id": "d988b596-e5b4-4ed1-9788-9222cd0e405b",
   "metadata": {},
   "outputs": [],
   "source": []
  }
 ],
 "metadata": {
  "kernelspec": {
   "display_name": "cosmic",
   "language": "python",
   "name": "cosmic"
  },
  "language_info": {
   "codemirror_mode": {
    "name": "ipython",
    "version": 3
   },
   "file_extension": ".py",
   "mimetype": "text/x-python",
   "name": "python",
   "nbconvert_exporter": "python",
   "pygments_lexer": "ipython3",
   "version": "3.8.5"
  }
 },
 "nbformat": 4,
 "nbformat_minor": 5
}
