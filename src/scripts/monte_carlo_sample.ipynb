{
 "cells": [
  {
   "cell_type": "code",
   "execution_count": null,
   "id": "4f975c25-94e9-45c2-8457-3c34bdae3ab8",
   "metadata": {},
   "outputs": [],
   "source": [
    "import numpy as np\n",
    "import matplotlib.pyplot as plt\n",
    "import legwork as lw\n",
    "import astropy.units as u\n",
    "import tqdm\n",
    "from astropy.cosmology import Planck18, z_at_value\n",
    "from scipy.integrate import trapz, cumtrapz\n",
    "from schwimmbad import MultiPool\n",
    "from utils import get_LISA_norm, get_LISA_norm_circular, dTmerger_df_circ, get_t_evol_LISA\n",
    "from scipy.interpolate import interp1d"
   ]
  },
  {
   "cell_type": "code",
   "execution_count": null,
   "id": "5275afb1-6d5f-4c23-b751-557a7eafa2ed",
   "metadata": {},
   "outputs": [],
   "source": [
    "def ligo_rate(m1):\n",
    "    dat = np.array([[3.705799151343708, 0.001087789470121345],\n",
    "                   [4.384724186704389, 0.00984816875074369],\n",
    "                   [5.063649222065067, 0.06979974252228799],\n",
    "                   [5.827439886845831, 0.41173514594201527],\n",
    "                   [6.506364922206512, 1.3579705933006465],\n",
    "                   [6.845827439886847, 2.148948034692836],\n",
    "                   [7.77934936350778, 2.7449738151212433],\n",
    "                   [8.543140028288544, 2.6218307403757986],\n",
    "                   [9.561527581329564, 2.0525434471508692],\n",
    "                   [11.173974540311175, 1.2388629239937763],\n",
    "                   [12.701555869872706, 0.7828664968878465],\n",
    "                   [14.398868458274404, 0.4947116747780942],\n",
    "                   [16.859971711456865, 0.2895969742197884],\n",
    "                   [19.66053748231967, 0.17748817964452962],\n",
    "                   [22.206506364922213, 0.12773570001722281],\n",
    "                   [24.837340876944843, 0.10389898279212807],\n",
    "                   [27.722772277227726, 0.1087789470121345],\n",
    "                   [30.183875530410184, 0.13070104796093673],\n",
    "                   [32.729844413012735, 0.16441704701060267],\n",
    "                   [34.85148514851486, 0.16695189854274867],\n",
    "                   [37.397454031117405, 0.12107555776371784],\n",
    "                   [39.26449787835927, 0.08010405199404155],\n",
    "                   [41.30127298444131, 0.049851062445855264],\n",
    "                   [43.592644978783596, 0.029631988560550687],\n",
    "                   [45.629420084865636, 0.018440841322693136],\n",
    "                   [48.0905233380481, 0.011832859313068754],\n",
    "                   [50.891089108910904, 0.007949361111716631],\n",
    "                   [53.77652050919379, 0.005764973856945108],\n",
    "                   [57.25601131541727, 0.0043438393396653925],\n",
    "                   [61.923620933521946, 0.0032730313574784275],\n",
    "                   [66.67609618104669, 0.0024851284269805634],\n",
    "                   [70.66478076379069, 0.002068305171949823],\n",
    "                   [74.82319660537483, 0.0016952583040389245],\n",
    "                   [78.72701555869875, 0.0013476220436441713],\n",
    "                   [81.27298444130128, 0.0010389898279212807]])\n",
    "    \n",
    "    mass = dat[:,0]\n",
    "    rate = dat[:,1]\n",
    "    interp_rate = interp1d(mass, rate)\n",
    "    \n",
    "    return interp_rate(m1)\n",
    "\n",
    "\n",
    "def get_LIGO_rate_single_e(m1, ecc):\n",
    "    rate = ligo_rate(m1)\n",
    "    rate_per_ecc = rate\n",
    "    rate = np.array(rate_per_ecc) * u.Gpc**(-3) * u.yr**(-1) * u.Msun**(-1)\n",
    "    \n",
    "    return rate\n",
    "\n",
    "def get_LIGO_rate_uniform_e(m1, ecc, ecc_grid):\n",
    "    rate = ligo_rate(m1)\n",
    "    rate_per_ecc = rate / len(ecc_grid)\n",
    "    rate = np.array(rate_per_ecc) * u.Gpc**(-3) * u.yr**(-1) * u.Msun**(-1)\n",
    "    \n",
    "    return rate\n",
    "        \n",
    "    \n",
    "def get_LIGO_rate_iso_dyn(m1, e, ecc_grid, frac_iso):\n",
    "    rate = ligo_rate(m1)\n",
    "    rate = np.where(e < 1e-6, rate * frac_iso / len(ecc_grid[ecc_grid < 1e-6]), rate * (1-frac_iso) / len(ecc_grid < 1e-6))\n",
    "    \n",
    "    return rate\n",
    "\n",
    "\n"
   ]
  },
  {
   "cell_type": "markdown",
   "id": "2807917c-7750-4b9a-a54d-e5938494d49a",
   "metadata": {
    "tags": []
   },
   "source": [
    "## First look at the circular case"
   ]
  },
  {
   "cell_type": "code",
   "execution_count": null,
   "id": "9c3ccea5-4e4e-4490-997c-a4b58adfa53c",
   "metadata": {},
   "outputs": [],
   "source": [
    "n_grid = 25\n",
    "\n",
    "f = np.logspace(-1, -5, 50) * u.Hz\n",
    "\n",
    "masses = np.arange(5, 80, 1)\n",
    "delta_m = masses[1] - masses[0]\n",
    "\n",
    "mass_bins = masses - 0.5 * delta_m\n",
    "mass_bins = np.append(mass_bins, masses[-1] + 0.5 * delta_m)\n",
    "masses = masses * u.Msun\n",
    "mass_bins = mass_bins * u.Msun\n",
    "m_c = lw.utils.chirp_mass(masses, masses)\n",
    "F, MASS = np.meshgrid(f, masses)\n",
    "\n",
    "MC = lw.utils.chirp_mass(MASS, MASS)\n",
    "\n",
    "RATE = ligo_rate(MASS.flatten().value)\n",
    "RATE = RATE.reshape(MC.shape) * u.Gpc**(-3) * u.yr**(-1) * u.Msun**(-1)"
   ]
  },
  {
   "cell_type": "code",
   "execution_count": null,
   "id": "254637eb-6b43-4382-af24-470e978692fc",
   "metadata": {},
   "outputs": [],
   "source": [
    "plt.scatter(F, MC, c=np.log10(RATE.value))\n",
    "plt.colorbar()\n",
    "plt.xscale('log')"
   ]
  },
  {
   "cell_type": "code",
   "execution_count": null,
   "id": "baba7945-8515-4935-aa03-a6547128f989",
   "metadata": {},
   "outputs": [],
   "source": [
    "t_merge = lw.evol.get_t_merge_circ(f_orb_i=F, m_1=MASS, m_2=MASS)"
   ]
  },
  {
   "cell_type": "code",
   "execution_count": null,
   "id": "f0d91e43-44ae-42d7-b870-16fa9ff0f080",
   "metadata": {},
   "outputs": [],
   "source": [
    "source = lw.source.Source(m_1=MASS.flatten(),\n",
    "                          m_2=MASS.flatten(),\n",
    "                          ecc=np.zeros(len(F.flatten())),\n",
    "                          f_orb=F.flatten(),\n",
    "                          dist=8 * np.ones(len(F.flatten())) * u.Mpc,\n",
    "                          interpolate_g=False,\n",
    "                          n_proc=36)\n",
    "snr = source.get_snr(approximate_R=True, verbose=True)\n",
    "D_h = snr/7 * 8 * u.Mpc\n",
    "redshift = np.ones(len(D_h)) * 1e-8\n",
    "redshift[D_h > 0.0001 * u.Mpc] = z_at_value(Planck18.luminosity_distance, D_h[D_h > 0.0001 * u.Mpc])\n",
    "horizon_comoving_volume = Planck18.comoving_volume(z=redshift)\n",
    "horizon_comoving_volume = horizon_comoving_volume.reshape(RATE.shape)\n",
    "D_h = D_h.reshape(RATE.shape)"
   ]
  },
  {
   "cell_type": "code",
   "execution_count": null,
   "id": "56627aa4-9cab-4ff5-96cb-48e86ec1abdc",
   "metadata": {},
   "outputs": [],
   "source": [
    "plt.scatter(F, MC, c=np.log10(t_merge.to(u.yr).value))\n",
    "plt.colorbar(label='log$_{10}$(merger time/yr)')\n",
    "plt.xlabel('orbital frequency [Hz]')\n",
    "plt.ylabel('chirp mass [Msun]')\n",
    "plt.xscale('log')"
   ]
  },
  {
   "cell_type": "code",
   "execution_count": null,
   "id": "2aec76a4-c4c3-4f0d-962d-0b9215235440",
   "metadata": {},
   "outputs": [],
   "source": [
    "plt.scatter(F, MASS, c=np.log10(horizon_comoving_volume.to(u.Gpc**(3)).value))\n",
    "plt.colorbar(label=r'horizon volume [Gpc$^{-3}$]')\n",
    "plt.xscale('log')"
   ]
  },
  {
   "cell_type": "code",
   "execution_count": null,
   "id": "8bf450e7-fdeb-4e0e-a06e-75d9cd190e23",
   "metadata": {},
   "outputs": [],
   "source": [
    "f_dot = lw.utils.fn_dot(m_c = MC.flatten(), e = np.zeros(len(MC.flatten())), n=2, f_orb=F.flatten())"
   ]
  },
  {
   "cell_type": "code",
   "execution_count": null,
   "id": "3f98d980-5ca3-480c-b9e0-0d65d0971ecd",
   "metadata": {},
   "outputs": [],
   "source": [
    "f_dot = f_dot.reshape(F.shape)"
   ]
  },
  {
   "cell_type": "code",
   "execution_count": null,
   "id": "57289e72-f70b-4f2d-a9c9-ef5b3b642da2",
   "metadata": {},
   "outputs": [],
   "source": [
    "RATE"
   ]
  },
  {
   "cell_type": "code",
   "execution_count": null,
   "id": "cafd0bce-5619-4948-b403-1fbf5bb39a9d",
   "metadata": {},
   "outputs": [],
   "source": [
    "N_per_mass = np.zeros(len(masses)) * u.Msun**(-1)\n",
    "for ii, m in enumerate(masses):\n",
    "    N_per_mass[ii] = trapz(RATE[ii,:] / f_dot[ii,:] * horizon_comoving_volume[ii,:], -f)\n",
    "\n",
    "z_lim = z_at_value(Planck18.comoving_volume, 0.5 * u.Gpc**3)\n",
    "d_lim = Planck18.luminosity_distance(z=z_lim)"
   ]
  },
  {
   "cell_type": "code",
   "execution_count": null,
   "id": "cd2218bb-2db1-4828-ad20-9f651ee4f480",
   "metadata": {},
   "outputs": [],
   "source": [
    "trapz(N_per_mass, masses)"
   ]
  },
  {
   "cell_type": "code",
   "execution_count": null,
   "id": "a342a99d-8637-4952-ab52-6362650d4345",
   "metadata": {},
   "outputs": [],
   "source": [
    "plt.plot(masses, N_per_mass)\n"
   ]
  },
  {
   "cell_type": "code",
   "execution_count": null,
   "id": "a57c6802-fcb8-4ddf-ac13-099ac9736b86",
   "metadata": {},
   "outputs": [],
   "source": [
    "dat = []\n",
    "for kk in tqdm.tqdm(range(30)):\n",
    "    m_samp = []\n",
    "    f_samp = []\n",
    "    d_samp = []\n",
    "    for ii, m in enumerate(masses):\n",
    "        for jj, freq in enumerate(f[1:]):\n",
    "            rate_per_Hz = RATE[ii, jj] / f_dot[ii, jj] * delta_m*u.Msun * horizon_comoving_volume[ii,jj].to(u.Gpc**3)\n",
    "            n_samp = rate_per_Hz * (f[jj] - f[jj+1])\n",
    "            # Decide on how many sources at this freq, mass to sample \n",
    "            n_int = int(n_samp)\n",
    "            \n",
    "            n_float = n_samp - n_int\n",
    "            add_check = np.random.uniform(0, 1)\n",
    "            if add_check < n_float:\n",
    "                n_int += 1\n",
    "            \n",
    "            if n_int >= 1:\n",
    "                d_samp.extend(np.random.power(3, n_int) * D_h[ii,jj].value)\n",
    "                m_samp.extend(np.random.uniform(mass_bins[ii].value, mass_bins[ii+1].value, n_int))\n",
    "                f_samp.extend(np.ones(n_int) * freq.value)\n",
    "    d_samp = np.array(d_samp)\n",
    "    m_samp = np.array(m_samp)\n",
    "    f_samp = np.array(f_samp)                \n",
    "        \n",
    "    dat.append([m_samp, f_samp, d_samp])\n",
    "                \n",
    "                \n"
   ]
  },
  {
   "cell_type": "code",
   "execution_count": null,
   "id": "89e337dd-9e59-479e-b557-4cd2632960e2",
   "metadata": {},
   "outputs": [],
   "source": [
    "n_obs = []\n",
    "for d in dat:\n",
    "    m_samp, f_samp, D_samp = d\n",
    "    source = lw.source.Source(m_1=m_samp*u.Msun,\n",
    "                              m_2=m_samp*u.Msun,\n",
    "                              ecc=np.zeros(len(m_samp)),\n",
    "                              f_orb=f_samp*u.Hz,\n",
    "                              dist=D_samp*u.Mpc,\n",
    "                              interpolate_g=False,\n",
    "                              n_proc=1)\n",
    "    snr = source.get_snr(approximate_R=True, verbose=False)\n",
    "    detectable_mask = snr > 7\n",
    "    n_obs.append(len(detectable_mask))\n",
    "    plt.scatter(f_samp[detectable_mask], \n",
    "                lw.utils.chirp_mass(np.array(m_samp[detectable_mask]), np.array(m_samp[detectable_mask])), \n",
    "                c=D_samp[detectable_mask], vmin=10, vmax=200)\n",
    "plt.colorbar()\n",
    "plt.xscale('log')\n",
    "plt.xlim(1e-4, 1e-1)\n",
    "plt.xlabel('frequency [Hz]')\n",
    "plt.ylabel('chirp mass [Msun]')\n",
    "plt.title(f'Number per LISA observation is {np.round(np.mean(n_obs), 2)} pm {np.round(np.std(n_obs), 1)}', size=20)"
   ]
  },
  {
   "cell_type": "markdown",
   "id": "74caf733-82e1-43b0-be01-93e1e164a511",
   "metadata": {},
   "source": [
    "## Next up is to MC sample over eccentricity with q=1"
   ]
  },
  {
   "cell_type": "code",
   "execution_count": null,
   "id": "52c0d44f-55df-432d-9284-c54bf9e0a71e",
   "metadata": {},
   "outputs": [],
   "source": [
    "n_grid_f = 100\n",
    "n_grid_e = 10\n",
    "n_grid_mass = 15\n",
    "\n",
    "f = np.logspace(-1, -4, n_grid) * u.Hz\n",
    "f_bins = f[:-1] - f[1:]\n",
    "\n",
    "masses = np.linspace(5, 80, n_grid_mass)\n",
    "m_bin_widths = masses[1] - masses[0]\n",
    "mass_bins = masses - 0.5 * m_bin_widths\n",
    "mass_bins = np.append(mass_bins, masses[-1] + 0.5 * m_bin_widths)\n",
    "masses = masses * u.Msun\n",
    "mass_bins = mass_bins * u.Msun\n",
    "\n",
    "ecc = np.logspace(-8, -3, n_grid_e)\n",
    "\n",
    "\n",
    "ecc_bins = ecc[1:] - ecc[:-1]\n",
    "\n",
    "m_c = lw.utils.chirp_mass(masses, masses)\n",
    "F, MASS, ECC = np.meshgrid(f, masses, ecc)\n",
    "\n",
    "MC = lw.utils.chirp_mass(MASS, MASS)\n",
    "\n",
    "RATE = get_LIGO_rate_uniform_e(MASS, ECC, ecc)\n",
    "RATE_iso_10 = get_LIGO_rate_iso_dyn(MASS, ECC, ecc, 0.1)\n",
    "RATE_iso_50 = get_LIGO_rate_iso_dyn(MASS, ECC, ecc, 0.5)\n",
    "RATE_iso_90 = get_LIGO_rate_iso_dyn(MASS, ECC, ecc, 0.9)"
   ]
  },
  {
   "cell_type": "code",
   "execution_count": null,
   "id": "aecabb4f-90f9-46ba-a1c5-db27d01f2df6",
   "metadata": {},
   "outputs": [],
   "source": [
    "print(F.flatten().min())"
   ]
  },
  {
   "cell_type": "code",
   "execution_count": null,
   "id": "960cc638-1cb9-4937-8203-15b74c045185",
   "metadata": {},
   "outputs": [],
   "source": [
    "with MultiPool(processes=2) as pool:\n",
    "    T_LISA = np.array(list(pool.map(get_t_evol_LISA, zip(MASS.flatten(), MASS.flatten(), ECC.flatten(), F.flatten()))))\n"
   ]
  },
  {
   "cell_type": "code",
   "execution_count": null,
   "id": "d37eb183-4acf-4f32-8ace-eae59fc7f041",
   "metadata": {},
   "outputs": [],
   "source": [
    "T_LISA = T_LISA * u.s\n",
    "print(np.shape(F))"
   ]
  },
  {
   "cell_type": "code",
   "execution_count": null,
   "id": "700b1d90-0164-4cfc-b4df-89caf1e69f21",
   "metadata": {},
   "outputs": [],
   "source": [
    "a_evol, e_evol, f_evol = lw.evol.evol_ecc(\n",
    "    m_1=MASS.flatten(), m_2=MASS.flatten(), f_orb_i=10*u.Hz, ecc_i=ECC.flatten(), t_evol = T_LISA,\n",
    "            t_before=0.01*u.yr, output_vars=[\"a\", \"ecc\", \"f_orb\"], avoid_merger=False, n_step=2)"
   ]
  },
  {
   "cell_type": "code",
   "execution_count": null,
   "id": "22c258d8-4dae-446b-b725-74d67e1b9fc3",
   "metadata": {},
   "outputs": [],
   "source": [
    "f_evol = f_evol.reshape((len(masses), len(f), len(ecc), 2))[:,:,:,1]\n",
    "e_evol = e_evol.reshape((len(masses), len(f), len(ecc), 2))[:,:,:,1]"
   ]
  },
  {
   "cell_type": "code",
   "execution_count": null,
   "id": "b34a16df-4885-4504-af8f-d5dd3d693afa",
   "metadata": {},
   "outputs": [],
   "source": [
    "source = lw.source.Source(m_1=MASS.flatten(),\n",
    "                          m_2=MASS.flatten(),\n",
    "                          ecc=e_evol.flatten(),\n",
    "                          f_orb=F.flatten(),\n",
    "                          dist=8 * np.ones(len(F.flatten())) * u.Mpc,\n",
    "                          interpolate_g=False,\n",
    "                          n_proc=2)\n",
    "snr = source.get_snr(approximate_R=True, verbose=True)\n",
    "D_h = snr/7 * 8 * u.Mpc\n",
    "redshift = np.ones(len(D_h)) * 1e-8\n",
    "redshift[D_h > 0.0001 * u.Mpc] = z_at_value(Planck18.luminosity_distance, D_h[D_h > 0.0001 * u.Mpc])\n",
    "horizon_comoving_volume = Planck18.comoving_volume(z=redshift)\n",
    "horizon_comoving_volume = horizon_comoving_volume.reshape(MASS.shape)\n",
    "D_h = D_h.reshape(MASS.shape)"
   ]
  },
  {
   "cell_type": "code",
   "execution_count": null,
   "id": "4021fadf-3f3a-414d-9a10-a516a4680ff7",
   "metadata": {},
   "outputs": [],
   "source": [
    "plt.scatter(F[:,:,0], abs((T_LISA.reshape(F.shape)[:,:,0]).to(u.Myr)), c=MC[:,:,0].value)\n",
    "plt.colorbar(label=r'chirp mass [M$_{\\odot}$]')\n",
    "plt.xscale('log')\n",
    "plt.yscale('log')\n",
    "plt.xlabel('frequency')\n",
    "plt.ylabel('time to f=10 Hz')\n",
    "plt.title(r'$\\log_{10}(e_{10}) =$'+str(np.log10(ecc[0])), size=20)"
   ]
  },
  {
   "cell_type": "code",
   "execution_count": null,
   "id": "8b994e66-4ca4-461e-b862-2280deacbdcc",
   "metadata": {},
   "outputs": [],
   "source": [
    "np.shape(F), np.shape(D_h)"
   ]
  },
  {
   "cell_type": "code",
   "execution_count": null,
   "id": "280bef66-2f2f-4f7c-999d-dcfb8de89e1a",
   "metadata": {},
   "outputs": [],
   "source": [
    "plt.scatter(F[:,:,0], D_h[:,:,0], c=MC[:,:,0].value)\n",
    "plt.colorbar(label=r'chirp mass [M$_{\\odot}$]')\n",
    "plt.xscale('log')\n",
    "plt.yscale('log')\n",
    "plt.xlabel('frequency')\n",
    "plt.ylabel('horizon distance')\n",
    "plt.title(r'$\\log_{10}(e_{10}) =$'+str(np.log10(ecc[0])), size=20)"
   ]
  },
  {
   "cell_type": "code",
   "execution_count": null,
   "id": "7afc1fb2-ccdc-4204-b0b0-b50a89a42b1b",
   "metadata": {},
   "outputs": [],
   "source": [
    "plt.scatter(F[:,:,4], D_h[:,:,4], c=MC[:,:,4].value)\n",
    "plt.colorbar(label=r'chirp mass [M$_{\\odot}$]')\n",
    "plt.xscale('log')\n",
    "plt.yscale('log')\n",
    "plt.xlabel('frequency')\n",
    "plt.ylabel('horizon distance')\n",
    "plt.title(r'$\\log_{10}(e_{10}) =$'+str(np.log10(ecc[4])), size=20)"
   ]
  },
  {
   "cell_type": "code",
   "execution_count": null,
   "id": "7a3291de-051a-47d1-a04b-c98d34570c64",
   "metadata": {},
   "outputs": [],
   "source": [
    "plt.scatter(F[0,:,:], abs((T_LISA.reshape(F.shape)[0,:,:]).to(u.Myr)), c=np.log10(ECC[0,:,:]))\n",
    "plt.colorbar(label=r'$\\log_{10}(e_{10})$')\n",
    "plt.xscale('log')\n",
    "plt.yscale('log')\n",
    "plt.xlabel('frequency')\n",
    "plt.ylabel('time to f=10 Hz')\n",
    "plt.title(f'mass = {masses[0]} Msun', size=20)"
   ]
  },
  {
   "cell_type": "code",
   "execution_count": null,
   "id": "ddf2eb3e-ac15-41c2-9d3f-2b8b2212ab23",
   "metadata": {},
   "outputs": [],
   "source": [
    "plt.scatter(F[10,:,:], D_h[10,:,:], c=np.log10(ECC[10,:,:]))\n",
    "plt.colorbar(label=r'$\\log_{10}(e_{10})$')\n",
    "plt.xscale('log')\n",
    "plt.yscale('log')\n",
    "plt.xlabel('frequency')\n",
    "plt.ylabel('time to f=10 Hz')\n",
    "plt.title(f'mass = {masses[10]} Msun', size=20)"
   ]
  },
  {
   "cell_type": "code",
   "execution_count": null,
   "id": "74fc1fa2-d67c-4071-bd61-888f5820105c",
   "metadata": {},
   "outputs": [],
   "source": [
    "plt.scatter(F[0,:,:], abs((T_LISA.reshape(F.shape)[0,:,:]).to(u.Myr)), c=np.log10(e_evol[0,:,:]))\n",
    "plt.colorbar(label=r'$\\log_{10}(e_{10})$')\n",
    "plt.xscale('log')\n",
    "plt.yscale('log')\n",
    "plt.xlabel('frequency')\n",
    "plt.ylabel('time to f=10 Hz')\n",
    "plt.title(f'mass = {masses[0]} Msun', size=20)"
   ]
  },
  {
   "cell_type": "code",
   "execution_count": null,
   "id": "2c9806e3-751a-4482-a4be-2e1c0be85341",
   "metadata": {},
   "outputs": [],
   "source": [
    "plt.scatter(F[10,:,:], D_h[10,:,:], c=e_evol[10,:,:], vmin=0, vmax=1)\n",
    "plt.colorbar(label=r'$\\log_{10}(e_{10})$')\n",
    "plt.xscale('log')\n",
    "plt.yscale('log')\n",
    "plt.xlabel('frequency')\n",
    "plt.ylabel('horizon distance [Mpc]')\n",
    "plt.title(f'mass = {np.round(masses[10].value, 2)} Msun', size=20)"
   ]
  },
  {
   "cell_type": "code",
   "execution_count": null,
   "id": "7f822625-0e84-40c3-84e9-835d56dbf025",
   "metadata": {},
   "outputs": [],
   "source": [
    "plt.scatter(F, MC, c=np.log10(horizon_comoving_volume.to(u.Gpc**3).value), s=100*e_evol)\n",
    "plt.xscale('log')\n",
    "plt.colorbar()"
   ]
  },
  {
   "cell_type": "code",
   "execution_count": null,
   "id": "232a0358-e4c8-4a45-967b-7c3084fd8cc6",
   "metadata": {},
   "outputs": [],
   "source": [
    "np.shape(F), len(masses), len(ecc), len(f), np.shape(e_evol)"
   ]
  },
  {
   "cell_type": "code",
   "execution_count": null,
   "id": "3167a727-9c50-4d39-84c8-f9526b011b35",
   "metadata": {},
   "outputs": [],
   "source": [
    "def build_pop(dat):\n",
    "    masses, ecc, f, RATE, T_LISA, horizon_comoving_volume, D_h = dat\n",
    "    m_samp = []\n",
    "    e_samp = []\n",
    "    f_samp = []\n",
    "    D_samp = []\n",
    "    for ii, m in enumerate(masses):\n",
    "        for jj, e in enumerate(ecc[1:]):\n",
    "            for kk, freq in enumerate(f[1:]):\n",
    "                n_per_Gpc3 = (RATE.reshape(F.shape)[ii, kk+1, jj+1] * -1 * T_LISA.reshape(F.shape)[ii, kk+1, jj+1]).to(u.Gpc**(-3)/u.Msun)  \n",
    "                n_samp = n_per_Gpc3 * horizon_comoving_volume[ii, kk+1, jj+1].to(u.Gpc**3)\n",
    "                d_lim = D_h[ii, kk+1, jj+1]\n",
    "                # Decide on how many sources at this freq, mass to sample \n",
    "                n_int = int(n_samp)\n",
    "                n_float = n_samp - n_int\n",
    "                add_check = np.random.uniform(0, 1)\n",
    "                if add_check < n_float:\n",
    "                    n_int += 1\n",
    "                if n_int >= 1:\n",
    "                    d_samp = np.random.power(3, n_int) * d_lim\n",
    "                    \n",
    "                    ind_keep, = np.where(d_samp < D_h[ii, kk+1, jj+1])\n",
    "                    if len(ind_keep) > 0:\n",
    "                        m_samp.extend(np.random.uniform(mass_bins[ii].value, mass_bins[ii+1].value, len(ind_keep)))\n",
    "                        e_samp.extend(np.ones(len(ind_keep)) * e_evol[ii,kk+1,  jj+1])\n",
    "                        f_samp.extend(np.random.uniform(f_bins[jj+1].value, f_bins[jj].value, len(ind_keep)))\n",
    "                        D_samp.extend(d_samp[ind_keep].to(u.Mpc).value)\n",
    "    return [m_samp, f_samp, e_samp, D_samp]"
   ]
  },
  {
   "cell_type": "code",
   "execution_count": null,
   "id": "f4cdf23d-b1e7-4e29-afd1-b6fe7bda9e37",
   "metadata": {},
   "outputs": [],
   "source": [
    "dat_uniform_in = []\n",
    "for ii in range(100):\n",
    "    dat_uniform_in.append([masses, ecc, f, RATE, T_LISA, horizon_comoving_volume, D_h])\n",
    "    \n",
    "dat_iso_90 = []\n",
    "for ii in range(100):\n",
    "    dat_iso_90.append([masses, ecc, f, RA, T_LISA, horizon_comoving_volume, D_h])"
   ]
  },
  {
   "cell_type": "code",
   "execution_count": null,
   "id": "1b8fc638-bee5-4098-bbbb-b2328bc0cace",
   "metadata": {},
   "outputs": [],
   "source": [
    "dat = []\n",
    "for ii in tqdm.tqdm(range(10)):\n",
    "    m_samp = []\n",
    "    e_samp = []\n",
    "    f_samp = []\n",
    "    D_samp = []\n",
    "    for ii, m in enumerate(masses):\n",
    "        for jj, e in enumerate(ecc[1:]):\n",
    "            for kk, freq in enumerate(f[1:]):\n",
    "                n_per_Gpc3 = (RATE.reshape(F.shape)[ii, kk+1, jj+1] * -1 * T_LISA.reshape(F.shape)[ii, kk+1, jj+1]).to(u.Gpc**(-3)/u.Msun)  \n",
    "                n_samp = n_per_Gpc3 * 1 * u.Gpc**3 * mass_bins[ii]\n",
    "                z_lim = z_at_value(Planck18.comoving_volume, 1 * u.Gpc**3)\n",
    "                d_lim = Planck18.luminosity_distance(z=z_lim)\n",
    "                # Decide on how many sources at this freq, mass to sample \n",
    "                n_int = int(n_samp)\n",
    "                n_float = n_samp - n_int\n",
    "                add_check = np.random.uniform(0, 1)\n",
    "                if add_check < n_float:\n",
    "                    n_int += 1\n",
    "                if n_int >= 1:\n",
    "                    d_samp = np.random.power(3, n_int) * d_lim\n",
    "                    \n",
    "                    ind_keep, = np.where(d_samp < D_h[ii, kk+1, jj+1])\n",
    "                    if len(ind_keep) > 0:\n",
    "                        m_samp.extend(np.random.uniform(mass_bins[ii].value, mass_bins[ii+1].value, len(ind_keep)))\n",
    "                        e_samp.extend(np.ones(len(ind_keep)) * e_evol[ii,kk+1,  jj+1])\n",
    "                        f_samp.extend(np.random.uniform(f_bins[jj+1].value, f_bins[jj].value, len(ind_keep)))\n",
    "                        D_samp.extend(d_samp[ind_keep].to(u.Mpc).value)\n",
    "    dat.append([m_samp, f_samp, e_samp, D_samp])\n",
    "            "
   ]
  },
  {
   "cell_type": "code",
   "execution_count": null,
   "id": "bc2ffaa7-4067-43a9-8c5a-a0d69951db5b",
   "metadata": {},
   "outputs": [],
   "source": [
    "dat_iso_10 = []\n",
    "for ii in tqdm.tqdm(range(10)):\n",
    "    m_samp = []\n",
    "    e_samp = []\n",
    "    f_samp = []\n",
    "    D_samp = []\n",
    "    for ii, m in enumerate(masses):\n",
    "        for jj, e in enumerate(ecc[1:]):\n",
    "            for kk, freq in enumerate(f[1:]):\n",
    "                n_per_Gpc3 = (RATE_iso_10.reshape(F.shape)[ii, kk+1, jj+1]*u.Gpc**(-3) * u.Msun**(-1) * u.yr**(-1) * -1 * T_LISA.reshape(F.shape)[ii, kk+1, jj+1]).to(u.Gpc**(-3)/u.Msun)  \n",
    "                n_samp = n_per_Gpc3 * 1 * u.Gpc**3 * mass_bins[ii]\n",
    "                z_lim = z_at_value(Planck18.comoving_volume, 1 * u.Gpc**3)\n",
    "                d_lim = Planck18.luminosity_distance(z=z_lim)\n",
    "                # Decide on how many sources at this freq, mass to sample \n",
    "                n_int = int(n_samp)\n",
    "                n_float = n_samp - n_int\n",
    "                add_check = np.random.uniform(0, 1)\n",
    "                if add_check < n_float:\n",
    "                    n_int += 1\n",
    "                if n_int >= 1:\n",
    "                    d_samp = np.random.power(3, n_int) * d_lim\n",
    "                    \n",
    "                    ind_keep, = np.where(d_samp < D_h[ii, kk+1, jj+1])\n",
    "                    if len(ind_keep) > 0:\n",
    "                        m_samp.extend(np.random.uniform(mass_bins[ii].value, mass_bins[ii+1].value, len(ind_keep)))\n",
    "                        e_samp.extend(np.ones(len(ind_keep)) * e_evol[ii,kk+1,  jj+1])\n",
    "                        f_samp.extend(np.random.uniform(f_bins[jj+1].value, f_bins[jj].value, len(ind_keep)))\n",
    "                        D_samp.extend(d_samp[ind_keep].to(u.Mpc).value)\n",
    "    dat_iso_10.append([m_samp, f_samp, e_samp, D_samp])\n",
    "            "
   ]
  },
  {
   "cell_type": "code",
   "execution_count": null,
   "id": "b526e392-4859-4ff0-86c0-389fcb701efa",
   "metadata": {},
   "outputs": [],
   "source": [
    "dat_iso_50 = []\n",
    "for ii in tqdm.tqdm(range(10)):\n",
    "    m_samp = []\n",
    "    e_samp = []\n",
    "    f_samp = []\n",
    "    D_samp = []\n",
    "    for ii, m in enumerate(masses):\n",
    "        for jj, e in enumerate(ecc[1:]):\n",
    "            for kk, freq in enumerate(f[1:]):\n",
    "                n_per_Gpc3 = (RATE_iso_50.reshape(F.shape)[ii, kk+1, jj+1]*u.Gpc**(-3) * u.Msun**(-1) * u.yr**(-1) * -1 * T_LISA.reshape(F.shape)[ii, kk+1, jj+1]).to(u.Gpc**(-3)/u.Msun)  \n",
    "                n_samp = n_per_Gpc3 * 1 * u.Gpc**3 * mass_bins[ii]\n",
    "                z_lim = z_at_value(Planck18.comoving_volume, 1 * u.Gpc**3)\n",
    "                d_lim = Planck18.luminosity_distance(z=z_lim)\n",
    "                # Decide on how many sources at this freq, mass to sample \n",
    "                n_int = int(n_samp)\n",
    "                n_float = n_samp - n_int\n",
    "                add_check = np.random.uniform(0, 1)\n",
    "                if add_check < n_float:\n",
    "                    n_int += 1\n",
    "                if n_int >= 1:\n",
    "                    d_samp = np.random.power(3, n_int) * d_lim\n",
    "                    \n",
    "                    ind_keep, = np.where(d_samp < D_h[ii, kk+1, jj+1])\n",
    "                    if len(ind_keep) > 0:\n",
    "                        m_samp.extend(np.random.uniform(mass_bins[ii].value, mass_bins[ii+1].value, len(ind_keep)))\n",
    "                        e_samp.extend(np.ones(len(ind_keep)) * e_evol[ii,kk+1,  jj+1])\n",
    "                        f_samp.extend(np.random.uniform(f_bins[jj+1].value, f_bins[jj].value, len(ind_keep)))\n",
    "                        D_samp.extend(d_samp[ind_keep].to(u.Mpc).value)\n",
    "    dat_iso_50.append([m_samp, f_samp, e_samp, D_samp])\n",
    "            "
   ]
  },
  {
   "cell_type": "code",
   "execution_count": null,
   "id": "3785c66c-80fb-4a1d-bd43-0b411260b49f",
   "metadata": {},
   "outputs": [],
   "source": [
    "dat_iso_90 = []\n",
    "for ii in tqdm.tqdm(range(10)):\n",
    "    m_samp = []\n",
    "    e_samp = []\n",
    "    f_samp = []\n",
    "    D_samp = []\n",
    "    for ii, m in enumerate(masses):\n",
    "        for jj, e in enumerate(ecc[1:]):\n",
    "            for kk, freq in enumerate(f[1:]):\n",
    "                n_per_Gpc3 = (RATE_iso_90.reshape(F.shape)[ii, kk+1, jj+1]*u.Gpc**(-3) * u.Msun**(-1) * u.yr**(-1) * -1 * T_LISA.reshape(F.shape)[ii, kk+1, jj+1]).to(u.Gpc**(-3)/u.Msun)  \n",
    "                n_samp = n_per_Gpc3 * 1 * u.Gpc**3 * mass_bins[ii]\n",
    "                z_lim = z_at_value(Planck18.comoving_volume, 1 * u.Gpc**3)\n",
    "                d_lim = Planck18.luminosity_distance(z=z_lim)\n",
    "                # Decide on how many sources at this freq, mass to sample \n",
    "                n_int = int(n_samp)\n",
    "                n_float = n_samp - n_int\n",
    "                add_check = np.random.uniform(0, 1)\n",
    "                if add_check < n_float:\n",
    "                    n_int += 1\n",
    "                if n_int >= 1:\n",
    "                    d_samp = np.random.power(3, n_int) * d_lim\n",
    "                    \n",
    "                    ind_keep, = np.where(d_samp < D_h[ii, kk+1, jj+1])\n",
    "                    if len(ind_keep) > 0:\n",
    "                        m_samp.extend(np.random.uniform(mass_bins[ii].value, mass_bins[ii+1].value, len(ind_keep)))\n",
    "                        e_samp.extend(np.ones(len(ind_keep)) * e_evol[ii,kk+1,  jj+1])\n",
    "                        f_samp.extend(np.random.uniform(f_bins[jj+1].value, f_bins[jj].value, len(ind_keep)))\n",
    "                        D_samp.extend(d_samp[ind_keep].to(u.Mpc).value)\n",
    "    dat_iso_90.append([m_samp, f_samp, e_samp, D_samp])\n",
    "            "
   ]
  },
  {
   "cell_type": "code",
   "execution_count": null,
   "id": "94db7ea4-6a41-4675-9268-4a518105bd4d",
   "metadata": {},
   "outputs": [],
   "source": [
    "dat_list = [dat, dat_iso_10, dat_iso_50, dat_iso_90]\n"
   ]
  },
  {
   "cell_type": "code",
   "execution_count": null,
   "id": "3dad2aa9-d6c1-443a-a625-402c2804b44f",
   "metadata": {},
   "outputs": [],
   "source": [
    "fig, axes = plt.subplots(1,len(dat_list), figsize=(20,4))\n",
    "for dlist, ax, ii in zip(dat_list, axes, range(len(dat_list))):\n",
    "    n_obs = []\n",
    "    for d in dlist:\n",
    "        m_samp, f_samp, e_samp, D_samp = d\n",
    "        n_obs.append(len(m_samp))\n",
    "        c = ax.scatter(f_samp, lw.utils.chirp_mass(np.array(m_samp), np.array(m_samp)), c=np.log10(e_samp), vmin=-4, vmax=0)\n",
    "    ax.set_xscale('log')\n",
    "    ax.set_xlim(1e-4, 1e-1)\n",
    "    ax.set_xlabel('frequency [Hz]')\n",
    "    if ii == 0:\n",
    "        ax.set_ylabel('chirp mass [Msun]')\n",
    "    ax.set_title(r'N$_{\\rm{LISA}}$='+str(np.mean(n_obs))+' $\\pm$ '+str(np.round(np.std(n_obs), 2)), size=20)\n",
    "plt.colorbar(c)"
   ]
  },
  {
   "cell_type": "code",
   "execution_count": null,
   "id": "01f1416e-21c8-4cfe-bd43-937b94a342f8",
   "metadata": {},
   "outputs": [],
   "source": [
    "RATE_single_ecc = get_LIGO_rate_single_e(MASS, ECC)\n",
    "RATE_single_ecc"
   ]
  },
  {
   "cell_type": "code",
   "execution_count": null,
   "id": "2e1a000d-a96a-4515-b42b-3d958379487f",
   "metadata": {},
   "outputs": [],
   "source": [
    "dat_ecc = []\n",
    "for ii in tqdm.tqdm(range(10)):\n",
    "    dat_samp = []\n",
    "    for jj, e in enumerate(ecc[1:]):\n",
    "        m_samp = []\n",
    "        e_samp = []\n",
    "        f_samp = []\n",
    "        D_samp = []\n",
    "        for ii, m in enumerate(masses):\n",
    "            for kk, freq in enumerate(f[1:]):\n",
    "                n_per_Gpc3 = (RATE_single_ecc.reshape(F.shape)[ii, kk+1, jj+1] * -1 * T_LISA.reshape(F.shape)[ii, kk+1, jj+1]).to(u.Gpc**(-3)/u.Msun)  \n",
    "                n_samp = n_per_Gpc3 * 1 * u.Gpc**3 * mass_bins[ii]\n",
    "                z_lim = z_at_value(Planck18.comoving_volume, 1 * u.Gpc**3)\n",
    "                d_lim = Planck18.luminosity_distance(z=z_lim)\n",
    "                # Decide on how many sources at this freq, mass to sample \n",
    "                n_int = int(n_samp)\n",
    "                n_float = n_samp - n_int\n",
    "                add_check = np.random.uniform(0, 1)\n",
    "                if add_check < n_float:\n",
    "                    n_int += 1\n",
    "                if n_int >= 1:\n",
    "                    d_samp = np.random.power(3, n_int) * d_lim\n",
    "                    \n",
    "                    ind_keep, = np.where(d_samp < D_h[ii, kk+1, jj+1])\n",
    "                    if len(ind_keep) > 0:\n",
    "                        m_samp.extend(np.random.uniform(mass_bins[ii].value, mass_bins[ii+1].value, len(ind_keep)))\n",
    "                        e_samp.extend(np.ones(len(ind_keep)) * e_evol[ii,kk+1,  jj+1])\n",
    "                        f_samp.extend(np.random.uniform(f_bins[jj+1].value, f_bins[jj].value, len(ind_keep)))\n",
    "                        D_samp.extend(d_samp[ind_keep].to(u.Mpc).value)\n",
    "        dat_samp.append([m_samp, f_samp, e_samp, D_samp])\n",
    "    dat_ecc.append(dat_samp)\n",
    "            "
   ]
  },
  {
   "cell_type": "code",
   "execution_count": null,
   "id": "2c749626-1c42-418e-b158-d5b16a8ba40d",
   "metadata": {},
   "outputs": [],
   "source": [
    "np.shape(e_evol)"
   ]
  },
  {
   "cell_type": "code",
   "execution_count": null,
   "id": "ad6fd8d1-d72a-4fa4-af70-80b58b220bf8",
   "metadata": {},
   "outputs": [],
   "source": [
    "n_ecc = []\n",
    "for de in dat_ecc:\n",
    "    n_e = []\n",
    "    for d in de:\n",
    "        m_samp, f_samp, e_samp, D_samp = d\n",
    "        n_e.append(len(e_samp))\n",
    "    n_ecc.append(n_e)"
   ]
  },
  {
   "cell_type": "code",
   "execution_count": null,
   "id": "474919d2-6241-4200-b852-bdf4fceb3cda",
   "metadata": {},
   "outputs": [],
   "source": [
    "n_ecc = np.array(n_ecc)\n",
    "print(np.shape(n_ecc))"
   ]
  },
  {
   "cell_type": "code",
   "execution_count": null,
   "id": "772d30ee-c626-4835-8dfb-334650b996b8",
   "metadata": {},
   "outputs": [],
   "source": [
    "mean = []\n",
    "std = []\n",
    "for ii in range(len(ecc)-1):\n",
    "    mean.append(np.mean(np.array(n_ecc[:,ii])))\n",
    "    std.append(np.std(np.array(n_ecc[:,ii])))"
   ]
  },
  {
   "cell_type": "code",
   "execution_count": null,
   "id": "ea828244-76a2-4fcd-a7ed-d39304a7192b",
   "metadata": {},
   "outputs": [],
   "source": [
    "plt.errorbar(ecc[1:], mean, std)\n",
    "plt.yscale('log')\n",
    "plt.xscale('log')"
   ]
  },
  {
   "cell_type": "code",
   "execution_count": null,
   "id": "df043575-ae06-41d4-8616-5e1987183f05",
   "metadata": {},
   "outputs": [],
   "source": [
    "n_grid_f = 100\n",
    "n_grid_e = 5\n",
    "n_grid_mass = 15\n",
    "\n",
    "f = np.logspace(-1, -4, n_grid) * u.Hz\n",
    "f_bins = f[:-1] - f[1:]\n",
    "\n",
    "masses = np.linspace(5, 80, n_grid_mass)\n",
    "m_bin_widths = masses[1] - masses[0]\n",
    "mass_bins = masses - 0.5 * m_bin_widths\n",
    "mass_bins = np.append(mass_bins, masses[-1] + 0.5 * m_bin_widths)\n",
    "masses = masses * u.Msun\n",
    "mass_bins = mass_bins * u.Msun\n",
    "\n",
    "ecc = np.linspace(0, 0.0001, n_grid_e)\n",
    "ecc_bins = ecc[1:] - ecc[:-1]\n",
    "\n",
    "m_c = lw.utils.chirp_mass(masses, masses)\n",
    "F, MASS, ECC = np.meshgrid(f, masses, ecc)\n",
    "\n",
    "MC = lw.utils.chirp_mass(MASS, MASS)\n",
    "\n",
    "RATE = get_LIGO_rate_uniform_e(MASS, ECC, ecc)\n",
    "RATE_iso_10 = get_LIGO_rate_iso_dyn(MASS, ECC, ecc, 0.1)\n",
    "RATE_iso_50 = get_LIGO_rate_iso_dyn(MASS, ECC, ecc, 0.5)\n",
    "RATE_iso_90 = get_LIGO_rate_iso_dyn(MASS, ECC, ecc, 0.9)"
   ]
  },
  {
   "cell_type": "code",
   "execution_count": null,
   "id": "e3bd233f-a1f2-4173-8b2a-d52979feaee9",
   "metadata": {},
   "outputs": [],
   "source": []
  },
  {
   "cell_type": "code",
   "execution_count": null,
   "id": "c1286056-3a91-4f44-a18d-b94e24bec948",
   "metadata": {},
   "outputs": [],
   "source": []
  },
  {
   "cell_type": "code",
   "execution_count": null,
   "id": "9bec3584-2d11-45c6-a22c-48f84d35e0e7",
   "metadata": {},
   "outputs": [],
   "source": []
  },
  {
   "cell_type": "code",
   "execution_count": null,
   "id": "b3e1844a-2f1a-46d6-a05c-52f480806a67",
   "metadata": {},
   "outputs": [],
   "source": []
  },
  {
   "cell_type": "code",
   "execution_count": null,
   "id": "689b898c-541a-4f90-bc92-303cf73b5691",
   "metadata": {},
   "outputs": [],
   "source": [
    "V_c = []\n",
    "LIGO_rate_uniform = []\n",
    "LIGO_rate_iso_dyn_50 = []\n",
    "LIGO_rate_iso_dyn_80 = []\n",
    "times = []\n",
    "ecc_evols = []\n",
    "f_orb_evols = []\n",
    "LISA_norms = []\n",
    "m1_evols = []\n",
    "m2_evols = []\n",
    "\n",
    "\n",
    "for d, m1, m2, e in tqdm.tqdm(zip(dat_out, M1, M2, E), total=len(M1)):\n",
    "    f_orb_evol, ecc_evol, timesteps, LISA_norm = d\n",
    "    f_mask = f_orb_evol < 0.3 * u.Hz\n",
    "    source = lw.source.Source(m_1=m1 * np.ones(len(f_orb_evol[f_mask])) * u.Msun,\n",
    "                              m_2=m2 * np.ones(len(f_orb_evol[f_mask])) * u.Msun,\n",
    "                              ecc=ecc_evol[f_mask],\n",
    "                              f_orb=f_orb_evol[f_mask],\n",
    "                              dist=8 * np.ones(len(f_orb_evol[f_mask])) * u.Mpc,\n",
    "                              interpolate_g=False,\n",
    "                              n_proc=nproc)\n",
    "    snr = source.get_snr(approximate_R=True, verbose=False)\n",
    "    D_h = snr/7 * 8 * u.Mpc\n",
    "    redshift = np.ones(len(D_h)) * 1e-8\n",
    "    redshift[D_h > 0.0001 * u.Mpc] = z_at_value(Planck18.luminosity_distance, D_h[D_h > 0.0001 * u.Mpc])\n",
    "    V_c.append(Planck18.comoving_volume(z=redshift))\n",
    "\n",
    "    LISA_norms.append(LISA_norm[f_mask].to(u.yr/u.Hz))\n",
    "    times.append(-timesteps[f_mask].to(u.yr))\n",
    "    ecc_evols.append(ecc_evol[f_mask])\n",
    "    f_orb_evols.append(f_orb_evol[f_mask])\n",
    "    m1_evols.append(m1 * np.ones(len(f_orb_evol[f_mask])))\n",
    "    m2_evols.append(m2 * np.ones(len(f_orb_evol[f_mask])))\n",
    "    LIGO_rate_uniform.append(get_LIGO_rate_uniform_e(m1, delta_m[0]))\n",
    "    LIGO_rate_iso_dyn_50.append(get_LIGO_rate_iso_dyn(m1, e, frac_iso=0.5))\n",
    "    LIGO_rate_iso_dyn_80.append(get_LIGO_rate_iso_dyn(m1, e, frac_iso=0.8))\n"
   ]
  },
  {
   "cell_type": "code",
   "execution_count": null,
   "id": "b6323967-658d-42c0-84ac-145f11de1acc",
   "metadata": {},
   "outputs": [],
   "source": [
    "def get_m_lo(m1, mass_grid):\n",
    "    return min(mass_grid[mass_grid < m1])\n",
    "    "
   ]
  },
  {
   "cell_type": "code",
   "execution_count": null,
   "id": "970574f7-9b74-44a9-bb1d-7d5a8abdbf69",
   "metadata": {},
   "outputs": [],
   "source": [
    "print(n_grid)\n",
    "m1_keep = []\n",
    "m2_keep = []\n",
    "f_keep = []\n",
    "for ii, m1, m2 in zip(range(len(M1)), M1, M2):\n",
    "    print(m1, m2)\n",
    "    ligo_rate = get_LIGO_rate_uniform_e(m1, delta_m[0]) / n_grid\n",
    "    f = f_orb_evols[ii]\n",
    "    v_c = V_c[ii]\n",
    "    \n",
    "    l_norm = LISA_norms[ii] * (u.yr/u.Hz)\n",
    "    t_evol = times[ii]\n",
    "    \n",
    "    # first select out everything that's below a millihertz\n",
    "    ind_mhz, = np.where(f < 0.001 * u.Hz)\n",
    "    ind_mhz_gtr, = np.where(f >= 0.001 * u.Hz)\n",
    "        \n",
    "    t_max_lo = max(t_evol[ind_mhz])\n",
    "    v_max_lo = max(v_c[ind_mhz].to(u.Mpc**3))\n",
    "    n_sample_lo = int(ligo_rate.to(u.Mpc**(-3)/u.yr) * v_max_lo * t_max_lo)\n",
    "    t_f_interp = interp1d(t_evol[ind_mhz], f[ind_mhz])\n",
    "    v_c_interp = interp1d(f[ind_mhz], v_c[ind_mhz])\n",
    "    \n",
    "    m_lo = get_m_lo(m1, mass1_grid)\n",
    "    m1_sample = np.random.uniform(m_lo, m1, n_sample_lo)\n",
    "    m2_sample = np.random.uniform(5 * np.ones(n_sample_lo), m1_sample)\n",
    "    t_sample = np.random.uniform(min(t_evol[ind_mhz]).value, t_max_lo.value, n_sample_lo)\n",
    "    f_sample = t_f_interp(t_sample)\n",
    "    v_max = v_c_interp(f_sample)\n",
    "    d_max = 3/(4 * np.pi) * v_max_lo**(1/3)\n",
    "    \n",
    "    d = np.random.power(3, n_sample_lo) * (3/(4 * np.pi) * max(v_c[ind_mhz].value))**(1/3) * u.Mpc\n",
    "    source = lw.source.Source(m_1=m1_sample * u.Msun,\n",
    "                              m_2=m2_sample * u.Msun,\n",
    "                              ecc=np.zeros(len(m1_sample)),\n",
    "                              f_orb=f_sample * u.Hz,\n",
    "                              dist=8 * np.ones(len(f_sample)) * u.Mpc,\n",
    "                              interpolate_g=False,\n",
    "                              n_proc=nproc)\n",
    "    snr = source.get_snr(approximate_R=True, verbose=False)\n",
    "    keep_mask = snr  > 7\n",
    "    m1_keep.extend(m1_sample[keep_mask])\n",
    "    m2_keep.extend(m2_sample[keep_mask])\n",
    "    f_keep.extend(f_sample[keep_mask])\n",
    "    print(f\"sample {n_sample_lo} mergers below 1 mHz and keep {len(keep_mask[keep_mask])} of them\")\n",
    "    \n",
    "    t_max = max(t_evol[ind_mhz_gtr])\n",
    "    v_max = max(v_c[ind_mhz_gtr].to(u.Mpc**3))\n",
    "    n_sample = int(ligo_rate.to(u.Mpc**(-3)/u.yr) * v_max * t_max)\n",
    "    \n",
    "    \n",
    "    t_f_interp = interp1d(t_evol[ind_mhz_gtr], f[ind_mhz_gtr])\n",
    "    v_c_interp = interp1d(f[ind_mhz_gtr], v_c[ind_mhz_gtr])\n",
    "    m_lo = get_m_lo(m1, mass1_grid)\n",
    "    m1_sample = np.random.uniform(m_lo, m1, n_sample)\n",
    "    m2_sample = np.random.uniform(5 * np.ones(n_sample), m1_sample)\n",
    "    t_sample = np.random.uniform(0, t_max.value, n_sample)\n",
    "    f_sample = t_f_interp(t_sample)\n",
    "    v_max = v_c_interp(f_sample)\n",
    "    d_max = 3/(4 * np.pi) * v_max**(1/3)\n",
    "    \n",
    "    d = np.random.power(3, n_sample) * (3/(4 * np.pi) * max(v_c.value))**(1/3)\n",
    "    d = np.random.power(3, n_sample_lo) * (3/(4 * np.pi) * max(v_c[ind_mhz].value))**(1/3) * u.Mpc\n",
    "    source = lw.source.Source(m_1=m1_sample * u.Msun,\n",
    "                              m_2=m2_sample * u.Msun,\n",
    "                              ecc=np.zeros(len(m1_sample)),\n",
    "                              f_orb=f_sample * u.Hz,\n",
    "                              dist=8 * np.ones(len(f_sample)) * u.Mpc,\n",
    "                              interpolate_g=False,\n",
    "                              n_proc=nproc)\n",
    "    snr = source.get_snr(approximate_R=True, verbose=False)\n",
    "    keep_mask = snr  > 7\n",
    "    m1_keep.extend(m1_sample[keep_mask])\n",
    "    m2_keep.extend(m2_sample[keep_mask])\n",
    "    f_keep.extend(f_sample[keep_mask])\n",
    "    print(f\"sample {n_sample} mergers above 1 mHz and keep {len(keep_mask[keep_mask])} of them\")\n",
    "    print()\n"
   ]
  },
  {
   "cell_type": "code",
   "execution_count": null,
   "id": "ad7deb1c-b398-4c74-be24-b1922e69aaf7",
   "metadata": {},
   "outputs": [],
   "source": [
    "m_c = lw.utils.chirp_mass(m1_keep * u.Msun, m2_keep * u.Msun)\n",
    "print(len(m_c))"
   ]
  },
  {
   "cell_type": "code",
   "execution_count": null,
   "id": "1a9ecda1-33c5-4726-be74-551d0d0acbf5",
   "metadata": {},
   "outputs": [],
   "source": [
    "m_c = lw.utils.chirp_mass(m1_keep * u.Msun, m2_keep * u.Msun)\n",
    "print(len(m_c))"
   ]
  },
  {
   "cell_type": "code",
   "execution_count": null,
   "id": "41b552ed-3f03-4672-a07d-98b6a7ac1465",
   "metadata": {},
   "outputs": [],
   "source": [
    "plt.scatter(f_keep, m_c)\n",
    "plt.xscale('log')"
   ]
  },
  {
   "cell_type": "code",
   "execution_count": null,
   "id": "0ab1997e-51d5-4cc3-813b-560504f31827",
   "metadata": {},
   "outputs": [],
   "source": [
    "m_c = lw.utils.chirp_mass(m1_keep * u.Msun, m2_keep * u.Msun)\n",
    "print(len(m_c))"
   ]
  },
  {
   "cell_type": "code",
   "execution_count": null,
   "id": "591525d0-4c90-4e38-a6a3-17aa04165ad5",
   "metadata": {},
   "outputs": [],
   "source": [
    "plt.scatter(f_keep, m_c)\n",
    "plt.xscale('log')"
   ]
  },
  {
   "cell_type": "code",
   "execution_count": null,
   "id": "179e2cd8-1fe0-4a43-8a59-e9edb9d2ec45",
   "metadata": {},
   "outputs": [],
   "source": []
  }
 ],
 "metadata": {
  "kernelspec": {
   "display_name": "Python 3 (ipykernel)",
   "language": "python",
   "name": "python3"
  },
  "language_info": {
   "codemirror_mode": {
    "name": "ipython",
    "version": 3
   },
   "file_extension": ".py",
   "mimetype": "text/x-python",
   "name": "python",
   "nbconvert_exporter": "python",
   "pygments_lexer": "ipython3",
   "version": "3.10.4"
  }
 },
 "nbformat": 4,
 "nbformat_minor": 5
}
